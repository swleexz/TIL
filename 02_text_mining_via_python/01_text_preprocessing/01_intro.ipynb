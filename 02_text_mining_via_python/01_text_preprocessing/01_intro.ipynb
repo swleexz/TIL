{
 "cells": [
  {
   "cell_type": "markdown",
   "metadata": {},
   "source": [
    "## 텍스트 전처리 개념"
   ]
  },
  {
   "cell_type": "markdown",
   "metadata": {},
   "source": [
    "### 자연어 처리\n",
    "  * 준비 단계: 자연어로 쓰여진 글을 전처리\n",
    "  * 변환 단계: 전처리된 결과를 컴퓨터가 다루고 이해할 수 있는 형태로 변환\n",
    "  * 분석 단계: 변환된 형태를 이용하여 다양한 분석을 수행하는 단계"
   ]
  },
  {
   "cell_type": "markdown",
   "metadata": {},
   "source": [
    "#### 전처리 단계\n",
    "  * 텍스트 전처리(Text Preprocessing): \n",
    "    - 정제(cleaning): 주어진 텍스트에서 노이즈와 같이 불필요한 부분을 제거\n",
    "      * 노이즈 제거는 보통 토큰화 전에 이루어지지만 토큰화 후에도 필요한 경우 정제가 지속적으로 이루어짐\n",
    "    - 토큰화(tokenization): 주어진 텍스트를 원하는 단위(토큰, token)로 나누는 작업\n",
    "      * 원하는 단위가 문장인 경우: 문장 토큰화(sentence tokenization)\n",
    "      * 원하는 단위가 단어인 경우: 단어 토큰화(word tokenization)\n",
    "      * 보통 단어 토큰화를 통칭하는 표현으로 사용됨\n",
    "    - 정규화: 같은 의미를 가진 동일한 단어임에도 불구, 다른 형태로 쓰인 단어를 통일시켜 표준 단어로 만드는 작업\n",
    "      * e.g. 'go'는 3인칭 단수형에서 'goes'로 사용되는데, 여기서 'go'와 'goes'는 같은 단어로 봐야할 때가 있음\n",
    "      * go의 다양한 변형(3인칭 단수, 과거형, 과거분사형 등)을 원형의 형태로 통일하는 작업\n",
    "      * 정규화 방법: 어간 추출, 표제어 추출(lemmatization)\n",
    "    - 품사 태깅: 토큰화한 단어에 대하여 품사를 파악해 부착하는 것"
   ]
  },
  {
   "cell_type": "markdown",
   "metadata": {},
   "source": [
    "### 토큰화"
   ]
  },
  {
   "cell_type": "code",
   "execution_count": 1,
   "metadata": {},
   "outputs": [
    {
     "name": "stderr",
     "output_type": "stream",
     "text": [
      "[nltk_data] Downloading package punkt to\n",
      "[nltk_data]     C:\\Users\\YWIS\\AppData\\Roaming\\nltk_data...\n",
      "[nltk_data]   Package punkt is already up-to-date!\n",
      "[nltk_data] Downloading package webtext to\n",
      "[nltk_data]     C:\\Users\\YWIS\\AppData\\Roaming\\nltk_data...\n",
      "[nltk_data]   Package webtext is already up-to-date!\n",
      "[nltk_data] Downloading package wordnet to\n",
      "[nltk_data]     C:\\Users\\YWIS\\AppData\\Roaming\\nltk_data...\n",
      "[nltk_data]   Package wordnet is already up-to-date!\n",
      "[nltk_data] Downloading package stopwords to\n",
      "[nltk_data]     C:\\Users\\YWIS\\AppData\\Roaming\\nltk_data...\n",
      "[nltk_data]   Package stopwords is already up-to-date!\n",
      "[nltk_data] Downloading package averaged_perceptron_tagger to\n",
      "[nltk_data]     C:\\Users\\YWIS\\AppData\\Roaming\\nltk_data...\n",
      "[nltk_data]   Package averaged_perceptron_tagger is already up-to-\n",
      "[nltk_data]       date!\n"
     ]
    },
    {
     "data": {
      "text/plain": [
       "True"
      ]
     },
     "execution_count": 1,
     "metadata": {},
     "output_type": "execute_result"
    }
   ],
   "source": [
    "import nltk\n",
    "\n",
    "nltk.download('punkt')\n",
    "nltk.download('webtext')\n",
    "nltk.download('wordnet')\n",
    "nltk.download('stopwords')\n",
    "nltk.download('averaged_perceptron_tagger')"
   ]
  },
  {
   "cell_type": "markdown",
   "metadata": {},
   "source": [
    "#### 문장 토큰화"
   ]
  },
  {
   "cell_type": "code",
   "execution_count": 2,
   "metadata": {},
   "outputs": [
    {
     "name": "stdout",
     "output_type": "stream",
     "text": [
      "['Hello everyone.', \"It's good to see you.\", \"Let's start our text mining class!\"]\n"
     ]
    }
   ],
   "source": [
    "from nltk.tokenize import sent_tokenize\n",
    "\n",
    "para = 'Hello everyone. It\\'s good to see you. Let\\'s start our text mining class!'\n",
    "\n",
    "# 주어진 텍스트를 문장 단위로 토큰화함. 주로 \". ! ?\" 등을 이용함\n",
    "print(sent_tokenize(para))"
   ]
  },
  {
   "cell_type": "code",
   "execution_count": 3,
   "metadata": {},
   "outputs": [
    {
     "name": "stdout",
     "output_type": "stream",
     "text": [
      "[\"Je t'ai demand si tu m'aimais bien, Tu m'a r pondu non.\", \"Je t'ai demand si j' tais jolie, Tu m'a r pondu non.\", \"Je t'ai demand si j' tai dans ton coeur, Tu m'a r pondu non.\"]\n"
     ]
    }
   ],
   "source": [
    "# 프랑스어 사용 예\n",
    "import nltk.data\n",
    "\n",
    "paragraph_french = \"\"\"Je t'ai demand si tu m'aimais bien, Tu m'a r pondu non.\n",
    "Je t'ai demand si j' tais jolie, Tu m'a r pondu non.\n",
    "Je t'ai demand si j' tai dans ton coeur, Tu m'a r pondu non.\n",
    "\"\"\"\n",
    "\n",
    "tokenizer = nltk.data.load('tokenizers/punkt/french.pickle')\n",
    "print(tokenizer.tokenize(paragraph_french))"
   ]
  },
  {
   "cell_type": "code",
   "execution_count": 4,
   "metadata": {},
   "outputs": [
    {
     "name": "stdout",
     "output_type": "stream",
     "text": [
      "['안녕하세요, 여러분.', '만나서 반갑습니다.', '이제 텍스트마이닝 클래스를 시작해봅시다!']\n"
     ]
    }
   ],
   "source": [
    "# 한국어\n",
    "para_korean = '안녕하세요, 여러분. 만나서 반갑습니다. 이제 텍스트마이닝 클래스를 시작해봅시다!'\n",
    "\n",
    "print(sent_tokenize(para_korean))"
   ]
  },
  {
   "cell_type": "markdown",
   "metadata": {},
   "source": [
    "#### 단어 토큰화"
   ]
  },
  {
   "cell_type": "code",
   "execution_count": 5,
   "metadata": {},
   "outputs": [
    {
     "name": "stdout",
     "output_type": "stream",
     "text": [
      "['Hello', 'everyone', '.', 'It', \"'s\", 'good', 'to', 'see', 'you', '.', 'Let', \"'s\", 'start', 'our', 'text', 'mining', 'class', '!']\n"
     ]
    },
    {
     "data": {
      "text/plain": [
       "\"\\n여기서는 It's와 Let's에서 's가 붙어서 출력\\n\""
      ]
     },
     "execution_count": 5,
     "metadata": {},
     "output_type": "execute_result"
    }
   ],
   "source": [
    "from nltk.tokenize import word_tokenize\n",
    "\n",
    "print(word_tokenize(para))\n",
    "\n",
    "\"\"\"\n",
    "여기서는 It's와 Let's에서 's가 붙어서 출력\n",
    "\"\"\""
   ]
  },
  {
   "cell_type": "code",
   "execution_count": 6,
   "metadata": {},
   "outputs": [
    {
     "name": "stdout",
     "output_type": "stream",
     "text": [
      "['Hello', 'everyone', '.', 'It', \"'\", 's', 'good', 'to', 'see', 'you', '.', 'Let', \"'\", 's', 'start', 'our', 'text', 'mining', 'class', '!']\n"
     ]
    },
    {
     "data": {
      "text/plain": [
       "\"\\n여기서는 It's와 Let's에서 '와 s가 분리되어 출력됨\\n\""
      ]
     },
     "execution_count": 6,
     "metadata": {},
     "output_type": "execute_result"
    }
   ],
   "source": [
    "from nltk.tokenize import WordPunctTokenizer\n",
    "\n",
    "print(WordPunctTokenizer().tokenize(para))\n",
    "\n",
    "\"\"\"\n",
    "여기서는 It's와 Let's에서 '와 s가 분리되어 출력됨\n",
    "\"\"\""
   ]
  },
  {
   "cell_type": "code",
   "execution_count": 7,
   "metadata": {},
   "outputs": [
    {
     "name": "stdout",
     "output_type": "stream",
     "text": [
      "['안녕하세요', ',', '여러분', '.', '만나서', '반갑습니다', '.', '이제', '텍스트마이닝', '클래스를', '시작해봅시다', '!']\n"
     ]
    }
   ],
   "source": [
    "print(WordPunctTokenizer().tokenize(para_korean))"
   ]
  },
  {
   "cell_type": "markdown",
   "metadata": {},
   "source": [
    "#### 정규표현식을 이용한 토큰화"
   ]
  },
  {
   "cell_type": "code",
   "execution_count": 8,
   "metadata": {},
   "outputs": [
    {
     "data": {
      "text/plain": [
       "['a', 'b']"
      ]
     },
     "execution_count": 8,
     "metadata": {},
     "output_type": "execute_result"
    }
   ],
   "source": [
    "import re\n",
    "\n",
    "re.findall('[abc]', 'How are you, boy?')\n",
    "# [abc] 와 같이 쓰면 a, b, c 중 하나라도 일치하는 문자들을 가져옴"
   ]
  },
  {
   "cell_type": "code",
   "execution_count": 9,
   "metadata": {},
   "outputs": [
    {
     "data": {
      "text/plain": [
       "['3', '7', '5', '9']"
      ]
     },
     "execution_count": 9,
     "metadata": {},
     "output_type": "execute_result"
    }
   ],
   "source": [
    "re.findall('[0123456789]', '3a7b5c9d')"
   ]
  },
  {
   "cell_type": "code",
   "execution_count": 10,
   "metadata": {},
   "outputs": [
    {
     "data": {
      "text/plain": [
       "['3', 'a', '7', 'b', '_', '5', 'c', '9', 'd']"
      ]
     },
     "execution_count": 10,
     "metadata": {},
     "output_type": "execute_result"
    }
   ],
   "source": [
    "re.findall('[\\w]', '3a 7b_ \\'.^&5c9d')\n",
    "# [\\w] 는 [a-zA-Z0-9_] 와 같은 표현"
   ]
  },
  {
   "cell_type": "code",
   "execution_count": 11,
   "metadata": {},
   "outputs": [
    {
     "data": {
      "text/plain": [
       "['_', '__', '___']"
      ]
     },
     "execution_count": 11,
     "metadata": {},
     "output_type": "execute_result"
    }
   ],
   "source": [
    "re.findall('[_]+', 'a_b, c__d, e___f')\n",
    "\n",
    "# + 는 한 번 이상의 반복을 나타냄"
   ]
  },
  {
   "cell_type": "code",
   "execution_count": 13,
   "metadata": {},
   "outputs": [
    {
     "data": {
      "text/plain": [
       "['How', 'are', 'you', 'boy']"
      ]
     },
     "execution_count": 13,
     "metadata": {},
     "output_type": "execute_result"
    }
   ],
   "source": [
    "re.findall('[\\w]+', 'How are you, boy?')"
   ]
  },
  {
   "cell_type": "code",
   "execution_count": 14,
   "metadata": {},
   "outputs": [
    {
     "data": {
      "text/plain": [
       "['oo', 'oooo', 'oooo', 'ooo']"
      ]
     },
     "execution_count": 14,
     "metadata": {},
     "output_type": "execute_result"
    }
   ],
   "source": [
    "re.findall('[o]{2,4}', 'oh, hoow are yoooou, boooooooy?')\n",
    "\n",
    "# {}을 이용하여 반복 횟수 지정"
   ]
  },
  {
   "cell_type": "code",
   "execution_count": 15,
   "metadata": {},
   "outputs": [
    {
     "name": "stdout",
     "output_type": "stream",
     "text": [
      "['Sorry', 'I', \"can't\", 'go', 'there']\n"
     ]
    }
   ],
   "source": [
    "from nltk.tokenize import RegexpTokenizer\n",
    "\n",
    "# regular expression(정규식)을 이용한 tokenizer\n",
    "# 단어 단위로 tokenize \\w: 문자나 숫자를 의미. 다시 말해 문자나 숫자 또는 '가 반복되는 것을 찾음\n",
    "tokenizer = RegexpTokenizer('[\\w\\']+')\n",
    "\n",
    "# can't 를 하나의 단어로 인식\n",
    "print(tokenizer.tokenize('Sorry, I can\\'t go there.'))"
   ]
  },
  {
   "cell_type": "code",
   "execution_count": 16,
   "metadata": {},
   "outputs": [
    {
     "name": "stdout",
     "output_type": "stream",
     "text": [
      "['Sorry', 'I', 'can', 't', 'go', 'there']\n"
     ]
    }
   ],
   "source": [
    "tokenizer = RegexpTokenizer('[\\w]+')\n",
    "print(tokenizer.tokenize('Sorry, I can\\'t go there.'))\n",
    "# 여기서는 can't를 can과 t로 나누어 인식"
   ]
  },
  {
   "cell_type": "code",
   "execution_count": 17,
   "metadata": {},
   "outputs": [
    {
     "name": "stdout",
     "output_type": "stream",
     "text": [
      "['sorry', \"can't\", 'there']\n"
     ]
    }
   ],
   "source": [
    "text1 = 'Sorry, I can\\'t go there.'\n",
    "tokenizer = RegexpTokenizer('[\\w\\']{3,}')\n",
    "print(tokenizer.tokenize(text1.lower()))"
   ]
  },
  {
   "cell_type": "markdown",
   "metadata": {},
   "source": [
    "#### 노이즈와 불용어 제거"
   ]
  },
  {
   "cell_type": "code",
   "execution_count": 18,
   "metadata": {},
   "outputs": [
    {
     "name": "stdout",
     "output_type": "stream",
     "text": [
      "['sorry', 'go', 'movie', 'yesterday']\n"
     ]
    }
   ],
   "source": [
    "from nltk.corpus import stopwords\n",
    "\n",
    "english_stops = set(stopwords.words('english'))\n",
    "\n",
    "text1 = 'Sorry, I couldn\\'t go to movie yesterday.'\n",
    "\n",
    "tokenizer = RegexpTokenizer('[\\w\\']+')\n",
    "tokens = tokenizer.tokenize(text1.lower()) # word_tokenize로 토큰화\n",
    "\n",
    "# stopwords(불용어) 제외한 어휘만으로 list 생성\n",
    "results = [word for word in tokens if word not in english_stops]\n",
    "\n",
    "print(results)\n"
   ]
  },
  {
   "cell_type": "code",
   "execution_count": 19,
   "metadata": {},
   "outputs": [
    {
     "name": "stdout",
     "output_type": "stream",
     "text": [
      "{\"wasn't\", 'there', 'them', 'until', 'him', \"doesn't\", 'he', 'own', 'yourselves', 'themselves', 'where', 'being', 'had', 'more', 'ours', 'herself', 'no', 'these', 'any', \"isn't\", 'after', \"you're\", \"aren't\", 'mustn', 'our', 'yourself', \"wouldn't\", 'above', 'that', 'doesn', 'how', \"she's\", 'off', 'once', 're', 'at', 'here', 'not', 'does', 'am', 'for', 'a', 'was', 'is', 'itself', 'both', 'into', 'wouldn', \"needn't\", 'below', 'o', 'weren', 'or', 'didn', 'by', 'are', 'myself', 'with', 'hasn', 'their', 'needn', \"you've\", \"mightn't\", 'too', 'because', \"haven't\", 'all', \"didn't\", 'y', 'against', 'now', 'me', 'under', 'did', 'out', 'your', 'been', 'i', 'some', 'hers', 'what', 'which', 'doing', 'her', 'just', 'when', 'were', \"hadn't\", 'isn', 'in', 'having', \"hasn't\", 'than', 'up', \"won't\", 'himself', 'ain', 'the', 'from', 'it', 'while', 'm', 'has', 'few', 't', 'be', \"shouldn't\", 'don', 'ourselves', 'an', 'you', 'down', 'if', 'shan', 'as', 'can', 'those', 'very', 'over', 'further', \"weren't\", 'do', 'through', 'why', 'hadn', 'she', 'should', 'most', 'couldn', 'mightn', 'between', 'my', 'ma', 'haven', 's', 'its', 'before', \"couldn't\", 'yours', \"you'll\", 'll', 'will', 'such', 'so', 'to', \"you'd\", 'aren', 'shouldn', 'we', 'about', 'each', 'nor', 've', 'this', 'of', 'his', 'during', 'same', 'theirs', \"should've\", \"mustn't\", 'whom', 'who', 'on', 'd', 'again', 'other', 'and', \"don't\", 'they', 'wasn', 'only', 'have', 'then', \"that'll\", 'won', 'but', \"it's\", \"shan't\"}\n"
     ]
    }
   ],
   "source": [
    "# nltk 제공 stopwords\n",
    "\n",
    "print(english_stops)"
   ]
  },
  {
   "cell_type": "code",
   "execution_count": null,
   "metadata": {},
   "outputs": [],
   "source": []
  }
 ],
 "metadata": {
  "kernelspec": {
   "display_name": "Python 3.9.12 ('ai')",
   "language": "python",
   "name": "python3"
  },
  "language_info": {
   "codemirror_mode": {
    "name": "ipython",
    "version": 3
   },
   "file_extension": ".py",
   "mimetype": "text/x-python",
   "name": "python",
   "nbconvert_exporter": "python",
   "pygments_lexer": "ipython3",
   "version": "3.9.12"
  },
  "orig_nbformat": 4,
  "vscode": {
   "interpreter": {
    "hash": "64892392819516367387ed4a4444104b3b49c5b47449248521118fe5688aabaa"
   }
  }
 },
 "nbformat": 4,
 "nbformat_minor": 2
}
