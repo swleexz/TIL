{
 "cells": [
  {
   "cell_type": "markdown",
   "metadata": {},
   "source": [
    "## 딥러닝(Deep Learning)\n",
    "  * 인공신경망(artificial neural network)\n",
    "  * 인간 두뇌의 작동 원리를 응용하여 고안한 방식\n",
    "  * 다중계층으로 이루어진 신경망의 구조\n",
    "  * 입력되는 훈련 데이터로 딥러닝 훈련\n",
    "  * 신경망(Neural Network): 인간의 뇌신경 세포를 모방하여 만든 수학적 모델"
   ]
  },
  {
   "cell_type": "markdown",
   "metadata": {},
   "source": [
    "### 신경망(Neural Network)\n",
    "  * 딥러닝의 신경망은 층(또는 레이어)으로 구성된 계층구조로 이루어져 있음\n",
    "  * 데이터가 처음으로 입력되는 입력층(Input Layer)과 마지막 결과가 출력되는 출력층(Output Layer)가 있음\n",
    "  * 이 사이에는 선택적으로 여러 개의 은닉층을 가질 수 있음"
   ]
  },
  {
   "cell_type": "markdown",
   "metadata": {},
   "source": [
    "#### 가중치 계산을 위한 함수\n",
    "* 초기화된 가중치는 입력이 반복됨에 따라 더욱 적합한 값을 가질 수 있도록 첫 예측값 Y와 진짜 타깃 X의 오차를 최소화해야 함\n",
    "  1. 활성화 함수(Activation Function)\n",
    "    * 최적화 함수로 구한 값을 기반으로 다음 계층의 입력값을 활성화 함수(Activation Function)로 계산하여 다음 입력으로 사용\n",
    "  2. 손실 함수(Loss Function)\n",
    "    * 손실 함수를 통해 예측값 Y와 진짜 타깃 X의 오차를 구하고\n",
    "  3. 최적화 함수(Optimization Function)\n",
    "    * 이러한 오차를 줄이기 위하여 최적화 함수를 사용하여 가중치를 최적화하도록 적절히 조절한 후\n",
    "\n",
    "* 이러한 과정을 반복하면 딥러닝의 신경망 모델을 최적화 할 수 있음"
   ]
  },
  {
   "cell_type": "markdown",
   "metadata": {},
   "source": [
    "#### 활성화 함수(Activation Function)\n",
    "  * 인공 신경망 내부에서 입력받은 데이터를 근거로 다음 계층으로 출력할 값을 결정하는 기능 수행\n",
    "  * 신경망 구성 시 설정, 각 레이어를 정의할 때 세부적인 함수를 선택하게 됨\n",
    "  * 일반적으로 은닉층에서는 \"sigmoid\" 함수를 사용하기도 하는데 이 함수는 학습하는 과정에서 0에 가까워지는 Vanishing Gradient 문제가 있음\n",
    "  * 따라서 이러한 문제를 개선한 \"relu\" 함수를 주로 사용함\n",
    "    * \"relu\" 함수는 양수 값이 나오면 그대로 반환하지만 음수 값이 나오면 0을 반환하는 특성을 가짐\n",
    "\n",
    "\n",
    "  | 설정 시기 | 딥러닝 목표 | 활성화 함수 |\n",
    "  |----------|------------|------------|\n",
    "  | 컴파일 시 |      -     | relu/sigmoid |\n",
    "  |          |   이진분류  |    sigmoid   |\n",
    "  |          |   다중분류  |    softmax   |"
   ]
  },
  {
   "cell_type": "markdown",
   "metadata": {},
   "source": [
    "#### 손실 함수(Loss/Cost Function)\n",
    "  * 예측값(측정값)과 실제값의 차이를 구하기 위한 함수\n",
    "  * 신경망 컴파일 시 설정, 신경망의 목표와 일치하는 함수를 선택해야 함\n",
    "\n",
    "  | 설정 시기 | 딥러닝 목표 | 함수 |\n",
    "  |----------|-----------|------|\n",
    "  | 컴파일 시 |  회귀분석  | cross-entropy |\n",
    "  |          |  이진분류  | binary_crossentropy |\n",
    "  |          |  다중분류  | categorical_crossentropy |\n",
    "  "
   ]
  },
  {
   "cell_type": "markdown",
   "metadata": {},
   "source": [
    "#### 최적화 함수(Optimizer Function)\n",
    "  * 손실 함수의 결과값을 최소화하는 함수\n",
    "  * 경사하강법(Gradient Descent) 사용\n",
    "  * 컴파일 과정에서 함수 정의\n",
    "  * 확률적 경사하강법(SGD; Stochastic Gradient Descent) - 경사하강법 개선\n",
    "  * RMSProp 방식 - 확률적 경사하강법 개선"
   ]
  },
  {
   "cell_type": "markdown",
   "metadata": {},
   "source": [
    "### Tensorflow & Keras\n",
    "  * 딥러닝 모델의 학습 수행 과정\n",
    "    * 모델 구조 생성: 단수 또는 복수 개의 계층(layer)으로 구성된 신경망 모델의 구조 생성\n",
    "      * Keras: `models`라는 신경망 모델 사용하여 신경망의 계층(Layer) 생성\n",
    "      * `models.Sequential()` 함수로 설정하면 설정하는 모든 레이어를 선형적인 순서로 나열하겠다는 것\n",
    "      * `add()` 함수 사용 시 계층 생성\n",
    "      * `Dense()` 함수를 이용하면 해당 계층을 설정할 수 있음 - Keras의 `layers`에서 지원\n",
    "        * 예: `model.add(layers.Dense(1, input_dim=2, activation='sigmoid'))`\n",
    "        * 첫 번째 인자(`1`): 출력 뉴런의 수. 여기에 1로 설정하면 `(샘플 개수, 1)`의 배열 형식으로 출력\n",
    "        * 두 번째 인자(`input_dim=2`): 입력 데이터 개수가 2개라는 의미\n",
    "          * `input_dim=2` 대신 `input_shape=(2,)`를 사용하여도 무방함\n",
    "        * 마지막 인자(`activation='sigmoid'`) 활성화(activation) 함수로 'sigmoid'를 선택했다는 의미"
   ]
  },
  {
   "cell_type": "code",
   "execution_count": 1,
   "metadata": {},
   "outputs": [],
   "source": [
    "from keras import models\n",
    "from keras import layers"
   ]
  },
  {
   "cell_type": "code",
   "execution_count": 2,
   "metadata": {},
   "outputs": [],
   "source": [
    "model = models.Sequential()\n",
    "model.add(layers.Dense(1, input_dim=2, activation='sigmoid'))"
   ]
  },
  {
   "cell_type": "markdown",
   "metadata": {},
   "source": [
    "* 위의 예제에서는 계층이 단일 계층으로 구성되어 입력 계층이자 출력 계층이 됨\n",
    "* 위의 예제는 이진분류이므로 활성화 함수를 sigmoid로 하였음\n",
    "* 대부분의 경우 출력 결과는 0 또는 1에 가까운 실수형 값으로 나타남\n",
    "* 0에 가까운 실수는 0번 군집, 1에 가까운 실수는 1번 군집을 의미"
   ]
  },
  {
   "cell_type": "markdown",
   "metadata": {},
   "source": [
    "#### 2개의 계층을 사용하는 경우\n",
    "  * 첫 번째 계층: 입력 계층\n",
    "  * 두 번째 계층: 출력 계층\n",
    "    * 출력을 반드시 1로 설정하고 활성화 함수를 이곳으로 이동"
   ]
  },
  {
   "cell_type": "code",
   "execution_count": 3,
   "metadata": {},
   "outputs": [],
   "source": [
    "from keras import models\n",
    "from keras import layers"
   ]
  },
  {
   "cell_type": "code",
   "execution_count": 4,
   "metadata": {},
   "outputs": [],
   "source": [
    "model = models.Sequential(\n",
    "    [\n",
    "        layers.Dense(4, input_shape=(2,)),\n",
    "        layers.Dense(1, activation='sigmoid')\n",
    "    ]\n",
    ")"
   ]
  },
  {
   "cell_type": "code",
   "execution_count": 5,
   "metadata": {},
   "outputs": [],
   "source": [
    "model.compile(optimizer='SGD', loss='binary_crssentropy')"
   ]
  },
  {
   "cell_type": "code",
   "execution_count": 6,
   "metadata": {},
   "outputs": [],
   "source": [
    "# history = model.fit(X_train, y_train)"
   ]
  },
  {
   "cell_type": "markdown",
   "metadata": {},
   "source": [
    "### 신경망의 데이터 구조\n",
    "|    | 처리 데이터 구조 | 텐서 형식 |\n",
    "|----|----------------|----------|\n",
    "| 1  | 2D 텐서 벡터 데이터 처리 | (sample, features) |\n",
    "| 2  | 3D 텐서 시퀀스 데이터 처리 | (sample, timesteps, features) |\n",
    "| 3  | 4D 텐서 이미지 데이터 처리 | 2D 합성곱층(Conv2D) |"
   ]
  },
  {
   "cell_type": "code",
   "execution_count": 7,
   "metadata": {},
   "outputs": [],
   "source": [
    "from keras import models\n",
    "from keras import layers"
   ]
  },
  {
   "cell_type": "code",
   "execution_count": 8,
   "metadata": {},
   "outputs": [],
   "source": [
    "model = models.Sequential()\n",
    "model.add(layers.Dense(8, input_shape=(3, 4), activation='relu'))\n",
    "model.add(layers.Dense(1, activation=('softmax')))"
   ]
  },
  {
   "cell_type": "code",
   "execution_count": 9,
   "metadata": {},
   "outputs": [],
   "source": [
    "model.compile(optimizer='rmsprop', loss='categorical_crossentropy')"
   ]
  },
  {
   "cell_type": "markdown",
   "metadata": {},
   "source": [
    "### 이진 분류(Binary Classification) 모델\n",
    "  * 딥러닝의 결과가 둘 중 하나를 예측하는 모델"
   ]
  },
  {
   "cell_type": "code",
   "execution_count": 10,
   "metadata": {},
   "outputs": [],
   "source": [
    "import matplotlib.pyplot as plt\n",
    "from sklearn.datasets import make_blobs"
   ]
  },
  {
   "cell_type": "code",
   "execution_count": 11,
   "metadata": {},
   "outputs": [
    {
     "data": {
      "image/png": "[encoded data removed]",
      "text/plain": [
       "<Figure size 432x288 with 1 Axes>"
      ]
     },
     "metadata": {
      "needs_background": "light"
     },
     "output_type": "display_data"
    }
   ],
   "source": [
    "data, labels = make_blobs(n_samples=10000, n_features=2, centers=2, random_state=42)\n",
    "\n",
    "plt.scatter(data[:, 0], data[:, 1], c=labels)\n",
    "plt.show()"
   ]
  },
  {
   "cell_type": "markdown",
   "metadata": {},
   "source": [
    "#### `make_blobs()`\n",
    "  * 등방성 가우시안 정규분포를 이용하여 가상 데이터 생성\n",
    "    * 등방성: 모든 방향으로 같은 성질을 가짐\n",
    "    * 클러스터링을 위한 가상 데이터 생성에 사용\n",
    "  * 인수\n",
    "    | 파라미터 | 내용 |\n",
    "    |---------|-----|\n",
    "    | n_samples | 만들고자 하는 샘플의 총 개수 |\n",
    "    | n_features | 각 샘플들에 대한 속성(feature)의 개수 |\n",
    "    | centers | 중심(군집)의 개수 |\n",
    "    | random_state | 무작위의 수를 생성하기 위한 생성기의 종류 |\n",
    "  * 반환값\n",
    "    * x: [n_samples, n_features] 크기의 배열, 독립 변수\n",
    "    * y: [n_samples] 크기의 배열, 종속 변수"
   ]
  },
  {
   "cell_type": "code",
   "execution_count": 12,
   "metadata": {},
   "outputs": [],
   "source": [
    "import matplotlib.pyplot as plt\n",
    "from mpl_toolkits.mplot3d import Axes3D\n",
    "from sklearn.datasets import make_blobs"
   ]
  },
  {
   "cell_type": "code",
   "execution_count": 13,
   "metadata": {},
   "outputs": [
    {
     "name": "stderr",
     "output_type": "stream",
     "text": [
      "c:\\Users\\SWLEEXZ\\anaconda3\\envs\\ai\\lib\\site-packages\\mpl_toolkits\\mplot3d\\art3d.py:906: FutureWarning: elementwise comparison failed; returning scalar instead, but in the future will perform elementwise comparison\n",
      "  if zdir == 'x':\n",
      "c:\\Users\\SWLEEXZ\\anaconda3\\envs\\ai\\lib\\site-packages\\mpl_toolkits\\mplot3d\\art3d.py:908: FutureWarning: elementwise comparison failed; returning scalar instead, but in the future will perform elementwise comparison\n",
      "  elif zdir == 'y':\n"
     ]
    },
    {
     "data": {
      "image/png": "[encoded data removed]",
      "text/plain": [
       "<Figure size 1152x648 with 1 Axes>"
      ]
     },
     "metadata": {
      "needs_background": "light"
     },
     "output_type": "display_data"
    }
   ],
   "source": [
    "data, labels = make_blobs(n_samples=10000, n_features=4, centers=4, random_state=1)\n",
    "\n",
    "fig = plt.figure(figsize=(16, 9))\n",
    "ax = fig.add_subplot(111, projection='3d')\n",
    "ax.scatter(data[:, 0], data[:, 1], data[:, 2], data[:, 3], c=labels)\n",
    "plt.show()"
   ]
  },
  {
   "cell_type": "code",
   "execution_count": 14,
   "metadata": {},
   "outputs": [],
   "source": [
    "data, labels = make_blobs(n_samples=10000, n_features=2, centers=2, random_state=42)"
   ]
  },
  {
   "cell_type": "code",
   "execution_count": 15,
   "metadata": {},
   "outputs": [
    {
     "name": "stdout",
     "output_type": "stream",
     "text": [
      "[[ 4.21810197  1.83852559]\n",
      " [ 5.55650652  2.25768167]\n",
      " [-2.1884119   9.20833807]\n",
      " [-2.3182811   8.97795552]\n",
      " [ 5.32670633  1.57484267]]\n",
      "[1 1 0 0 1]\n"
     ]
    }
   ],
   "source": [
    "print(data[:5])\n",
    "print(labels[:5])"
   ]
  },
  {
   "cell_type": "code",
   "execution_count": 16,
   "metadata": {},
   "outputs": [],
   "source": [
    "from sklearn.model_selection import train_test_split"
   ]
  },
  {
   "cell_type": "code",
   "execution_count": 17,
   "metadata": {},
   "outputs": [],
   "source": [
    "X_train, X_test, y_train, y_test = train_test_split(data, labels, test_size=0.2)"
   ]
  },
  {
   "cell_type": "code",
   "execution_count": 18,
   "metadata": {},
   "outputs": [],
   "source": [
    "from keras import models\n",
    "from keras import layers"
   ]
  },
  {
   "cell_type": "code",
   "execution_count": 19,
   "metadata": {},
   "outputs": [],
   "source": [
    "model = models.Sequential()\n",
    "model.add(layers.Dense(1, input_dim=2, activation='sigmoid'))"
   ]
  },
  {
   "cell_type": "code",
   "execution_count": 20,
   "metadata": {},
   "outputs": [
    {
     "name": "stdout",
     "output_type": "stream",
     "text": [
      "Model: \"sequential_3\"\n",
      "_________________________________________________________________\n",
      " Layer (type)                Output Shape              Param #   \n",
      "=================================================================\n",
      " dense_5 (Dense)             (None, 1)                 3         \n",
      "                                                                 \n",
      "=================================================================\n",
      "Total params: 3\n",
      "Trainable params: 3\n",
      "Non-trainable params: 0\n",
      "_________________________________________________________________\n"
     ]
    }
   ],
   "source": [
    "model.summary()"
   ]
  },
  {
   "cell_type": "markdown",
   "metadata": {},
   "source": [
    "* 파라미터 수 계산: (입력 개수 + 가중치 개수) * 출력 개수\n",
    "  * 예: `models.add(layers.Dense(3, input_dim=4, activation='sigmoid'))`\n",
    "  * (4(입력) + 가중치(1)) * 출력(3) = 15"
   ]
  },
  {
   "cell_type": "code",
   "execution_count": 21,
   "metadata": {},
   "outputs": [
    {
     "name": "stdout",
     "output_type": "stream",
     "text": [
      "Epoch 1/40\n",
      "80/80 [==============================] - 0s 1ms/step - loss: 0.8677 - accuracy: 0.6942\n",
      "Epoch 2/40\n",
      "80/80 [==============================] - 0s 1ms/step - loss: 0.0753 - accuracy: 0.9969\n",
      "Epoch 3/40\n",
      "80/80 [==============================] - 0s 1ms/step - loss: 0.0365 - accuracy: 0.9995\n",
      "Epoch 4/40\n",
      "80/80 [==============================] - 0s 1ms/step - loss: 0.0255 - accuracy: 0.9998\n",
      "Epoch 5/40\n",
      "80/80 [==============================] - 0s 1ms/step - loss: 0.0202 - accuracy: 0.9999\n",
      "Epoch 6/40\n",
      "80/80 [==============================] - 0s 1ms/step - loss: 0.0170 - accuracy: 0.9999\n",
      "Epoch 7/40\n",
      "80/80 [==============================] - 0s 1ms/step - loss: 0.0149 - accuracy: 0.9999\n",
      "Epoch 8/40\n",
      "80/80 [==============================] - 0s 1ms/step - loss: 0.0133 - accuracy: 0.9999\n",
      "Epoch 9/40\n",
      "80/80 [==============================] - 0s 1ms/step - loss: 0.0120 - accuracy: 1.0000\n",
      "Epoch 10/40\n",
      "80/80 [==============================] - 0s 1ms/step - loss: 0.0111 - accuracy: 1.0000\n",
      "Epoch 11/40\n",
      "80/80 [==============================] - 0s 1ms/step - loss: 0.0102 - accuracy: 1.0000\n",
      "Epoch 12/40\n",
      "80/80 [==============================] - 0s 1ms/step - loss: 0.0095 - accuracy: 1.0000\n",
      "Epoch 13/40\n",
      "80/80 [==============================] - 0s 1ms/step - loss: 0.0089 - accuracy: 1.0000\n",
      "Epoch 14/40\n",
      "80/80 [==============================] - 0s 1ms/step - loss: 0.0084 - accuracy: 1.0000\n",
      "Epoch 15/40\n",
      "80/80 [==============================] - 0s 1ms/step - loss: 0.0080 - accuracy: 1.0000\n",
      "Epoch 16/40\n",
      "80/80 [==============================] - 0s 1ms/step - loss: 0.0076 - accuracy: 1.0000\n",
      "Epoch 17/40\n",
      "80/80 [==============================] - 0s 1ms/step - loss: 0.0072 - accuracy: 1.0000\n",
      "Epoch 18/40\n",
      "80/80 [==============================] - 0s 1ms/step - loss: 0.0069 - accuracy: 1.0000\n",
      "Epoch 19/40\n",
      "80/80 [==============================] - 0s 1ms/step - loss: 0.0066 - accuracy: 1.0000\n",
      "Epoch 20/40\n",
      "80/80 [==============================] - 0s 1ms/step - loss: 0.0063 - accuracy: 1.0000\n",
      "Epoch 21/40\n",
      "80/80 [==============================] - 0s 1ms/step - loss: 0.0061 - accuracy: 1.0000\n",
      "Epoch 22/40\n",
      "80/80 [==============================] - 0s 1ms/step - loss: 0.0059 - accuracy: 1.0000\n",
      "Epoch 23/40\n",
      "80/80 [==============================] - 0s 1ms/step - loss: 0.0057 - accuracy: 1.0000\n",
      "Epoch 24/40\n",
      "80/80 [==============================] - 0s 1ms/step - loss: 0.0055 - accuracy: 1.0000\n",
      "Epoch 25/40\n",
      "80/80 [==============================] - 0s 1ms/step - loss: 0.0053 - accuracy: 1.0000\n",
      "Epoch 26/40\n",
      "80/80 [==============================] - 0s 1ms/step - loss: 0.0051 - accuracy: 1.0000\n",
      "Epoch 27/40\n",
      "80/80 [==============================] - 0s 1ms/step - loss: 0.0050 - accuracy: 1.0000\n",
      "Epoch 28/40\n",
      "80/80 [==============================] - 0s 1ms/step - loss: 0.0048 - accuracy: 1.0000\n",
      "Epoch 29/40\n",
      "80/80 [==============================] - 0s 1ms/step - loss: 0.0047 - accuracy: 1.0000\n",
      "Epoch 30/40\n",
      "80/80 [==============================] - 0s 1ms/step - loss: 0.0046 - accuracy: 1.0000\n",
      "Epoch 31/40\n",
      "80/80 [==============================] - 0s 1ms/step - loss: 0.0045 - accuracy: 1.0000\n",
      "Epoch 32/40\n",
      "80/80 [==============================] - 0s 1ms/step - loss: 0.0044 - accuracy: 1.0000\n",
      "Epoch 33/40\n",
      "80/80 [==============================] - 0s 1ms/step - loss: 0.0042 - accuracy: 1.0000\n",
      "Epoch 34/40\n",
      "80/80 [==============================] - 0s 1ms/step - loss: 0.0042 - accuracy: 1.0000\n",
      "Epoch 35/40\n",
      "80/80 [==============================] - 0s 1ms/step - loss: 0.0041 - accuracy: 1.0000\n",
      "Epoch 36/40\n",
      "80/80 [==============================] - 0s 1ms/step - loss: 0.0040 - accuracy: 1.0000\n",
      "Epoch 37/40\n",
      "80/80 [==============================] - 0s 1ms/step - loss: 0.0039 - accuracy: 1.0000\n",
      "Epoch 38/40\n",
      "80/80 [==============================] - 0s 1ms/step - loss: 0.0038 - accuracy: 1.0000\n",
      "Epoch 39/40\n",
      "80/80 [==============================] - 0s 1ms/step - loss: 0.0037 - accuracy: 1.0000\n",
      "Epoch 40/40\n",
      "80/80 [==============================] - 0s 1ms/step - loss: 0.0037 - accuracy: 1.0000\n"
     ]
    },
    {
     "data": {
      "text/plain": [
       "<keras.callbacks.History at 0x1bfbc475f70>"
      ]
     },
     "execution_count": 21,
     "metadata": {},
     "output_type": "execute_result"
    }
   ],
   "source": [
    "model.compile(optimizer='SGD', loss='binary_crossentropy', metrics=['accuracy'])\n",
    "\n",
    "model.fit(X_train, y_train, epochs=40, batch_size=100)"
   ]
  },
  {
   "cell_type": "code",
   "execution_count": 22,
   "metadata": {},
   "outputs": [
    {
     "name": "stdout",
     "output_type": "stream",
     "text": [
      "63/63 [==============================] - 0s 1ms/step - loss: 0.0042 - accuracy: 1.0000\n"
     ]
    },
    {
     "data": {
      "text/plain": [
       "[0.004209146369248629, 1.0]"
      ]
     },
     "execution_count": 22,
     "metadata": {},
     "output_type": "execute_result"
    }
   ],
   "source": [
    "result = model.evaluate(X_test, y_test)\n",
    "result"
   ]
  },
  {
   "cell_type": "code",
   "execution_count": 23,
   "metadata": {},
   "outputs": [
    {
     "name": "stdout",
     "output_type": "stream",
     "text": [
      "[[ 1.495342  ]\n",
      " [-0.46108717]]\n",
      "[0.44454736]\n"
     ]
    }
   ],
   "source": [
    "weights, bias = model.get_weights()\n",
    "print(weights)\n",
    "print(bias)"
   ]
  },
  {
   "cell_type": "code",
   "execution_count": 24,
   "metadata": {},
   "outputs": [],
   "source": [
    "a = -(weights[0] / weights[1]) / (weights[0] / bias)\n",
    "b = -weights[0] / weights[1]"
   ]
  },
  {
   "cell_type": "code",
   "execution_count": 25,
   "metadata": {},
   "outputs": [],
   "source": [
    "import numpy as np"
   ]
  },
  {
   "cell_type": "code",
   "execution_count": 26,
   "metadata": {},
   "outputs": [
    {
     "data": {
      "text/plain": [
       "<matplotlib.legend.Legend at 0x1bfbd99a4f0>"
      ]
     },
     "execution_count": 26,
     "metadata": {},
     "output_type": "execute_result"
    },
    {
     "data": {
      "image/png": "[encoded data removed]",
      "text/plain": [
       "<Figure size 1152x648 with 1 Axes>"
      ]
     },
     "metadata": {
      "needs_background": "light"
     },
     "output_type": "display_data"
    }
   ],
   "source": [
    "x = np.linspace(np.amin(X_train[:, 0]), np.amax(X_train[:, 0]))\n",
    "y = [a * i + b for i in x]\n",
    "\n",
    "plt.figure(figsize=(16,9))\n",
    "plt.plot(x, y, color='red', label='Boundary')\n",
    "plt.xlabel('x')\n",
    "plt.ylabel('y')\n",
    "plt.scatter(X_train[:, 0], X_train[:, 1], c=y_train, s=20)\n",
    "plt.legend()"
   ]
  },
  {
   "cell_type": "code",
   "execution_count": 27,
   "metadata": {},
   "outputs": [
    {
     "name": "stdout",
     "output_type": "stream",
     "text": [
      "1/1 [==============================] - 0s 82ms/step\n",
      "[[0.98735046]\n",
      " [0.90741843]\n",
      " [0.8307403 ]\n",
      " [0.10930943]]\n"
     ]
    }
   ],
   "source": [
    "test = np.array([[2, -2], [2, 2.5], [2, 4], [2, 12]])\n",
    "pred = model.predict(test)\n",
    "print(pred)\n",
    "# 좌상단이 0번 군집, 우하단이 1번 군집으로 보임"
   ]
  },
  {
   "cell_type": "markdown",
   "metadata": {},
   "source": [
    "### 다중 분류(Multiple Classification) 모델\n",
    "  * 이진 분류와의 공통점과 차이점\n",
    "    * 공통점: 여러 개 중 하나를 선택한다는 것\n",
    "    * 차이점: 2개 중 1개를 선택하기 위하여는 1개의 출력 단자만 필요하지만 그 이상의 종류 중 하나를 선택하려면 2개 이상의 출력 단자가 필요"
   ]
  },
  {
   "cell_type": "code",
   "execution_count": 28,
   "metadata": {},
   "outputs": [],
   "source": [
    "from sklearn import datasets\n",
    "from sklearn.model_selection import train_test_split"
   ]
  },
  {
   "cell_type": "code",
   "execution_count": 29,
   "metadata": {},
   "outputs": [],
   "source": [
    "iris = datasets.load_iris()\n",
    "X = iris.data\n",
    "y = iris.target\n",
    "\n",
    "X_train, X_test, y_train, y_test = train_test_split(X, y, test_size=0.2)"
   ]
  },
  {
   "cell_type": "code",
   "execution_count": 30,
   "metadata": {},
   "outputs": [
    {
     "name": "stdout",
     "output_type": "stream",
     "text": [
      "(120, 4)\n"
     ]
    }
   ],
   "source": [
    "print(X_train.shape)"
   ]
  },
  {
   "cell_type": "code",
   "execution_count": 31,
   "metadata": {},
   "outputs": [
    {
     "name": "stdout",
     "output_type": "stream",
     "text": [
      "[7.7 2.8 6.7 2. ]\n",
      "2\n"
     ]
    }
   ],
   "source": [
    "print(X_test[0])\n",
    "print(y_test[0])"
   ]
  },
  {
   "cell_type": "code",
   "execution_count": 32,
   "metadata": {},
   "outputs": [],
   "source": [
    "from keras.utils.np_utils import to_categorical"
   ]
  },
  {
   "cell_type": "markdown",
   "metadata": {},
   "source": [
    "* 원-핫 인코딩(One-Hot Encoding) 기법으로 라벨 리스트를 변환"
   ]
  },
  {
   "cell_type": "code",
   "execution_count": 33,
   "metadata": {},
   "outputs": [],
   "source": [
    "y_train = to_categorical(y_train)\n",
    "y_test = to_categorical(y_test)"
   ]
  },
  {
   "cell_type": "code",
   "execution_count": 34,
   "metadata": {},
   "outputs": [
    {
     "name": "stdout",
     "output_type": "stream",
     "text": [
      "[1. 0. 0.]\n",
      "[0. 0. 1.]\n"
     ]
    }
   ],
   "source": [
    "print(y_train[0])\n",
    "print(y_test[0])"
   ]
  },
  {
   "cell_type": "markdown",
   "metadata": {},
   "source": [
    "* 여기서는 세 가지 중 하나를 예측하는 딥러닝 모델, 다중 분류 모델이므로 출력 단자가 3개여야 함\n",
    "* 입력 특성(feature)이 4개이므로 `input_dim=4` 또는 `input_shape=(4,)`로 설정\n",
    "* 활성화 함수는 이진 분류 방식의 \"sigmoid\"가 아닌 \"softmax\" 사용"
   ]
  },
  {
   "cell_type": "code",
   "execution_count": 35,
   "metadata": {},
   "outputs": [],
   "source": [
    "from keras import models\n",
    "from keras import layers"
   ]
  },
  {
   "cell_type": "code",
   "execution_count": 36,
   "metadata": {},
   "outputs": [],
   "source": [
    "model = models.Sequential([\n",
    "    layers.Dense(2, input_shape=(4,)),\n",
    "    layers.Dense(3, activation='softmax')\n",
    "])"
   ]
  },
  {
   "cell_type": "code",
   "execution_count": 37,
   "metadata": {},
   "outputs": [
    {
     "name": "stdout",
     "output_type": "stream",
     "text": [
      "Model: \"sequential_4\"\n",
      "_________________________________________________________________\n",
      " Layer (type)                Output Shape              Param #   \n",
      "=================================================================\n",
      " dense_6 (Dense)             (None, 2)                 10        \n",
      "                                                                 \n",
      " dense_7 (Dense)             (None, 3)                 9         \n",
      "                                                                 \n",
      "=================================================================\n",
      "Total params: 19\n",
      "Trainable params: 19\n",
      "Non-trainable params: 0\n",
      "_________________________________________________________________\n"
     ]
    }
   ],
   "source": [
    "model.summary()"
   ]
  },
  {
   "cell_type": "markdown",
   "metadata": {},
   "source": [
    "* (None, 2)\n",
    "  * None: 입력 샘플 수가 정해지지 않았으며 계속해서 입력을 받을 수 있음\n",
    "  * 2: 출력 단자 개수\n",
    "* `layers.Dense(2, input_shape=(4,)`\n",
    "  * 파라미터 개수: (4(입력 개수) + 1(가중치)) * 2(출력 개수) = 10\n",
    "* `layers.Dense(3, activation='softmax')`\n",
    "  * 파라미터 개수: (2(입력 개수) + 1(가중치)) * 3(출력 개수) = 9\n",
    "* 총 파라미터 개수: 19"
   ]
  },
  {
   "cell_type": "code",
   "execution_count": 38,
   "metadata": {},
   "outputs": [],
   "source": [
    "model.compile(optimizer='rmsprop', loss='categorical_crossentropy', metrics=['accuracy'])"
   ]
  },
  {
   "cell_type": "code",
   "execution_count": 39,
   "metadata": {},
   "outputs": [
    {
     "name": "stdout",
     "output_type": "stream",
     "text": [
      "Epoch 1/100\n",
      "4/4 [==============================] - 1s 2ms/step - loss: 8.4049 - accuracy: 0.3167\n",
      "Epoch 2/100\n",
      "4/4 [==============================] - 0s 2ms/step - loss: 8.1339 - accuracy: 0.3167\n",
      "Epoch 3/100\n",
      "4/4 [==============================] - 0s 2ms/step - loss: 7.9361 - accuracy: 0.3167\n",
      "Epoch 4/100\n",
      "4/4 [==============================] - 0s 2ms/step - loss: 7.7656 - accuracy: 0.3167\n",
      "Epoch 5/100\n",
      "4/4 [==============================] - 0s 2ms/step - loss: 7.6080 - accuracy: 0.3167\n",
      "Epoch 6/100\n",
      "4/4 [==============================] - 0s 2ms/step - loss: 7.4585 - accuracy: 0.3167\n",
      "Epoch 7/100\n",
      "4/4 [==============================] - 0s 2ms/step - loss: 7.3141 - accuracy: 0.3167\n",
      "Epoch 8/100\n",
      "4/4 [==============================] - 0s 2ms/step - loss: 7.1758 - accuracy: 0.3167\n",
      "Epoch 9/100\n",
      "4/4 [==============================] - 0s 2ms/step - loss: 7.0387 - accuracy: 0.3167\n",
      "Epoch 10/100\n",
      "4/4 [==============================] - 0s 2ms/step - loss: 6.9019 - accuracy: 0.3167\n",
      "Epoch 11/100\n",
      "4/4 [==============================] - 0s 2ms/step - loss: 6.7675 - accuracy: 0.3167\n",
      "Epoch 12/100\n",
      "4/4 [==============================] - 0s 2ms/step - loss: 6.6345 - accuracy: 0.3167\n",
      "Epoch 13/100\n",
      "4/4 [==============================] - 0s 2ms/step - loss: 6.5022 - accuracy: 0.3167\n",
      "Epoch 14/100\n",
      "4/4 [==============================] - 0s 2ms/step - loss: 6.3713 - accuracy: 0.3167\n",
      "Epoch 15/100\n",
      "4/4 [==============================] - 0s 2ms/step - loss: 6.2426 - accuracy: 0.3167\n",
      "Epoch 16/100\n",
      "4/4 [==============================] - 0s 1ms/step - loss: 6.1183 - accuracy: 0.3167\n",
      "Epoch 17/100\n",
      "4/4 [==============================] - 0s 2ms/step - loss: 5.9927 - accuracy: 0.3167\n",
      "Epoch 18/100\n",
      "4/4 [==============================] - 0s 2ms/step - loss: 5.8689 - accuracy: 0.3167\n",
      "Epoch 19/100\n",
      "4/4 [==============================] - 0s 2ms/step - loss: 5.7455 - accuracy: 0.3167\n",
      "Epoch 20/100\n",
      "4/4 [==============================] - 0s 2ms/step - loss: 5.6239 - accuracy: 0.3167\n",
      "Epoch 21/100\n",
      "4/4 [==============================] - 0s 2ms/step - loss: 5.5035 - accuracy: 0.3167\n",
      "Epoch 22/100\n",
      "4/4 [==============================] - 0s 2ms/step - loss: 5.3839 - accuracy: 0.3167\n",
      "Epoch 23/100\n",
      "4/4 [==============================] - 0s 2ms/step - loss: 5.2656 - accuracy: 0.3167\n",
      "Epoch 24/100\n",
      "4/4 [==============================] - 0s 2ms/step - loss: 5.1483 - accuracy: 0.3167\n",
      "Epoch 25/100\n",
      "4/4 [==============================] - 0s 2ms/step - loss: 5.0312 - accuracy: 0.3167\n",
      "Epoch 26/100\n",
      "4/4 [==============================] - 0s 2ms/step - loss: 4.9142 - accuracy: 0.3167\n",
      "Epoch 27/100\n",
      "4/4 [==============================] - 0s 2ms/step - loss: 4.8011 - accuracy: 0.3167\n",
      "Epoch 28/100\n",
      "4/4 [==============================] - 0s 2ms/step - loss: 4.6879 - accuracy: 0.3167\n",
      "Epoch 29/100\n",
      "4/4 [==============================] - 0s 2ms/step - loss: 4.5762 - accuracy: 0.3167\n",
      "Epoch 30/100\n",
      "4/4 [==============================] - 0s 2ms/step - loss: 4.4668 - accuracy: 0.3167\n",
      "Epoch 31/100\n",
      "4/4 [==============================] - 0s 2ms/step - loss: 4.3587 - accuracy: 0.3167\n",
      "Epoch 32/100\n",
      "4/4 [==============================] - 0s 1ms/step - loss: 4.2519 - accuracy: 0.3167\n",
      "Epoch 33/100\n",
      "4/4 [==============================] - 0s 2ms/step - loss: 4.1444 - accuracy: 0.3167\n",
      "Epoch 34/100\n",
      "4/4 [==============================] - 0s 2ms/step - loss: 4.0394 - accuracy: 0.3167\n",
      "Epoch 35/100\n",
      "4/4 [==============================] - 0s 2ms/step - loss: 3.9351 - accuracy: 0.3167\n",
      "Epoch 36/100\n",
      "4/4 [==============================] - 0s 2ms/step - loss: 3.8313 - accuracy: 0.3167\n",
      "Epoch 37/100\n",
      "4/4 [==============================] - 0s 2ms/step - loss: 3.7293 - accuracy: 0.3167\n",
      "Epoch 38/100\n",
      "4/4 [==============================] - 0s 2ms/step - loss: 3.6288 - accuracy: 0.3167\n",
      "Epoch 39/100\n",
      "4/4 [==============================] - 0s 2ms/step - loss: 3.5275 - accuracy: 0.3167\n",
      "Epoch 40/100\n",
      "4/4 [==============================] - 0s 2ms/step - loss: 3.4276 - accuracy: 0.3167\n",
      "Epoch 41/100\n",
      "4/4 [==============================] - 0s 1ms/step - loss: 3.3291 - accuracy: 0.3167\n",
      "Epoch 42/100\n",
      "4/4 [==============================] - 0s 2ms/step - loss: 3.2309 - accuracy: 0.3167\n",
      "Epoch 43/100\n",
      "4/4 [==============================] - 0s 2ms/step - loss: 3.1348 - accuracy: 0.3167\n",
      "Epoch 44/100\n",
      "4/4 [==============================] - 0s 2ms/step - loss: 3.0424 - accuracy: 0.3167\n",
      "Epoch 45/100\n",
      "4/4 [==============================] - 0s 2ms/step - loss: 2.9516 - accuracy: 0.3167\n",
      "Epoch 46/100\n",
      "4/4 [==============================] - 0s 2ms/step - loss: 2.8599 - accuracy: 0.3167\n",
      "Epoch 47/100\n",
      "4/4 [==============================] - 0s 2ms/step - loss: 2.7681 - accuracy: 0.3167\n",
      "Epoch 48/100\n",
      "4/4 [==============================] - 0s 2ms/step - loss: 2.6783 - accuracy: 0.3167\n",
      "Epoch 49/100\n",
      "4/4 [==============================] - 0s 2ms/step - loss: 2.5878 - accuracy: 0.3167\n",
      "Epoch 50/100\n",
      "4/4 [==============================] - 0s 2ms/step - loss: 2.4968 - accuracy: 0.3167\n",
      "Epoch 51/100\n",
      "4/4 [==============================] - 0s 2ms/step - loss: 2.4072 - accuracy: 0.3167\n",
      "Epoch 52/100\n",
      "4/4 [==============================] - 0s 2ms/step - loss: 2.3184 - accuracy: 0.3167\n",
      "Epoch 53/100\n",
      "4/4 [==============================] - 0s 2ms/step - loss: 2.2315 - accuracy: 0.3167\n",
      "Epoch 54/100\n",
      "4/4 [==============================] - 0s 2ms/step - loss: 2.1464 - accuracy: 0.3167\n",
      "Epoch 55/100\n",
      "4/4 [==============================] - 0s 2ms/step - loss: 2.0614 - accuracy: 0.3167\n",
      "Epoch 56/100\n",
      "4/4 [==============================] - 0s 2ms/step - loss: 1.9774 - accuracy: 0.3167\n",
      "Epoch 57/100\n",
      "4/4 [==============================] - 0s 2ms/step - loss: 1.8965 - accuracy: 0.3167\n",
      "Epoch 58/100\n",
      "4/4 [==============================] - 0s 2ms/step - loss: 1.8176 - accuracy: 0.3167\n",
      "Epoch 59/100\n",
      "4/4 [==============================] - 0s 2ms/step - loss: 1.7413 - accuracy: 0.3167\n",
      "Epoch 60/100\n",
      "4/4 [==============================] - 0s 2ms/step - loss: 1.6659 - accuracy: 0.3167\n",
      "Epoch 61/100\n",
      "4/4 [==============================] - 0s 1ms/step - loss: 1.5926 - accuracy: 0.3167\n",
      "Epoch 62/100\n",
      "4/4 [==============================] - 0s 2ms/step - loss: 1.5226 - accuracy: 0.3167\n",
      "Epoch 63/100\n",
      "4/4 [==============================] - 0s 2ms/step - loss: 1.4568 - accuracy: 0.3167\n",
      "Epoch 64/100\n",
      "4/4 [==============================] - 0s 2ms/step - loss: 1.3946 - accuracy: 0.3167\n",
      "Epoch 65/100\n",
      "4/4 [==============================] - 0s 1ms/step - loss: 1.3367 - accuracy: 0.3167\n",
      "Epoch 66/100\n",
      "4/4 [==============================] - 0s 2ms/step - loss: 1.2815 - accuracy: 0.3167\n",
      "Epoch 67/100\n",
      "4/4 [==============================] - 0s 2ms/step - loss: 1.2314 - accuracy: 0.3167\n",
      "Epoch 68/100\n",
      "4/4 [==============================] - 0s 2ms/step - loss: 1.1875 - accuracy: 0.3167\n",
      "Epoch 69/100\n",
      "4/4 [==============================] - 0s 2ms/step - loss: 1.1476 - accuracy: 0.3167\n",
      "Epoch 70/100\n",
      "4/4 [==============================] - 0s 2ms/step - loss: 1.1112 - accuracy: 0.3167\n",
      "Epoch 71/100\n",
      "4/4 [==============================] - 0s 2ms/step - loss: 1.0777 - accuracy: 0.3250\n",
      "Epoch 72/100\n",
      "4/4 [==============================] - 0s 2ms/step - loss: 1.0489 - accuracy: 0.3500\n",
      "Epoch 73/100\n",
      "4/4 [==============================] - 0s 2ms/step - loss: 1.0243 - accuracy: 0.3833\n",
      "Epoch 74/100\n",
      "4/4 [==============================] - 0s 2ms/step - loss: 1.0036 - accuracy: 0.3917\n",
      "Epoch 75/100\n",
      "4/4 [==============================] - 0s 2ms/step - loss: 0.9858 - accuracy: 0.4583\n",
      "Epoch 76/100\n",
      "4/4 [==============================] - 0s 2ms/step - loss: 0.9714 - accuracy: 0.4667\n",
      "Epoch 77/100\n",
      "4/4 [==============================] - 0s 2ms/step - loss: 0.9590 - accuracy: 0.4917\n",
      "Epoch 78/100\n",
      "4/4 [==============================] - 0s 2ms/step - loss: 0.9471 - accuracy: 0.4833\n",
      "Epoch 79/100\n",
      "4/4 [==============================] - 0s 2ms/step - loss: 0.9376 - accuracy: 0.4750\n",
      "Epoch 80/100\n",
      "4/4 [==============================] - 0s 2ms/step - loss: 0.9291 - accuracy: 0.4667\n",
      "Epoch 81/100\n",
      "4/4 [==============================] - 0s 2ms/step - loss: 0.9196 - accuracy: 0.4417\n",
      "Epoch 82/100\n",
      "4/4 [==============================] - 0s 2ms/step - loss: 0.9120 - accuracy: 0.4583\n",
      "Epoch 83/100\n",
      "4/4 [==============================] - 0s 2ms/step - loss: 0.9038 - accuracy: 0.4500\n",
      "Epoch 84/100\n",
      "4/4 [==============================] - 0s 2ms/step - loss: 0.8968 - accuracy: 0.4500\n",
      "Epoch 85/100\n",
      "4/4 [==============================] - 0s 2ms/step - loss: 0.8889 - accuracy: 0.4167\n",
      "Epoch 86/100\n",
      "4/4 [==============================] - 0s 2ms/step - loss: 0.8826 - accuracy: 0.4250\n",
      "Epoch 87/100\n",
      "4/4 [==============================] - 0s 2ms/step - loss: 0.8755 - accuracy: 0.4250\n",
      "Epoch 88/100\n",
      "4/4 [==============================] - 0s 2ms/step - loss: 0.8692 - accuracy: 0.4250\n",
      "Epoch 89/100\n",
      "4/4 [==============================] - 0s 2ms/step - loss: 0.8630 - accuracy: 0.4417\n",
      "Epoch 90/100\n",
      "4/4 [==============================] - 0s 2ms/step - loss: 0.8554 - accuracy: 0.4250\n",
      "Epoch 91/100\n",
      "4/4 [==============================] - 0s 2ms/step - loss: 0.8503 - accuracy: 0.4250\n",
      "Epoch 92/100\n",
      "4/4 [==============================] - 0s 2ms/step - loss: 0.8458 - accuracy: 0.4583\n",
      "Epoch 93/100\n",
      "4/4 [==============================] - 0s 2ms/step - loss: 0.8385 - accuracy: 0.4750\n",
      "Epoch 94/100\n",
      "4/4 [==============================] - 0s 2ms/step - loss: 0.8330 - accuracy: 0.4833\n",
      "Epoch 95/100\n",
      "4/4 [==============================] - 0s 2ms/step - loss: 0.8285 - accuracy: 0.4833\n",
      "Epoch 96/100\n",
      "4/4 [==============================] - 0s 2ms/step - loss: 0.8228 - accuracy: 0.5167\n",
      "Epoch 97/100\n",
      "4/4 [==============================] - 0s 2ms/step - loss: 0.8175 - accuracy: 0.5333\n",
      "Epoch 98/100\n",
      "4/4 [==============================] - 0s 2ms/step - loss: 0.8129 - accuracy: 0.5917\n",
      "Epoch 99/100\n",
      "4/4 [==============================] - 0s 1ms/step - loss: 0.8077 - accuracy: 0.6333\n",
      "Epoch 100/100\n",
      "4/4 [==============================] - 0s 2ms/step - loss: 0.8034 - accuracy: 0.6417\n"
     ]
    }
   ],
   "source": [
    "history = model.fit(X_train, y_train, epochs=100)"
   ]
  },
  {
   "cell_type": "code",
   "execution_count": 40,
   "metadata": {},
   "outputs": [
    {
     "name": "stdout",
     "output_type": "stream",
     "text": [
      "1/1 [==============================] - 0s 163ms/step - loss: 0.8531 - accuracy: 0.5000\n"
     ]
    }
   ],
   "source": [
    "results = model.evaluate(X_test, y_test)"
   ]
  },
  {
   "cell_type": "code",
   "execution_count": 41,
   "metadata": {},
   "outputs": [
    {
     "data": {
      "text/plain": [
       "'\\n위와 같이 입력하면 에러가 발생함\\n입력이 (*, 4) 형식의 배열이어야 하는데\\nX_test[0]은 4개의 원소로 구성된 1차원 배열이라\\n신경망의 입력과 일치하지 않기 때문\\n'"
      ]
     },
     "execution_count": 41,
     "metadata": {},
     "output_type": "execute_result"
    }
   ],
   "source": [
    "# prediction = model.predict(X_test[0])\n",
    "# print(prediction)\n",
    "\"\"\"\n",
    "위와 같이 입력하면 에러가 발생함\n",
    "입력이 (*, 4) 형식의 배열이어야 하는데\n",
    "X_test[0]은 4개의 원소로 구성된 1차원 배열이라\n",
    "신경망의 입력과 일치하지 않기 때문\n",
    "\"\"\""
   ]
  },
  {
   "cell_type": "code",
   "execution_count": 42,
   "metadata": {},
   "outputs": [
    {
     "name": "stdout",
     "output_type": "stream",
     "text": [
      "[[7.7 2.8 6.7 2. ]]\n",
      "1/1 [==============================] - 0s 51ms/step\n",
      "[[0.05569696 0.48181802 0.46248496]]\n"
     ]
    }
   ],
   "source": [
    "# 오류 방지를 위하여 아래와 같이 2차원 형태로 입력\n",
    "print(X_test[:1])\n",
    "prediction = model.predict(X_test[:1])\n",
    "print(prediction)"
   ]
  },
  {
   "cell_type": "code",
   "execution_count": 43,
   "metadata": {},
   "outputs": [
    {
     "name": "stdout",
     "output_type": "stream",
     "text": [
      "1/1 [==============================] - 0s 40ms/step\n",
      "[[0.07725109 0.2672888  0.65546006]]\n"
     ]
    }
   ],
   "source": [
    "my_test = [7.2, 3.6, 6.1, 2.5]\n",
    "prediction = model.predict([my_test])\n",
    "print(prediction)"
   ]
  },
  {
   "cell_type": "code",
   "execution_count": 44,
   "metadata": {},
   "outputs": [
    {
     "name": "stdout",
     "output_type": "stream",
     "text": [
      "[[0. 0. 1.]\n",
      " [0. 0. 1.]\n",
      " [0. 1. 0.]\n",
      " [0. 1. 0.]\n",
      " [0. 1. 0.]]\n"
     ]
    }
   ],
   "source": [
    "print(y_test[:5])"
   ]
  },
  {
   "cell_type": "code",
   "execution_count": 45,
   "metadata": {},
   "outputs": [],
   "source": [
    "import numpy as np"
   ]
  },
  {
   "cell_type": "code",
   "execution_count": 46,
   "metadata": {},
   "outputs": [
    {
     "name": "stdout",
     "output_type": "stream",
     "text": [
      "1/1 [==============================] - 0s 20ms/step\n",
      "[결과 라벨] [예측 라벨]\n",
      "  2 : 1\n",
      "  2 : 2\n",
      "  1 : 2\n",
      "  1 : 2\n",
      "  1 : 1\n"
     ]
    }
   ],
   "source": [
    "prediction = model.predict(X_test[:5])\n",
    "\n",
    "print('[결과 라벨] [예측 라벨]')\n",
    "for _ in range(5):\n",
    "    print(' ', np.argmax(y_test[_]), end=' : ')\n",
    "    print(np.argmax(prediction[_]))"
   ]
  },
  {
   "cell_type": "markdown",
   "metadata": {},
   "source": [
    "### 회귀(Regression) 모델\n",
    "  * 다수 중에 선택하는 것이 아니라 특정 값을 예측하는 모델"
   ]
  },
  {
   "cell_type": "code",
   "execution_count": 47,
   "metadata": {},
   "outputs": [],
   "source": [
    "import pandas as pd"
   ]
  },
  {
   "cell_type": "code",
   "execution_count": 48,
   "metadata": {},
   "outputs": [
    {
     "data": {
      "text/html": [
       "<div>\n",
       "<style scoped>\n",
       "    .dataframe tbody tr th:only-of-type {\n",
       "        vertical-align: middle;\n",
       "    }\n",
       "\n",
       "    .dataframe tbody tr th {\n",
       "        vertical-align: top;\n",
       "    }\n",
       "\n",
       "    .dataframe thead th {\n",
       "        text-align: right;\n",
       "    }\n",
       "</style>\n",
       "<table border=\"1\" class=\"dataframe\">\n",
       "  <thead>\n",
       "    <tr style=\"text-align: right;\">\n",
       "      <th></th>\n",
       "      <th>연비</th>\n",
       "      <th>기통수</th>\n",
       "      <th>배기량</th>\n",
       "      <th>마력</th>\n",
       "      <th>중량</th>\n",
       "      <th>가속력</th>\n",
       "      <th>연식</th>\n",
       "      <th>제조국가</th>\n",
       "    </tr>\n",
       "  </thead>\n",
       "  <tbody>\n",
       "    <tr>\n",
       "      <th>0</th>\n",
       "      <td>18.0</td>\n",
       "      <td>8.0</td>\n",
       "      <td>307.0</td>\n",
       "      <td>130.0</td>\n",
       "      <td>3504.0</td>\n",
       "      <td>12.0</td>\n",
       "      <td>70.0</td>\n",
       "      <td>1.0</td>\n",
       "    </tr>\n",
       "    <tr>\n",
       "      <th>1</th>\n",
       "      <td>15.0</td>\n",
       "      <td>8.0</td>\n",
       "      <td>350.0</td>\n",
       "      <td>165.0</td>\n",
       "      <td>3693.0</td>\n",
       "      <td>11.5</td>\n",
       "      <td>70.0</td>\n",
       "      <td>1.0</td>\n",
       "    </tr>\n",
       "    <tr>\n",
       "      <th>2</th>\n",
       "      <td>18.0</td>\n",
       "      <td>8.0</td>\n",
       "      <td>318.0</td>\n",
       "      <td>150.0</td>\n",
       "      <td>3436.0</td>\n",
       "      <td>11.0</td>\n",
       "      <td>70.0</td>\n",
       "      <td>1.0</td>\n",
       "    </tr>\n",
       "    <tr>\n",
       "      <th>3</th>\n",
       "      <td>16.0</td>\n",
       "      <td>8.0</td>\n",
       "      <td>304.0</td>\n",
       "      <td>150.0</td>\n",
       "      <td>3433.0</td>\n",
       "      <td>12.0</td>\n",
       "      <td>70.0</td>\n",
       "      <td>1.0</td>\n",
       "    </tr>\n",
       "    <tr>\n",
       "      <th>4</th>\n",
       "      <td>17.0</td>\n",
       "      <td>8.0</td>\n",
       "      <td>302.0</td>\n",
       "      <td>140.0</td>\n",
       "      <td>3449.0</td>\n",
       "      <td>10.5</td>\n",
       "      <td>70.0</td>\n",
       "      <td>1.0</td>\n",
       "    </tr>\n",
       "  </tbody>\n",
       "</table>\n",
       "</div>"
      ],
      "text/plain": [
       "     연비  기통수    배기량     마력      중량   가속력    연식  제조국가\n",
       "0  18.0  8.0  307.0  130.0  3504.0  12.0  70.0   1.0\n",
       "1  15.0  8.0  350.0  165.0  3693.0  11.5  70.0   1.0\n",
       "2  18.0  8.0  318.0  150.0  3436.0  11.0  70.0   1.0\n",
       "3  16.0  8.0  304.0  150.0  3433.0  12.0  70.0   1.0\n",
       "4  17.0  8.0  302.0  140.0  3449.0  10.5  70.0   1.0"
      ]
     },
     "execution_count": 48,
     "metadata": {},
     "output_type": "execute_result"
    }
   ],
   "source": [
    "column_names = ['연비', '기통수', '배기량', '마력', '중량', '가속력', '연식', '제조국가']\n",
    "\n",
    "dataset = pd.read_csv('tutorial/16/automobile.csv', names=column_names, comment='\\t', sep=' ', skipinitialspace=True)\n",
    "dataset.head()"
   ]
  },
  {
   "cell_type": "markdown",
   "metadata": {},
   "source": [
    "| 파라미터 | 설명 |\n",
    "|---------|-----|\n",
    "| sep=' ' | 구분자 |\n",
    "| comment | 지정 문자 이후 파싱 금지 |\n",
    "| skipinitialspace | 구분자 다음의 공란을 생략하지 않으면 NaN으로 읽힘 |"
   ]
  },
  {
   "cell_type": "code",
   "execution_count": 49,
   "metadata": {},
   "outputs": [
    {
     "data": {
      "text/plain": [
       "연비      8\n",
       "기통수     0\n",
       "배기량     0\n",
       "마력      6\n",
       "중량      0\n",
       "가속력     0\n",
       "연식      0\n",
       "제조국가    0\n",
       "dtype: int64"
      ]
     },
     "execution_count": 49,
     "metadata": {},
     "output_type": "execute_result"
    }
   ],
   "source": [
    "dataset.isnull().sum()"
   ]
  },
  {
   "cell_type": "code",
   "execution_count": 50,
   "metadata": {},
   "outputs": [],
   "source": [
    "# NaN 데이터 제거\n",
    "dataset = dataset.dropna()"
   ]
  },
  {
   "cell_type": "code",
   "execution_count": 51,
   "metadata": {},
   "outputs": [
    {
     "data": {
      "text/html": [
       "<div>\n",
       "<style scoped>\n",
       "    .dataframe tbody tr th:only-of-type {\n",
       "        vertical-align: middle;\n",
       "    }\n",
       "\n",
       "    .dataframe tbody tr th {\n",
       "        vertical-align: top;\n",
       "    }\n",
       "\n",
       "    .dataframe thead th {\n",
       "        text-align: right;\n",
       "    }\n",
       "</style>\n",
       "<table border=\"1\" class=\"dataframe\">\n",
       "  <thead>\n",
       "    <tr style=\"text-align: right;\">\n",
       "      <th></th>\n",
       "      <th>연비</th>\n",
       "      <th>기통수</th>\n",
       "      <th>배기량</th>\n",
       "      <th>마력</th>\n",
       "      <th>중량</th>\n",
       "      <th>가속력</th>\n",
       "      <th>연식</th>\n",
       "      <th>제조국가</th>\n",
       "    </tr>\n",
       "  </thead>\n",
       "  <tbody>\n",
       "    <tr>\n",
       "      <th>23</th>\n",
       "      <td>21.0</td>\n",
       "      <td>6.0</td>\n",
       "      <td>200.0</td>\n",
       "      <td>85.0</td>\n",
       "      <td>2587.0</td>\n",
       "      <td>16.0</td>\n",
       "      <td>70.0</td>\n",
       "      <td>미국</td>\n",
       "    </tr>\n",
       "    <tr>\n",
       "      <th>24</th>\n",
       "      <td>27.0</td>\n",
       "      <td>4.0</td>\n",
       "      <td>97.0</td>\n",
       "      <td>88.0</td>\n",
       "      <td>2130.0</td>\n",
       "      <td>14.5</td>\n",
       "      <td>70.0</td>\n",
       "      <td>일본</td>\n",
       "    </tr>\n",
       "    <tr>\n",
       "      <th>25</th>\n",
       "      <td>26.0</td>\n",
       "      <td>4.0</td>\n",
       "      <td>97.0</td>\n",
       "      <td>46.0</td>\n",
       "      <td>1835.0</td>\n",
       "      <td>20.5</td>\n",
       "      <td>70.0</td>\n",
       "      <td>유럽</td>\n",
       "    </tr>\n",
       "  </tbody>\n",
       "</table>\n",
       "</div>"
      ],
      "text/plain": [
       "      연비  기통수    배기량    마력      중량   가속력    연식 제조국가\n",
       "23  21.0  6.0  200.0  85.0  2587.0  16.0  70.0   미국\n",
       "24  27.0  4.0   97.0  88.0  2130.0  14.5  70.0   일본\n",
       "25  26.0  4.0   97.0  46.0  1835.0  20.5  70.0   유럽"
      ]
     },
     "execution_count": 51,
     "metadata": {},
     "output_type": "execute_result"
    }
   ],
   "source": [
    "code = [1, 2, 3]\n",
    "nations = ['미국', '유럽', '일본']\n",
    "\n",
    "dataset['제조국가'].replace(code, nations, inplace=True)\n",
    "dataset.iloc[17:20]"
   ]
  },
  {
   "cell_type": "code",
   "execution_count": 52,
   "metadata": {},
   "outputs": [
    {
     "data": {
      "text/html": [
       "<div>\n",
       "<style scoped>\n",
       "    .dataframe tbody tr th:only-of-type {\n",
       "        vertical-align: middle;\n",
       "    }\n",
       "\n",
       "    .dataframe tbody tr th {\n",
       "        vertical-align: top;\n",
       "    }\n",
       "\n",
       "    .dataframe thead th {\n",
       "        text-align: right;\n",
       "    }\n",
       "</style>\n",
       "<table border=\"1\" class=\"dataframe\">\n",
       "  <thead>\n",
       "    <tr style=\"text-align: right;\">\n",
       "      <th></th>\n",
       "      <th>연비</th>\n",
       "      <th>기통수</th>\n",
       "      <th>배기량</th>\n",
       "      <th>마력</th>\n",
       "      <th>중량</th>\n",
       "      <th>가속력</th>\n",
       "      <th>연식</th>\n",
       "      <th>제조국가</th>\n",
       "      <th>미국</th>\n",
       "      <th>유럽</th>\n",
       "      <th>일본</th>\n",
       "    </tr>\n",
       "  </thead>\n",
       "  <tbody>\n",
       "    <tr>\n",
       "      <th>23</th>\n",
       "      <td>21.0</td>\n",
       "      <td>6.0</td>\n",
       "      <td>200.0</td>\n",
       "      <td>85.0</td>\n",
       "      <td>2587.0</td>\n",
       "      <td>16.0</td>\n",
       "      <td>70.0</td>\n",
       "      <td>미국</td>\n",
       "      <td>1.0</td>\n",
       "      <td>0.0</td>\n",
       "      <td>0.0</td>\n",
       "    </tr>\n",
       "    <tr>\n",
       "      <th>24</th>\n",
       "      <td>27.0</td>\n",
       "      <td>4.0</td>\n",
       "      <td>97.0</td>\n",
       "      <td>88.0</td>\n",
       "      <td>2130.0</td>\n",
       "      <td>14.5</td>\n",
       "      <td>70.0</td>\n",
       "      <td>일본</td>\n",
       "      <td>0.0</td>\n",
       "      <td>0.0</td>\n",
       "      <td>1.0</td>\n",
       "    </tr>\n",
       "    <tr>\n",
       "      <th>25</th>\n",
       "      <td>26.0</td>\n",
       "      <td>4.0</td>\n",
       "      <td>97.0</td>\n",
       "      <td>46.0</td>\n",
       "      <td>1835.0</td>\n",
       "      <td>20.5</td>\n",
       "      <td>70.0</td>\n",
       "      <td>유럽</td>\n",
       "      <td>0.0</td>\n",
       "      <td>1.0</td>\n",
       "      <td>0.0</td>\n",
       "    </tr>\n",
       "  </tbody>\n",
       "</table>\n",
       "</div>"
      ],
      "text/plain": [
       "      연비  기통수    배기량    마력      중량   가속력    연식 제조국가   미국   유럽   일본\n",
       "23  21.0  6.0  200.0  85.0  2587.0  16.0  70.0   미국  1.0  0.0  0.0\n",
       "24  27.0  4.0   97.0  88.0  2130.0  14.5  70.0   일본  0.0  0.0  1.0\n",
       "25  26.0  4.0   97.0  46.0  1835.0  20.5  70.0   유럽  0.0  1.0  0.0"
      ]
     },
     "execution_count": 52,
     "metadata": {},
     "output_type": "execute_result"
    }
   ],
   "source": [
    "dataset = pd.concat([dataset, pd.get_dummies(dataset['제조국가'], dtype=float)], axis=1, sort=False)\n",
    "dataset.iloc[17:20]"
   ]
  },
  {
   "cell_type": "code",
   "execution_count": 53,
   "metadata": {},
   "outputs": [
    {
     "data": {
      "text/html": [
       "<div>\n",
       "<style scoped>\n",
       "    .dataframe tbody tr th:only-of-type {\n",
       "        vertical-align: middle;\n",
       "    }\n",
       "\n",
       "    .dataframe tbody tr th {\n",
       "        vertical-align: top;\n",
       "    }\n",
       "\n",
       "    .dataframe thead th {\n",
       "        text-align: right;\n",
       "    }\n",
       "</style>\n",
       "<table border=\"1\" class=\"dataframe\">\n",
       "  <thead>\n",
       "    <tr style=\"text-align: right;\">\n",
       "      <th></th>\n",
       "      <th>연비</th>\n",
       "      <th>기통수</th>\n",
       "      <th>배기량</th>\n",
       "      <th>마력</th>\n",
       "      <th>중량</th>\n",
       "      <th>가속력</th>\n",
       "      <th>연식</th>\n",
       "      <th>미국</th>\n",
       "      <th>유럽</th>\n",
       "      <th>일본</th>\n",
       "    </tr>\n",
       "  </thead>\n",
       "  <tbody>\n",
       "    <tr>\n",
       "      <th>0</th>\n",
       "      <td>18.0</td>\n",
       "      <td>8.0</td>\n",
       "      <td>307.0</td>\n",
       "      <td>130.0</td>\n",
       "      <td>3504.0</td>\n",
       "      <td>12.0</td>\n",
       "      <td>70.0</td>\n",
       "      <td>1.0</td>\n",
       "      <td>0.0</td>\n",
       "      <td>0.0</td>\n",
       "    </tr>\n",
       "    <tr>\n",
       "      <th>1</th>\n",
       "      <td>15.0</td>\n",
       "      <td>8.0</td>\n",
       "      <td>350.0</td>\n",
       "      <td>165.0</td>\n",
       "      <td>3693.0</td>\n",
       "      <td>11.5</td>\n",
       "      <td>70.0</td>\n",
       "      <td>1.0</td>\n",
       "      <td>0.0</td>\n",
       "      <td>0.0</td>\n",
       "    </tr>\n",
       "    <tr>\n",
       "      <th>2</th>\n",
       "      <td>18.0</td>\n",
       "      <td>8.0</td>\n",
       "      <td>318.0</td>\n",
       "      <td>150.0</td>\n",
       "      <td>3436.0</td>\n",
       "      <td>11.0</td>\n",
       "      <td>70.0</td>\n",
       "      <td>1.0</td>\n",
       "      <td>0.0</td>\n",
       "      <td>0.0</td>\n",
       "    </tr>\n",
       "  </tbody>\n",
       "</table>\n",
       "</div>"
      ],
      "text/plain": [
       "     연비  기통수    배기량     마력      중량   가속력    연식   미국   유럽   일본\n",
       "0  18.0  8.0  307.0  130.0  3504.0  12.0  70.0  1.0  0.0  0.0\n",
       "1  15.0  8.0  350.0  165.0  3693.0  11.5  70.0  1.0  0.0  0.0\n",
       "2  18.0  8.0  318.0  150.0  3436.0  11.0  70.0  1.0  0.0  0.0"
      ]
     },
     "execution_count": 53,
     "metadata": {},
     "output_type": "execute_result"
    }
   ],
   "source": [
    "dataset.pop('제조국가')\n",
    "dataset.head(3)"
   ]
  },
  {
   "cell_type": "code",
   "execution_count": 54,
   "metadata": {},
   "outputs": [
    {
     "data": {
      "text/plain": [
       "392"
      ]
     },
     "execution_count": 54,
     "metadata": {},
     "output_type": "execute_result"
    }
   ],
   "source": [
    "len(dataset.index)"
   ]
  },
  {
   "cell_type": "code",
   "execution_count": 55,
   "metadata": {},
   "outputs": [
    {
     "data": {
      "text/plain": [
       "350"
      ]
     },
     "execution_count": 55,
     "metadata": {},
     "output_type": "execute_result"
    }
   ],
   "source": [
    "train_data = dataset.sample(350)\n",
    "len(train_data.index)"
   ]
  },
  {
   "cell_type": "code",
   "execution_count": 56,
   "metadata": {},
   "outputs": [
    {
     "data": {
      "text/plain": [
       "42"
      ]
     },
     "execution_count": 56,
     "metadata": {},
     "output_type": "execute_result"
    }
   ],
   "source": [
    "test_data = dataset.drop(train_data.index)\n",
    "len(test_data.index)"
   ]
  },
  {
   "cell_type": "code",
   "execution_count": 57,
   "metadata": {},
   "outputs": [
    {
     "data": {
      "text/plain": [
       "3     16.0\n",
       "19    14.0\n",
       "23    21.0\n",
       "Name: 연비, dtype: float64"
      ]
     },
     "execution_count": 57,
     "metadata": {},
     "output_type": "execute_result"
    }
   ],
   "source": [
    "y_train = train_data['연비']\n",
    "y_test = test_data['연비']\n",
    "y_test.head(3)"
   ]
  },
  {
   "cell_type": "code",
   "execution_count": 58,
   "metadata": {},
   "outputs": [
    {
     "data": {
      "text/html": [
       "<div>\n",
       "<style scoped>\n",
       "    .dataframe tbody tr th:only-of-type {\n",
       "        vertical-align: middle;\n",
       "    }\n",
       "\n",
       "    .dataframe tbody tr th {\n",
       "        vertical-align: top;\n",
       "    }\n",
       "\n",
       "    .dataframe thead th {\n",
       "        text-align: right;\n",
       "    }\n",
       "</style>\n",
       "<table border=\"1\" class=\"dataframe\">\n",
       "  <thead>\n",
       "    <tr style=\"text-align: right;\">\n",
       "      <th></th>\n",
       "      <th>기통수</th>\n",
       "      <th>배기량</th>\n",
       "      <th>마력</th>\n",
       "      <th>중량</th>\n",
       "      <th>가속력</th>\n",
       "      <th>연식</th>\n",
       "      <th>미국</th>\n",
       "      <th>유럽</th>\n",
       "      <th>일본</th>\n",
       "    </tr>\n",
       "  </thead>\n",
       "  <tbody>\n",
       "    <tr>\n",
       "      <th>166</th>\n",
       "      <td>8.0</td>\n",
       "      <td>351.0</td>\n",
       "      <td>148.0</td>\n",
       "      <td>4657.0</td>\n",
       "      <td>13.5</td>\n",
       "      <td>75.0</td>\n",
       "      <td>1.0</td>\n",
       "      <td>0.0</td>\n",
       "      <td>0.0</td>\n",
       "    </tr>\n",
       "    <tr>\n",
       "      <th>179</th>\n",
       "      <td>4.0</td>\n",
       "      <td>90.0</td>\n",
       "      <td>71.0</td>\n",
       "      <td>2223.0</td>\n",
       "      <td>16.5</td>\n",
       "      <td>75.0</td>\n",
       "      <td>0.0</td>\n",
       "      <td>1.0</td>\n",
       "      <td>0.0</td>\n",
       "    </tr>\n",
       "    <tr>\n",
       "      <th>267</th>\n",
       "      <td>6.0</td>\n",
       "      <td>225.0</td>\n",
       "      <td>110.0</td>\n",
       "      <td>3620.0</td>\n",
       "      <td>18.7</td>\n",
       "      <td>78.0</td>\n",
       "      <td>1.0</td>\n",
       "      <td>0.0</td>\n",
       "      <td>0.0</td>\n",
       "    </tr>\n",
       "  </tbody>\n",
       "</table>\n",
       "</div>"
      ],
      "text/plain": [
       "     기통수    배기량     마력      중량   가속력    연식   미국   유럽   일본\n",
       "166  8.0  351.0  148.0  4657.0  13.5  75.0  1.0  0.0  0.0\n",
       "179  4.0   90.0   71.0  2223.0  16.5  75.0  0.0  1.0  0.0\n",
       "267  6.0  225.0  110.0  3620.0  18.7  78.0  1.0  0.0  0.0"
      ]
     },
     "execution_count": 58,
     "metadata": {},
     "output_type": "execute_result"
    }
   ],
   "source": [
    "train_data.pop('연비')\n",
    "test_data.pop('연비')\n",
    "train_data[:3]"
   ]
  },
  {
   "cell_type": "code",
   "execution_count": 59,
   "metadata": {},
   "outputs": [],
   "source": [
    "from keras import models\n",
    "from keras import layers"
   ]
  },
  {
   "cell_type": "code",
   "execution_count": 60,
   "metadata": {},
   "outputs": [
    {
     "name": "stdout",
     "output_type": "stream",
     "text": [
      "9\n"
     ]
    }
   ],
   "source": [
    "print(len(train_data.keys()))"
   ]
  },
  {
   "cell_type": "markdown",
   "metadata": {},
   "source": [
    "* 파라미터 수 계산\n",
    "  * 입력 계층: (9 + 1) * 32 = 320\n",
    "  * 은닉 계층: (32 + 1) * 64 = 2112\n",
    "  * 출력 계층: (64 + 1) * 1 = 65\n",
    "  * 총 2497 개"
   ]
  },
  {
   "cell_type": "code",
   "execution_count": 61,
   "metadata": {},
   "outputs": [],
   "source": [
    "model = models.Sequential([\n",
    "    layers.Dense(32, activation='relu', input_dim=len(train_data.keys())),\n",
    "    layers.Dense(64, activation='relu'),\n",
    "    layers.Dense(1)\n",
    "])\n",
    "# \"relu\" 방식은 음수 값은 0을 반환하고 양수 값은 그 값을 그대로 반환하는 방식"
   ]
  },
  {
   "cell_type": "code",
   "execution_count": 62,
   "metadata": {},
   "outputs": [
    {
     "name": "stdout",
     "output_type": "stream",
     "text": [
      "Model: \"sequential_5\"\n",
      "_________________________________________________________________\n",
      " Layer (type)                Output Shape              Param #   \n",
      "=================================================================\n",
      " dense_8 (Dense)             (None, 32)                320       \n",
      "                                                                 \n",
      " dense_9 (Dense)             (None, 64)                2112      \n",
      "                                                                 \n",
      " dense_10 (Dense)            (None, 1)                 65        \n",
      "                                                                 \n",
      "=================================================================\n",
      "Total params: 2,497\n",
      "Trainable params: 2,497\n",
      "Non-trainable params: 0\n",
      "_________________________________________________________________\n"
     ]
    }
   ],
   "source": [
    "model.summary()"
   ]
  },
  {
   "cell_type": "code",
   "execution_count": 63,
   "metadata": {},
   "outputs": [],
   "source": [
    "model.compile(optimizer='rmsprop', loss='mse', metrics=['mae'])"
   ]
  },
  {
   "cell_type": "markdown",
   "metadata": {},
   "source": [
    "* 여기서는 \"metrics\"를 \"accuracy\"가 아닌 \"mae(Mean Absolute Error)\"로 설정하여 평균 에러값을 구하도록 함\n",
    "* 이후에 훈련된 신경망에서 예측한 값의 오차를 \"mae\" 값을 통해 가늠할 수 있음"
   ]
  },
  {
   "cell_type": "code",
   "execution_count": 64,
   "metadata": {},
   "outputs": [
    {
     "name": "stdout",
     "output_type": "stream",
     "text": [
      "Epoch 1/200\n",
      "9/9 [==============================] - 1s 25ms/step - loss: 13492.2617 - mae: 57.8911 - val_loss: 112.7563 - val_mae: 9.1035\n",
      "Epoch 2/200\n",
      "9/9 [==============================] - 0s 5ms/step - loss: 129.6071 - mae: 9.3715 - val_loss: 111.7821 - val_mae: 8.4378\n",
      "Epoch 3/200\n",
      "9/9 [==============================] - 0s 5ms/step - loss: 185.2857 - mae: 11.0511 - val_loss: 548.3520 - val_mae: 22.6627\n",
      "Epoch 4/200\n",
      "9/9 [==============================] - 0s 5ms/step - loss: 1753.3804 - mae: 38.5318 - val_loss: 276.8681 - val_mae: 13.4995\n",
      "Epoch 5/200\n",
      "9/9 [==============================] - 0s 5ms/step - loss: 883.5093 - mae: 24.8478 - val_loss: 2685.3899 - val_mae: 50.6469\n",
      "Epoch 6/200\n",
      "9/9 [==============================] - 0s 5ms/step - loss: 1118.6188 - mae: 30.7507 - val_loss: 1223.5872 - val_mae: 31.8582\n",
      "Epoch 7/200\n",
      "9/9 [==============================] - 0s 5ms/step - loss: 1323.4630 - mae: 32.2313 - val_loss: 117.7360 - val_mae: 9.6989\n",
      "Epoch 8/200\n",
      "9/9 [==============================] - 0s 5ms/step - loss: 890.5021 - mae: 25.1684 - val_loss: 2349.4436 - val_mae: 45.0863\n",
      "Epoch 9/200\n",
      "9/9 [==============================] - 0s 5ms/step - loss: 1216.3751 - mae: 31.4279 - val_loss: 1441.0488 - val_mae: 37.0997\n",
      "Epoch 10/200\n",
      "9/9 [==============================] - 0s 5ms/step - loss: 1312.1455 - mae: 32.5299 - val_loss: 357.6763 - val_mae: 16.1246\n",
      "Epoch 11/200\n",
      "9/9 [==============================] - 0s 5ms/step - loss: 1191.7900 - mae: 30.1675 - val_loss: 261.7186 - val_mae: 15.4052\n",
      "Epoch 12/200\n",
      "9/9 [==============================] - 0s 5ms/step - loss: 1286.4120 - mae: 31.5738 - val_loss: 2069.6455 - val_mae: 42.4184\n",
      "Epoch 13/200\n",
      "9/9 [==============================] - 0s 5ms/step - loss: 663.9754 - mae: 20.5635 - val_loss: 619.1084 - val_mae: 24.1958\n",
      "Epoch 14/200\n",
      "9/9 [==============================] - 0s 5ms/step - loss: 1395.9791 - mae: 34.8013 - val_loss: 623.1917 - val_mae: 22.4950\n",
      "Epoch 15/200\n",
      "9/9 [==============================] - 0s 5ms/step - loss: 979.7954 - mae: 28.7090 - val_loss: 1768.1245 - val_mae: 40.9741\n",
      "Epoch 16/200\n",
      "9/9 [==============================] - 0s 4ms/step - loss: 1087.5320 - mae: 29.7410 - val_loss: 1615.6117 - val_mae: 37.4567\n",
      "Epoch 17/200\n",
      "9/9 [==============================] - 0s 5ms/step - loss: 858.6442 - mae: 27.0083 - val_loss: 712.1688 - val_mae: 25.9535\n",
      "Epoch 18/200\n",
      "9/9 [==============================] - 0s 5ms/step - loss: 1276.7328 - mae: 33.0010 - val_loss: 2611.4519 - val_mae: 48.0760\n",
      "Epoch 19/200\n",
      "9/9 [==============================] - 0s 5ms/step - loss: 786.1492 - mae: 23.4313 - val_loss: 234.7717 - val_mae: 14.5777\n",
      "Epoch 20/200\n",
      "9/9 [==============================] - 0s 5ms/step - loss: 1373.9309 - mae: 33.4320 - val_loss: 1366.7794 - val_mae: 34.4550\n",
      "Epoch 21/200\n",
      "9/9 [==============================] - 0s 5ms/step - loss: 615.0472 - mae: 21.8601 - val_loss: 484.2534 - val_mae: 21.2875\n",
      "Epoch 22/200\n",
      "9/9 [==============================] - 0s 5ms/step - loss: 1366.7017 - mae: 34.0378 - val_loss: 657.5974 - val_mae: 23.5427\n",
      "Epoch 23/200\n",
      "9/9 [==============================] - 0s 5ms/step - loss: 643.8414 - mae: 23.2072 - val_loss: 1662.3193 - val_mae: 39.5654\n",
      "Epoch 24/200\n",
      "9/9 [==============================] - 0s 6ms/step - loss: 1222.6631 - mae: 27.7589 - val_loss: 56.3552 - val_mae: 5.9012\n",
      "Epoch 25/200\n",
      "9/9 [==============================] - 0s 5ms/step - loss: 691.7785 - mae: 22.3728 - val_loss: 2889.0752 - val_mae: 52.1082\n",
      "Epoch 26/200\n",
      "9/9 [==============================] - 0s 5ms/step - loss: 1130.7936 - mae: 27.1542 - val_loss: 40.4031 - val_mae: 4.8982\n",
      "Epoch 27/200\n",
      "9/9 [==============================] - 0s 5ms/step - loss: 674.5272 - mae: 15.8435 - val_loss: 3540.9778 - val_mae: 57.6269\n",
      "Epoch 28/200\n",
      "9/9 [==============================] - 0s 5ms/step - loss: 850.5611 - mae: 22.7227 - val_loss: 149.0299 - val_mae: 10.4694\n",
      "Epoch 29/200\n",
      "9/9 [==============================] - 0s 5ms/step - loss: 1170.8301 - mae: 28.1083 - val_loss: 48.7079 - val_mae: 5.9739\n",
      "Epoch 30/200\n",
      "9/9 [==============================] - 0s 5ms/step - loss: 652.3394 - mae: 19.5688 - val_loss: 2572.3650 - val_mae: 48.1349\n",
      "Epoch 31/200\n",
      "9/9 [==============================] - 0s 5ms/step - loss: 895.4311 - mae: 23.9057 - val_loss: 56.5942 - val_mae: 6.4821\n",
      "Epoch 32/200\n",
      "9/9 [==============================] - 0s 5ms/step - loss: 952.1118 - mae: 22.6538 - val_loss: 1214.3557 - val_mae: 32.7536\n",
      "Epoch 33/200\n",
      "9/9 [==============================] - 0s 6ms/step - loss: 730.0349 - mae: 23.0416 - val_loss: 1429.8510 - val_mae: 36.6264\n",
      "Epoch 34/200\n",
      "9/9 [==============================] - 0s 5ms/step - loss: 780.8020 - mae: 25.3640 - val_loss: 380.3184 - val_mae: 17.7411\n",
      "Epoch 35/200\n",
      "9/9 [==============================] - 0s 5ms/step - loss: 1332.5020 - mae: 32.0449 - val_loss: 523.2737 - val_mae: 22.0870\n",
      "Epoch 36/200\n",
      "9/9 [==============================] - 0s 5ms/step - loss: 177.0669 - mae: 11.1780 - val_loss: 556.0607 - val_mae: 21.7140\n",
      "Epoch 37/200\n",
      "9/9 [==============================] - 0s 5ms/step - loss: 1070.4124 - mae: 30.4823 - val_loss: 1288.3118 - val_mae: 34.7803\n",
      "Epoch 38/200\n",
      "9/9 [==============================] - 0s 5ms/step - loss: 732.9644 - mae: 25.3057 - val_loss: 1039.2451 - val_mae: 30.1472\n",
      "Epoch 39/200\n",
      "9/9 [==============================] - 0s 5ms/step - loss: 935.5294 - mae: 28.4508 - val_loss: 844.4847 - val_mae: 28.1557\n",
      "Epoch 40/200\n",
      "9/9 [==============================] - 0s 5ms/step - loss: 533.7650 - mae: 20.7892 - val_loss: 982.0126 - val_mae: 29.2489\n",
      "Epoch 41/200\n",
      "9/9 [==============================] - 0s 6ms/step - loss: 1035.6244 - mae: 29.8853 - val_loss: 151.2722 - val_mae: 11.4954\n",
      "Epoch 42/200\n",
      "9/9 [==============================] - 0s 5ms/step - loss: 901.0112 - mae: 26.4421 - val_loss: 219.0531 - val_mae: 12.9930\n",
      "Epoch 43/200\n",
      "9/9 [==============================] - 0s 6ms/step - loss: 587.0376 - mae: 20.7999 - val_loss: 2109.8315 - val_mae: 44.5439\n",
      "Epoch 44/200\n",
      "9/9 [==============================] - 0s 6ms/step - loss: 594.6032 - mae: 20.9230 - val_loss: 360.6827 - val_mae: 17.1663\n",
      "Epoch 45/200\n",
      "9/9 [==============================] - 0s 5ms/step - loss: 1085.1844 - mae: 30.7322 - val_loss: 568.6038 - val_mae: 23.0655\n",
      "Epoch 46/200\n",
      "9/9 [==============================] - 0s 5ms/step - loss: 608.6355 - mae: 22.5608 - val_loss: 1986.8125 - val_mae: 42.1400\n",
      "Epoch 47/200\n",
      "9/9 [==============================] - 0s 5ms/step - loss: 784.6339 - mae: 24.8983 - val_loss: 262.3560 - val_mae: 15.4920\n",
      "Epoch 48/200\n",
      "9/9 [==============================] - 0s 6ms/step - loss: 779.5447 - mae: 24.8888 - val_loss: 1837.5500 - val_mae: 40.4724\n",
      "Epoch 49/200\n",
      "9/9 [==============================] - 0s 6ms/step - loss: 588.6924 - mae: 21.0241 - val_loss: 324.7383 - val_mae: 17.3136\n",
      "Epoch 50/200\n",
      "9/9 [==============================] - 0s 5ms/step - loss: 1045.8190 - mae: 27.9371 - val_loss: 90.0436 - val_mae: 7.9187\n",
      "Epoch 51/200\n",
      "9/9 [==============================] - 0s 5ms/step - loss: 33.4323 - mae: 4.3856 - val_loss: 21.1526 - val_mae: 3.6945\n",
      "Epoch 52/200\n",
      "9/9 [==============================] - 0s 5ms/step - loss: 1417.0499 - mae: 29.3989 - val_loss: 73.3584 - val_mae: 7.0623\n",
      "Epoch 53/200\n",
      "9/9 [==============================] - 0s 5ms/step - loss: 35.7634 - mae: 4.6160 - val_loss: 21.7169 - val_mae: 3.7473\n",
      "Epoch 54/200\n",
      "9/9 [==============================] - 0s 8ms/step - loss: 1327.3071 - mae: 27.9375 - val_loss: 1013.8406 - val_mae: 29.8232\n",
      "Epoch 55/200\n",
      "9/9 [==============================] - 0s 5ms/step - loss: 249.8109 - mae: 12.1204 - val_loss: 126.4012 - val_mae: 10.4445\n",
      "Epoch 56/200\n",
      "9/9 [==============================] - 0s 6ms/step - loss: 998.8735 - mae: 26.7814 - val_loss: 250.0251 - val_mae: 14.0980\n",
      "Epoch 57/200\n",
      "9/9 [==============================] - 0s 6ms/step - loss: 277.0706 - mae: 15.1610 - val_loss: 1054.4894 - val_mae: 31.4968\n",
      "Epoch 58/200\n",
      "9/9 [==============================] - 0s 5ms/step - loss: 1005.5424 - mae: 26.3394 - val_loss: 62.0111 - val_mae: 6.4332\n",
      "Epoch 59/200\n",
      "9/9 [==============================] - 0s 6ms/step - loss: 725.8367 - mae: 21.8047 - val_loss: 1933.6934 - val_mae: 42.6380\n",
      "Epoch 60/200\n",
      "9/9 [==============================] - 0s 6ms/step - loss: 515.3099 - mae: 19.6528 - val_loss: 638.4631 - val_mae: 23.4956\n",
      "Epoch 61/200\n",
      "9/9 [==============================] - 0s 5ms/step - loss: 875.4989 - mae: 25.2998 - val_loss: 50.5275 - val_mae: 6.2158\n",
      "Epoch 62/200\n",
      "9/9 [==============================] - 0s 6ms/step - loss: 331.2739 - mae: 11.5225 - val_loss: 2716.8867 - val_mae: 49.6156\n",
      "Epoch 63/200\n",
      "9/9 [==============================] - 0s 5ms/step - loss: 856.0052 - mae: 20.3247 - val_loss: 33.1878 - val_mae: 4.9900\n",
      "Epoch 64/200\n",
      "9/9 [==============================] - 0s 5ms/step - loss: 796.7667 - mae: 20.8771 - val_loss: 1291.4236 - val_mae: 34.0030\n",
      "Epoch 65/200\n",
      "9/9 [==============================] - 0s 5ms/step - loss: 444.8167 - mae: 19.3186 - val_loss: 359.3474 - val_mae: 18.2032\n",
      "Epoch 66/200\n",
      "9/9 [==============================] - 0s 5ms/step - loss: 837.4703 - mae: 27.0037 - val_loss: 318.0731 - val_mae: 16.1848\n",
      "Epoch 67/200\n",
      "9/9 [==============================] - 0s 6ms/step - loss: 532.9745 - mae: 19.3990 - val_loss: 3192.7676 - val_mae: 54.7461\n",
      "Epoch 68/200\n",
      "9/9 [==============================] - 0s 5ms/step - loss: 618.2214 - mae: 19.3148 - val_loss: 117.3795 - val_mae: 9.3406\n",
      "Epoch 69/200\n",
      "9/9 [==============================] - 0s 5ms/step - loss: 720.9578 - mae: 24.2897 - val_loss: 1600.7675 - val_mae: 38.7524\n",
      "Epoch 70/200\n",
      "9/9 [==============================] - 0s 5ms/step - loss: 584.0775 - mae: 21.3915 - val_loss: 495.7226 - val_mae: 20.6216\n",
      "Epoch 71/200\n",
      "9/9 [==============================] - 0s 6ms/step - loss: 1047.9424 - mae: 28.9487 - val_loss: 369.5301 - val_mae: 18.5788\n",
      "Epoch 72/200\n",
      "9/9 [==============================] - 0s 5ms/step - loss: 159.6351 - mae: 10.6465 - val_loss: 125.0018 - val_mae: 9.6232\n",
      "Epoch 73/200\n",
      "9/9 [==============================] - 0s 5ms/step - loss: 953.8990 - mae: 26.4705 - val_loss: 184.0387 - val_mae: 12.9408\n",
      "Epoch 74/200\n",
      "9/9 [==============================] - 0s 5ms/step - loss: 394.7572 - mae: 17.7648 - val_loss: 1768.0812 - val_mae: 39.7656\n",
      "Epoch 75/200\n",
      "9/9 [==============================] - 0s 6ms/step - loss: 706.5394 - mae: 20.5673 - val_loss: 35.7801 - val_mae: 5.1465\n",
      "Epoch 76/200\n",
      "9/9 [==============================] - 0s 5ms/step - loss: 967.0303 - mae: 24.4884 - val_loss: 405.7017 - val_mae: 18.4652\n",
      "Epoch 77/200\n",
      "9/9 [==============================] - 0s 5ms/step - loss: 165.7457 - mae: 11.4186 - val_loss: 323.7012 - val_mae: 17.3178\n",
      "Epoch 78/200\n",
      "9/9 [==============================] - 0s 5ms/step - loss: 836.6025 - mae: 25.7024 - val_loss: 446.3093 - val_mae: 19.4331\n",
      "Epoch 79/200\n",
      "9/9 [==============================] - 0s 5ms/step - loss: 781.3051 - mae: 25.5906 - val_loss: 30.3517 - val_mae: 4.6851\n",
      "Epoch 80/200\n",
      "9/9 [==============================] - 0s 5ms/step - loss: 210.9308 - mae: 12.1516 - val_loss: 2150.1519 - val_mae: 43.9358\n",
      "Epoch 81/200\n",
      "9/9 [==============================] - 0s 4ms/step - loss: 765.9072 - mae: 18.6077 - val_loss: 26.1707 - val_mae: 4.3258\n",
      "Epoch 82/200\n",
      "9/9 [==============================] - 0s 4ms/step - loss: 832.3765 - mae: 21.9726 - val_loss: 1218.6515 - val_mae: 32.8325\n",
      "Epoch 83/200\n",
      "9/9 [==============================] - 0s 5ms/step - loss: 264.2346 - mae: 13.4063 - val_loss: 379.8003 - val_mae: 18.8697\n",
      "Epoch 84/200\n",
      "9/9 [==============================] - 0s 5ms/step - loss: 901.7059 - mae: 28.0813 - val_loss: 309.9113 - val_mae: 15.8832\n",
      "Epoch 85/200\n",
      "9/9 [==============================] - 0s 5ms/step - loss: 340.6110 - mae: 16.4425 - val_loss: 60.3416 - val_mae: 6.8881\n",
      "Epoch 86/200\n",
      "9/9 [==============================] - 0s 4ms/step - loss: 867.4706 - mae: 23.8335 - val_loss: 259.4019 - val_mae: 14.5143\n",
      "Epoch 87/200\n",
      "9/9 [==============================] - 0s 5ms/step - loss: 352.7165 - mae: 17.1428 - val_loss: 980.9662 - val_mae: 30.4040\n",
      "Epoch 88/200\n",
      "9/9 [==============================] - 0s 5ms/step - loss: 801.9937 - mae: 27.0454 - val_loss: 691.4030 - val_mae: 24.5310\n",
      "Epoch 89/200\n",
      "9/9 [==============================] - 0s 5ms/step - loss: 398.2149 - mae: 17.8468 - val_loss: 539.5273 - val_mae: 22.4627\n",
      "Epoch 90/200\n",
      "9/9 [==============================] - 0s 5ms/step - loss: 725.8802 - mae: 25.5522 - val_loss: 1314.0239 - val_mae: 34.3017\n",
      "Epoch 91/200\n",
      "9/9 [==============================] - 0s 5ms/step - loss: 443.3583 - mae: 18.0532 - val_loss: 755.1699 - val_mae: 26.5822\n",
      "Epoch 92/200\n",
      "9/9 [==============================] - 0s 5ms/step - loss: 744.5154 - mae: 24.4911 - val_loss: 154.3168 - val_mae: 11.1094\n",
      "Epoch 93/200\n",
      "9/9 [==============================] - 0s 5ms/step - loss: 681.0005 - mae: 22.6279 - val_loss: 201.1013 - val_mae: 13.5124\n",
      "Epoch 94/200\n",
      "9/9 [==============================] - 0s 5ms/step - loss: 197.6483 - mae: 12.4931 - val_loss: 716.2845 - val_mae: 25.1734\n",
      "Epoch 95/200\n",
      "9/9 [==============================] - 0s 5ms/step - loss: 888.3246 - mae: 27.1809 - val_loss: 278.5491 - val_mae: 15.9964\n",
      "Epoch 96/200\n",
      "9/9 [==============================] - 0s 6ms/step - loss: 434.6447 - mae: 18.9247 - val_loss: 1145.4214 - val_mae: 32.0229\n",
      "Epoch 97/200\n",
      "9/9 [==============================] - 0s 5ms/step - loss: 482.6190 - mae: 19.8481 - val_loss: 1480.7478 - val_mae: 37.2759\n",
      "Epoch 98/200\n",
      "9/9 [==============================] - 0s 5ms/step - loss: 597.3952 - mae: 21.1375 - val_loss: 307.6225 - val_mae: 16.1117\n",
      "Epoch 99/200\n",
      "9/9 [==============================] - 0s 6ms/step - loss: 561.4211 - mae: 21.9851 - val_loss: 578.6044 - val_mae: 23.2812\n",
      "Epoch 100/200\n",
      "9/9 [==============================] - 0s 5ms/step - loss: 542.7206 - mae: 21.9021 - val_loss: 671.1302 - val_mae: 24.3541\n",
      "Epoch 101/200\n",
      "9/9 [==============================] - 0s 5ms/step - loss: 562.4440 - mae: 22.1527 - val_loss: 699.7842 - val_mae: 25.5851\n",
      "Epoch 102/200\n",
      "9/9 [==============================] - 0s 5ms/step - loss: 554.9209 - mae: 22.2568 - val_loss: 377.4472 - val_mae: 17.9580\n",
      "Epoch 103/200\n",
      "9/9 [==============================] - 0s 5ms/step - loss: 447.5128 - mae: 19.7812 - val_loss: 368.6861 - val_mae: 18.5131\n",
      "Epoch 104/200\n",
      "9/9 [==============================] - 0s 5ms/step - loss: 726.6761 - mae: 22.9758 - val_loss: 1769.9957 - val_mae: 40.1475\n",
      "Epoch 105/200\n",
      "9/9 [==============================] - 0s 5ms/step - loss: 312.1557 - mae: 11.5237 - val_loss: 14.9309 - val_mae: 3.1048\n",
      "Epoch 106/200\n",
      "9/9 [==============================] - 0s 5ms/step - loss: 505.8487 - mae: 17.7044 - val_loss: 662.4314 - val_mae: 24.3372\n",
      "Epoch 107/200\n",
      "9/9 [==============================] - 0s 5ms/step - loss: 439.5200 - mae: 19.6012 - val_loss: 190.2364 - val_mae: 12.9121\n",
      "Epoch 108/200\n",
      "9/9 [==============================] - 0s 5ms/step - loss: 603.0244 - mae: 22.0042 - val_loss: 360.7326 - val_mae: 17.8729\n",
      "Epoch 109/200\n",
      "9/9 [==============================] - 0s 5ms/step - loss: 249.2499 - mae: 14.3597 - val_loss: 676.3206 - val_mae: 25.0227\n",
      "Epoch 110/200\n",
      "9/9 [==============================] - 0s 6ms/step - loss: 641.8157 - mae: 23.7196 - val_loss: 173.6318 - val_mae: 11.9783\n",
      "Epoch 111/200\n",
      "9/9 [==============================] - 0s 6ms/step - loss: 439.6411 - mae: 18.1029 - val_loss: 710.1181 - val_mae: 25.7471\n",
      "Epoch 112/200\n",
      "9/9 [==============================] - 0s 6ms/step - loss: 308.7566 - mae: 15.9137 - val_loss: 1308.4034 - val_mae: 34.3977\n",
      "Epoch 113/200\n",
      "9/9 [==============================] - 0s 5ms/step - loss: 550.5437 - mae: 16.9647 - val_loss: 15.4620 - val_mae: 2.9754\n",
      "Epoch 114/200\n",
      "9/9 [==============================] - 0s 6ms/step - loss: 30.2558 - mae: 3.9463 - val_loss: 636.8150 - val_mae: 24.3223\n",
      "Epoch 115/200\n",
      "9/9 [==============================] - 0s 6ms/step - loss: 798.2626 - mae: 19.4951 - val_loss: 39.8382 - val_mae: 5.1559\n",
      "Epoch 116/200\n",
      "9/9 [==============================] - 0s 5ms/step - loss: 448.1429 - mae: 16.1239 - val_loss: 1119.4568 - val_mae: 32.3502\n",
      "Epoch 117/200\n",
      "9/9 [==============================] - 0s 6ms/step - loss: 419.1518 - mae: 17.8081 - val_loss: 27.9730 - val_mae: 4.2227\n",
      "Epoch 118/200\n",
      "9/9 [==============================] - 0s 5ms/step - loss: 479.5156 - mae: 17.2810 - val_loss: 555.8082 - val_mae: 22.8235\n",
      "Epoch 119/200\n",
      "9/9 [==============================] - 0s 6ms/step - loss: 209.2519 - mae: 12.1238 - val_loss: 282.9075 - val_mae: 15.4655\n",
      "Epoch 120/200\n",
      "9/9 [==============================] - 0s 6ms/step - loss: 654.8340 - mae: 22.3440 - val_loss: 87.9207 - val_mae: 8.7048\n",
      "Epoch 121/200\n",
      "9/9 [==============================] - 0s 5ms/step - loss: 279.1773 - mae: 13.9309 - val_loss: 1133.4420 - val_mae: 31.8056\n",
      "Epoch 122/200\n",
      "9/9 [==============================] - 0s 5ms/step - loss: 433.9295 - mae: 17.8724 - val_loss: 182.8007 - val_mae: 12.9823\n",
      "Epoch 123/200\n",
      "9/9 [==============================] - 0s 5ms/step - loss: 467.7599 - mae: 20.1913 - val_loss: 329.5590 - val_mae: 16.6387\n",
      "Epoch 124/200\n",
      "9/9 [==============================] - 0s 5ms/step - loss: 452.8517 - mae: 19.5218 - val_loss: 239.4618 - val_mae: 14.8877\n",
      "Epoch 125/200\n",
      "9/9 [==============================] - 0s 5ms/step - loss: 398.0806 - mae: 18.5139 - val_loss: 669.3018 - val_mae: 24.2099\n",
      "Epoch 126/200\n",
      "9/9 [==============================] - 0s 6ms/step - loss: 462.4628 - mae: 19.7300 - val_loss: 399.9465 - val_mae: 19.3724\n",
      "Epoch 127/200\n",
      "9/9 [==============================] - 0s 5ms/step - loss: 315.3450 - mae: 16.4956 - val_loss: 538.5707 - val_mae: 21.6232\n",
      "Epoch 128/200\n",
      "9/9 [==============================] - 0s 5ms/step - loss: 459.7867 - mae: 19.8670 - val_loss: 792.2623 - val_mae: 27.3053\n",
      "Epoch 129/200\n",
      "9/9 [==============================] - 0s 5ms/step - loss: 376.1079 - mae: 16.8016 - val_loss: 104.8779 - val_mae: 9.0264\n",
      "Epoch 130/200\n",
      "9/9 [==============================] - 0s 5ms/step - loss: 693.1875 - mae: 21.5360 - val_loss: 267.7069 - val_mae: 15.7866\n",
      "Epoch 131/200\n",
      "9/9 [==============================] - 0s 5ms/step - loss: 63.5005 - mae: 6.0292 - val_loss: 13.1208 - val_mae: 2.6428\n",
      "Epoch 132/200\n",
      "9/9 [==============================] - 0s 5ms/step - loss: 205.7001 - mae: 9.0924 - val_loss: 3208.9739 - val_mae: 54.8011\n",
      "Epoch 133/200\n",
      "9/9 [==============================] - 0s 5ms/step - loss: 562.9313 - mae: 17.1509 - val_loss: 61.0869 - val_mae: 6.7970\n",
      "Epoch 134/200\n",
      "9/9 [==============================] - 0s 7ms/step - loss: 539.0849 - mae: 19.6101 - val_loss: 268.1911 - val_mae: 15.7702\n",
      "Epoch 135/200\n",
      "9/9 [==============================] - 0s 6ms/step - loss: 242.6895 - mae: 14.3019 - val_loss: 457.5036 - val_mae: 19.9720\n",
      "Epoch 136/200\n",
      "9/9 [==============================] - 0s 6ms/step - loss: 542.0249 - mae: 21.8633 - val_loss: 79.0832 - val_mae: 8.2196\n",
      "Epoch 137/200\n",
      "9/9 [==============================] - 0s 6ms/step - loss: 117.7141 - mae: 9.5112 - val_loss: 933.2974 - val_mae: 28.9176\n",
      "Epoch 138/200\n",
      "9/9 [==============================] - 0s 5ms/step - loss: 595.5012 - mae: 21.5435 - val_loss: 82.9438 - val_mae: 8.4502\n",
      "Epoch 139/200\n",
      "9/9 [==============================] - 0s 4ms/step - loss: 307.1114 - mae: 15.4995 - val_loss: 269.0194 - val_mae: 14.9580\n",
      "Epoch 140/200\n",
      "9/9 [==============================] - 0s 5ms/step - loss: 500.6061 - mae: 20.2782 - val_loss: 156.5983 - val_mae: 11.9364\n",
      "Epoch 141/200\n",
      "9/9 [==============================] - 0s 5ms/step - loss: 403.2829 - mae: 17.3204 - val_loss: 1421.7833 - val_mae: 35.7975\n",
      "Epoch 142/200\n",
      "9/9 [==============================] - 0s 5ms/step - loss: 218.6935 - mae: 11.5882 - val_loss: 213.5582 - val_mae: 14.0340\n",
      "Epoch 143/200\n",
      "9/9 [==============================] - 0s 5ms/step - loss: 489.6628 - mae: 20.0016 - val_loss: 171.4296 - val_mae: 11.7091\n",
      "Epoch 144/200\n",
      "9/9 [==============================] - 0s 5ms/step - loss: 334.1950 - mae: 16.8596 - val_loss: 384.0441 - val_mae: 18.9928\n",
      "Epoch 145/200\n",
      "9/9 [==============================] - 0s 5ms/step - loss: 366.3523 - mae: 17.7452 - val_loss: 546.3626 - val_mae: 21.7940\n",
      "Epoch 146/200\n",
      "9/9 [==============================] - 0s 5ms/step - loss: 364.2538 - mae: 16.6901 - val_loss: 68.8503 - val_mae: 7.6223\n",
      "Epoch 147/200\n",
      "9/9 [==============================] - 0s 5ms/step - loss: 517.0021 - mae: 19.8802 - val_loss: 112.0583 - val_mae: 9.3782\n",
      "Epoch 148/200\n",
      "9/9 [==============================] - 0s 5ms/step - loss: 181.5646 - mae: 11.5070 - val_loss: 852.1320 - val_mae: 28.2723\n",
      "Epoch 149/200\n",
      "9/9 [==============================] - 0s 5ms/step - loss: 478.7657 - mae: 20.0184 - val_loss: 126.1887 - val_mae: 9.9788\n",
      "Epoch 150/200\n",
      "9/9 [==============================] - 0s 6ms/step - loss: 340.6805 - mae: 16.4861 - val_loss: 81.6726 - val_mae: 8.4256\n",
      "Epoch 151/200\n",
      "9/9 [==============================] - 0s 5ms/step - loss: 415.9288 - mae: 18.4543 - val_loss: 200.9641 - val_mae: 12.7470\n",
      "Epoch 152/200\n",
      "9/9 [==============================] - 0s 5ms/step - loss: 309.9014 - mae: 15.8609 - val_loss: 843.5774 - val_mae: 28.2119\n",
      "Epoch 153/200\n",
      "9/9 [==============================] - 0s 5ms/step - loss: 363.4193 - mae: 17.2391 - val_loss: 631.2656 - val_mae: 23.6175\n",
      "Epoch 154/200\n",
      "9/9 [==============================] - 0s 5ms/step - loss: 256.8582 - mae: 14.5814 - val_loss: 658.6091 - val_mae: 24.9096\n",
      "Epoch 155/200\n",
      "9/9 [==============================] - 0s 5ms/step - loss: 457.0165 - mae: 16.1254 - val_loss: 77.7720 - val_mae: 7.7598\n",
      "Epoch 156/200\n",
      "9/9 [==============================] - 0s 5ms/step - loss: 279.5601 - mae: 13.7796 - val_loss: 1715.4283 - val_mae: 39.9962\n",
      "Epoch 157/200\n",
      "9/9 [==============================] - 0s 5ms/step - loss: 356.4196 - mae: 15.2997 - val_loss: 210.6305 - val_mae: 13.4991\n",
      "Epoch 158/200\n",
      "9/9 [==============================] - 0s 5ms/step - loss: 397.4673 - mae: 18.6062 - val_loss: 364.7238 - val_mae: 18.2495\n",
      "Epoch 159/200\n",
      "9/9 [==============================] - 0s 5ms/step - loss: 345.5754 - mae: 17.4967 - val_loss: 176.5155 - val_mae: 12.2737\n",
      "Epoch 160/200\n",
      "9/9 [==============================] - 0s 5ms/step - loss: 379.5693 - mae: 17.3151 - val_loss: 152.8069 - val_mae: 11.7481\n",
      "Epoch 161/200\n",
      "9/9 [==============================] - 0s 5ms/step - loss: 199.9435 - mae: 12.9669 - val_loss: 306.5316 - val_mae: 16.5021\n",
      "Epoch 162/200\n",
      "9/9 [==============================] - 0s 5ms/step - loss: 374.9296 - mae: 17.7002 - val_loss: 282.0050 - val_mae: 16.0732\n",
      "Epoch 163/200\n",
      "9/9 [==============================] - 0s 6ms/step - loss: 370.1399 - mae: 18.0024 - val_loss: 365.7623 - val_mae: 17.9441\n",
      "Epoch 164/200\n",
      "9/9 [==============================] - 0s 6ms/step - loss: 312.1934 - mae: 16.5674 - val_loss: 294.6979 - val_mae: 16.5004\n",
      "Epoch 165/200\n",
      "9/9 [==============================] - 0s 5ms/step - loss: 320.4363 - mae: 16.6861 - val_loss: 191.8381 - val_mae: 12.7367\n",
      "Epoch 166/200\n",
      "9/9 [==============================] - 0s 5ms/step - loss: 327.4015 - mae: 16.7630 - val_loss: 313.8781 - val_mae: 17.0235\n",
      "Epoch 167/200\n",
      "9/9 [==============================] - 0s 6ms/step - loss: 315.4146 - mae: 16.6833 - val_loss: 695.9171 - val_mae: 25.0321\n",
      "Epoch 168/200\n",
      "9/9 [==============================] - 0s 6ms/step - loss: 327.8379 - mae: 16.1204 - val_loss: 101.3455 - val_mae: 9.4211\n",
      "Epoch 169/200\n",
      "9/9 [==============================] - 0s 6ms/step - loss: 312.3617 - mae: 16.1015 - val_loss: 280.7196 - val_mae: 15.6793\n",
      "Epoch 170/200\n",
      "9/9 [==============================] - 0s 5ms/step - loss: 321.6111 - mae: 16.8568 - val_loss: 498.5293 - val_mae: 21.4895\n",
      "Epoch 171/200\n",
      "9/9 [==============================] - 0s 5ms/step - loss: 296.7812 - mae: 15.6082 - val_loss: 286.4262 - val_mae: 15.8172\n",
      "Epoch 172/200\n",
      "9/9 [==============================] - 0s 6ms/step - loss: 324.3932 - mae: 15.5788 - val_loss: 81.6590 - val_mae: 8.3719\n",
      "Epoch 173/200\n",
      "9/9 [==============================] - 0s 5ms/step - loss: 336.4092 - mae: 16.5434 - val_loss: 151.6658 - val_mae: 11.2416\n",
      "Epoch 174/200\n",
      "9/9 [==============================] - 0s 5ms/step - loss: 341.1183 - mae: 16.3971 - val_loss: 727.2261 - val_mae: 26.0388\n",
      "Epoch 175/200\n",
      "9/9 [==============================] - 0s 5ms/step - loss: 253.2800 - mae: 14.2125 - val_loss: 610.3101 - val_mae: 23.3934\n",
      "Epoch 176/200\n",
      "9/9 [==============================] - 0s 5ms/step - loss: 299.7362 - mae: 15.1984 - val_loss: 71.3096 - val_mae: 7.7542\n",
      "Epoch 177/200\n",
      "9/9 [==============================] - 0s 5ms/step - loss: 315.9722 - mae: 16.2818 - val_loss: 411.2307 - val_mae: 19.1408\n",
      "Epoch 178/200\n",
      "9/9 [==============================] - 0s 5ms/step - loss: 315.6932 - mae: 16.0780 - val_loss: 237.5424 - val_mae: 14.7502\n",
      "Epoch 179/200\n",
      "9/9 [==============================] - 0s 5ms/step - loss: 244.4031 - mae: 14.1319 - val_loss: 967.1042 - val_mae: 29.5550\n",
      "Epoch 180/200\n",
      "9/9 [==============================] - 0s 6ms/step - loss: 260.4453 - mae: 13.5512 - val_loss: 217.8158 - val_mae: 14.1245\n",
      "Epoch 181/200\n",
      "9/9 [==============================] - 0s 6ms/step - loss: 448.9742 - mae: 17.2428 - val_loss: 35.8902 - val_mae: 5.1351\n",
      "Epoch 182/200\n",
      "9/9 [==============================] - 0s 5ms/step - loss: 97.3669 - mae: 7.0840 - val_loss: 932.5402 - val_mae: 29.4880\n",
      "Epoch 183/200\n",
      "9/9 [==============================] - 0s 6ms/step - loss: 419.3567 - mae: 18.9635 - val_loss: 336.2116 - val_mae: 17.3065\n",
      "Epoch 184/200\n",
      "9/9 [==============================] - 0s 6ms/step - loss: 349.1117 - mae: 17.1247 - val_loss: 336.9370 - val_mae: 17.6670\n",
      "Epoch 185/200\n",
      "9/9 [==============================] - 0s 6ms/step - loss: 173.0508 - mae: 11.9355 - val_loss: 170.8165 - val_mae: 12.0773\n",
      "Epoch 186/200\n",
      "9/9 [==============================] - 0s 6ms/step - loss: 371.8732 - mae: 15.4633 - val_loss: 18.0250 - val_mae: 3.6614\n",
      "Epoch 187/200\n",
      "9/9 [==============================] - 0s 5ms/step - loss: 147.2755 - mae: 8.3554 - val_loss: 1350.7844 - val_mae: 35.1101\n",
      "Epoch 188/200\n",
      "9/9 [==============================] - 0s 5ms/step - loss: 323.7423 - mae: 13.3375 - val_loss: 28.2955 - val_mae: 4.6744\n",
      "Epoch 189/200\n",
      "9/9 [==============================] - 0s 5ms/step - loss: 405.3232 - mae: 16.8293 - val_loss: 241.4636 - val_mae: 14.5063\n",
      "Epoch 190/200\n",
      "9/9 [==============================] - 0s 5ms/step - loss: 214.9714 - mae: 13.1985 - val_loss: 350.8835 - val_mae: 18.0147\n",
      "Epoch 191/200\n",
      "9/9 [==============================] - 0s 6ms/step - loss: 245.3981 - mae: 14.1786 - val_loss: 411.9778 - val_mae: 19.1445\n",
      "Epoch 192/200\n",
      "9/9 [==============================] - 0s 6ms/step - loss: 350.6969 - mae: 17.1960 - val_loss: 121.0196 - val_mae: 10.3822\n",
      "Epoch 193/200\n",
      "9/9 [==============================] - 0s 5ms/step - loss: 310.5677 - mae: 15.0877 - val_loss: 505.9609 - val_mae: 21.3443\n",
      "Epoch 194/200\n",
      "9/9 [==============================] - 0s 6ms/step - loss: 162.0518 - mae: 10.9973 - val_loss: 233.4591 - val_mae: 14.5975\n",
      "Epoch 195/200\n",
      "9/9 [==============================] - 0s 5ms/step - loss: 387.7682 - mae: 18.2094 - val_loss: 125.1364 - val_mae: 10.1718\n",
      "Epoch 196/200\n",
      "9/9 [==============================] - 0s 5ms/step - loss: 229.8464 - mae: 13.0941 - val_loss: 426.2054 - val_mae: 19.7537\n",
      "Epoch 197/200\n",
      "9/9 [==============================] - 0s 6ms/step - loss: 251.6033 - mae: 14.6152 - val_loss: 166.2561 - val_mae: 11.9292\n",
      "Epoch 198/200\n",
      "9/9 [==============================] - 0s 6ms/step - loss: 324.6049 - mae: 15.6714 - val_loss: 23.5633 - val_mae: 4.2347\n",
      "Epoch 199/200\n",
      "9/9 [==============================] - 0s 5ms/step - loss: 158.6496 - mae: 10.0850 - val_loss: 1116.3456 - val_mae: 31.8577\n",
      "Epoch 200/200\n",
      "9/9 [==============================] - 0s 5ms/step - loss: 344.2687 - mae: 14.6672 - val_loss: 107.8931 - val_mae: 9.7489\n"
     ]
    }
   ],
   "source": [
    "history = model.fit(train_data, y_train, validation_split=0.2, epochs=200)"
   ]
  },
  {
   "cell_type": "code",
   "execution_count": 65,
   "metadata": {},
   "outputs": [
    {
     "name": "stdout",
     "output_type": "stream",
     "text": [
      "11/11 [==============================] - 0s 2ms/step - loss: 110.3901 - mae: 9.7455\n"
     ]
    }
   ],
   "source": [
    "mse, mae = model.evaluate(train_data, y_train)"
   ]
  },
  {
   "cell_type": "code",
   "execution_count": 66,
   "metadata": {},
   "outputs": [
    {
     "data": {
      "text/html": [
       "<div>\n",
       "<style scoped>\n",
       "    .dataframe tbody tr th:only-of-type {\n",
       "        vertical-align: middle;\n",
       "    }\n",
       "\n",
       "    .dataframe tbody tr th {\n",
       "        vertical-align: top;\n",
       "    }\n",
       "\n",
       "    .dataframe thead th {\n",
       "        text-align: right;\n",
       "    }\n",
       "</style>\n",
       "<table border=\"1\" class=\"dataframe\">\n",
       "  <thead>\n",
       "    <tr style=\"text-align: right;\">\n",
       "      <th></th>\n",
       "      <th>기통수</th>\n",
       "      <th>배기량</th>\n",
       "      <th>마력</th>\n",
       "      <th>중량</th>\n",
       "      <th>가속력</th>\n",
       "      <th>연식</th>\n",
       "      <th>미국</th>\n",
       "      <th>유럽</th>\n",
       "      <th>일본</th>\n",
       "    </tr>\n",
       "  </thead>\n",
       "  <tbody>\n",
       "    <tr>\n",
       "      <th>3</th>\n",
       "      <td>8.0</td>\n",
       "      <td>304.0</td>\n",
       "      <td>150.0</td>\n",
       "      <td>3433.0</td>\n",
       "      <td>12.0</td>\n",
       "      <td>70.0</td>\n",
       "      <td>1.0</td>\n",
       "      <td>0.0</td>\n",
       "      <td>0.0</td>\n",
       "    </tr>\n",
       "  </tbody>\n",
       "</table>\n",
       "</div>"
      ],
      "text/plain": [
       "   기통수    배기량     마력      중량   가속력    연식   미국   유럽   일본\n",
       "3  8.0  304.0  150.0  3433.0  12.0  70.0  1.0  0.0  0.0"
      ]
     },
     "execution_count": 66,
     "metadata": {},
     "output_type": "execute_result"
    }
   ],
   "source": [
    "test_data[:1]"
   ]
  },
  {
   "cell_type": "code",
   "execution_count": 67,
   "metadata": {},
   "outputs": [
    {
     "name": "stdout",
     "output_type": "stream",
     "text": [
      "1/1 [==============================] - 0s 66ms/step\n",
      "예측: [[5.2639327]]\n",
      "MAE: 9.745518684387207\n"
     ]
    }
   ],
   "source": [
    "prediction = model.predict(test_data[:1])\n",
    "print(f'예측: {prediction}')\n",
    "print(f'MAE: {mae}')"
   ]
  },
  {
   "cell_type": "markdown",
   "metadata": {},
   "source": [
    "### 딥러닝 모델의 성능\n",
    "  * 딥러닝 신경망의 성능 향상을 위해 필요한 성능 분석 방법과 성능 향상 기법 소개\n",
    "  * 신경망 성능 향상을 위해서는 모델 성능 평가가 선행되어야 함\n",
    "  * 이를 위하여 유효성 데이터(validation data)를 별도로 준비하여 정확도와 손실률을 측정\n",
    "  \n",
    "  1. 성능 향상 방법\n",
    "    1) 신경망의 구조를 강화/축소(복수개의 노드 또는 레이어 사용)\n",
    "    2) 최적 함수 적용(활성화 함수, 손실 함수, 최적화 함수)\n",
    "    3) 학습 반복횟수 조절(epochs)\n",
    "  2. 유효성 데이터를 활용한 모델의 성능 평가\n",
    "  3. 최적의 결과를 얻을 때까지 1, 2 과정 반복"
   ]
  },
  {
   "cell_type": "markdown",
   "metadata": {},
   "source": [
    "* 모델 성능 평가의 핵심: 과대적합(overfitting) 또는 과소적합(underfitting)이 발생했을 때 이를 방지하도록 신경망을 개선해가는 것\n",
    "  * 과대적합인 경우: 심층 신경망 간소화 또는 학습 횟수 감소\n",
    "  * 과소적합인 경우: 심층 신경망 확대 또는 학습 횟수 증가\n",
    "\n",
    "* 과대적합의 경우\n",
    "  * 훈련 데이터의 정확도가 유효성 데이터의 값보다 훨씬 큰 경우\n",
    "  * 훈련 데이터의 손실률이 유효성 데이터의 값보다 훨씬 작은 경우\n",
    "* 과소적합은 과대적합의 반대"
   ]
  },
  {
   "cell_type": "code",
   "execution_count": 68,
   "metadata": {},
   "outputs": [],
   "source": [
    "import matplotlib.pyplot as plt\n",
    "from sklearn.datasets import make_blobs\n",
    "from sklearn.model_selection import train_test_split"
   ]
  },
  {
   "cell_type": "code",
   "execution_count": 69,
   "metadata": {},
   "outputs": [
    {
     "data": {
      "image/png": "[encoded data removed]",
      "text/plain": [
       "<Figure size 432x288 with 1 Axes>"
      ]
     },
     "metadata": {
      "needs_background": "light"
     },
     "output_type": "display_data"
    }
   ],
   "source": [
    "data, labels = make_blobs(n_samples=10000, n_features=2, centers=2, random_state=42)\n",
    "\n",
    "plt.scatter(data[:, 0], data[:, 1], c=labels)\n",
    "plt.show()"
   ]
  },
  {
   "cell_type": "code",
   "execution_count": 70,
   "metadata": {},
   "outputs": [],
   "source": [
    "X_train, X_test, y_train, y_test = train_test_split(data, labels, test_size=0.2)\n",
    "\n",
    "X_val = X_train[:1000]\n",
    "X_train = X_train[1000:]\n",
    "y_val = y_train[:1000]\n",
    "y_train = y_train[1000:]"
   ]
  },
  {
   "cell_type": "code",
   "execution_count": 71,
   "metadata": {},
   "outputs": [],
   "source": [
    "from keras import models\n",
    "from keras import layers"
   ]
  },
  {
   "cell_type": "code",
   "execution_count": 72,
   "metadata": {},
   "outputs": [],
   "source": [
    "model = models.Sequential([\n",
    "    layers.Dense(1, input_dim=2, activation='sigmoid')\n",
    "])"
   ]
  },
  {
   "cell_type": "code",
   "execution_count": 73,
   "metadata": {},
   "outputs": [
    {
     "name": "stdout",
     "output_type": "stream",
     "text": [
      "Model: \"sequential_6\"\n",
      "_________________________________________________________________\n",
      " Layer (type)                Output Shape              Param #   \n",
      "=================================================================\n",
      " dense_11 (Dense)            (None, 1)                 3         \n",
      "                                                                 \n",
      "=================================================================\n",
      "Total params: 3\n",
      "Trainable params: 3\n",
      "Non-trainable params: 0\n",
      "_________________________________________________________________\n"
     ]
    }
   ],
   "source": [
    "model.summary()"
   ]
  },
  {
   "cell_type": "code",
   "execution_count": 74,
   "metadata": {},
   "outputs": [],
   "source": [
    "model.compile(optimizer='SGD', loss='binary_crossentropy', metrics=['accuracy'])"
   ]
  },
  {
   "cell_type": "code",
   "execution_count": 75,
   "metadata": {},
   "outputs": [
    {
     "name": "stdout",
     "output_type": "stream",
     "text": [
      "Epoch 1/10\n",
      "70/70 [==============================] - 1s 4ms/step - loss: 0.3309 - accuracy: 0.9164 - val_loss: 0.0866 - val_accuracy: 1.0000\n",
      "Epoch 2/10\n",
      "70/70 [==============================] - 0s 2ms/step - loss: 0.0673 - accuracy: 0.9996 - val_loss: 0.0497 - val_accuracy: 1.0000\n",
      "Epoch 3/10\n",
      "70/70 [==============================] - 0s 2ms/step - loss: 0.0438 - accuracy: 0.9997 - val_loss: 0.0354 - val_accuracy: 1.0000\n",
      "Epoch 4/10\n",
      "70/70 [==============================] - 0s 2ms/step - loss: 0.0330 - accuracy: 0.9997 - val_loss: 0.0277 - val_accuracy: 1.0000\n",
      "Epoch 5/10\n",
      "70/70 [==============================] - 0s 2ms/step - loss: 0.0267 - accuracy: 0.9997 - val_loss: 0.0229 - val_accuracy: 1.0000\n",
      "Epoch 6/10\n",
      "70/70 [==============================] - 0s 2ms/step - loss: 0.0226 - accuracy: 0.9997 - val_loss: 0.0196 - val_accuracy: 1.0000\n",
      "Epoch 7/10\n",
      "70/70 [==============================] - 0s 2ms/step - loss: 0.0196 - accuracy: 0.9997 - val_loss: 0.0171 - val_accuracy: 1.0000\n",
      "Epoch 8/10\n",
      "70/70 [==============================] - 0s 2ms/step - loss: 0.0174 - accuracy: 0.9997 - val_loss: 0.0153 - val_accuracy: 1.0000\n",
      "Epoch 9/10\n",
      "70/70 [==============================] - 0s 2ms/step - loss: 0.0157 - accuracy: 0.9997 - val_loss: 0.0138 - val_accuracy: 1.0000\n",
      "Epoch 10/10\n",
      "70/70 [==============================] - 0s 2ms/step - loss: 0.0143 - accuracy: 0.9997 - val_loss: 0.0126 - val_accuracy: 1.0000\n"
     ]
    }
   ],
   "source": [
    "history = model.fit(X_train, y_train, epochs=10, batch_size=100, validation_data=(X_val, y_val))"
   ]
  },
  {
   "cell_type": "code",
   "execution_count": 76,
   "metadata": {},
   "outputs": [
    {
     "name": "stdout",
     "output_type": "stream",
     "text": [
      "63/63 [==============================] - 0s 1ms/step - loss: 0.0126 - accuracy: 1.0000\n"
     ]
    },
    {
     "data": {
      "text/plain": [
       "[0.012616748921573162, 1.0]"
      ]
     },
     "execution_count": 76,
     "metadata": {},
     "output_type": "execute_result"
    }
   ],
   "source": [
    "result = model.evaluate(X_test, y_test)\n",
    "result"
   ]
  },
  {
   "cell_type": "code",
   "execution_count": 77,
   "metadata": {},
   "outputs": [],
   "source": [
    "import matplotlib.pyplot as plt"
   ]
  },
  {
   "cell_type": "code",
   "execution_count": 78,
   "metadata": {},
   "outputs": [
    {
     "data": {
      "image/png": "[encoded data removed]",
      "text/plain": [
       "<Figure size 432x288 with 1 Axes>"
      ]
     },
     "metadata": {
      "needs_background": "light"
     },
     "output_type": "display_data"
    }
   ],
   "source": [
    "history_dict = history.history\n",
    "loss = history_dict['loss']\n",
    "val_loss = history_dict['val_loss']\n",
    "epochs = range(1, len(loss) + 1)\n",
    "\n",
    "plt.plot(epochs, loss, 'bo', label='Training Loss')\n",
    "plt.plot(epochs, val_loss, 'b', label='Validation Loss')\n",
    "plt.title('Training and Validation Loss')\n",
    "plt.axis([0, 12, 0.0, 6.0])\n",
    "plt.xlabel('Epochs')\n",
    "plt.ylabel('Loss')\n",
    "plt.legend()\n",
    "plt.show()"
   ]
  },
  {
   "cell_type": "code",
   "execution_count": 79,
   "metadata": {},
   "outputs": [
    {
     "data": {
      "image/png": "[encoded data removed]",
      "text/plain": [
       "<Figure size 432x288 with 1 Axes>"
      ]
     },
     "metadata": {
      "needs_background": "light"
     },
     "output_type": "display_data"
    }
   ],
   "source": [
    "plt.clf()\n",
    "\n",
    "acc = history_dict['accuracy']\n",
    "val_acc = history_dict['val_accuracy']\n",
    "\n",
    "plt.plot(epochs, acc, 'bo', label='Training Accuracy')\n",
    "plt.plot(epochs, val_acc, 'b', label='Validation Accuracy')\n",
    "plt.title('Training and Validation Accuracy')\n",
    "plt.xlabel('Epochs')\n",
    "plt.ylabel('Accuracy')\n",
    "plt.axis([0, 12, 0.7, 1.1])\n",
    "plt.legend()\n",
    "plt.show()"
   ]
  },
  {
   "cell_type": "markdown",
   "metadata": {},
   "source": [
    "### 심층 신경망 구조 만들기\n",
    "  * 심층 신경망(Deep Neural Network): 신경망을 구성하고 있는 레이어의 개수가 많아짐\n",
    "  * 각 레이어에서 사용하는 뉴런의 개수 또한 영향을 미침"
   ]
  },
  {
   "cell_type": "code",
   "execution_count": 80,
   "metadata": {},
   "outputs": [],
   "source": [
    "from sklearn.datasets import load_iris\n",
    "from sklearn.model_selection import train_test_split\n",
    "from keras.utils.np_utils import to_categorical"
   ]
  },
  {
   "cell_type": "code",
   "execution_count": 81,
   "metadata": {},
   "outputs": [],
   "source": [
    "iris = load_iris()\n",
    "X = iris.data\n",
    "y = iris.target\n",
    "\n",
    "X_train, X_test, y_train, y_test = train_test_split(X, y, test_size=0.2)\n",
    "\n",
    "y_train = to_categorical(y_train)\n",
    "y_test = to_categorical(y_test)"
   ]
  },
  {
   "cell_type": "code",
   "execution_count": 82,
   "metadata": {},
   "outputs": [],
   "source": [
    "from keras import models\n",
    "from keras import layers"
   ]
  },
  {
   "cell_type": "code",
   "execution_count": 83,
   "metadata": {},
   "outputs": [],
   "source": [
    "model = models.Sequential([\n",
    "    # 얕은 신경망\n",
    "    # layers.Dense(2, input_shape=(4, )),\n",
    "    # layers.Dense(3, activation='softmax'),\n",
    "\n",
    "    # 심층 신경망\n",
    "    layers.Dense(2, input_shape=(4, )),\n",
    "    layers.Dense(16, activation='relu'),\n",
    "    layers.Dense(32, activation='relu'),\n",
    "    layers.Dense(3, activation='softmax')\n",
    "])"
   ]
  },
  {
   "cell_type": "code",
   "execution_count": 84,
   "metadata": {},
   "outputs": [
    {
     "name": "stdout",
     "output_type": "stream",
     "text": [
      "Epoch 1/100\n",
      "3/3 [==============================] - 1s 130ms/step - loss: 1.1214 - accuracy: 0.3333 - val_loss: 1.0398 - val_accuracy: 0.3333\n",
      "Epoch 2/100\n",
      "3/3 [==============================] - 0s 17ms/step - loss: 1.0522 - accuracy: 0.3333 - val_loss: 1.0274 - val_accuracy: 0.3333\n",
      "Epoch 3/100\n",
      "3/3 [==============================] - 0s 15ms/step - loss: 1.0279 - accuracy: 0.3333 - val_loss: 1.0227 - val_accuracy: 0.3333\n",
      "Epoch 4/100\n",
      "3/3 [==============================] - 0s 16ms/step - loss: 1.0131 - accuracy: 0.3333 - val_loss: 1.0199 - val_accuracy: 0.3333\n",
      "Epoch 5/100\n",
      "3/3 [==============================] - 0s 16ms/step - loss: 1.0034 - accuracy: 0.3333 - val_loss: 1.0174 - val_accuracy: 0.3333\n",
      "Epoch 6/100\n",
      "3/3 [==============================] - 0s 16ms/step - loss: 1.0048 - accuracy: 0.3333 - val_loss: 1.0143 - val_accuracy: 0.3333\n",
      "Epoch 7/100\n",
      "3/3 [==============================] - 0s 16ms/step - loss: 0.9911 - accuracy: 0.3333 - val_loss: 1.0115 - val_accuracy: 0.3333\n",
      "Epoch 8/100\n",
      "3/3 [==============================] - 0s 18ms/step - loss: 0.9867 - accuracy: 0.3333 - val_loss: 1.0073 - val_accuracy: 0.3333\n",
      "Epoch 9/100\n",
      "3/3 [==============================] - 0s 17ms/step - loss: 0.9838 - accuracy: 0.3333 - val_loss: 1.0030 - val_accuracy: 0.3333\n",
      "Epoch 10/100\n",
      "3/3 [==============================] - 0s 16ms/step - loss: 0.9781 - accuracy: 0.3333 - val_loss: 0.9974 - val_accuracy: 0.3333\n",
      "Epoch 11/100\n",
      "3/3 [==============================] - 0s 17ms/step - loss: 0.9725 - accuracy: 0.3333 - val_loss: 0.9907 - val_accuracy: 0.3333\n",
      "Epoch 12/100\n",
      "3/3 [==============================] - 0s 15ms/step - loss: 0.9715 - accuracy: 0.3333 - val_loss: 0.9867 - val_accuracy: 0.3333\n",
      "Epoch 13/100\n",
      "3/3 [==============================] - 0s 15ms/step - loss: 0.9637 - accuracy: 0.3333 - val_loss: 0.9817 - val_accuracy: 0.3333\n",
      "Epoch 14/100\n",
      "3/3 [==============================] - 0s 16ms/step - loss: 0.9569 - accuracy: 0.3333 - val_loss: 0.9760 - val_accuracy: 0.3333\n",
      "Epoch 15/100\n",
      "3/3 [==============================] - 0s 15ms/step - loss: 0.9535 - accuracy: 0.3542 - val_loss: 0.9690 - val_accuracy: 0.3333\n",
      "Epoch 16/100\n",
      "3/3 [==============================] - 0s 16ms/step - loss: 0.9559 - accuracy: 0.3646 - val_loss: 0.9630 - val_accuracy: 0.3333\n",
      "Epoch 17/100\n",
      "3/3 [==============================] - 0s 17ms/step - loss: 0.9394 - accuracy: 0.3333 - val_loss: 0.9578 - val_accuracy: 0.3333\n",
      "Epoch 18/100\n",
      "3/3 [==============================] - 0s 16ms/step - loss: 0.9390 - accuracy: 0.3854 - val_loss: 0.9487 - val_accuracy: 0.3333\n",
      "Epoch 19/100\n",
      "3/3 [==============================] - 0s 16ms/step - loss: 0.9275 - accuracy: 0.3333 - val_loss: 0.9442 - val_accuracy: 0.3750\n",
      "Epoch 20/100\n",
      "3/3 [==============================] - 0s 16ms/step - loss: 0.9270 - accuracy: 0.3542 - val_loss: 0.9352 - val_accuracy: 0.3750\n",
      "Epoch 21/100\n",
      "3/3 [==============================] - 0s 16ms/step - loss: 0.9235 - accuracy: 0.3333 - val_loss: 0.9318 - val_accuracy: 0.3750\n",
      "Epoch 22/100\n",
      "3/3 [==============================] - 0s 16ms/step - loss: 0.9149 - accuracy: 0.3333 - val_loss: 0.9244 - val_accuracy: 0.3750\n",
      "Epoch 23/100\n",
      "3/3 [==============================] - 0s 18ms/step - loss: 0.9058 - accuracy: 0.3333 - val_loss: 0.9169 - val_accuracy: 0.3750\n",
      "Epoch 24/100\n",
      "3/3 [==============================] - 0s 18ms/step - loss: 0.8985 - accuracy: 0.3750 - val_loss: 0.9109 - val_accuracy: 0.3750\n",
      "Epoch 25/100\n",
      "3/3 [==============================] - 0s 18ms/step - loss: 0.8964 - accuracy: 0.4375 - val_loss: 0.8993 - val_accuracy: 0.4167\n",
      "Epoch 26/100\n",
      "3/3 [==============================] - 0s 18ms/step - loss: 0.8829 - accuracy: 0.4375 - val_loss: 0.8911 - val_accuracy: 0.4583\n",
      "Epoch 27/100\n",
      "3/3 [==============================] - 0s 20ms/step - loss: 0.8739 - accuracy: 0.4375 - val_loss: 0.8828 - val_accuracy: 0.4583\n",
      "Epoch 28/100\n",
      "3/3 [==============================] - 0s 20ms/step - loss: 0.8668 - accuracy: 0.4583 - val_loss: 0.8688 - val_accuracy: 0.5833\n",
      "Epoch 29/100\n",
      "3/3 [==============================] - 0s 20ms/step - loss: 0.8600 - accuracy: 0.5104 - val_loss: 0.8585 - val_accuracy: 0.5833\n",
      "Epoch 30/100\n",
      "3/3 [==============================] - 0s 21ms/step - loss: 0.8490 - accuracy: 0.5625 - val_loss: 0.8536 - val_accuracy: 0.6250\n",
      "Epoch 31/100\n",
      "3/3 [==============================] - 0s 24ms/step - loss: 0.8408 - accuracy: 0.5729 - val_loss: 0.8408 - val_accuracy: 0.6667\n",
      "Epoch 32/100\n",
      "3/3 [==============================] - 0s 17ms/step - loss: 0.8329 - accuracy: 0.5625 - val_loss: 0.8316 - val_accuracy: 0.6667\n",
      "Epoch 33/100\n",
      "3/3 [==============================] - 0s 16ms/step - loss: 0.8232 - accuracy: 0.5729 - val_loss: 0.8281 - val_accuracy: 0.7500\n",
      "Epoch 34/100\n",
      "3/3 [==============================] - 0s 18ms/step - loss: 0.8189 - accuracy: 0.7292 - val_loss: 0.8103 - val_accuracy: 0.7083\n",
      "Epoch 35/100\n",
      "3/3 [==============================] - 0s 18ms/step - loss: 0.8103 - accuracy: 0.6146 - val_loss: 0.8038 - val_accuracy: 0.7083\n",
      "Epoch 36/100\n",
      "3/3 [==============================] - 0s 17ms/step - loss: 0.7930 - accuracy: 0.6354 - val_loss: 0.7936 - val_accuracy: 0.7083\n",
      "Epoch 37/100\n",
      "3/3 [==============================] - 0s 18ms/step - loss: 0.7873 - accuracy: 0.6875 - val_loss: 0.7801 - val_accuracy: 0.7083\n",
      "Epoch 38/100\n",
      "3/3 [==============================] - 0s 16ms/step - loss: 0.7750 - accuracy: 0.6458 - val_loss: 0.7710 - val_accuracy: 0.7083\n",
      "Epoch 39/100\n",
      "3/3 [==============================] - 0s 17ms/step - loss: 0.7661 - accuracy: 0.6458 - val_loss: 0.7584 - val_accuracy: 0.7083\n",
      "Epoch 40/100\n",
      "3/3 [==============================] - 0s 17ms/step - loss: 0.7557 - accuracy: 0.6562 - val_loss: 0.7478 - val_accuracy: 0.7083\n",
      "Epoch 41/100\n",
      "3/3 [==============================] - 0s 15ms/step - loss: 0.7459 - accuracy: 0.6667 - val_loss: 0.7389 - val_accuracy: 0.7083\n",
      "Epoch 42/100\n",
      "3/3 [==============================] - 0s 18ms/step - loss: 0.7356 - accuracy: 0.6667 - val_loss: 0.7285 - val_accuracy: 0.7083\n",
      "Epoch 43/100\n",
      "3/3 [==============================] - 0s 17ms/step - loss: 0.7294 - accuracy: 0.6875 - val_loss: 0.7151 - val_accuracy: 0.7083\n",
      "Epoch 44/100\n",
      "3/3 [==============================] - 0s 17ms/step - loss: 0.7156 - accuracy: 0.6562 - val_loss: 0.7091 - val_accuracy: 0.7500\n",
      "Epoch 45/100\n",
      "3/3 [==============================] - 0s 16ms/step - loss: 0.7059 - accuracy: 0.6771 - val_loss: 0.6996 - val_accuracy: 0.7917\n",
      "Epoch 46/100\n",
      "3/3 [==============================] - 0s 14ms/step - loss: 0.6952 - accuracy: 0.7396 - val_loss: 0.6827 - val_accuracy: 0.7083\n",
      "Epoch 47/100\n",
      "3/3 [==============================] - 0s 16ms/step - loss: 0.6831 - accuracy: 0.6562 - val_loss: 0.6759 - val_accuracy: 0.7083\n",
      "Epoch 48/100\n",
      "3/3 [==============================] - 0s 16ms/step - loss: 0.6719 - accuracy: 0.7188 - val_loss: 0.6636 - val_accuracy: 0.7083\n",
      "Epoch 49/100\n",
      "3/3 [==============================] - 0s 15ms/step - loss: 0.6648 - accuracy: 0.7188 - val_loss: 0.6507 - val_accuracy: 0.7500\n",
      "Epoch 50/100\n",
      "3/3 [==============================] - 0s 15ms/step - loss: 0.6585 - accuracy: 0.7500 - val_loss: 0.6388 - val_accuracy: 0.7500\n",
      "Epoch 51/100\n",
      "3/3 [==============================] - 0s 14ms/step - loss: 0.6443 - accuracy: 0.6875 - val_loss: 0.6313 - val_accuracy: 0.7500\n",
      "Epoch 52/100\n",
      "3/3 [==============================] - 0s 16ms/step - loss: 0.6324 - accuracy: 0.7292 - val_loss: 0.6225 - val_accuracy: 0.7500\n",
      "Epoch 53/100\n",
      "3/3 [==============================] - 0s 17ms/step - loss: 0.6251 - accuracy: 0.6875 - val_loss: 0.6179 - val_accuracy: 0.7500\n",
      "Epoch 54/100\n",
      "3/3 [==============================] - 0s 17ms/step - loss: 0.6106 - accuracy: 0.7604 - val_loss: 0.6062 - val_accuracy: 0.7500\n",
      "Epoch 55/100\n",
      "3/3 [==============================] - 0s 18ms/step - loss: 0.6034 - accuracy: 0.7292 - val_loss: 0.6006 - val_accuracy: 0.7500\n",
      "Epoch 56/100\n",
      "3/3 [==============================] - 0s 17ms/step - loss: 0.5949 - accuracy: 0.7604 - val_loss: 0.5921 - val_accuracy: 0.7500\n",
      "Epoch 57/100\n",
      "3/3 [==============================] - 0s 17ms/step - loss: 0.5900 - accuracy: 0.7188 - val_loss: 0.5797 - val_accuracy: 0.7500\n",
      "Epoch 58/100\n",
      "3/3 [==============================] - 0s 18ms/step - loss: 0.5761 - accuracy: 0.7708 - val_loss: 0.5736 - val_accuracy: 0.7500\n",
      "Epoch 59/100\n",
      "3/3 [==============================] - 0s 16ms/step - loss: 0.5667 - accuracy: 0.7708 - val_loss: 0.5649 - val_accuracy: 0.7500\n",
      "Epoch 60/100\n",
      "3/3 [==============================] - 0s 15ms/step - loss: 0.5558 - accuracy: 0.7292 - val_loss: 0.5658 - val_accuracy: 0.7083\n",
      "Epoch 61/100\n",
      "3/3 [==============================] - 0s 14ms/step - loss: 0.5536 - accuracy: 0.8125 - val_loss: 0.5566 - val_accuracy: 0.6667\n",
      "Epoch 62/100\n",
      "3/3 [==============================] - 0s 14ms/step - loss: 0.5381 - accuracy: 0.8021 - val_loss: 0.5485 - val_accuracy: 0.7500\n",
      "Epoch 63/100\n",
      "3/3 [==============================] - 0s 16ms/step - loss: 0.5368 - accuracy: 0.7292 - val_loss: 0.5478 - val_accuracy: 0.7083\n",
      "Epoch 64/100\n",
      "3/3 [==============================] - 0s 15ms/step - loss: 0.5244 - accuracy: 0.8438 - val_loss: 0.5391 - val_accuracy: 0.6667\n",
      "Epoch 65/100\n",
      "3/3 [==============================] - 0s 14ms/step - loss: 0.5222 - accuracy: 0.8646 - val_loss: 0.5263 - val_accuracy: 0.7500\n",
      "Epoch 66/100\n",
      "3/3 [==============================] - 0s 14ms/step - loss: 0.5102 - accuracy: 0.7708 - val_loss: 0.5233 - val_accuracy: 0.6667\n",
      "Epoch 67/100\n",
      "3/3 [==============================] - 0s 14ms/step - loss: 0.5037 - accuracy: 0.8021 - val_loss: 0.5190 - val_accuracy: 0.7083\n",
      "Epoch 68/100\n",
      "3/3 [==============================] - 0s 15ms/step - loss: 0.4981 - accuracy: 0.7917 - val_loss: 0.5115 - val_accuracy: 0.7083\n",
      "Epoch 69/100\n",
      "3/3 [==============================] - 0s 18ms/step - loss: 0.5180 - accuracy: 0.7292 - val_loss: 0.5089 - val_accuracy: 0.7083\n",
      "Epoch 70/100\n",
      "3/3 [==============================] - 0s 14ms/step - loss: 0.4983 - accuracy: 0.7708 - val_loss: 0.5050 - val_accuracy: 0.6667\n",
      "Epoch 71/100\n",
      "3/3 [==============================] - 0s 14ms/step - loss: 0.4841 - accuracy: 0.7917 - val_loss: 0.5034 - val_accuracy: 0.7083\n",
      "Epoch 72/100\n",
      "3/3 [==============================] - 0s 15ms/step - loss: 0.4815 - accuracy: 0.8333 - val_loss: 0.4997 - val_accuracy: 0.7083\n",
      "Epoch 73/100\n",
      "3/3 [==============================] - 0s 14ms/step - loss: 0.4810 - accuracy: 0.8750 - val_loss: 0.4912 - val_accuracy: 0.7083\n",
      "Epoch 74/100\n",
      "3/3 [==============================] - 0s 15ms/step - loss: 0.4675 - accuracy: 0.8438 - val_loss: 0.4895 - val_accuracy: 0.7083\n",
      "Epoch 75/100\n",
      "3/3 [==============================] - 0s 16ms/step - loss: 0.4663 - accuracy: 0.8438 - val_loss: 0.4869 - val_accuracy: 0.7083\n",
      "Epoch 76/100\n",
      "3/3 [==============================] - 0s 14ms/step - loss: 0.4647 - accuracy: 0.8542 - val_loss: 0.4789 - val_accuracy: 0.7083\n",
      "Epoch 77/100\n",
      "3/3 [==============================] - 0s 15ms/step - loss: 0.4549 - accuracy: 0.8542 - val_loss: 0.4750 - val_accuracy: 0.7083\n",
      "Epoch 78/100\n",
      "3/3 [==============================] - 0s 14ms/step - loss: 0.4557 - accuracy: 0.8333 - val_loss: 0.4697 - val_accuracy: 0.7500\n",
      "Epoch 79/100\n",
      "3/3 [==============================] - 0s 15ms/step - loss: 0.4520 - accuracy: 0.7708 - val_loss: 0.4721 - val_accuracy: 0.7083\n",
      "Epoch 80/100\n",
      "3/3 [==============================] - 0s 17ms/step - loss: 0.4448 - accuracy: 0.8438 - val_loss: 0.4719 - val_accuracy: 0.7500\n",
      "Epoch 81/100\n",
      "3/3 [==============================] - 0s 16ms/step - loss: 0.4417 - accuracy: 0.8229 - val_loss: 0.4698 - val_accuracy: 0.7500\n",
      "Epoch 82/100\n",
      "3/3 [==============================] - 0s 15ms/step - loss: 0.4485 - accuracy: 0.8021 - val_loss: 0.4689 - val_accuracy: 0.7500\n",
      "Epoch 83/100\n",
      "3/3 [==============================] - 0s 14ms/step - loss: 0.4337 - accuracy: 0.8750 - val_loss: 0.4558 - val_accuracy: 0.7083\n",
      "Epoch 84/100\n",
      "3/3 [==============================] - 0s 15ms/step - loss: 0.4280 - accuracy: 0.8750 - val_loss: 0.4552 - val_accuracy: 0.7083\n",
      "Epoch 85/100\n",
      "3/3 [==============================] - 0s 15ms/step - loss: 0.4267 - accuracy: 0.8542 - val_loss: 0.4577 - val_accuracy: 0.7500\n",
      "Epoch 86/100\n",
      "3/3 [==============================] - 0s 15ms/step - loss: 0.4299 - accuracy: 0.8750 - val_loss: 0.4472 - val_accuracy: 0.7083\n",
      "Epoch 87/100\n",
      "3/3 [==============================] - 0s 16ms/step - loss: 0.4189 - accuracy: 0.8333 - val_loss: 0.4492 - val_accuracy: 0.7083\n",
      "Epoch 88/100\n",
      "3/3 [==============================] - 0s 16ms/step - loss: 0.4225 - accuracy: 0.8646 - val_loss: 0.4424 - val_accuracy: 0.7083\n",
      "Epoch 89/100\n",
      "3/3 [==============================] - 0s 14ms/step - loss: 0.4151 - accuracy: 0.8750 - val_loss: 0.4399 - val_accuracy: 0.7083\n",
      "Epoch 90/100\n",
      "3/3 [==============================] - 0s 17ms/step - loss: 0.4095 - accuracy: 0.8958 - val_loss: 0.4381 - val_accuracy: 0.7500\n",
      "Epoch 91/100\n",
      "3/3 [==============================] - 0s 14ms/step - loss: 0.4166 - accuracy: 0.8646 - val_loss: 0.4362 - val_accuracy: 0.7500\n",
      "Epoch 92/100\n",
      "3/3 [==============================] - 0s 14ms/step - loss: 0.4129 - accuracy: 0.8438 - val_loss: 0.4352 - val_accuracy: 0.7083\n",
      "Epoch 93/100\n",
      "3/3 [==============================] - 0s 14ms/step - loss: 0.3999 - accuracy: 0.8854 - val_loss: 0.4368 - val_accuracy: 0.7500\n",
      "Epoch 94/100\n",
      "3/3 [==============================] - 0s 14ms/step - loss: 0.4040 - accuracy: 0.8333 - val_loss: 0.4379 - val_accuracy: 0.7500\n",
      "Epoch 95/100\n",
      "3/3 [==============================] - 0s 14ms/step - loss: 0.3981 - accuracy: 0.8958 - val_loss: 0.4313 - val_accuracy: 0.7083\n",
      "Epoch 96/100\n",
      "3/3 [==============================] - 0s 13ms/step - loss: 0.3917 - accuracy: 0.8958 - val_loss: 0.4305 - val_accuracy: 0.7500\n",
      "Epoch 97/100\n",
      "3/3 [==============================] - 0s 14ms/step - loss: 0.3994 - accuracy: 0.8646 - val_loss: 0.4289 - val_accuracy: 0.7500\n",
      "Epoch 98/100\n",
      "3/3 [==============================] - 0s 13ms/step - loss: 0.3902 - accuracy: 0.8750 - val_loss: 0.4252 - val_accuracy: 0.7083\n",
      "Epoch 99/100\n",
      "3/3 [==============================] - 0s 14ms/step - loss: 0.3996 - accuracy: 0.8438 - val_loss: 0.4283 - val_accuracy: 0.7500\n",
      "Epoch 100/100\n",
      "3/3 [==============================] - 0s 14ms/step - loss: 0.3829 - accuracy: 0.9062 - val_loss: 0.4284 - val_accuracy: 0.7500\n"
     ]
    }
   ],
   "source": [
    "model.compile(optimizer='rmsprop', loss='categorical_crossentropy', metrics='accuracy')\n",
    "\n",
    "history = model.fit(X_train, y_train, validation_split=0.2, epochs=100)"
   ]
  },
  {
   "cell_type": "code",
   "execution_count": 85,
   "metadata": {},
   "outputs": [],
   "source": [
    "import matplotlib.pyplot as plt"
   ]
  },
  {
   "cell_type": "code",
   "execution_count": 86,
   "metadata": {},
   "outputs": [
    {
     "data": {
      "image/png": "[encoded data removed]",
      "text/plain": [
       "<Figure size 432x288 with 2 Axes>"
      ]
     },
     "metadata": {
      "needs_background": "light"
     },
     "output_type": "display_data"
    }
   ],
   "source": [
    "fig, loss_ax = plt.subplots()\n",
    "\n",
    "acc_ax = loss_ax.twinx()\n",
    "\n",
    "loss_ax.plot(history_dict['loss'], 'y', label='Training Loss')\n",
    "loss_ax.plot(history_dict['val_loss'], 'r', label='Validation Loss')\n",
    "\n",
    "acc_ax.plot(history_dict['accuracy'], 'b', label='Training Accuracy')\n",
    "acc_ax.plot(history_dict['val_accuracy'], 'g', label='Validation Accuracy')\n",
    "\n",
    "loss_ax.set_xlabel('Epoch')\n",
    "loss_ax.set_ylabel('Loss')\n",
    "acc_ax.set_ylabel('Accuracy')\n",
    "\n",
    "loss_ax.legend(loc='upper left')\n",
    "acc_ax.legend(loc='lower left')\n",
    "\n",
    "plt.show()"
   ]
  },
  {
   "cell_type": "markdown",
   "metadata": {},
   "source": [
    "### 학습의 조기 종료와 Dropout 기능\n",
    "  * 과대 적합을 방지하는 방법으로 사용\n",
    "  * 학습 조기 종료 방식\n",
    "    * 훈련의 반복 횟수(epochs)를 크게 잡아놓고 훈련을 시키더라도 적정 수준의 성능이 감지되면 훈련을 멈추는 방식\n",
    "    * 과대 적합이 발생하기 전에 훈련을 마치게 됨\n",
    "  * Dropout 방식\n",
    "    * 과대 적합이 발생하기 쉬운 심층 신경망 구조에서 이를 방지할 수 있는 정규화 기법의 하나\n",
    "    * 작동 방식\n",
    "      * 레이어 사이마다 Dropout을 실행하면 훈련이 반복되는 과정 중에 무작위로 해당 레이어의 뉴런을 삭제"
   ]
  },
  {
   "cell_type": "code",
   "execution_count": 87,
   "metadata": {},
   "outputs": [],
   "source": [
    "from keras import models\n",
    "from keras import layers\n",
    "from keras.callbacks import EarlyStopping\n",
    "import matplotlib.pyplot as plt"
   ]
  },
  {
   "cell_type": "code",
   "execution_count": 88,
   "metadata": {},
   "outputs": [],
   "source": [
    "model = models.Sequential([\n",
    "    layers.Dense(2, input_shape=(4, )),\n",
    "    layers.Dense(3, activation='softmax')\n",
    "])\n",
    "\n",
    "model.compile(optimizer='rmsprop', loss='categorical_crossentropy', metrics=['accuracy'])"
   ]
  },
  {
   "cell_type": "code",
   "execution_count": 89,
   "metadata": {},
   "outputs": [
    {
     "name": "stdout",
     "output_type": "stream",
     "text": [
      "Epoch 1/1000\n",
      "3/3 [==============================] - 1s 118ms/step - loss: 5.9326 - accuracy: 0.3333 - val_loss: 5.9055 - val_accuracy: 0.3333\n",
      "Epoch 2/1000\n",
      "3/3 [==============================] - 0s 15ms/step - loss: 5.7672 - accuracy: 0.3333 - val_loss: 5.7905 - val_accuracy: 0.3333\n",
      "Epoch 3/1000\n",
      "3/3 [==============================] - 0s 16ms/step - loss: 5.6514 - accuracy: 0.3333 - val_loss: 5.6933 - val_accuracy: 0.3333\n",
      "Epoch 4/1000\n",
      "3/3 [==============================] - 0s 18ms/step - loss: 5.5514 - accuracy: 0.3333 - val_loss: 5.6050 - val_accuracy: 0.3333\n",
      "Epoch 5/1000\n",
      "3/3 [==============================] - 0s 19ms/step - loss: 5.4602 - accuracy: 0.3333 - val_loss: 5.5233 - val_accuracy: 0.3333\n",
      "Epoch 6/1000\n",
      "3/3 [==============================] - 0s 18ms/step - loss: 5.3759 - accuracy: 0.3333 - val_loss: 5.4463 - val_accuracy: 0.3333\n",
      "Epoch 7/1000\n",
      "3/3 [==============================] - 0s 18ms/step - loss: 5.2947 - accuracy: 0.3333 - val_loss: 5.3715 - val_accuracy: 0.3333\n",
      "Epoch 8/1000\n",
      "3/3 [==============================] - 0s 18ms/step - loss: 5.2161 - accuracy: 0.3333 - val_loss: 5.2984 - val_accuracy: 0.3333\n",
      "Epoch 9/1000\n",
      "3/3 [==============================] - 0s 15ms/step - loss: 5.1388 - accuracy: 0.3333 - val_loss: 5.2262 - val_accuracy: 0.3333\n",
      "Epoch 10/1000\n",
      "3/3 [==============================] - 0s 18ms/step - loss: 5.0633 - accuracy: 0.3333 - val_loss: 5.1568 - val_accuracy: 0.3333\n",
      "Epoch 11/1000\n",
      "3/3 [==============================] - 0s 18ms/step - loss: 4.9901 - accuracy: 0.3333 - val_loss: 5.0878 - val_accuracy: 0.3333\n",
      "Epoch 12/1000\n",
      "3/3 [==============================] - 0s 17ms/step - loss: 4.9171 - accuracy: 0.3333 - val_loss: 5.0193 - val_accuracy: 0.3333\n",
      "Epoch 13/1000\n",
      "3/3 [==============================] - 0s 15ms/step - loss: 4.8459 - accuracy: 0.3333 - val_loss: 4.9530 - val_accuracy: 0.3333\n",
      "Epoch 14/1000\n",
      "3/3 [==============================] - 0s 14ms/step - loss: 4.7748 - accuracy: 0.3333 - val_loss: 4.8863 - val_accuracy: 0.3333\n",
      "Epoch 15/1000\n",
      "3/3 [==============================] - 0s 17ms/step - loss: 4.7052 - accuracy: 0.3333 - val_loss: 4.8212 - val_accuracy: 0.3333\n",
      "Epoch 16/1000\n",
      "3/3 [==============================] - 0s 17ms/step - loss: 4.6356 - accuracy: 0.3333 - val_loss: 4.7556 - val_accuracy: 0.3333\n",
      "Epoch 17/1000\n",
      "3/3 [==============================] - 0s 17ms/step - loss: 4.5672 - accuracy: 0.3333 - val_loss: 4.6909 - val_accuracy: 0.3333\n",
      "Epoch 18/1000\n",
      "3/3 [==============================] - 0s 17ms/step - loss: 4.4990 - accuracy: 0.3333 - val_loss: 4.6276 - val_accuracy: 0.3333\n",
      "Epoch 19/1000\n",
      "3/3 [==============================] - 0s 16ms/step - loss: 4.4327 - accuracy: 0.3333 - val_loss: 4.5643 - val_accuracy: 0.3333\n",
      "Epoch 20/1000\n",
      "3/3 [==============================] - 0s 16ms/step - loss: 4.3658 - accuracy: 0.3333 - val_loss: 4.5020 - val_accuracy: 0.3333\n",
      "Epoch 21/1000\n",
      "3/3 [==============================] - 0s 16ms/step - loss: 4.3000 - accuracy: 0.3333 - val_loss: 4.4405 - val_accuracy: 0.3333\n",
      "Epoch 22/1000\n",
      "3/3 [==============================] - 0s 17ms/step - loss: 4.2360 - accuracy: 0.3333 - val_loss: 4.3801 - val_accuracy: 0.3333\n",
      "Epoch 23/1000\n",
      "3/3 [==============================] - 0s 16ms/step - loss: 4.1724 - accuracy: 0.3333 - val_loss: 4.3197 - val_accuracy: 0.3333\n",
      "Epoch 24/1000\n",
      "3/3 [==============================] - 0s 15ms/step - loss: 4.1094 - accuracy: 0.3333 - val_loss: 4.2610 - val_accuracy: 0.3333\n",
      "Epoch 25/1000\n",
      "3/3 [==============================] - 0s 15ms/step - loss: 4.0471 - accuracy: 0.3333 - val_loss: 4.2024 - val_accuracy: 0.3333\n",
      "Epoch 26/1000\n",
      "3/3 [==============================] - 0s 15ms/step - loss: 3.9866 - accuracy: 0.3333 - val_loss: 4.1444 - val_accuracy: 0.3333\n",
      "Epoch 27/1000\n",
      "3/3 [==============================] - 0s 15ms/step - loss: 3.9252 - accuracy: 0.3333 - val_loss: 4.0871 - val_accuracy: 0.3333\n",
      "Epoch 28/1000\n",
      "3/3 [==============================] - 0s 14ms/step - loss: 3.8649 - accuracy: 0.3333 - val_loss: 4.0299 - val_accuracy: 0.3333\n",
      "Epoch 29/1000\n",
      "3/3 [==============================] - 0s 15ms/step - loss: 3.8050 - accuracy: 0.3333 - val_loss: 3.9732 - val_accuracy: 0.3333\n",
      "Epoch 30/1000\n",
      "3/3 [==============================] - 0s 16ms/step - loss: 3.7466 - accuracy: 0.3333 - val_loss: 3.9177 - val_accuracy: 0.3333\n",
      "Epoch 31/1000\n",
      "3/3 [==============================] - 0s 19ms/step - loss: 3.6885 - accuracy: 0.3333 - val_loss: 3.8622 - val_accuracy: 0.3333\n",
      "Epoch 32/1000\n",
      "3/3 [==============================] - 0s 17ms/step - loss: 3.6328 - accuracy: 0.3333 - val_loss: 3.8083 - val_accuracy: 0.3333\n",
      "Epoch 33/1000\n",
      "3/3 [==============================] - 0s 15ms/step - loss: 3.5756 - accuracy: 0.3333 - val_loss: 3.7548 - val_accuracy: 0.3333\n",
      "Epoch 34/1000\n",
      "3/3 [==============================] - 0s 17ms/step - loss: 3.5206 - accuracy: 0.3333 - val_loss: 3.7012 - val_accuracy: 0.3333\n",
      "Epoch 35/1000\n",
      "3/3 [==============================] - 0s 16ms/step - loss: 3.4658 - accuracy: 0.3333 - val_loss: 3.6481 - val_accuracy: 0.3333\n",
      "Epoch 36/1000\n",
      "3/3 [==============================] - 0s 17ms/step - loss: 3.4111 - accuracy: 0.3333 - val_loss: 3.5954 - val_accuracy: 0.3333\n",
      "Epoch 37/1000\n",
      "3/3 [==============================] - 0s 16ms/step - loss: 3.3577 - accuracy: 0.3333 - val_loss: 3.5443 - val_accuracy: 0.3333\n",
      "Epoch 38/1000\n",
      "3/3 [==============================] - 0s 15ms/step - loss: 3.3055 - accuracy: 0.3333 - val_loss: 3.4930 - val_accuracy: 0.3333\n",
      "Epoch 39/1000\n",
      "3/3 [==============================] - 0s 16ms/step - loss: 3.2533 - accuracy: 0.3333 - val_loss: 3.4422 - val_accuracy: 0.3333\n",
      "Epoch 40/1000\n",
      "3/3 [==============================] - 0s 18ms/step - loss: 3.2023 - accuracy: 0.3333 - val_loss: 3.3919 - val_accuracy: 0.3333\n",
      "Epoch 41/1000\n",
      "3/3 [==============================] - 0s 17ms/step - loss: 3.1520 - accuracy: 0.3333 - val_loss: 3.3417 - val_accuracy: 0.3333\n",
      "Epoch 42/1000\n",
      "3/3 [==============================] - 0s 15ms/step - loss: 3.1024 - accuracy: 0.3333 - val_loss: 3.2925 - val_accuracy: 0.3333\n",
      "Epoch 43/1000\n",
      "3/3 [==============================] - 0s 16ms/step - loss: 3.0531 - accuracy: 0.3333 - val_loss: 3.2445 - val_accuracy: 0.3333\n",
      "Epoch 44/1000\n",
      "3/3 [==============================] - 0s 16ms/step - loss: 3.0051 - accuracy: 0.3333 - val_loss: 3.1965 - val_accuracy: 0.3333\n",
      "Epoch 45/1000\n",
      "3/3 [==============================] - 0s 14ms/step - loss: 2.9572 - accuracy: 0.3333 - val_loss: 3.1481 - val_accuracy: 0.3333\n",
      "Epoch 46/1000\n",
      "3/3 [==============================] - 0s 15ms/step - loss: 2.9108 - accuracy: 0.3333 - val_loss: 3.1004 - val_accuracy: 0.3333\n",
      "Epoch 47/1000\n",
      "3/3 [==============================] - 0s 14ms/step - loss: 2.8634 - accuracy: 0.3333 - val_loss: 3.0523 - val_accuracy: 0.3333\n",
      "Epoch 48/1000\n",
      "3/3 [==============================] - 0s 15ms/step - loss: 2.8170 - accuracy: 0.3333 - val_loss: 3.0044 - val_accuracy: 0.3333\n",
      "Epoch 49/1000\n",
      "3/3 [==============================] - 0s 16ms/step - loss: 2.7709 - accuracy: 0.3333 - val_loss: 2.9564 - val_accuracy: 0.3333\n",
      "Epoch 50/1000\n",
      "3/3 [==============================] - 0s 15ms/step - loss: 2.7255 - accuracy: 0.3333 - val_loss: 2.9090 - val_accuracy: 0.3333\n",
      "Epoch 51/1000\n",
      "3/3 [==============================] - 0s 15ms/step - loss: 2.6802 - accuracy: 0.3333 - val_loss: 2.8613 - val_accuracy: 0.3333\n",
      "Epoch 52/1000\n",
      "3/3 [==============================] - 0s 15ms/step - loss: 2.6353 - accuracy: 0.3333 - val_loss: 2.8137 - val_accuracy: 0.3333\n",
      "Epoch 53/1000\n",
      "3/3 [==============================] - 0s 15ms/step - loss: 2.5908 - accuracy: 0.3333 - val_loss: 2.7662 - val_accuracy: 0.3333\n",
      "Epoch 54/1000\n",
      "3/3 [==============================] - 0s 18ms/step - loss: 2.5475 - accuracy: 0.3333 - val_loss: 2.7199 - val_accuracy: 0.3333\n",
      "Epoch 55/1000\n",
      "3/3 [==============================] - 0s 17ms/step - loss: 2.5035 - accuracy: 0.3333 - val_loss: 2.6747 - val_accuracy: 0.3333\n",
      "Epoch 56/1000\n",
      "3/3 [==============================] - 0s 16ms/step - loss: 2.4610 - accuracy: 0.3333 - val_loss: 2.6293 - val_accuracy: 0.3333\n",
      "Epoch 57/1000\n",
      "3/3 [==============================] - 0s 15ms/step - loss: 2.4186 - accuracy: 0.3333 - val_loss: 2.5840 - val_accuracy: 0.3333\n",
      "Epoch 58/1000\n",
      "3/3 [==============================] - 0s 14ms/step - loss: 2.3769 - accuracy: 0.3333 - val_loss: 2.5388 - val_accuracy: 0.3333\n",
      "Epoch 59/1000\n",
      "3/3 [==============================] - 0s 15ms/step - loss: 2.3342 - accuracy: 0.3333 - val_loss: 2.4935 - val_accuracy: 0.3333\n",
      "Epoch 60/1000\n",
      "3/3 [==============================] - 0s 15ms/step - loss: 2.2930 - accuracy: 0.3333 - val_loss: 2.4489 - val_accuracy: 0.3333\n",
      "Epoch 61/1000\n",
      "3/3 [==============================] - 0s 18ms/step - loss: 2.2523 - accuracy: 0.3333 - val_loss: 2.4043 - val_accuracy: 0.3333\n",
      "Epoch 62/1000\n",
      "3/3 [==============================] - 0s 15ms/step - loss: 2.2114 - accuracy: 0.3333 - val_loss: 2.3596 - val_accuracy: 0.3333\n",
      "Epoch 63/1000\n",
      "3/3 [==============================] - 0s 16ms/step - loss: 2.1708 - accuracy: 0.3333 - val_loss: 2.3150 - val_accuracy: 0.3333\n",
      "Epoch 64/1000\n",
      "3/3 [==============================] - 0s 15ms/step - loss: 2.1308 - accuracy: 0.3333 - val_loss: 2.2713 - val_accuracy: 0.3333\n",
      "Epoch 65/1000\n",
      "3/3 [==============================] - 0s 16ms/step - loss: 2.0906 - accuracy: 0.3333 - val_loss: 2.2267 - val_accuracy: 0.3333\n",
      "Epoch 66/1000\n",
      "3/3 [==============================] - 0s 16ms/step - loss: 2.0507 - accuracy: 0.3333 - val_loss: 2.1830 - val_accuracy: 0.3333\n",
      "Epoch 67/1000\n",
      "3/3 [==============================] - 0s 17ms/step - loss: 2.0114 - accuracy: 0.3333 - val_loss: 2.1396 - val_accuracy: 0.3333\n",
      "Epoch 68/1000\n",
      "3/3 [==============================] - 0s 16ms/step - loss: 1.9729 - accuracy: 0.3333 - val_loss: 2.0962 - val_accuracy: 0.3333\n",
      "Epoch 69/1000\n",
      "3/3 [==============================] - 0s 15ms/step - loss: 1.9341 - accuracy: 0.3333 - val_loss: 2.0529 - val_accuracy: 0.3333\n",
      "Epoch 70/1000\n",
      "3/3 [==============================] - 0s 17ms/step - loss: 1.8966 - accuracy: 0.3333 - val_loss: 2.0107 - val_accuracy: 0.3333\n",
      "Epoch 71/1000\n",
      "3/3 [==============================] - 0s 16ms/step - loss: 1.8584 - accuracy: 0.3333 - val_loss: 1.9688 - val_accuracy: 0.3333\n",
      "Epoch 72/1000\n",
      "3/3 [==============================] - 0s 15ms/step - loss: 1.8215 - accuracy: 0.3333 - val_loss: 1.9268 - val_accuracy: 0.3333\n",
      "Epoch 73/1000\n",
      "3/3 [==============================] - 0s 14ms/step - loss: 1.7837 - accuracy: 0.3333 - val_loss: 1.8842 - val_accuracy: 0.3333\n",
      "Epoch 74/1000\n",
      "3/3 [==============================] - 0s 15ms/step - loss: 1.7469 - accuracy: 0.3333 - val_loss: 1.8424 - val_accuracy: 0.3333\n",
      "Epoch 75/1000\n",
      "3/3 [==============================] - 0s 15ms/step - loss: 1.7103 - accuracy: 0.3333 - val_loss: 1.8006 - val_accuracy: 0.3333\n",
      "Epoch 76/1000\n",
      "3/3 [==============================] - 0s 15ms/step - loss: 1.6739 - accuracy: 0.3333 - val_loss: 1.7595 - val_accuracy: 0.3333\n",
      "Epoch 77/1000\n",
      "3/3 [==============================] - 0s 16ms/step - loss: 1.6383 - accuracy: 0.3333 - val_loss: 1.7193 - val_accuracy: 0.3333\n",
      "Epoch 78/1000\n",
      "3/3 [==============================] - 0s 15ms/step - loss: 1.6030 - accuracy: 0.3333 - val_loss: 1.6797 - val_accuracy: 0.3333\n",
      "Epoch 79/1000\n",
      "3/3 [==============================] - 0s 14ms/step - loss: 1.5683 - accuracy: 0.3333 - val_loss: 1.6404 - val_accuracy: 0.3333\n",
      "Epoch 80/1000\n",
      "3/3 [==============================] - 0s 16ms/step - loss: 1.5346 - accuracy: 0.3333 - val_loss: 1.6018 - val_accuracy: 0.3333\n",
      "Epoch 81/1000\n",
      "3/3 [==============================] - 0s 15ms/step - loss: 1.5008 - accuracy: 0.3333 - val_loss: 1.5633 - val_accuracy: 0.3333\n",
      "Epoch 82/1000\n",
      "3/3 [==============================] - 0s 16ms/step - loss: 1.4669 - accuracy: 0.3333 - val_loss: 1.5242 - val_accuracy: 0.3333\n",
      "Epoch 83/1000\n",
      "3/3 [==============================] - 0s 17ms/step - loss: 1.4332 - accuracy: 0.3333 - val_loss: 1.4851 - val_accuracy: 0.3333\n",
      "Epoch 84/1000\n",
      "3/3 [==============================] - 0s 16ms/step - loss: 1.4003 - accuracy: 0.3333 - val_loss: 1.4479 - val_accuracy: 0.3333\n",
      "Epoch 85/1000\n",
      "3/3 [==============================] - 0s 16ms/step - loss: 1.3680 - accuracy: 0.3333 - val_loss: 1.4110 - val_accuracy: 0.3333\n",
      "Epoch 86/1000\n",
      "3/3 [==============================] - 0s 15ms/step - loss: 1.3366 - accuracy: 0.3333 - val_loss: 1.3745 - val_accuracy: 0.3333\n",
      "Epoch 87/1000\n",
      "3/3 [==============================] - 0s 17ms/step - loss: 1.3043 - accuracy: 0.3333 - val_loss: 1.3377 - val_accuracy: 0.3333\n",
      "Epoch 88/1000\n",
      "3/3 [==============================] - 0s 15ms/step - loss: 1.2727 - accuracy: 0.3333 - val_loss: 1.3014 - val_accuracy: 0.3333\n",
      "Epoch 89/1000\n",
      "3/3 [==============================] - 0s 14ms/step - loss: 1.2422 - accuracy: 0.3333 - val_loss: 1.2657 - val_accuracy: 0.3333\n",
      "Epoch 90/1000\n",
      "3/3 [==============================] - 0s 17ms/step - loss: 1.2120 - accuracy: 0.3333 - val_loss: 1.2311 - val_accuracy: 0.3333\n",
      "Epoch 91/1000\n",
      "3/3 [==============================] - 0s 17ms/step - loss: 1.1827 - accuracy: 0.3333 - val_loss: 1.1975 - val_accuracy: 0.3333\n",
      "Epoch 92/1000\n",
      "3/3 [==============================] - 0s 17ms/step - loss: 1.1540 - accuracy: 0.3333 - val_loss: 1.1640 - val_accuracy: 0.3333\n",
      "Epoch 93/1000\n",
      "3/3 [==============================] - 0s 15ms/step - loss: 1.1257 - accuracy: 0.3333 - val_loss: 1.1320 - val_accuracy: 0.3333\n",
      "Epoch 94/1000\n",
      "3/3 [==============================] - 0s 16ms/step - loss: 1.0999 - accuracy: 0.3333 - val_loss: 1.1014 - val_accuracy: 0.3333\n",
      "Epoch 95/1000\n",
      "3/3 [==============================] - 0s 15ms/step - loss: 1.0728 - accuracy: 0.3333 - val_loss: 1.0713 - val_accuracy: 0.3333\n",
      "Epoch 96/1000\n",
      "3/3 [==============================] - 0s 16ms/step - loss: 1.0481 - accuracy: 0.3333 - val_loss: 1.0427 - val_accuracy: 0.3333\n",
      "Epoch 97/1000\n",
      "3/3 [==============================] - 0s 14ms/step - loss: 1.0240 - accuracy: 0.3333 - val_loss: 1.0151 - val_accuracy: 0.3333\n",
      "Epoch 98/1000\n",
      "3/3 [==============================] - 0s 18ms/step - loss: 1.0005 - accuracy: 0.3333 - val_loss: 0.9889 - val_accuracy: 0.3333\n",
      "Epoch 99/1000\n",
      "3/3 [==============================] - 0s 17ms/step - loss: 0.9787 - accuracy: 0.3333 - val_loss: 0.9635 - val_accuracy: 0.3333\n",
      "Epoch 100/1000\n",
      "3/3 [==============================] - 0s 16ms/step - loss: 0.9579 - accuracy: 0.3333 - val_loss: 0.9396 - val_accuracy: 0.3333\n",
      "Epoch 101/1000\n",
      "3/3 [==============================] - 0s 17ms/step - loss: 0.9381 - accuracy: 0.3333 - val_loss: 0.9172 - val_accuracy: 0.3333\n",
      "Epoch 102/1000\n",
      "3/3 [==============================] - 0s 16ms/step - loss: 0.9194 - accuracy: 0.3333 - val_loss: 0.8957 - val_accuracy: 0.3750\n",
      "Epoch 103/1000\n",
      "3/3 [==============================] - 0s 16ms/step - loss: 0.9022 - accuracy: 0.3438 - val_loss: 0.8769 - val_accuracy: 0.3750\n",
      "Epoch 104/1000\n",
      "3/3 [==============================] - 0s 14ms/step - loss: 0.8869 - accuracy: 0.3438 - val_loss: 0.8585 - val_accuracy: 0.4167\n",
      "Epoch 105/1000\n",
      "3/3 [==============================] - 0s 15ms/step - loss: 0.8713 - accuracy: 0.3646 - val_loss: 0.8418 - val_accuracy: 0.5000\n",
      "Epoch 106/1000\n",
      "3/3 [==============================] - 0s 17ms/step - loss: 0.8576 - accuracy: 0.3958 - val_loss: 0.8263 - val_accuracy: 0.5833\n",
      "Epoch 107/1000\n",
      "3/3 [==============================] - 0s 17ms/step - loss: 0.8455 - accuracy: 0.4583 - val_loss: 0.8118 - val_accuracy: 0.6667\n",
      "Epoch 108/1000\n",
      "3/3 [==============================] - 0s 16ms/step - loss: 0.8328 - accuracy: 0.5312 - val_loss: 0.7984 - val_accuracy: 0.6667\n",
      "Epoch 109/1000\n",
      "3/3 [==============================] - 0s 17ms/step - loss: 0.8217 - accuracy: 0.5938 - val_loss: 0.7861 - val_accuracy: 0.7083\n",
      "Epoch 110/1000\n",
      "3/3 [==============================] - 0s 15ms/step - loss: 0.8113 - accuracy: 0.6146 - val_loss: 0.7743 - val_accuracy: 0.7083\n",
      "Epoch 111/1000\n",
      "3/3 [==============================] - 0s 15ms/step - loss: 0.8015 - accuracy: 0.6354 - val_loss: 0.7634 - val_accuracy: 0.7083\n",
      "Epoch 112/1000\n",
      "3/3 [==============================] - 0s 14ms/step - loss: 0.7926 - accuracy: 0.6562 - val_loss: 0.7536 - val_accuracy: 0.7083\n",
      "Epoch 113/1000\n",
      "3/3 [==============================] - 0s 16ms/step - loss: 0.7839 - accuracy: 0.6562 - val_loss: 0.7440 - val_accuracy: 0.7083\n",
      "Epoch 114/1000\n",
      "3/3 [==============================] - 0s 19ms/step - loss: 0.7767 - accuracy: 0.6562 - val_loss: 0.7353 - val_accuracy: 0.7500\n",
      "Epoch 115/1000\n",
      "3/3 [==============================] - 0s 18ms/step - loss: 0.7683 - accuracy: 0.6562 - val_loss: 0.7269 - val_accuracy: 0.7500\n",
      "Epoch 116/1000\n",
      "3/3 [==============================] - 0s 17ms/step - loss: 0.7615 - accuracy: 0.6458 - val_loss: 0.7187 - val_accuracy: 0.7500\n",
      "Epoch 117/1000\n",
      "3/3 [==============================] - 0s 19ms/step - loss: 0.7548 - accuracy: 0.6458 - val_loss: 0.7120 - val_accuracy: 0.7500\n",
      "Epoch 118/1000\n",
      "3/3 [==============================] - 0s 20ms/step - loss: 0.7482 - accuracy: 0.6458 - val_loss: 0.7049 - val_accuracy: 0.7500\n",
      "Epoch 119/1000\n",
      "3/3 [==============================] - 0s 18ms/step - loss: 0.7426 - accuracy: 0.6458 - val_loss: 0.6986 - val_accuracy: 0.7500\n",
      "Epoch 120/1000\n",
      "3/3 [==============================] - 0s 21ms/step - loss: 0.7367 - accuracy: 0.6354 - val_loss: 0.6921 - val_accuracy: 0.7500\n",
      "Epoch 121/1000\n",
      "3/3 [==============================] - 0s 19ms/step - loss: 0.7316 - accuracy: 0.6458 - val_loss: 0.6861 - val_accuracy: 0.7917\n",
      "Epoch 122/1000\n",
      "3/3 [==============================] - 0s 21ms/step - loss: 0.7278 - accuracy: 0.6250 - val_loss: 0.6805 - val_accuracy: 0.7500\n",
      "Epoch 123/1000\n",
      "3/3 [==============================] - 0s 20ms/step - loss: 0.7215 - accuracy: 0.6250 - val_loss: 0.6757 - val_accuracy: 0.7500\n",
      "Epoch 124/1000\n",
      "3/3 [==============================] - 0s 18ms/step - loss: 0.7174 - accuracy: 0.6042 - val_loss: 0.6709 - val_accuracy: 0.7500\n",
      "Epoch 125/1000\n",
      "3/3 [==============================] - 0s 19ms/step - loss: 0.7135 - accuracy: 0.5729 - val_loss: 0.6660 - val_accuracy: 0.7500\n",
      "Epoch 126/1000\n",
      "3/3 [==============================] - 0s 18ms/step - loss: 0.7092 - accuracy: 0.5938 - val_loss: 0.6620 - val_accuracy: 0.7500\n",
      "Epoch 127/1000\n",
      "3/3 [==============================] - 0s 19ms/step - loss: 0.7060 - accuracy: 0.5729 - val_loss: 0.6581 - val_accuracy: 0.7500\n",
      "Epoch 128/1000\n",
      "3/3 [==============================] - 0s 18ms/step - loss: 0.7014 - accuracy: 0.5729 - val_loss: 0.6542 - val_accuracy: 0.7500\n",
      "Epoch 129/1000\n",
      "3/3 [==============================] - 0s 16ms/step - loss: 0.6982 - accuracy: 0.5833 - val_loss: 0.6501 - val_accuracy: 0.7500\n",
      "Epoch 130/1000\n",
      "3/3 [==============================] - 0s 22ms/step - loss: 0.6946 - accuracy: 0.5833 - val_loss: 0.6464 - val_accuracy: 0.7083\n",
      "Epoch 131/1000\n",
      "3/3 [==============================] - 0s 19ms/step - loss: 0.6914 - accuracy: 0.5729 - val_loss: 0.6431 - val_accuracy: 0.7500\n",
      "Epoch 132/1000\n",
      "3/3 [==============================] - 0s 18ms/step - loss: 0.6877 - accuracy: 0.5938 - val_loss: 0.6395 - val_accuracy: 0.7500\n",
      "Epoch 133/1000\n",
      "3/3 [==============================] - 0s 17ms/step - loss: 0.6840 - accuracy: 0.6042 - val_loss: 0.6357 - val_accuracy: 0.7500\n",
      "Epoch 134/1000\n",
      "3/3 [==============================] - 0s 18ms/step - loss: 0.6826 - accuracy: 0.5833 - val_loss: 0.6323 - val_accuracy: 0.7917\n",
      "Epoch 135/1000\n",
      "3/3 [==============================] - 0s 17ms/step - loss: 0.6785 - accuracy: 0.6042 - val_loss: 0.6295 - val_accuracy: 0.7917\n",
      "Epoch 136/1000\n",
      "3/3 [==============================] - 0s 17ms/step - loss: 0.6752 - accuracy: 0.5938 - val_loss: 0.6264 - val_accuracy: 0.7083\n",
      "Epoch 137/1000\n",
      "3/3 [==============================] - 0s 17ms/step - loss: 0.6714 - accuracy: 0.6042 - val_loss: 0.6231 - val_accuracy: 0.6667\n",
      "Epoch 138/1000\n",
      "3/3 [==============================] - 0s 18ms/step - loss: 0.6688 - accuracy: 0.6042 - val_loss: 0.6198 - val_accuracy: 0.6667\n",
      "Epoch 139/1000\n",
      "3/3 [==============================] - 0s 18ms/step - loss: 0.6665 - accuracy: 0.6146 - val_loss: 0.6170 - val_accuracy: 0.6667\n",
      "Epoch 140/1000\n",
      "3/3 [==============================] - 0s 16ms/step - loss: 0.6627 - accuracy: 0.5938 - val_loss: 0.6142 - val_accuracy: 0.6667\n",
      "Epoch 141/1000\n",
      "3/3 [==============================] - 0s 17ms/step - loss: 0.6599 - accuracy: 0.5938 - val_loss: 0.6107 - val_accuracy: 0.6667\n",
      "Epoch 142/1000\n",
      "3/3 [==============================] - 0s 16ms/step - loss: 0.6566 - accuracy: 0.6042 - val_loss: 0.6075 - val_accuracy: 0.6667\n",
      "Epoch 143/1000\n",
      "3/3 [==============================] - 0s 21ms/step - loss: 0.6539 - accuracy: 0.6146 - val_loss: 0.6041 - val_accuracy: 0.6667\n",
      "Epoch 144/1000\n",
      "3/3 [==============================] - 0s 17ms/step - loss: 0.6510 - accuracy: 0.6042 - val_loss: 0.6009 - val_accuracy: 0.6667\n",
      "Epoch 145/1000\n",
      "3/3 [==============================] - 0s 18ms/step - loss: 0.6478 - accuracy: 0.6042 - val_loss: 0.5977 - val_accuracy: 0.6667\n",
      "Epoch 146/1000\n",
      "3/3 [==============================] - 0s 17ms/step - loss: 0.6469 - accuracy: 0.6250 - val_loss: 0.5956 - val_accuracy: 0.6667\n",
      "Epoch 147/1000\n",
      "3/3 [==============================] - 0s 16ms/step - loss: 0.6423 - accuracy: 0.6042 - val_loss: 0.5930 - val_accuracy: 0.7083\n",
      "Epoch 148/1000\n",
      "3/3 [==============================] - 0s 19ms/step - loss: 0.6398 - accuracy: 0.6146 - val_loss: 0.5900 - val_accuracy: 0.7083\n",
      "Epoch 149/1000\n",
      "3/3 [==============================] - 0s 20ms/step - loss: 0.6375 - accuracy: 0.5938 - val_loss: 0.5874 - val_accuracy: 0.7083\n",
      "Epoch 150/1000\n",
      "3/3 [==============================] - 0s 16ms/step - loss: 0.6351 - accuracy: 0.6250 - val_loss: 0.5845 - val_accuracy: 0.7083\n",
      "Epoch 151/1000\n",
      "3/3 [==============================] - 0s 15ms/step - loss: 0.6319 - accuracy: 0.6146 - val_loss: 0.5817 - val_accuracy: 0.7083\n",
      "Epoch 152/1000\n",
      "3/3 [==============================] - 0s 16ms/step - loss: 0.6292 - accuracy: 0.6042 - val_loss: 0.5786 - val_accuracy: 0.7083\n",
      "Epoch 153/1000\n",
      "3/3 [==============================] - 0s 17ms/step - loss: 0.6269 - accuracy: 0.5938 - val_loss: 0.5758 - val_accuracy: 0.7083\n",
      "Epoch 154/1000\n",
      "3/3 [==============================] - 0s 15ms/step - loss: 0.6243 - accuracy: 0.5938 - val_loss: 0.5730 - val_accuracy: 0.7083\n",
      "Epoch 155/1000\n",
      "3/3 [==============================] - 0s 16ms/step - loss: 0.6212 - accuracy: 0.6250 - val_loss: 0.5708 - val_accuracy: 0.7083\n",
      "Epoch 156/1000\n",
      "3/3 [==============================] - 0s 15ms/step - loss: 0.6189 - accuracy: 0.6354 - val_loss: 0.5684 - val_accuracy: 0.7083\n",
      "Epoch 157/1000\n",
      "3/3 [==============================] - 0s 17ms/step - loss: 0.6161 - accuracy: 0.5938 - val_loss: 0.5653 - val_accuracy: 0.7083\n",
      "Epoch 158/1000\n",
      "3/3 [==============================] - 0s 15ms/step - loss: 0.6135 - accuracy: 0.6042 - val_loss: 0.5628 - val_accuracy: 0.7083\n",
      "Epoch 159/1000\n",
      "3/3 [==============================] - 0s 16ms/step - loss: 0.6114 - accuracy: 0.6146 - val_loss: 0.5597 - val_accuracy: 0.7083\n",
      "Epoch 160/1000\n",
      "3/3 [==============================] - 0s 16ms/step - loss: 0.6086 - accuracy: 0.5938 - val_loss: 0.5568 - val_accuracy: 0.7083\n",
      "Epoch 161/1000\n",
      "3/3 [==============================] - 0s 17ms/step - loss: 0.6059 - accuracy: 0.6250 - val_loss: 0.5546 - val_accuracy: 0.7083\n",
      "Epoch 162/1000\n",
      "3/3 [==============================] - 0s 14ms/step - loss: 0.6040 - accuracy: 0.6250 - val_loss: 0.5525 - val_accuracy: 0.7083\n",
      "Epoch 163/1000\n",
      "3/3 [==============================] - 0s 15ms/step - loss: 0.6019 - accuracy: 0.6458 - val_loss: 0.5500 - val_accuracy: 0.7083\n",
      "Epoch 164/1000\n",
      "3/3 [==============================] - 0s 14ms/step - loss: 0.5984 - accuracy: 0.6250 - val_loss: 0.5473 - val_accuracy: 0.7083\n",
      "Epoch 165/1000\n",
      "3/3 [==============================] - 0s 17ms/step - loss: 0.5959 - accuracy: 0.6458 - val_loss: 0.5447 - val_accuracy: 0.7083\n",
      "Epoch 166/1000\n",
      "3/3 [==============================] - 0s 17ms/step - loss: 0.5942 - accuracy: 0.6250 - val_loss: 0.5421 - val_accuracy: 0.7083\n",
      "Epoch 167/1000\n",
      "3/3 [==============================] - 0s 17ms/step - loss: 0.5910 - accuracy: 0.6562 - val_loss: 0.5395 - val_accuracy: 0.7083\n",
      "Epoch 168/1000\n",
      "3/3 [==============================] - 0s 17ms/step - loss: 0.5895 - accuracy: 0.6458 - val_loss: 0.5373 - val_accuracy: 0.7083\n",
      "Epoch 169/1000\n",
      "3/3 [==============================] - 0s 17ms/step - loss: 0.5865 - accuracy: 0.6562 - val_loss: 0.5351 - val_accuracy: 0.6667\n",
      "Epoch 170/1000\n",
      "3/3 [==============================] - 0s 15ms/step - loss: 0.5844 - accuracy: 0.6458 - val_loss: 0.5331 - val_accuracy: 0.6667\n",
      "Epoch 171/1000\n",
      "3/3 [==============================] - 0s 15ms/step - loss: 0.5817 - accuracy: 0.6562 - val_loss: 0.5306 - val_accuracy: 0.6667\n",
      "Epoch 172/1000\n",
      "3/3 [==============================] - 0s 15ms/step - loss: 0.5797 - accuracy: 0.6562 - val_loss: 0.5281 - val_accuracy: 0.6667\n",
      "Epoch 173/1000\n",
      "3/3 [==============================] - 0s 18ms/step - loss: 0.5779 - accuracy: 0.6562 - val_loss: 0.5259 - val_accuracy: 0.6667\n",
      "Epoch 174/1000\n",
      "3/3 [==============================] - 0s 16ms/step - loss: 0.5755 - accuracy: 0.6562 - val_loss: 0.5234 - val_accuracy: 0.6250\n",
      "Epoch 175/1000\n",
      "3/3 [==============================] - 0s 18ms/step - loss: 0.5731 - accuracy: 0.6771 - val_loss: 0.5213 - val_accuracy: 0.6667\n",
      "Epoch 176/1000\n",
      "3/3 [==============================] - 0s 17ms/step - loss: 0.5711 - accuracy: 0.6771 - val_loss: 0.5193 - val_accuracy: 0.6667\n",
      "Epoch 177/1000\n",
      "3/3 [==============================] - 0s 22ms/step - loss: 0.5687 - accuracy: 0.6771 - val_loss: 0.5169 - val_accuracy: 0.6667\n",
      "Epoch 178/1000\n",
      "3/3 [==============================] - 0s 27ms/step - loss: 0.5661 - accuracy: 0.6979 - val_loss: 0.5146 - val_accuracy: 0.7500\n",
      "Epoch 179/1000\n",
      "3/3 [==============================] - 0s 18ms/step - loss: 0.5640 - accuracy: 0.6771 - val_loss: 0.5126 - val_accuracy: 0.7500\n",
      "Epoch 180/1000\n",
      "3/3 [==============================] - 0s 18ms/step - loss: 0.5618 - accuracy: 0.6979 - val_loss: 0.5104 - val_accuracy: 0.7500\n",
      "Epoch 181/1000\n",
      "3/3 [==============================] - 0s 18ms/step - loss: 0.5598 - accuracy: 0.6979 - val_loss: 0.5085 - val_accuracy: 0.7500\n",
      "Epoch 182/1000\n",
      "3/3 [==============================] - 0s 19ms/step - loss: 0.5583 - accuracy: 0.7292 - val_loss: 0.5065 - val_accuracy: 0.7500\n",
      "Epoch 183/1000\n",
      "3/3 [==============================] - 0s 19ms/step - loss: 0.5552 - accuracy: 0.7188 - val_loss: 0.5042 - val_accuracy: 0.7500\n",
      "Epoch 184/1000\n",
      "3/3 [==============================] - 0s 17ms/step - loss: 0.5538 - accuracy: 0.7188 - val_loss: 0.5022 - val_accuracy: 0.7500\n",
      "Epoch 185/1000\n",
      "3/3 [==============================] - 0s 17ms/step - loss: 0.5512 - accuracy: 0.7292 - val_loss: 0.5001 - val_accuracy: 0.7500\n",
      "Epoch 186/1000\n",
      "3/3 [==============================] - 0s 19ms/step - loss: 0.5499 - accuracy: 0.7292 - val_loss: 0.4982 - val_accuracy: 0.7500\n",
      "Epoch 187/1000\n",
      "3/3 [==============================] - 0s 18ms/step - loss: 0.5471 - accuracy: 0.7083 - val_loss: 0.4961 - val_accuracy: 0.7500\n",
      "Epoch 188/1000\n",
      "3/3 [==============================] - 0s 17ms/step - loss: 0.5455 - accuracy: 0.7292 - val_loss: 0.4946 - val_accuracy: 0.7917\n",
      "Epoch 189/1000\n",
      "3/3 [==============================] - 0s 17ms/step - loss: 0.5431 - accuracy: 0.7500 - val_loss: 0.4925 - val_accuracy: 0.7917\n",
      "Epoch 190/1000\n",
      "3/3 [==============================] - 0s 17ms/step - loss: 0.5422 - accuracy: 0.7396 - val_loss: 0.4909 - val_accuracy: 0.7917\n",
      "Epoch 191/1000\n",
      "3/3 [==============================] - 0s 18ms/step - loss: 0.5393 - accuracy: 0.7812 - val_loss: 0.4893 - val_accuracy: 0.7917\n",
      "Epoch 192/1000\n",
      "3/3 [==============================] - 0s 18ms/step - loss: 0.5373 - accuracy: 0.8021 - val_loss: 0.4873 - val_accuracy: 0.7917\n",
      "Epoch 193/1000\n",
      "3/3 [==============================] - 0s 18ms/step - loss: 0.5353 - accuracy: 0.8021 - val_loss: 0.4851 - val_accuracy: 0.7917\n",
      "Epoch 194/1000\n",
      "3/3 [==============================] - 0s 15ms/step - loss: 0.5337 - accuracy: 0.7708 - val_loss: 0.4836 - val_accuracy: 0.7917\n",
      "Epoch 195/1000\n",
      "3/3 [==============================] - 0s 18ms/step - loss: 0.5325 - accuracy: 0.7188 - val_loss: 0.4816 - val_accuracy: 0.7917\n",
      "Epoch 196/1000\n",
      "3/3 [==============================] - 0s 16ms/step - loss: 0.5299 - accuracy: 0.8125 - val_loss: 0.4797 - val_accuracy: 0.7917\n",
      "Epoch 197/1000\n",
      "3/3 [==============================] - 0s 17ms/step - loss: 0.5294 - accuracy: 0.7292 - val_loss: 0.4783 - val_accuracy: 0.7917\n",
      "Epoch 198/1000\n",
      "3/3 [==============================] - 0s 16ms/step - loss: 0.5261 - accuracy: 0.8021 - val_loss: 0.4767 - val_accuracy: 0.7917\n",
      "Epoch 199/1000\n",
      "3/3 [==============================] - 0s 17ms/step - loss: 0.5244 - accuracy: 0.7708 - val_loss: 0.4749 - val_accuracy: 0.7917\n",
      "Epoch 200/1000\n",
      "3/3 [==============================] - 0s 17ms/step - loss: 0.5226 - accuracy: 0.7604 - val_loss: 0.4734 - val_accuracy: 0.7917\n",
      "Epoch 201/1000\n",
      "3/3 [==============================] - 0s 19ms/step - loss: 0.5211 - accuracy: 0.8021 - val_loss: 0.4717 - val_accuracy: 0.7917\n",
      "Epoch 202/1000\n",
      "3/3 [==============================] - 0s 20ms/step - loss: 0.5195 - accuracy: 0.7917 - val_loss: 0.4700 - val_accuracy: 0.7917\n",
      "Epoch 203/1000\n",
      "3/3 [==============================] - 0s 17ms/step - loss: 0.5174 - accuracy: 0.7708 - val_loss: 0.4684 - val_accuracy: 0.7917\n",
      "Epoch 204/1000\n",
      "3/3 [==============================] - 0s 18ms/step - loss: 0.5158 - accuracy: 0.7708 - val_loss: 0.4666 - val_accuracy: 0.7917\n",
      "Epoch 205/1000\n",
      "3/3 [==============================] - 0s 19ms/step - loss: 0.5138 - accuracy: 0.8125 - val_loss: 0.4649 - val_accuracy: 0.7917\n",
      "Epoch 206/1000\n",
      "3/3 [==============================] - 0s 20ms/step - loss: 0.5123 - accuracy: 0.7708 - val_loss: 0.4635 - val_accuracy: 0.7917\n",
      "Epoch 207/1000\n",
      "3/3 [==============================] - 0s 18ms/step - loss: 0.5100 - accuracy: 0.7708 - val_loss: 0.4620 - val_accuracy: 0.8333\n",
      "Epoch 208/1000\n",
      "3/3 [==============================] - 0s 18ms/step - loss: 0.5084 - accuracy: 0.7917 - val_loss: 0.4605 - val_accuracy: 0.8333\n",
      "Epoch 209/1000\n",
      "3/3 [==============================] - 0s 21ms/step - loss: 0.5072 - accuracy: 0.8021 - val_loss: 0.4587 - val_accuracy: 0.8333\n",
      "Epoch 210/1000\n",
      "3/3 [==============================] - 0s 24ms/step - loss: 0.5055 - accuracy: 0.7812 - val_loss: 0.4573 - val_accuracy: 0.8333\n",
      "Epoch 211/1000\n",
      "3/3 [==============================] - 0s 26ms/step - loss: 0.5033 - accuracy: 0.7917 - val_loss: 0.4559 - val_accuracy: 0.8333\n",
      "Epoch 212/1000\n",
      "3/3 [==============================] - 0s 16ms/step - loss: 0.5031 - accuracy: 0.8021 - val_loss: 0.4544 - val_accuracy: 0.8333\n",
      "Epoch 213/1000\n",
      "3/3 [==============================] - 0s 16ms/step - loss: 0.4998 - accuracy: 0.8125 - val_loss: 0.4529 - val_accuracy: 0.8333\n",
      "Epoch 214/1000\n",
      "3/3 [==============================] - 0s 18ms/step - loss: 0.4982 - accuracy: 0.8229 - val_loss: 0.4516 - val_accuracy: 0.8333\n",
      "Epoch 215/1000\n",
      "3/3 [==============================] - 0s 17ms/step - loss: 0.4966 - accuracy: 0.8125 - val_loss: 0.4500 - val_accuracy: 0.8333\n",
      "Epoch 216/1000\n",
      "3/3 [==============================] - 0s 17ms/step - loss: 0.4953 - accuracy: 0.8229 - val_loss: 0.4485 - val_accuracy: 0.8333\n",
      "Epoch 217/1000\n",
      "3/3 [==============================] - 0s 19ms/step - loss: 0.4932 - accuracy: 0.8333 - val_loss: 0.4471 - val_accuracy: 0.8333\n",
      "Epoch 218/1000\n",
      "3/3 [==============================] - 0s 16ms/step - loss: 0.4916 - accuracy: 0.8229 - val_loss: 0.4458 - val_accuracy: 0.8333\n",
      "Epoch 219/1000\n",
      "3/3 [==============================] - 0s 15ms/step - loss: 0.4902 - accuracy: 0.8229 - val_loss: 0.4444 - val_accuracy: 0.8333\n",
      "Epoch 220/1000\n",
      "3/3 [==============================] - 0s 15ms/step - loss: 0.4893 - accuracy: 0.8438 - val_loss: 0.4432 - val_accuracy: 0.8333\n",
      "Epoch 221/1000\n",
      "3/3 [==============================] - 0s 15ms/step - loss: 0.4867 - accuracy: 0.8438 - val_loss: 0.4418 - val_accuracy: 0.8333\n",
      "Epoch 222/1000\n",
      "3/3 [==============================] - 0s 15ms/step - loss: 0.4860 - accuracy: 0.8229 - val_loss: 0.4403 - val_accuracy: 0.8333\n",
      "Epoch 223/1000\n",
      "3/3 [==============================] - 0s 16ms/step - loss: 0.4835 - accuracy: 0.8333 - val_loss: 0.4388 - val_accuracy: 0.8333\n",
      "Epoch 224/1000\n",
      "3/3 [==============================] - 0s 17ms/step - loss: 0.4819 - accuracy: 0.8333 - val_loss: 0.4376 - val_accuracy: 0.8333\n",
      "Epoch 225/1000\n",
      "3/3 [==============================] - 0s 18ms/step - loss: 0.4801 - accuracy: 0.8542 - val_loss: 0.4362 - val_accuracy: 0.8333\n",
      "Epoch 226/1000\n",
      "3/3 [==============================] - 0s 17ms/step - loss: 0.4792 - accuracy: 0.8542 - val_loss: 0.4348 - val_accuracy: 0.8333\n",
      "Epoch 227/1000\n",
      "3/3 [==============================] - 0s 15ms/step - loss: 0.4785 - accuracy: 0.8542 - val_loss: 0.4336 - val_accuracy: 0.8333\n",
      "Epoch 228/1000\n",
      "3/3 [==============================] - 0s 16ms/step - loss: 0.4757 - accuracy: 0.8542 - val_loss: 0.4326 - val_accuracy: 0.8333\n",
      "Epoch 229/1000\n",
      "3/3 [==============================] - 0s 15ms/step - loss: 0.4742 - accuracy: 0.8646 - val_loss: 0.4312 - val_accuracy: 0.8333\n",
      "Epoch 230/1000\n",
      "3/3 [==============================] - 0s 14ms/step - loss: 0.4734 - accuracy: 0.8646 - val_loss: 0.4299 - val_accuracy: 0.8333\n",
      "Epoch 231/1000\n",
      "3/3 [==============================] - 0s 14ms/step - loss: 0.4711 - accuracy: 0.8646 - val_loss: 0.4287 - val_accuracy: 0.8333\n",
      "Epoch 232/1000\n",
      "3/3 [==============================] - 0s 18ms/step - loss: 0.4701 - accuracy: 0.8750 - val_loss: 0.4273 - val_accuracy: 0.8333\n",
      "Epoch 233/1000\n",
      "3/3 [==============================] - 0s 16ms/step - loss: 0.4681 - accuracy: 0.8646 - val_loss: 0.4261 - val_accuracy: 0.8333\n",
      "Epoch 234/1000\n",
      "3/3 [==============================] - 0s 18ms/step - loss: 0.4679 - accuracy: 0.8333 - val_loss: 0.4249 - val_accuracy: 0.8750\n",
      "Epoch 235/1000\n",
      "3/3 [==============================] - 0s 18ms/step - loss: 0.4656 - accuracy: 0.8542 - val_loss: 0.4238 - val_accuracy: 0.8750\n",
      "Epoch 236/1000\n",
      "3/3 [==============================] - 0s 20ms/step - loss: 0.4639 - accuracy: 0.8958 - val_loss: 0.4225 - val_accuracy: 0.8750\n",
      "Epoch 237/1000\n",
      "3/3 [==============================] - 0s 16ms/step - loss: 0.4627 - accuracy: 0.8854 - val_loss: 0.4213 - val_accuracy: 0.8750\n",
      "Epoch 238/1000\n",
      "3/3 [==============================] - 0s 16ms/step - loss: 0.4612 - accuracy: 0.8646 - val_loss: 0.4201 - val_accuracy: 0.8750\n",
      "Epoch 239/1000\n",
      "3/3 [==============================] - 0s 14ms/step - loss: 0.4596 - accuracy: 0.8750 - val_loss: 0.4189 - val_accuracy: 0.8750\n",
      "Epoch 240/1000\n",
      "3/3 [==============================] - 0s 15ms/step - loss: 0.4580 - accuracy: 0.9062 - val_loss: 0.4178 - val_accuracy: 0.8750\n",
      "Epoch 241/1000\n",
      "3/3 [==============================] - 0s 16ms/step - loss: 0.4571 - accuracy: 0.8958 - val_loss: 0.4168 - val_accuracy: 0.8750\n",
      "Epoch 242/1000\n",
      "3/3 [==============================] - 0s 17ms/step - loss: 0.4570 - accuracy: 0.8958 - val_loss: 0.4161 - val_accuracy: 0.9167\n",
      "Epoch 243/1000\n",
      "3/3 [==============================] - 0s 15ms/step - loss: 0.4537 - accuracy: 0.8958 - val_loss: 0.4151 - val_accuracy: 0.9167\n",
      "Epoch 244/1000\n",
      "3/3 [==============================] - 0s 17ms/step - loss: 0.4528 - accuracy: 0.8854 - val_loss: 0.4140 - val_accuracy: 0.9167\n",
      "Epoch 245/1000\n",
      "3/3 [==============================] - 0s 17ms/step - loss: 0.4510 - accuracy: 0.9062 - val_loss: 0.4130 - val_accuracy: 0.9167\n",
      "Epoch 246/1000\n",
      "3/3 [==============================] - 0s 15ms/step - loss: 0.4495 - accuracy: 0.9062 - val_loss: 0.4118 - val_accuracy: 0.9167\n",
      "Epoch 247/1000\n",
      "3/3 [==============================] - 0s 14ms/step - loss: 0.4480 - accuracy: 0.9062 - val_loss: 0.4105 - val_accuracy: 0.9167\n",
      "Epoch 248/1000\n",
      "3/3 [==============================] - 0s 15ms/step - loss: 0.4466 - accuracy: 0.9062 - val_loss: 0.4093 - val_accuracy: 0.9167\n",
      "Epoch 249/1000\n",
      "3/3 [==============================] - 0s 14ms/step - loss: 0.4451 - accuracy: 0.9271 - val_loss: 0.4081 - val_accuracy: 0.9167\n",
      "Epoch 250/1000\n",
      "3/3 [==============================] - 0s 15ms/step - loss: 0.4439 - accuracy: 0.8958 - val_loss: 0.4068 - val_accuracy: 0.9167\n",
      "Epoch 251/1000\n",
      "3/3 [==============================] - 0s 16ms/step - loss: 0.4419 - accuracy: 0.9062 - val_loss: 0.4056 - val_accuracy: 0.9167\n",
      "Epoch 252/1000\n",
      "3/3 [==============================] - 0s 15ms/step - loss: 0.4405 - accuracy: 0.9062 - val_loss: 0.4043 - val_accuracy: 0.9167\n",
      "Epoch 253/1000\n",
      "3/3 [==============================] - 0s 15ms/step - loss: 0.4391 - accuracy: 0.9167 - val_loss: 0.4030 - val_accuracy: 0.9167\n",
      "Epoch 254/1000\n",
      "3/3 [==============================] - 0s 14ms/step - loss: 0.4381 - accuracy: 0.9375 - val_loss: 0.4019 - val_accuracy: 0.9167\n",
      "Epoch 255/1000\n",
      "3/3 [==============================] - 0s 17ms/step - loss: 0.4361 - accuracy: 0.9375 - val_loss: 0.4007 - val_accuracy: 0.9167\n",
      "Epoch 256/1000\n",
      "3/3 [==============================] - 0s 18ms/step - loss: 0.4344 - accuracy: 0.9479 - val_loss: 0.3995 - val_accuracy: 0.9167\n",
      "Epoch 257/1000\n",
      "3/3 [==============================] - 0s 18ms/step - loss: 0.4334 - accuracy: 0.9167 - val_loss: 0.3983 - val_accuracy: 0.9167\n",
      "Epoch 258/1000\n",
      "3/3 [==============================] - 0s 16ms/step - loss: 0.4317 - accuracy: 0.9062 - val_loss: 0.3972 - val_accuracy: 0.9167\n",
      "Epoch 259/1000\n",
      "3/3 [==============================] - 0s 22ms/step - loss: 0.4305 - accuracy: 0.9062 - val_loss: 0.3962 - val_accuracy: 0.9167\n",
      "Epoch 260/1000\n",
      "3/3 [==============================] - 0s 19ms/step - loss: 0.4287 - accuracy: 0.9479 - val_loss: 0.3950 - val_accuracy: 0.9167\n",
      "Epoch 261/1000\n",
      "3/3 [==============================] - 0s 17ms/step - loss: 0.4278 - accuracy: 0.9062 - val_loss: 0.3940 - val_accuracy: 0.9167\n",
      "Epoch 262/1000\n",
      "3/3 [==============================] - 0s 15ms/step - loss: 0.4270 - accuracy: 0.9375 - val_loss: 0.3932 - val_accuracy: 0.9167\n",
      "Epoch 263/1000\n",
      "3/3 [==============================] - 0s 15ms/step - loss: 0.4267 - accuracy: 0.9479 - val_loss: 0.3926 - val_accuracy: 0.9167\n",
      "Epoch 264/1000\n",
      "3/3 [==============================] - 0s 15ms/step - loss: 0.4239 - accuracy: 0.9583 - val_loss: 0.3918 - val_accuracy: 0.9167\n",
      "Epoch 265/1000\n",
      "3/3 [==============================] - 0s 15ms/step - loss: 0.4223 - accuracy: 0.9479 - val_loss: 0.3910 - val_accuracy: 0.9167\n",
      "Epoch 266/1000\n",
      "3/3 [==============================] - 0s 15ms/step - loss: 0.4218 - accuracy: 0.9479 - val_loss: 0.3901 - val_accuracy: 0.9167\n",
      "Epoch 267/1000\n",
      "3/3 [==============================] - 0s 15ms/step - loss: 0.4201 - accuracy: 0.9375 - val_loss: 0.3893 - val_accuracy: 0.9167\n",
      "Epoch 268/1000\n",
      "3/3 [==============================] - 0s 16ms/step - loss: 0.4188 - accuracy: 0.9479 - val_loss: 0.3884 - val_accuracy: 0.9167\n",
      "Epoch 269/1000\n",
      "3/3 [==============================] - 0s 15ms/step - loss: 0.4174 - accuracy: 0.9375 - val_loss: 0.3875 - val_accuracy: 0.9167\n",
      "Epoch 270/1000\n",
      "3/3 [==============================] - 0s 17ms/step - loss: 0.4171 - accuracy: 0.9479 - val_loss: 0.3866 - val_accuracy: 0.9583\n",
      "Epoch 271/1000\n",
      "3/3 [==============================] - 0s 14ms/step - loss: 0.4157 - accuracy: 0.9375 - val_loss: 0.3858 - val_accuracy: 0.9583\n",
      "Epoch 272/1000\n",
      "3/3 [==============================] - 0s 16ms/step - loss: 0.4143 - accuracy: 0.9583 - val_loss: 0.3849 - val_accuracy: 0.9583\n",
      "Epoch 273/1000\n",
      "3/3 [==============================] - 0s 13ms/step - loss: 0.4125 - accuracy: 0.9583 - val_loss: 0.3840 - val_accuracy: 0.9583\n",
      "Epoch 274/1000\n",
      "3/3 [==============================] - 0s 16ms/step - loss: 0.4112 - accuracy: 0.9583 - val_loss: 0.3830 - val_accuracy: 0.9583\n",
      "Epoch 275/1000\n",
      "3/3 [==============================] - 0s 14ms/step - loss: 0.4124 - accuracy: 0.9583 - val_loss: 0.3824 - val_accuracy: 0.9583\n",
      "Epoch 276/1000\n",
      "3/3 [==============================] - 0s 16ms/step - loss: 0.4091 - accuracy: 0.9583 - val_loss: 0.3816 - val_accuracy: 0.9583\n",
      "Epoch 277/1000\n",
      "3/3 [==============================] - 0s 15ms/step - loss: 0.4078 - accuracy: 0.9479 - val_loss: 0.3808 - val_accuracy: 0.9583\n",
      "Epoch 278/1000\n",
      "3/3 [==============================] - 0s 15ms/step - loss: 0.4070 - accuracy: 0.9479 - val_loss: 0.3799 - val_accuracy: 0.9583\n",
      "Epoch 279/1000\n",
      "3/3 [==============================] - 0s 15ms/step - loss: 0.4058 - accuracy: 0.9479 - val_loss: 0.3790 - val_accuracy: 0.9583\n",
      "Epoch 280/1000\n",
      "3/3 [==============================] - 0s 16ms/step - loss: 0.4049 - accuracy: 0.9271 - val_loss: 0.3782 - val_accuracy: 0.9583\n",
      "Epoch 281/1000\n",
      "3/3 [==============================] - 0s 17ms/step - loss: 0.4029 - accuracy: 0.9583 - val_loss: 0.3772 - val_accuracy: 0.9583\n",
      "Epoch 282/1000\n",
      "3/3 [==============================] - 0s 15ms/step - loss: 0.4017 - accuracy: 0.9479 - val_loss: 0.3763 - val_accuracy: 0.9583\n",
      "Epoch 283/1000\n",
      "3/3 [==============================] - 0s 14ms/step - loss: 0.4003 - accuracy: 0.9479 - val_loss: 0.3754 - val_accuracy: 0.9583\n",
      "Epoch 284/1000\n",
      "3/3 [==============================] - 0s 15ms/step - loss: 0.3991 - accuracy: 0.9583 - val_loss: 0.3744 - val_accuracy: 0.9583\n",
      "Epoch 285/1000\n",
      "3/3 [==============================] - 0s 14ms/step - loss: 0.3984 - accuracy: 0.9583 - val_loss: 0.3734 - val_accuracy: 0.9583\n",
      "Epoch 286/1000\n",
      "3/3 [==============================] - 0s 16ms/step - loss: 0.3971 - accuracy: 0.9583 - val_loss: 0.3725 - val_accuracy: 0.9583\n",
      "Epoch 287/1000\n",
      "3/3 [==============================] - 0s 15ms/step - loss: 0.3954 - accuracy: 0.9583 - val_loss: 0.3717 - val_accuracy: 0.9583\n",
      "Epoch 288/1000\n",
      "3/3 [==============================] - 0s 15ms/step - loss: 0.3939 - accuracy: 0.9583 - val_loss: 0.3708 - val_accuracy: 0.9583\n",
      "Epoch 289/1000\n",
      "3/3 [==============================] - 0s 15ms/step - loss: 0.3931 - accuracy: 0.9688 - val_loss: 0.3698 - val_accuracy: 0.9583\n",
      "Epoch 290/1000\n",
      "3/3 [==============================] - 0s 16ms/step - loss: 0.3916 - accuracy: 0.9688 - val_loss: 0.3689 - val_accuracy: 0.9583\n",
      "Epoch 291/1000\n",
      "3/3 [==============================] - 0s 17ms/step - loss: 0.3900 - accuracy: 0.9688 - val_loss: 0.3681 - val_accuracy: 0.9583\n",
      "Epoch 292/1000\n",
      "3/3 [==============================] - 0s 15ms/step - loss: 0.3886 - accuracy: 0.9688 - val_loss: 0.3670 - val_accuracy: 0.9583\n",
      "Epoch 293/1000\n",
      "3/3 [==============================] - 0s 15ms/step - loss: 0.3874 - accuracy: 0.9688 - val_loss: 0.3660 - val_accuracy: 0.9583\n",
      "Epoch 294/1000\n",
      "3/3 [==============================] - 0s 17ms/step - loss: 0.3858 - accuracy: 0.9688 - val_loss: 0.3647 - val_accuracy: 0.9583\n",
      "Epoch 295/1000\n",
      "3/3 [==============================] - 0s 15ms/step - loss: 0.3849 - accuracy: 0.9688 - val_loss: 0.3636 - val_accuracy: 0.9583\n",
      "Epoch 296/1000\n",
      "3/3 [==============================] - 0s 15ms/step - loss: 0.3834 - accuracy: 0.9688 - val_loss: 0.3625 - val_accuracy: 0.9583\n",
      "Epoch 297/1000\n",
      "3/3 [==============================] - 0s 14ms/step - loss: 0.3819 - accuracy: 0.9688 - val_loss: 0.3614 - val_accuracy: 0.9583\n",
      "Epoch 298/1000\n",
      "3/3 [==============================] - 0s 16ms/step - loss: 0.3808 - accuracy: 0.9583 - val_loss: 0.3606 - val_accuracy: 0.9583\n",
      "Epoch 299/1000\n",
      "3/3 [==============================] - 0s 16ms/step - loss: 0.3795 - accuracy: 0.9375 - val_loss: 0.3600 - val_accuracy: 0.9583\n",
      "Epoch 300/1000\n",
      "3/3 [==============================] - 0s 16ms/step - loss: 0.3796 - accuracy: 0.9583 - val_loss: 0.3593 - val_accuracy: 1.0000\n",
      "Epoch 301/1000\n",
      "3/3 [==============================] - 0s 17ms/step - loss: 0.3768 - accuracy: 0.9688 - val_loss: 0.3585 - val_accuracy: 1.0000\n",
      "Epoch 302/1000\n",
      "3/3 [==============================] - 0s 20ms/step - loss: 0.3754 - accuracy: 0.9688 - val_loss: 0.3576 - val_accuracy: 1.0000\n",
      "Epoch 303/1000\n",
      "3/3 [==============================] - 0s 15ms/step - loss: 0.3748 - accuracy: 0.9688 - val_loss: 0.3567 - val_accuracy: 1.0000\n",
      "Epoch 304/1000\n",
      "3/3 [==============================] - 0s 17ms/step - loss: 0.3730 - accuracy: 0.9688 - val_loss: 0.3557 - val_accuracy: 1.0000\n",
      "Epoch 305/1000\n",
      "3/3 [==============================] - 0s 14ms/step - loss: 0.3725 - accuracy: 0.9583 - val_loss: 0.3551 - val_accuracy: 1.0000\n",
      "Epoch 306/1000\n",
      "3/3 [==============================] - 0s 16ms/step - loss: 0.3706 - accuracy: 0.9688 - val_loss: 0.3544 - val_accuracy: 1.0000\n",
      "Epoch 307/1000\n",
      "3/3 [==============================] - 0s 16ms/step - loss: 0.3700 - accuracy: 0.9688 - val_loss: 0.3534 - val_accuracy: 1.0000\n",
      "Epoch 308/1000\n",
      "3/3 [==============================] - 0s 17ms/step - loss: 0.3680 - accuracy: 0.9688 - val_loss: 0.3525 - val_accuracy: 1.0000\n",
      "Epoch 309/1000\n",
      "3/3 [==============================] - 0s 16ms/step - loss: 0.3674 - accuracy: 0.9688 - val_loss: 0.3518 - val_accuracy: 1.0000\n",
      "Epoch 310/1000\n",
      "3/3 [==============================] - 0s 15ms/step - loss: 0.3662 - accuracy: 0.9688 - val_loss: 0.3507 - val_accuracy: 1.0000\n",
      "Epoch 311/1000\n",
      "3/3 [==============================] - 0s 15ms/step - loss: 0.3646 - accuracy: 0.9688 - val_loss: 0.3498 - val_accuracy: 1.0000\n",
      "Epoch 312/1000\n",
      "3/3 [==============================] - 0s 15ms/step - loss: 0.3631 - accuracy: 0.9688 - val_loss: 0.3489 - val_accuracy: 1.0000\n",
      "Epoch 313/1000\n",
      "3/3 [==============================] - 0s 14ms/step - loss: 0.3623 - accuracy: 0.9688 - val_loss: 0.3482 - val_accuracy: 1.0000\n",
      "Epoch 314/1000\n",
      "3/3 [==============================] - 0s 15ms/step - loss: 0.3611 - accuracy: 0.9688 - val_loss: 0.3474 - val_accuracy: 1.0000\n",
      "Epoch 315/1000\n",
      "3/3 [==============================] - 0s 17ms/step - loss: 0.3593 - accuracy: 0.9688 - val_loss: 0.3464 - val_accuracy: 1.0000\n",
      "Epoch 316/1000\n",
      "3/3 [==============================] - 0s 17ms/step - loss: 0.3586 - accuracy: 0.9688 - val_loss: 0.3457 - val_accuracy: 1.0000\n",
      "Epoch 317/1000\n",
      "3/3 [==============================] - 0s 16ms/step - loss: 0.3571 - accuracy: 0.9688 - val_loss: 0.3449 - val_accuracy: 1.0000\n",
      "Epoch 318/1000\n",
      "3/3 [==============================] - 0s 15ms/step - loss: 0.3556 - accuracy: 0.9688 - val_loss: 0.3439 - val_accuracy: 1.0000\n",
      "Epoch 319/1000\n",
      "3/3 [==============================] - 0s 15ms/step - loss: 0.3551 - accuracy: 0.9688 - val_loss: 0.3430 - val_accuracy: 1.0000\n",
      "Epoch 320/1000\n",
      "3/3 [==============================] - 0s 15ms/step - loss: 0.3535 - accuracy: 0.9792 - val_loss: 0.3419 - val_accuracy: 1.0000\n",
      "Epoch 321/1000\n",
      "3/3 [==============================] - 0s 16ms/step - loss: 0.3528 - accuracy: 0.9688 - val_loss: 0.3411 - val_accuracy: 1.0000\n",
      "Epoch 322/1000\n",
      "3/3 [==============================] - 0s 15ms/step - loss: 0.3513 - accuracy: 0.9688 - val_loss: 0.3402 - val_accuracy: 1.0000\n",
      "Epoch 323/1000\n",
      "3/3 [==============================] - 0s 17ms/step - loss: 0.3498 - accuracy: 0.9792 - val_loss: 0.3393 - val_accuracy: 1.0000\n",
      "Epoch 324/1000\n",
      "3/3 [==============================] - 0s 15ms/step - loss: 0.3490 - accuracy: 0.9688 - val_loss: 0.3386 - val_accuracy: 1.0000\n",
      "Epoch 325/1000\n",
      "3/3 [==============================] - 0s 16ms/step - loss: 0.3475 - accuracy: 0.9688 - val_loss: 0.3380 - val_accuracy: 1.0000\n",
      "Epoch 326/1000\n",
      "3/3 [==============================] - 0s 15ms/step - loss: 0.3468 - accuracy: 0.9688 - val_loss: 0.3373 - val_accuracy: 1.0000\n",
      "Epoch 327/1000\n",
      "3/3 [==============================] - 0s 14ms/step - loss: 0.3457 - accuracy: 0.9688 - val_loss: 0.3365 - val_accuracy: 1.0000\n",
      "Epoch 328/1000\n",
      "3/3 [==============================] - 0s 14ms/step - loss: 0.3447 - accuracy: 0.9688 - val_loss: 0.3357 - val_accuracy: 1.0000\n",
      "Epoch 329/1000\n",
      "3/3 [==============================] - 0s 16ms/step - loss: 0.3439 - accuracy: 0.9792 - val_loss: 0.3350 - val_accuracy: 1.0000\n",
      "Epoch 330/1000\n",
      "3/3 [==============================] - 0s 14ms/step - loss: 0.3417 - accuracy: 0.9688 - val_loss: 0.3344 - val_accuracy: 1.0000\n",
      "Epoch 331/1000\n",
      "3/3 [==============================] - 0s 16ms/step - loss: 0.3409 - accuracy: 0.9688 - val_loss: 0.3338 - val_accuracy: 1.0000\n",
      "Epoch 332/1000\n",
      "3/3 [==============================] - 0s 15ms/step - loss: 0.3405 - accuracy: 0.9792 - val_loss: 0.3333 - val_accuracy: 0.9583\n",
      "Epoch 333/1000\n",
      "3/3 [==============================] - 0s 16ms/step - loss: 0.3391 - accuracy: 0.9792 - val_loss: 0.3326 - val_accuracy: 0.9583\n",
      "Epoch 334/1000\n",
      "3/3 [==============================] - 0s 16ms/step - loss: 0.3376 - accuracy: 0.9792 - val_loss: 0.3320 - val_accuracy: 0.9583\n",
      "Epoch 335/1000\n",
      "3/3 [==============================] - 0s 15ms/step - loss: 0.3362 - accuracy: 0.9792 - val_loss: 0.3309 - val_accuracy: 0.9583\n",
      "Epoch 336/1000\n",
      "3/3 [==============================] - 0s 17ms/step - loss: 0.3354 - accuracy: 0.9688 - val_loss: 0.3303 - val_accuracy: 0.9583\n",
      "Epoch 337/1000\n",
      "3/3 [==============================] - 0s 16ms/step - loss: 0.3340 - accuracy: 0.9792 - val_loss: 0.3293 - val_accuracy: 0.9583\n",
      "Epoch 338/1000\n",
      "3/3 [==============================] - 0s 15ms/step - loss: 0.3328 - accuracy: 0.9792 - val_loss: 0.3284 - val_accuracy: 0.9583\n",
      "Epoch 339/1000\n",
      "3/3 [==============================] - 0s 15ms/step - loss: 0.3327 - accuracy: 0.9688 - val_loss: 0.3279 - val_accuracy: 0.9583\n",
      "Epoch 340/1000\n",
      "3/3 [==============================] - 0s 14ms/step - loss: 0.3308 - accuracy: 0.9792 - val_loss: 0.3268 - val_accuracy: 0.9583\n",
      "Epoch 341/1000\n",
      "3/3 [==============================] - 0s 14ms/step - loss: 0.3299 - accuracy: 0.9792 - val_loss: 0.3257 - val_accuracy: 1.0000\n",
      "Epoch 342/1000\n",
      "3/3 [==============================] - 0s 14ms/step - loss: 0.3284 - accuracy: 0.9792 - val_loss: 0.3251 - val_accuracy: 0.9583\n",
      "Epoch 343/1000\n",
      "3/3 [==============================] - 0s 16ms/step - loss: 0.3271 - accuracy: 0.9792 - val_loss: 0.3241 - val_accuracy: 1.0000\n",
      "Epoch 344/1000\n",
      "3/3 [==============================] - 0s 15ms/step - loss: 0.3269 - accuracy: 0.9688 - val_loss: 0.3234 - val_accuracy: 0.9583\n",
      "Epoch 345/1000\n",
      "3/3 [==============================] - 0s 15ms/step - loss: 0.3250 - accuracy: 0.9792 - val_loss: 0.3224 - val_accuracy: 1.0000\n",
      "Epoch 346/1000\n",
      "3/3 [==============================] - 0s 15ms/step - loss: 0.3255 - accuracy: 0.9688 - val_loss: 0.3215 - val_accuracy: 1.0000\n",
      "Epoch 347/1000\n",
      "3/3 [==============================] - 0s 14ms/step - loss: 0.3231 - accuracy: 0.9792 - val_loss: 0.3207 - val_accuracy: 1.0000\n",
      "Epoch 348/1000\n",
      "3/3 [==============================] - 0s 14ms/step - loss: 0.3219 - accuracy: 0.9792 - val_loss: 0.3201 - val_accuracy: 1.0000\n",
      "Epoch 349/1000\n",
      "3/3 [==============================] - 0s 17ms/step - loss: 0.3209 - accuracy: 0.9792 - val_loss: 0.3193 - val_accuracy: 1.0000\n",
      "Epoch 350/1000\n",
      "3/3 [==============================] - 0s 16ms/step - loss: 0.3194 - accuracy: 0.9792 - val_loss: 0.3186 - val_accuracy: 1.0000\n",
      "Epoch 351/1000\n",
      "3/3 [==============================] - 0s 16ms/step - loss: 0.3186 - accuracy: 0.9792 - val_loss: 0.3182 - val_accuracy: 0.9583\n",
      "Epoch 352/1000\n",
      "3/3 [==============================] - 0s 17ms/step - loss: 0.3189 - accuracy: 0.9688 - val_loss: 0.3175 - val_accuracy: 0.9583\n",
      "Epoch 353/1000\n",
      "3/3 [==============================] - 0s 17ms/step - loss: 0.3173 - accuracy: 0.9792 - val_loss: 0.3167 - val_accuracy: 0.9583\n",
      "Epoch 354/1000\n",
      "3/3 [==============================] - 0s 15ms/step - loss: 0.3165 - accuracy: 0.9688 - val_loss: 0.3164 - val_accuracy: 0.9583\n",
      "Epoch 355/1000\n",
      "3/3 [==============================] - 0s 15ms/step - loss: 0.3148 - accuracy: 0.9792 - val_loss: 0.3157 - val_accuracy: 0.9583\n",
      "Epoch 356/1000\n",
      "3/3 [==============================] - 0s 14ms/step - loss: 0.3143 - accuracy: 0.9792 - val_loss: 0.3150 - val_accuracy: 0.9583\n",
      "Epoch 357/1000\n",
      "3/3 [==============================] - 0s 16ms/step - loss: 0.3131 - accuracy: 0.9792 - val_loss: 0.3146 - val_accuracy: 0.9583\n",
      "Epoch 358/1000\n",
      "3/3 [==============================] - 0s 15ms/step - loss: 0.3129 - accuracy: 0.9792 - val_loss: 0.3139 - val_accuracy: 0.9583\n",
      "Epoch 359/1000\n",
      "3/3 [==============================] - 0s 16ms/step - loss: 0.3112 - accuracy: 0.9792 - val_loss: 0.3129 - val_accuracy: 0.9583\n",
      "Epoch 360/1000\n",
      "3/3 [==============================] - 0s 16ms/step - loss: 0.3096 - accuracy: 0.9792 - val_loss: 0.3123 - val_accuracy: 0.9583\n",
      "Epoch 361/1000\n",
      "3/3 [==============================] - 0s 13ms/step - loss: 0.3088 - accuracy: 0.9792 - val_loss: 0.3114 - val_accuracy: 0.9583\n",
      "Epoch 362/1000\n",
      "3/3 [==============================] - 0s 15ms/step - loss: 0.3082 - accuracy: 0.9792 - val_loss: 0.3105 - val_accuracy: 0.9583\n",
      "Epoch 363/1000\n",
      "3/3 [==============================] - 0s 16ms/step - loss: 0.3076 - accuracy: 0.9792 - val_loss: 0.3098 - val_accuracy: 0.9583\n",
      "Epoch 364/1000\n",
      "3/3 [==============================] - 0s 15ms/step - loss: 0.3068 - accuracy: 0.9688 - val_loss: 0.3092 - val_accuracy: 0.9583\n",
      "Epoch 365/1000\n",
      "3/3 [==============================] - 0s 18ms/step - loss: 0.3047 - accuracy: 0.9792 - val_loss: 0.3085 - val_accuracy: 0.9583\n",
      "Epoch 366/1000\n",
      "3/3 [==============================] - 0s 15ms/step - loss: 0.3042 - accuracy: 0.9792 - val_loss: 0.3077 - val_accuracy: 0.9583\n",
      "Epoch 367/1000\n",
      "3/3 [==============================] - 0s 15ms/step - loss: 0.3028 - accuracy: 0.9792 - val_loss: 0.3072 - val_accuracy: 0.9583\n",
      "Epoch 368/1000\n",
      "3/3 [==============================] - 0s 14ms/step - loss: 0.3022 - accuracy: 0.9792 - val_loss: 0.3062 - val_accuracy: 0.9583\n",
      "Epoch 369/1000\n",
      "3/3 [==============================] - 0s 14ms/step - loss: 0.3010 - accuracy: 0.9792 - val_loss: 0.3055 - val_accuracy: 0.9583\n",
      "Epoch 370/1000\n",
      "3/3 [==============================] - 0s 14ms/step - loss: 0.2997 - accuracy: 0.9792 - val_loss: 0.3050 - val_accuracy: 0.9583\n",
      "Epoch 371/1000\n",
      "3/3 [==============================] - 0s 14ms/step - loss: 0.2993 - accuracy: 0.9688 - val_loss: 0.3038 - val_accuracy: 0.9583\n",
      "Epoch 372/1000\n",
      "3/3 [==============================] - 0s 13ms/step - loss: 0.2976 - accuracy: 0.9792 - val_loss: 0.3032 - val_accuracy: 0.9583\n",
      "Epoch 373/1000\n",
      "3/3 [==============================] - 0s 16ms/step - loss: 0.2967 - accuracy: 0.9792 - val_loss: 0.3023 - val_accuracy: 0.9583\n",
      "Epoch 374/1000\n",
      "3/3 [==============================] - 0s 15ms/step - loss: 0.2953 - accuracy: 0.9792 - val_loss: 0.3013 - val_accuracy: 0.9583\n",
      "Epoch 375/1000\n",
      "3/3 [==============================] - 0s 16ms/step - loss: 0.2963 - accuracy: 0.9688 - val_loss: 0.3011 - val_accuracy: 0.9583\n",
      "Epoch 376/1000\n",
      "3/3 [==============================] - 0s 15ms/step - loss: 0.2938 - accuracy: 0.9792 - val_loss: 0.3002 - val_accuracy: 0.9583\n",
      "Epoch 377/1000\n",
      "3/3 [==============================] - 0s 14ms/step - loss: 0.2945 - accuracy: 0.9688 - val_loss: 0.2997 - val_accuracy: 0.9583\n",
      "Epoch 378/1000\n",
      "3/3 [==============================] - 0s 14ms/step - loss: 0.2933 - accuracy: 0.9792 - val_loss: 0.2991 - val_accuracy: 0.9583\n",
      "Epoch 379/1000\n",
      "3/3 [==============================] - 0s 15ms/step - loss: 0.2920 - accuracy: 0.9792 - val_loss: 0.2986 - val_accuracy: 0.9583\n",
      "Epoch 380/1000\n",
      "3/3 [==============================] - 0s 17ms/step - loss: 0.2903 - accuracy: 0.9792 - val_loss: 0.2978 - val_accuracy: 0.9583\n",
      "Epoch 381/1000\n",
      "3/3 [==============================] - 0s 15ms/step - loss: 0.2904 - accuracy: 0.9688 - val_loss: 0.2970 - val_accuracy: 0.9583\n",
      "Epoch 382/1000\n",
      "3/3 [==============================] - 0s 15ms/step - loss: 0.2884 - accuracy: 0.9792 - val_loss: 0.2963 - val_accuracy: 0.9583\n",
      "Epoch 383/1000\n",
      "3/3 [==============================] - 0s 15ms/step - loss: 0.2873 - accuracy: 0.9792 - val_loss: 0.2958 - val_accuracy: 0.9583\n",
      "Epoch 384/1000\n",
      "3/3 [==============================] - 0s 14ms/step - loss: 0.2864 - accuracy: 0.9792 - val_loss: 0.2950 - val_accuracy: 0.9583\n",
      "Epoch 385/1000\n",
      "3/3 [==============================] - 0s 14ms/step - loss: 0.2857 - accuracy: 0.9792 - val_loss: 0.2941 - val_accuracy: 0.9583\n",
      "Epoch 386/1000\n",
      "3/3 [==============================] - 0s 18ms/step - loss: 0.2844 - accuracy: 0.9792 - val_loss: 0.2936 - val_accuracy: 0.9583\n",
      "Epoch 387/1000\n",
      "3/3 [==============================] - 0s 15ms/step - loss: 0.2839 - accuracy: 0.9792 - val_loss: 0.2934 - val_accuracy: 0.9583\n",
      "Epoch 388/1000\n",
      "3/3 [==============================] - 0s 15ms/step - loss: 0.2825 - accuracy: 0.9792 - val_loss: 0.2924 - val_accuracy: 0.9583\n",
      "Epoch 389/1000\n",
      "3/3 [==============================] - 0s 16ms/step - loss: 0.2826 - accuracy: 0.9792 - val_loss: 0.2917 - val_accuracy: 0.9583\n",
      "Epoch 390/1000\n",
      "3/3 [==============================] - 0s 15ms/step - loss: 0.2808 - accuracy: 0.9792 - val_loss: 0.2907 - val_accuracy: 0.9583\n",
      "Epoch 391/1000\n",
      "3/3 [==============================] - 0s 16ms/step - loss: 0.2811 - accuracy: 0.9792 - val_loss: 0.2898 - val_accuracy: 0.9583\n",
      "Epoch 392/1000\n",
      "3/3 [==============================] - 0s 14ms/step - loss: 0.2786 - accuracy: 0.9792 - val_loss: 0.2890 - val_accuracy: 0.9583\n",
      "Epoch 393/1000\n",
      "3/3 [==============================] - 0s 17ms/step - loss: 0.2780 - accuracy: 0.9792 - val_loss: 0.2881 - val_accuracy: 0.9583\n",
      "Epoch 394/1000\n",
      "3/3 [==============================] - 0s 26ms/step - loss: 0.2766 - accuracy: 0.9792 - val_loss: 0.2875 - val_accuracy: 0.9583\n",
      "Epoch 395/1000\n",
      "3/3 [==============================] - 0s 18ms/step - loss: 0.2766 - accuracy: 0.9792 - val_loss: 0.2867 - val_accuracy: 0.9583\n",
      "Epoch 396/1000\n",
      "3/3 [==============================] - 0s 18ms/step - loss: 0.2760 - accuracy: 0.9792 - val_loss: 0.2866 - val_accuracy: 0.9583\n",
      "Epoch 397/1000\n",
      "3/3 [==============================] - 0s 18ms/step - loss: 0.2742 - accuracy: 0.9792 - val_loss: 0.2859 - val_accuracy: 0.9583\n",
      "Epoch 398/1000\n",
      "3/3 [==============================] - 0s 17ms/step - loss: 0.2730 - accuracy: 0.9792 - val_loss: 0.2850 - val_accuracy: 0.9583\n",
      "Epoch 399/1000\n",
      "3/3 [==============================] - 0s 15ms/step - loss: 0.2729 - accuracy: 0.9792 - val_loss: 0.2849 - val_accuracy: 0.9583\n",
      "Epoch 400/1000\n",
      "3/3 [==============================] - 0s 16ms/step - loss: 0.2722 - accuracy: 0.9792 - val_loss: 0.2843 - val_accuracy: 0.9583\n",
      "Epoch 401/1000\n",
      "3/3 [==============================] - 0s 16ms/step - loss: 0.2702 - accuracy: 0.9792 - val_loss: 0.2837 - val_accuracy: 0.9583\n",
      "Epoch 402/1000\n",
      "3/3 [==============================] - 0s 17ms/step - loss: 0.2698 - accuracy: 0.9792 - val_loss: 0.2833 - val_accuracy: 0.9583\n",
      "Epoch 403/1000\n",
      "3/3 [==============================] - 0s 16ms/step - loss: 0.2687 - accuracy: 0.9792 - val_loss: 0.2819 - val_accuracy: 0.9583\n",
      "Epoch 404/1000\n",
      "3/3 [==============================] - 0s 16ms/step - loss: 0.2676 - accuracy: 0.9792 - val_loss: 0.2809 - val_accuracy: 0.9583\n",
      "Epoch 405/1000\n",
      "3/3 [==============================] - 0s 16ms/step - loss: 0.2667 - accuracy: 0.9792 - val_loss: 0.2805 - val_accuracy: 0.9583\n",
      "Epoch 406/1000\n",
      "3/3 [==============================] - 0s 18ms/step - loss: 0.2657 - accuracy: 0.9792 - val_loss: 0.2798 - val_accuracy: 0.9583\n",
      "Epoch 407/1000\n",
      "3/3 [==============================] - 0s 18ms/step - loss: 0.2649 - accuracy: 0.9792 - val_loss: 0.2787 - val_accuracy: 0.9583\n",
      "Epoch 408/1000\n",
      "3/3 [==============================] - 0s 19ms/step - loss: 0.2654 - accuracy: 0.9688 - val_loss: 0.2780 - val_accuracy: 0.9583\n",
      "Epoch 409/1000\n",
      "3/3 [==============================] - 0s 17ms/step - loss: 0.2630 - accuracy: 0.9792 - val_loss: 0.2778 - val_accuracy: 0.9583\n",
      "Epoch 410/1000\n",
      "3/3 [==============================] - 0s 16ms/step - loss: 0.2621 - accuracy: 0.9792 - val_loss: 0.2772 - val_accuracy: 0.9583\n",
      "Epoch 411/1000\n",
      "3/3 [==============================] - 0s 15ms/step - loss: 0.2614 - accuracy: 0.9688 - val_loss: 0.2762 - val_accuracy: 0.9583\n",
      "Epoch 412/1000\n",
      "3/3 [==============================] - 0s 13ms/step - loss: 0.2614 - accuracy: 0.9792 - val_loss: 0.2759 - val_accuracy: 0.9583\n",
      "Epoch 413/1000\n",
      "3/3 [==============================] - 0s 14ms/step - loss: 0.2600 - accuracy: 0.9792 - val_loss: 0.2752 - val_accuracy: 0.9583\n",
      "Epoch 414/1000\n",
      "3/3 [==============================] - 0s 15ms/step - loss: 0.2588 - accuracy: 0.9792 - val_loss: 0.2746 - val_accuracy: 0.9583\n",
      "Epoch 415/1000\n",
      "3/3 [==============================] - 0s 17ms/step - loss: 0.2576 - accuracy: 0.9688 - val_loss: 0.2734 - val_accuracy: 0.9583\n",
      "Epoch 416/1000\n",
      "3/3 [==============================] - 0s 15ms/step - loss: 0.2567 - accuracy: 0.9792 - val_loss: 0.2729 - val_accuracy: 0.9583\n",
      "Epoch 417/1000\n",
      "3/3 [==============================] - 0s 15ms/step - loss: 0.2579 - accuracy: 0.9688 - val_loss: 0.2725 - val_accuracy: 0.9583\n",
      "Epoch 418/1000\n",
      "3/3 [==============================] - 0s 18ms/step - loss: 0.2555 - accuracy: 0.9792 - val_loss: 0.2716 - val_accuracy: 0.9583\n",
      "Epoch 419/1000\n",
      "3/3 [==============================] - 0s 27ms/step - loss: 0.2543 - accuracy: 0.9792 - val_loss: 0.2709 - val_accuracy: 0.9583\n",
      "Epoch 420/1000\n",
      "3/3 [==============================] - 0s 17ms/step - loss: 0.2535 - accuracy: 0.9792 - val_loss: 0.2702 - val_accuracy: 0.9583\n",
      "Epoch 421/1000\n",
      "3/3 [==============================] - 0s 18ms/step - loss: 0.2524 - accuracy: 0.9792 - val_loss: 0.2696 - val_accuracy: 0.9583\n",
      "Epoch 422/1000\n",
      "3/3 [==============================] - 0s 16ms/step - loss: 0.2515 - accuracy: 0.9792 - val_loss: 0.2689 - val_accuracy: 0.9583\n",
      "Epoch 423/1000\n",
      "3/3 [==============================] - 0s 17ms/step - loss: 0.2507 - accuracy: 0.9792 - val_loss: 0.2675 - val_accuracy: 0.9583\n",
      "Epoch 424/1000\n",
      "3/3 [==============================] - 0s 18ms/step - loss: 0.2502 - accuracy: 0.9792 - val_loss: 0.2671 - val_accuracy: 0.9583\n",
      "Epoch 425/1000\n",
      "3/3 [==============================] - 0s 18ms/step - loss: 0.2493 - accuracy: 0.9792 - val_loss: 0.2660 - val_accuracy: 0.9583\n",
      "Epoch 426/1000\n",
      "3/3 [==============================] - 0s 18ms/step - loss: 0.2477 - accuracy: 0.9792 - val_loss: 0.2656 - val_accuracy: 0.9583\n",
      "Epoch 427/1000\n",
      "3/3 [==============================] - 0s 17ms/step - loss: 0.2470 - accuracy: 0.9792 - val_loss: 0.2649 - val_accuracy: 0.9583\n",
      "Epoch 428/1000\n",
      "3/3 [==============================] - 0s 16ms/step - loss: 0.2470 - accuracy: 0.9583 - val_loss: 0.2638 - val_accuracy: 0.9583\n",
      "Epoch 429/1000\n",
      "3/3 [==============================] - 0s 17ms/step - loss: 0.2450 - accuracy: 0.9792 - val_loss: 0.2631 - val_accuracy: 0.9583\n",
      "Epoch 430/1000\n",
      "3/3 [==============================] - 0s 16ms/step - loss: 0.2442 - accuracy: 0.9792 - val_loss: 0.2630 - val_accuracy: 0.9583\n",
      "Epoch 431/1000\n",
      "3/3 [==============================] - 0s 16ms/step - loss: 0.2433 - accuracy: 0.9792 - val_loss: 0.2614 - val_accuracy: 0.9583\n",
      "Epoch 432/1000\n",
      "3/3 [==============================] - 0s 16ms/step - loss: 0.2424 - accuracy: 0.9792 - val_loss: 0.2606 - val_accuracy: 0.9583\n",
      "Epoch 433/1000\n",
      "3/3 [==============================] - 0s 19ms/step - loss: 0.2429 - accuracy: 0.9792 - val_loss: 0.2602 - val_accuracy: 0.9583\n",
      "Epoch 434/1000\n",
      "3/3 [==============================] - 0s 18ms/step - loss: 0.2412 - accuracy: 0.9792 - val_loss: 0.2592 - val_accuracy: 0.9583\n",
      "Epoch 435/1000\n",
      "3/3 [==============================] - 0s 18ms/step - loss: 0.2395 - accuracy: 0.9792 - val_loss: 0.2587 - val_accuracy: 0.9583\n",
      "Epoch 436/1000\n",
      "3/3 [==============================] - 0s 17ms/step - loss: 0.2388 - accuracy: 0.9792 - val_loss: 0.2578 - val_accuracy: 0.9583\n",
      "Epoch 437/1000\n",
      "3/3 [==============================] - 0s 16ms/step - loss: 0.2402 - accuracy: 0.9688 - val_loss: 0.2579 - val_accuracy: 0.9583\n",
      "Epoch 438/1000\n",
      "3/3 [==============================] - 0s 16ms/step - loss: 0.2375 - accuracy: 0.9792 - val_loss: 0.2577 - val_accuracy: 0.9583\n",
      "Epoch 439/1000\n",
      "3/3 [==============================] - 0s 18ms/step - loss: 0.2364 - accuracy: 0.9792 - val_loss: 0.2572 - val_accuracy: 0.9583\n",
      "Epoch 440/1000\n",
      "3/3 [==============================] - 0s 17ms/step - loss: 0.2357 - accuracy: 0.9688 - val_loss: 0.2561 - val_accuracy: 0.9583\n",
      "Epoch 441/1000\n",
      "3/3 [==============================] - 0s 20ms/step - loss: 0.2346 - accuracy: 0.9792 - val_loss: 0.2551 - val_accuracy: 0.9583\n",
      "Epoch 442/1000\n",
      "3/3 [==============================] - 0s 19ms/step - loss: 0.2342 - accuracy: 0.9792 - val_loss: 0.2548 - val_accuracy: 0.9583\n",
      "Epoch 443/1000\n",
      "3/3 [==============================] - 0s 18ms/step - loss: 0.2335 - accuracy: 0.9792 - val_loss: 0.2542 - val_accuracy: 0.9583\n",
      "Epoch 444/1000\n",
      "3/3 [==============================] - 0s 17ms/step - loss: 0.2340 - accuracy: 0.9792 - val_loss: 0.2532 - val_accuracy: 0.9583\n",
      "Epoch 445/1000\n",
      "3/3 [==============================] - 0s 17ms/step - loss: 0.2313 - accuracy: 0.9792 - val_loss: 0.2525 - val_accuracy: 0.9583\n",
      "Epoch 446/1000\n",
      "3/3 [==============================] - 0s 16ms/step - loss: 0.2309 - accuracy: 0.9792 - val_loss: 0.2523 - val_accuracy: 0.9583\n",
      "Epoch 447/1000\n",
      "3/3 [==============================] - 0s 16ms/step - loss: 0.2298 - accuracy: 0.9792 - val_loss: 0.2511 - val_accuracy: 0.9583\n",
      "Epoch 448/1000\n",
      "3/3 [==============================] - 0s 15ms/step - loss: 0.2290 - accuracy: 0.9792 - val_loss: 0.2501 - val_accuracy: 0.9583\n",
      "Epoch 449/1000\n",
      "3/3 [==============================] - 0s 17ms/step - loss: 0.2293 - accuracy: 0.9792 - val_loss: 0.2503 - val_accuracy: 0.9583\n",
      "Epoch 450/1000\n",
      "3/3 [==============================] - 0s 18ms/step - loss: 0.2280 - accuracy: 0.9792 - val_loss: 0.2500 - val_accuracy: 0.9583\n",
      "Epoch 451/1000\n",
      "3/3 [==============================] - 0s 17ms/step - loss: 0.2284 - accuracy: 0.9688 - val_loss: 0.2492 - val_accuracy: 0.9583\n",
      "Epoch 452/1000\n",
      "3/3 [==============================] - 0s 15ms/step - loss: 0.2261 - accuracy: 0.9792 - val_loss: 0.2489 - val_accuracy: 0.9583\n",
      "Epoch 453/1000\n",
      "3/3 [==============================] - 0s 17ms/step - loss: 0.2256 - accuracy: 0.9688 - val_loss: 0.2476 - val_accuracy: 0.9583\n",
      "Epoch 454/1000\n",
      "3/3 [==============================] - 0s 21ms/step - loss: 0.2247 - accuracy: 0.9792 - val_loss: 0.2472 - val_accuracy: 0.9583\n",
      "Epoch 455/1000\n",
      "3/3 [==============================] - 0s 20ms/step - loss: 0.2245 - accuracy: 0.9792 - val_loss: 0.2460 - val_accuracy: 0.9583\n",
      "Epoch 456/1000\n",
      "3/3 [==============================] - 0s 18ms/step - loss: 0.2245 - accuracy: 0.9688 - val_loss: 0.2449 - val_accuracy: 0.9583\n",
      "Epoch 457/1000\n",
      "3/3 [==============================] - 0s 16ms/step - loss: 0.2225 - accuracy: 0.9792 - val_loss: 0.2446 - val_accuracy: 0.9583\n",
      "Epoch 458/1000\n",
      "3/3 [==============================] - 0s 15ms/step - loss: 0.2215 - accuracy: 0.9792 - val_loss: 0.2439 - val_accuracy: 0.9583\n",
      "Epoch 459/1000\n",
      "3/3 [==============================] - 0s 17ms/step - loss: 0.2209 - accuracy: 0.9792 - val_loss: 0.2438 - val_accuracy: 0.9583\n",
      "Epoch 460/1000\n",
      "3/3 [==============================] - 0s 14ms/step - loss: 0.2204 - accuracy: 0.9792 - val_loss: 0.2437 - val_accuracy: 0.9583\n",
      "Epoch 461/1000\n",
      "3/3 [==============================] - 0s 17ms/step - loss: 0.2192 - accuracy: 0.9792 - val_loss: 0.2430 - val_accuracy: 0.9583\n",
      "Epoch 462/1000\n",
      "3/3 [==============================] - 0s 18ms/step - loss: 0.2198 - accuracy: 0.9792 - val_loss: 0.2422 - val_accuracy: 0.9583\n",
      "Epoch 463/1000\n",
      "3/3 [==============================] - 0s 17ms/step - loss: 0.2203 - accuracy: 0.9792 - val_loss: 0.2411 - val_accuracy: 0.9583\n",
      "Epoch 464/1000\n",
      "3/3 [==============================] - 0s 16ms/step - loss: 0.2170 - accuracy: 0.9792 - val_loss: 0.2406 - val_accuracy: 0.9583\n",
      "Epoch 465/1000\n",
      "3/3 [==============================] - 0s 16ms/step - loss: 0.2174 - accuracy: 0.9688 - val_loss: 0.2399 - val_accuracy: 0.9583\n",
      "Epoch 466/1000\n",
      "3/3 [==============================] - 0s 16ms/step - loss: 0.2167 - accuracy: 0.9792 - val_loss: 0.2392 - val_accuracy: 0.9583\n",
      "Epoch 467/1000\n",
      "3/3 [==============================] - 0s 16ms/step - loss: 0.2155 - accuracy: 0.9688 - val_loss: 0.2386 - val_accuracy: 0.9583\n",
      "Epoch 468/1000\n",
      "3/3 [==============================] - 0s 17ms/step - loss: 0.2144 - accuracy: 0.9792 - val_loss: 0.2382 - val_accuracy: 0.9583\n",
      "Epoch 469/1000\n",
      "3/3 [==============================] - 0s 15ms/step - loss: 0.2136 - accuracy: 0.9792 - val_loss: 0.2375 - val_accuracy: 0.9583\n",
      "Epoch 470/1000\n",
      "3/3 [==============================] - 0s 19ms/step - loss: 0.2128 - accuracy: 0.9792 - val_loss: 0.2370 - val_accuracy: 0.9583\n",
      "Epoch 471/1000\n",
      "3/3 [==============================] - 0s 19ms/step - loss: 0.2123 - accuracy: 0.9792 - val_loss: 0.2366 - val_accuracy: 0.9583\n",
      "Epoch 472/1000\n",
      "3/3 [==============================] - 0s 17ms/step - loss: 0.2123 - accuracy: 0.9792 - val_loss: 0.2364 - val_accuracy: 0.9583\n",
      "Epoch 473/1000\n",
      "3/3 [==============================] - 0s 19ms/step - loss: 0.2115 - accuracy: 0.9688 - val_loss: 0.2352 - val_accuracy: 0.9583\n",
      "Epoch 474/1000\n",
      "3/3 [==============================] - 0s 19ms/step - loss: 0.2102 - accuracy: 0.9792 - val_loss: 0.2351 - val_accuracy: 0.9583\n",
      "Epoch 475/1000\n",
      "3/3 [==============================] - 0s 17ms/step - loss: 0.2102 - accuracy: 0.9688 - val_loss: 0.2339 - val_accuracy: 0.9583\n",
      "Epoch 476/1000\n",
      "3/3 [==============================] - 0s 15ms/step - loss: 0.2090 - accuracy: 0.9792 - val_loss: 0.2327 - val_accuracy: 0.9583\n",
      "Epoch 477/1000\n",
      "3/3 [==============================] - 0s 17ms/step - loss: 0.2079 - accuracy: 0.9792 - val_loss: 0.2327 - val_accuracy: 0.9583\n",
      "Epoch 478/1000\n",
      "3/3 [==============================] - 0s 16ms/step - loss: 0.2081 - accuracy: 0.9688 - val_loss: 0.2314 - val_accuracy: 0.9583\n",
      "Epoch 479/1000\n",
      "3/3 [==============================] - 0s 16ms/step - loss: 0.2069 - accuracy: 0.9792 - val_loss: 0.2305 - val_accuracy: 0.9583\n",
      "Epoch 480/1000\n",
      "3/3 [==============================] - 0s 15ms/step - loss: 0.2061 - accuracy: 0.9792 - val_loss: 0.2303 - val_accuracy: 0.9583\n",
      "Epoch 481/1000\n",
      "3/3 [==============================] - 0s 15ms/step - loss: 0.2056 - accuracy: 0.9792 - val_loss: 0.2300 - val_accuracy: 0.9583\n",
      "Epoch 482/1000\n",
      "3/3 [==============================] - 0s 17ms/step - loss: 0.2043 - accuracy: 0.9792 - val_loss: 0.2294 - val_accuracy: 0.9583\n",
      "Epoch 483/1000\n",
      "3/3 [==============================] - 0s 17ms/step - loss: 0.2038 - accuracy: 0.9792 - val_loss: 0.2282 - val_accuracy: 0.9583\n",
      "Epoch 484/1000\n",
      "3/3 [==============================] - 0s 18ms/step - loss: 0.2030 - accuracy: 0.9792 - val_loss: 0.2272 - val_accuracy: 0.9583\n",
      "Epoch 485/1000\n",
      "3/3 [==============================] - 0s 18ms/step - loss: 0.2037 - accuracy: 0.9583 - val_loss: 0.2273 - val_accuracy: 0.9583\n",
      "Epoch 486/1000\n",
      "3/3 [==============================] - 0s 17ms/step - loss: 0.2018 - accuracy: 0.9792 - val_loss: 0.2276 - val_accuracy: 0.9583\n"
     ]
    }
   ],
   "source": [
    "early_stopping = EarlyStopping(patience=2)\n",
    "\n",
    "history = model.fit(X_train, y_train, validation_split=0.2, epochs=1000, callbacks=[early_stopping])"
   ]
  },
  {
   "cell_type": "code",
   "execution_count": 90,
   "metadata": {},
   "outputs": [
    {
     "data": {
      "image/png": "[encoded data removed]",
      "text/plain": [
       "<Figure size 432x288 with 1 Axes>"
      ]
     },
     "metadata": {
      "needs_background": "light"
     },
     "output_type": "display_data"
    }
   ],
   "source": [
    "history_dict = history.history\n",
    "\n",
    "plt.clf()\n",
    "accuracy = history_dict['accuracy']\n",
    "epoch_range = range(1, len(accuracy) + 1)\n",
    "plt.plot(epoch_range, accuracy, 'b', label='Training Accuracy')\n",
    "plt.plot(epoch_range, history_dict['val_accuracy'], 'r:', label='Validation Accuracy')\n",
    "plt.axis([0, 1000, 0.0, 1.1])\n",
    "plt.title('Training Accuracy')\n",
    "plt.xlabel('Epochs')\n",
    "plt.ylabel('Accuracy')\n",
    "plt.legend()\n",
    "plt.show()"
   ]
  },
  {
   "cell_type": "code",
   "execution_count": 91,
   "metadata": {},
   "outputs": [
    {
     "data": {
      "image/png": "[encoded data removed]",
      "text/plain": [
       "<Figure size 432x288 with 1 Axes>"
      ]
     },
     "metadata": {
      "needs_background": "light"
     },
     "output_type": "display_data"
    }
   ],
   "source": [
    "plt.plot(epoch_range, history_dict['loss'], 'b', label='Training Loss')\n",
    "plt.plot(epoch_range, history_dict['val_loss'], 'b:', label='Validation Loss')\n",
    "\n",
    "plt.title('Training and Validation Loss')\n",
    "plt.axis([-0.3, 1000, 0, 2.0])\n",
    "plt.xlabel('Epochs')\n",
    "plt.ylabel('Loss')\n",
    "\n",
    "plt.legend()\n",
    "plt.show()"
   ]
  },
  {
   "cell_type": "code",
   "execution_count": 92,
   "metadata": {},
   "outputs": [
    {
     "name": "stdout",
     "output_type": "stream",
     "text": [
      "1/1 [==============================] - 0s 25ms/step - loss: 0.2017 - accuracy: 0.9667\n"
     ]
    }
   ],
   "source": [
    "results = model.evaluate(X_test, y_test)"
   ]
  },
  {
   "cell_type": "markdown",
   "metadata": {},
   "source": [
    "#### Dropout 기능\n",
    "  * 레이어 사이에서 실행\n",
    "  * 신경망 구성 시 레이어와 레이어 사이에 실행하도록 코드를 작성"
   ]
  },
  {
   "cell_type": "code",
   "execution_count": 93,
   "metadata": {},
   "outputs": [],
   "source": [
    "from sklearn.datasets import load_iris\n",
    "from sklearn.model_selection import train_test_split\n",
    "from keras.utils.np_utils import to_categorical\n",
    "\n",
    "from keras import models\n",
    "from keras.layers import Dense, Dropout"
   ]
  },
  {
   "cell_type": "code",
   "execution_count": 94,
   "metadata": {},
   "outputs": [
    {
     "name": "stdout",
     "output_type": "stream",
     "text": [
      "Epoch 1/80\n",
      "2/2 [==============================] - 1s 218ms/step - loss: 2.4188 - accuracy: 0.3333 - val_loss: 1.8439 - val_accuracy: 0.2667\n",
      "Epoch 2/80\n",
      "2/2 [==============================] - 0s 30ms/step - loss: 1.9575 - accuracy: 0.3333 - val_loss: 1.6212 - val_accuracy: 0.2667\n",
      "Epoch 3/80\n",
      "2/2 [==============================] - 0s 32ms/step - loss: 1.7061 - accuracy: 0.3333 - val_loss: 1.4579 - val_accuracy: 0.2667\n",
      "Epoch 4/80\n",
      "2/2 [==============================] - 0s 30ms/step - loss: 1.5359 - accuracy: 0.3333 - val_loss: 1.3726 - val_accuracy: 0.2667\n",
      "Epoch 5/80\n",
      "2/2 [==============================] - 0s 30ms/step - loss: 1.4252 - accuracy: 0.3333 - val_loss: 1.2888 - val_accuracy: 0.2667\n",
      "Epoch 6/80\n",
      "2/2 [==============================] - 0s 31ms/step - loss: 1.3230 - accuracy: 0.3333 - val_loss: 1.2149 - val_accuracy: 0.2667\n",
      "Epoch 7/80\n",
      "2/2 [==============================] - 0s 31ms/step - loss: 1.2380 - accuracy: 0.4000 - val_loss: 1.1651 - val_accuracy: 0.5667\n",
      "Epoch 8/80\n",
      "2/2 [==============================] - 0s 30ms/step - loss: 1.1790 - accuracy: 0.4889 - val_loss: 1.1214 - val_accuracy: 0.6000\n",
      "Epoch 9/80\n",
      "2/2 [==============================] - 0s 27ms/step - loss: 1.1283 - accuracy: 0.6000 - val_loss: 1.1016 - val_accuracy: 0.5333\n",
      "Epoch 10/80\n",
      "2/2 [==============================] - 0s 27ms/step - loss: 1.0978 - accuracy: 0.4444 - val_loss: 1.0792 - val_accuracy: 0.2667\n",
      "Epoch 11/80\n",
      "2/2 [==============================] - 0s 32ms/step - loss: 1.0688 - accuracy: 0.3333 - val_loss: 1.0642 - val_accuracy: 0.2667\n",
      "Epoch 12/80\n",
      "2/2 [==============================] - 0s 29ms/step - loss: 1.0469 - accuracy: 0.3333 - val_loss: 1.0466 - val_accuracy: 0.1667\n",
      "Epoch 13/80\n",
      "2/2 [==============================] - 0s 29ms/step - loss: 1.0278 - accuracy: 0.2222 - val_loss: 1.0372 - val_accuracy: 0.3000\n",
      "Epoch 14/80\n",
      "2/2 [==============================] - 0s 26ms/step - loss: 1.0174 - accuracy: 0.3111 - val_loss: 1.0297 - val_accuracy: 0.3000\n",
      "Epoch 15/80\n",
      "2/2 [==============================] - 0s 28ms/step - loss: 1.0076 - accuracy: 0.3333 - val_loss: 1.0260 - val_accuracy: 0.3000\n",
      "Epoch 16/80\n",
      "2/2 [==============================] - 0s 30ms/step - loss: 0.9981 - accuracy: 0.3111 - val_loss: 1.0223 - val_accuracy: 0.3000\n",
      "Epoch 17/80\n",
      "2/2 [==============================] - 0s 30ms/step - loss: 0.9888 - accuracy: 0.3556 - val_loss: 1.0146 - val_accuracy: 0.3000\n",
      "Epoch 18/80\n",
      "2/2 [==============================] - 0s 25ms/step - loss: 0.9813 - accuracy: 0.3556 - val_loss: 1.0115 - val_accuracy: 0.3000\n",
      "Epoch 19/80\n",
      "2/2 [==============================] - 0s 27ms/step - loss: 0.9743 - accuracy: 0.3556 - val_loss: 1.0053 - val_accuracy: 0.3000\n",
      "Epoch 20/80\n",
      "2/2 [==============================] - 0s 31ms/step - loss: 0.9696 - accuracy: 0.3556 - val_loss: 1.0029 - val_accuracy: 0.3000\n",
      "Epoch 21/80\n",
      "2/2 [==============================] - 0s 32ms/step - loss: 0.9761 - accuracy: 0.3556 - val_loss: 1.0034 - val_accuracy: 0.1667\n",
      "Epoch 22/80\n",
      "2/2 [==============================] - 0s 31ms/step - loss: 0.9639 - accuracy: 0.1333 - val_loss: 0.9880 - val_accuracy: 0.3000\n",
      "Epoch 23/80\n",
      "2/2 [==============================] - 0s 32ms/step - loss: 0.9521 - accuracy: 0.3556 - val_loss: 0.9820 - val_accuracy: 0.3000\n",
      "Epoch 24/80\n",
      "2/2 [==============================] - 0s 30ms/step - loss: 0.9473 - accuracy: 0.3556 - val_loss: 0.9815 - val_accuracy: 0.3000\n",
      "Epoch 25/80\n",
      "2/2 [==============================] - 0s 28ms/step - loss: 0.9443 - accuracy: 0.3556 - val_loss: 0.9750 - val_accuracy: 0.3000\n",
      "Epoch 26/80\n",
      "2/2 [==============================] - 0s 27ms/step - loss: 0.9361 - accuracy: 0.4000 - val_loss: 0.9675 - val_accuracy: 0.3000\n",
      "Epoch 27/80\n",
      "2/2 [==============================] - 0s 30ms/step - loss: 0.9445 - accuracy: 0.3333 - val_loss: 0.9659 - val_accuracy: 0.3000\n",
      "Epoch 28/80\n",
      "2/2 [==============================] - 0s 30ms/step - loss: 0.9268 - accuracy: 0.3556 - val_loss: 0.9517 - val_accuracy: 0.3000\n",
      "Epoch 29/80\n",
      "2/2 [==============================] - 0s 28ms/step - loss: 0.9193 - accuracy: 0.4000 - val_loss: 0.9500 - val_accuracy: 0.4000\n",
      "Epoch 30/80\n",
      "2/2 [==============================] - 0s 31ms/step - loss: 0.9128 - accuracy: 0.4222 - val_loss: 0.9373 - val_accuracy: 0.4000\n",
      "Epoch 31/80\n",
      "2/2 [==============================] - 0s 28ms/step - loss: 0.9044 - accuracy: 0.4222 - val_loss: 0.9305 - val_accuracy: 0.5667\n",
      "Epoch 32/80\n",
      "2/2 [==============================] - 0s 33ms/step - loss: 0.8997 - accuracy: 0.5111 - val_loss: 0.9277 - val_accuracy: 0.4000\n",
      "Epoch 33/80\n",
      "2/2 [==============================] - 0s 30ms/step - loss: 0.8936 - accuracy: 0.4222 - val_loss: 0.9229 - val_accuracy: 0.4333\n",
      "Epoch 34/80\n",
      "2/2 [==============================] - 0s 30ms/step - loss: 0.8904 - accuracy: 0.4667 - val_loss: 0.9159 - val_accuracy: 0.4333\n",
      "Epoch 35/80\n",
      "2/2 [==============================] - 0s 29ms/step - loss: 0.8823 - accuracy: 0.4667 - val_loss: 0.9038 - val_accuracy: 0.6333\n",
      "Epoch 36/80\n",
      "2/2 [==============================] - 0s 28ms/step - loss: 0.8731 - accuracy: 0.5556 - val_loss: 0.8923 - val_accuracy: 0.6333\n",
      "Epoch 37/80\n",
      "2/2 [==============================] - 0s 28ms/step - loss: 0.8651 - accuracy: 0.5778 - val_loss: 0.8814 - val_accuracy: 0.6333\n",
      "Epoch 38/80\n",
      "2/2 [==============================] - 0s 59ms/step - loss: 0.8550 - accuracy: 0.6000 - val_loss: 0.8680 - val_accuracy: 0.6667\n",
      "Epoch 39/80\n",
      "2/2 [==============================] - 0s 33ms/step - loss: 0.8479 - accuracy: 0.6444 - val_loss: 0.8672 - val_accuracy: 0.7000\n",
      "Epoch 40/80\n",
      "2/2 [==============================] - 0s 31ms/step - loss: 0.8439 - accuracy: 0.6444 - val_loss: 0.8548 - val_accuracy: 0.8000\n",
      "Epoch 41/80\n",
      "2/2 [==============================] - 0s 36ms/step - loss: 0.8357 - accuracy: 0.7778 - val_loss: 0.8431 - val_accuracy: 0.7000\n",
      "Epoch 42/80\n",
      "2/2 [==============================] - 0s 33ms/step - loss: 0.8234 - accuracy: 0.6444 - val_loss: 0.8290 - val_accuracy: 0.7000\n",
      "Epoch 43/80\n",
      "2/2 [==============================] - 0s 29ms/step - loss: 0.8130 - accuracy: 0.6667 - val_loss: 0.8238 - val_accuracy: 0.7000\n",
      "Epoch 44/80\n",
      "2/2 [==============================] - 0s 28ms/step - loss: 0.8114 - accuracy: 0.6667 - val_loss: 0.8174 - val_accuracy: 0.7000\n",
      "Epoch 45/80\n",
      "2/2 [==============================] - 0s 31ms/step - loss: 0.8028 - accuracy: 0.6667 - val_loss: 0.8039 - val_accuracy: 0.7000\n",
      "Epoch 46/80\n",
      "2/2 [==============================] - 0s 30ms/step - loss: 0.7914 - accuracy: 0.6667 - val_loss: 0.7983 - val_accuracy: 0.7000\n",
      "Epoch 47/80\n",
      "2/2 [==============================] - 0s 27ms/step - loss: 0.7842 - accuracy: 0.6667 - val_loss: 0.7932 - val_accuracy: 0.7000\n",
      "Epoch 48/80\n",
      "2/2 [==============================] - 0s 28ms/step - loss: 0.7903 - accuracy: 0.6667 - val_loss: 0.7877 - val_accuracy: 0.7000\n",
      "Epoch 49/80\n",
      "2/2 [==============================] - 0s 27ms/step - loss: 0.7747 - accuracy: 0.6667 - val_loss: 0.7734 - val_accuracy: 0.7000\n",
      "Epoch 50/80\n",
      "2/2 [==============================] - 0s 34ms/step - loss: 0.7748 - accuracy: 0.6444 - val_loss: 0.7693 - val_accuracy: 0.7000\n",
      "Epoch 51/80\n",
      "2/2 [==============================] - 0s 31ms/step - loss: 0.7678 - accuracy: 0.6667 - val_loss: 0.7596 - val_accuracy: 0.7000\n",
      "Epoch 52/80\n",
      "2/2 [==============================] - 0s 32ms/step - loss: 0.7647 - accuracy: 0.6667 - val_loss: 0.7533 - val_accuracy: 0.7000\n",
      "Epoch 53/80\n",
      "2/2 [==============================] - 0s 27ms/step - loss: 0.7538 - accuracy: 0.6667 - val_loss: 0.7441 - val_accuracy: 0.7000\n",
      "Epoch 54/80\n",
      "2/2 [==============================] - 0s 30ms/step - loss: 0.7385 - accuracy: 0.6667 - val_loss: 0.7292 - val_accuracy: 0.7333\n",
      "Epoch 55/80\n",
      "2/2 [==============================] - 0s 31ms/step - loss: 0.7315 - accuracy: 0.6667 - val_loss: 0.7219 - val_accuracy: 0.9000\n",
      "Epoch 56/80\n",
      "2/2 [==============================] - 0s 34ms/step - loss: 0.7295 - accuracy: 0.8222 - val_loss: 0.7180 - val_accuracy: 0.9000\n",
      "Epoch 57/80\n",
      "2/2 [==============================] - 0s 33ms/step - loss: 0.7178 - accuracy: 0.8000 - val_loss: 0.7061 - val_accuracy: 0.7333\n",
      "Epoch 58/80\n",
      "2/2 [==============================] - 0s 30ms/step - loss: 0.7101 - accuracy: 0.6667 - val_loss: 0.6919 - val_accuracy: 0.7333\n",
      "Epoch 59/80\n",
      "2/2 [==============================] - 0s 30ms/step - loss: 0.7161 - accuracy: 0.6000 - val_loss: 0.6913 - val_accuracy: 0.7333\n",
      "Epoch 60/80\n",
      "2/2 [==============================] - 0s 28ms/step - loss: 0.7078 - accuracy: 0.6667 - val_loss: 0.6896 - val_accuracy: 0.7333\n",
      "Epoch 61/80\n",
      "2/2 [==============================] - 0s 27ms/step - loss: 0.7003 - accuracy: 0.6667 - val_loss: 0.6842 - val_accuracy: 0.7333\n",
      "Epoch 62/80\n",
      "2/2 [==============================] - 0s 30ms/step - loss: 0.6939 - accuracy: 0.6667 - val_loss: 0.6750 - val_accuracy: 0.7333\n",
      "Epoch 63/80\n",
      "2/2 [==============================] - 0s 30ms/step - loss: 0.6824 - accuracy: 0.6667 - val_loss: 0.6651 - val_accuracy: 0.7333\n",
      "Epoch 64/80\n",
      "2/2 [==============================] - 0s 31ms/step - loss: 0.6749 - accuracy: 0.6889 - val_loss: 0.6584 - val_accuracy: 0.7333\n",
      "Epoch 65/80\n",
      "2/2 [==============================] - 0s 31ms/step - loss: 0.6718 - accuracy: 0.6667 - val_loss: 0.6453 - val_accuracy: 0.7333\n",
      "Epoch 66/80\n",
      "2/2 [==============================] - 0s 32ms/step - loss: 0.6700 - accuracy: 0.6667 - val_loss: 0.6415 - val_accuracy: 0.9667\n",
      "Epoch 67/80\n",
      "2/2 [==============================] - 0s 31ms/step - loss: 0.6633 - accuracy: 0.7556 - val_loss: 0.6416 - val_accuracy: 0.9000\n",
      "Epoch 68/80\n",
      "2/2 [==============================] - 0s 29ms/step - loss: 0.6518 - accuracy: 0.8444 - val_loss: 0.6273 - val_accuracy: 0.7333\n",
      "Epoch 69/80\n",
      "2/2 [==============================] - 0s 32ms/step - loss: 0.6409 - accuracy: 0.6667 - val_loss: 0.6217 - val_accuracy: 0.8000\n",
      "Epoch 70/80\n",
      "2/2 [==============================] - 0s 32ms/step - loss: 0.6411 - accuracy: 0.7111 - val_loss: 0.6221 - val_accuracy: 0.9000\n",
      "Epoch 71/80\n",
      "2/2 [==============================] - 0s 33ms/step - loss: 0.6397 - accuracy: 0.7333 - val_loss: 0.6156 - val_accuracy: 0.9000\n",
      "Epoch 72/80\n",
      "2/2 [==============================] - 0s 31ms/step - loss: 0.6340 - accuracy: 0.7556 - val_loss: 0.6058 - val_accuracy: 0.9000\n",
      "Epoch 73/80\n",
      "2/2 [==============================] - 0s 27ms/step - loss: 0.6417 - accuracy: 0.7333 - val_loss: 0.6085 - val_accuracy: 0.8000\n",
      "Epoch 74/80\n",
      "2/2 [==============================] - 0s 30ms/step - loss: 0.6204 - accuracy: 0.8444 - val_loss: 0.5881 - val_accuracy: 0.8000\n",
      "Epoch 75/80\n",
      "2/2 [==============================] - 0s 29ms/step - loss: 0.6044 - accuracy: 0.7778 - val_loss: 0.5778 - val_accuracy: 0.8333\n",
      "Epoch 76/80\n",
      "2/2 [==============================] - 0s 32ms/step - loss: 0.5976 - accuracy: 0.8222 - val_loss: 0.5693 - val_accuracy: 0.8333\n",
      "Epoch 77/80\n",
      "2/2 [==============================] - 0s 30ms/step - loss: 0.5928 - accuracy: 0.8222 - val_loss: 0.5625 - val_accuracy: 0.7667\n",
      "Epoch 78/80\n",
      "2/2 [==============================] - 0s 31ms/step - loss: 0.5927 - accuracy: 0.7333 - val_loss: 0.5615 - val_accuracy: 0.7333\n",
      "Epoch 79/80\n",
      "2/2 [==============================] - 0s 29ms/step - loss: 0.5962 - accuracy: 0.6889 - val_loss: 0.5504 - val_accuracy: 0.7333\n",
      "Epoch 80/80\n",
      "2/2 [==============================] - 0s 29ms/step - loss: 0.5806 - accuracy: 0.6667 - val_loss: 0.5431 - val_accuracy: 0.9667\n"
     ]
    }
   ],
   "source": [
    "iris = load_iris()\n",
    "X = iris.data\n",
    "y = iris.target\n",
    "\n",
    "X_train, X_test, y_train, y_test = train_test_split(X, y, test_size=0.5)\n",
    "\n",
    "y_train = to_categorical(y_train)\n",
    "y_test = to_categorical(y_test)\n",
    "\n",
    "model = models.Sequential([\n",
    "    Dense(2, input_shape=(4,)),\n",
    "    Dense(16, activation='relu'),\n",
    "    Dense(32, activation='relu'),\n",
    "    Dense(3, activation='softmax')\n",
    "])\n",
    "\n",
    "model.compile(optimizer='rmsprop', loss='categorical_crossentropy', metrics=['accuracy'])\n",
    "\n",
    "epochs = 80\n",
    "history = model.fit(X_train, y_train, validation_split=0.4, epochs=epochs)"
   ]
  },
  {
   "cell_type": "code",
   "execution_count": 95,
   "metadata": {},
   "outputs": [],
   "source": [
    "import matplotlib.pyplot as plt"
   ]
  },
  {
   "cell_type": "code",
   "execution_count": 96,
   "metadata": {},
   "outputs": [
    {
     "data": {
      "image/png": "[encoded data removed]",
      "text/plain": [
       "<Figure size 432x288 with 1 Axes>"
      ]
     },
     "metadata": {
      "needs_background": "light"
     },
     "output_type": "display_data"
    }
   ],
   "source": [
    "history_dict = history.history\n",
    "\n",
    "plt.clf()\n",
    "\n",
    "accuracy = history_dict['accuracy']\n",
    "epoch_range = range(1, len(accuracy) + 1)\n",
    "\n",
    "plt.plot(epoch_range, accuracy, 'b', label='Training Accuracy')\n",
    "plt.plot(epoch_range, history_dict['val_accuracy'], 'r:', label='Validation Accuracy')\n",
    "\n",
    "plt.axis([0, epochs, 0.0, 1.1])\n",
    "plt.title('Training Accuracy')\n",
    "plt.xlabel('Epochs')\n",
    "plt.ylabel('Accuracy')\n",
    "plt.legend()\n",
    "plt.show()"
   ]
  },
  {
   "cell_type": "code",
   "execution_count": 97,
   "metadata": {},
   "outputs": [
    {
     "data": {
      "image/png": "[encoded data removed]",
      "text/plain": [
       "<Figure size 432x288 with 1 Axes>"
      ]
     },
     "metadata": {
      "needs_background": "light"
     },
     "output_type": "display_data"
    }
   ],
   "source": [
    "plt.plot(epoch_range, history_dict['loss'], 'b', label='Training Loss')\n",
    "plt.plot(epoch_range, history_dict['val_loss'], 'b:', label='Validation Loss')\n",
    "\n",
    "plt.title('Training and Validation Loss')\n",
    "plt.axis([-0.3, epochs, 0, 2.0])\n",
    "plt.xlabel('Epochs')\n",
    "plt.ylabel('Loss')\n",
    "plt.legend()\n",
    "plt.show()"
   ]
  },
  {
   "cell_type": "code",
   "execution_count": 98,
   "metadata": {},
   "outputs": [],
   "source": [
    "# 아래부터 Dropout 적용\n",
    "from keras import models\n",
    "from keras.layers import Dense, Dropout"
   ]
  },
  {
   "cell_type": "code",
   "execution_count": 99,
   "metadata": {},
   "outputs": [
    {
     "name": "stdout",
     "output_type": "stream",
     "text": [
      "Epoch 1/80\n",
      "2/2 [==============================] - 1s 163ms/step - loss: 1.0170 - accuracy: 0.4444 - val_loss: 0.9488 - val_accuracy: 0.5667\n",
      "Epoch 2/80\n",
      "2/2 [==============================] - 0s 21ms/step - loss: 1.0432 - accuracy: 0.4222 - val_loss: 0.9163 - val_accuracy: 0.5333\n",
      "Epoch 3/80\n",
      "2/2 [==============================] - 0s 25ms/step - loss: 1.0311 - accuracy: 0.3556 - val_loss: 0.8946 - val_accuracy: 0.5333\n",
      "Epoch 4/80\n",
      "2/2 [==============================] - 0s 26ms/step - loss: 0.9888 - accuracy: 0.4444 - val_loss: 0.8718 - val_accuracy: 0.6333\n",
      "Epoch 5/80\n",
      "2/2 [==============================] - 0s 24ms/step - loss: 0.9469 - accuracy: 0.4444 - val_loss: 0.8514 - val_accuracy: 0.7000\n",
      "Epoch 6/80\n",
      "2/2 [==============================] - 0s 27ms/step - loss: 0.9051 - accuracy: 0.5556 - val_loss: 0.8317 - val_accuracy: 0.7333\n",
      "Epoch 7/80\n",
      "2/2 [==============================] - 0s 27ms/step - loss: 0.8879 - accuracy: 0.5556 - val_loss: 0.8156 - val_accuracy: 0.7333\n",
      "Epoch 8/80\n",
      "2/2 [==============================] - 0s 30ms/step - loss: 0.8337 - accuracy: 0.6222 - val_loss: 0.7963 - val_accuracy: 0.6333\n",
      "Epoch 9/80\n",
      "2/2 [==============================] - 0s 29ms/step - loss: 0.8823 - accuracy: 0.6000 - val_loss: 0.7795 - val_accuracy: 0.6333\n",
      "Epoch 10/80\n",
      "2/2 [==============================] - 0s 28ms/step - loss: 0.8478 - accuracy: 0.6000 - val_loss: 0.7632 - val_accuracy: 0.7000\n",
      "Epoch 11/80\n",
      "2/2 [==============================] - 0s 29ms/step - loss: 0.8585 - accuracy: 0.5333 - val_loss: 0.7488 - val_accuracy: 0.7000\n",
      "Epoch 12/80\n",
      "2/2 [==============================] - 0s 25ms/step - loss: 0.7938 - accuracy: 0.6000 - val_loss: 0.7357 - val_accuracy: 0.7000\n",
      "Epoch 13/80\n",
      "2/2 [==============================] - 0s 26ms/step - loss: 0.8490 - accuracy: 0.5778 - val_loss: 0.7192 - val_accuracy: 0.7333\n",
      "Epoch 14/80\n",
      "2/2 [==============================] - 0s 24ms/step - loss: 0.9193 - accuracy: 0.5556 - val_loss: 0.7127 - val_accuracy: 0.7333\n",
      "Epoch 15/80\n",
      "2/2 [==============================] - 0s 26ms/step - loss: 0.8149 - accuracy: 0.6444 - val_loss: 0.6995 - val_accuracy: 0.7333\n",
      "Epoch 16/80\n",
      "2/2 [==============================] - 0s 26ms/step - loss: 0.7791 - accuracy: 0.6889 - val_loss: 0.6876 - val_accuracy: 0.7333\n",
      "Epoch 17/80\n",
      "2/2 [==============================] - 0s 23ms/step - loss: 0.8093 - accuracy: 0.6444 - val_loss: 0.6764 - val_accuracy: 0.7333\n",
      "Epoch 18/80\n",
      "2/2 [==============================] - 0s 24ms/step - loss: 0.8151 - accuracy: 0.5333 - val_loss: 0.6658 - val_accuracy: 0.7333\n",
      "Epoch 19/80\n",
      "2/2 [==============================] - 0s 23ms/step - loss: 0.6676 - accuracy: 0.6667 - val_loss: 0.6535 - val_accuracy: 0.7333\n",
      "Epoch 20/80\n",
      "2/2 [==============================] - 0s 24ms/step - loss: 0.7905 - accuracy: 0.5556 - val_loss: 0.6474 - val_accuracy: 0.7333\n",
      "Epoch 21/80\n",
      "2/2 [==============================] - 0s 23ms/step - loss: 0.8325 - accuracy: 0.5111 - val_loss: 0.6372 - val_accuracy: 0.7333\n",
      "Epoch 22/80\n",
      "2/2 [==============================] - 0s 21ms/step - loss: 0.7899 - accuracy: 0.5556 - val_loss: 0.6263 - val_accuracy: 0.7333\n",
      "Epoch 23/80\n",
      "2/2 [==============================] - 0s 20ms/step - loss: 0.7976 - accuracy: 0.5778 - val_loss: 0.6175 - val_accuracy: 0.7333\n",
      "Epoch 24/80\n",
      "2/2 [==============================] - 0s 22ms/step - loss: 0.7897 - accuracy: 0.6000 - val_loss: 0.6078 - val_accuracy: 0.7333\n",
      "Epoch 25/80\n",
      "2/2 [==============================] - 0s 22ms/step - loss: 0.8042 - accuracy: 0.6000 - val_loss: 0.6026 - val_accuracy: 0.7333\n",
      "Epoch 26/80\n",
      "2/2 [==============================] - 0s 26ms/step - loss: 0.8097 - accuracy: 0.5111 - val_loss: 0.5955 - val_accuracy: 0.7333\n",
      "Epoch 27/80\n",
      "2/2 [==============================] - 0s 23ms/step - loss: 0.7598 - accuracy: 0.6889 - val_loss: 0.5854 - val_accuracy: 0.7333\n",
      "Epoch 28/80\n",
      "2/2 [==============================] - 0s 24ms/step - loss: 0.7310 - accuracy: 0.5111 - val_loss: 0.5764 - val_accuracy: 0.7333\n",
      "Epoch 29/80\n",
      "2/2 [==============================] - 0s 29ms/step - loss: 0.7279 - accuracy: 0.6000 - val_loss: 0.5696 - val_accuracy: 0.7667\n",
      "Epoch 30/80\n",
      "2/2 [==============================] - 0s 27ms/step - loss: 0.7187 - accuracy: 0.5333 - val_loss: 0.5585 - val_accuracy: 0.7333\n",
      "Epoch 31/80\n",
      "2/2 [==============================] - 0s 26ms/step - loss: 0.7582 - accuracy: 0.6444 - val_loss: 0.5539 - val_accuracy: 0.7667\n",
      "Epoch 32/80\n",
      "2/2 [==============================] - 0s 23ms/step - loss: 0.7207 - accuracy: 0.5556 - val_loss: 0.5459 - val_accuracy: 0.7667\n",
      "Epoch 33/80\n",
      "2/2 [==============================] - 0s 24ms/step - loss: 0.7872 - accuracy: 0.5111 - val_loss: 0.5429 - val_accuracy: 0.7667\n",
      "Epoch 34/80\n",
      "2/2 [==============================] - 0s 29ms/step - loss: 0.7746 - accuracy: 0.6000 - val_loss: 0.5396 - val_accuracy: 0.8000\n",
      "Epoch 35/80\n",
      "2/2 [==============================] - 0s 24ms/step - loss: 0.7445 - accuracy: 0.4889 - val_loss: 0.5328 - val_accuracy: 0.8000\n",
      "Epoch 36/80\n",
      "2/2 [==============================] - 0s 26ms/step - loss: 0.7733 - accuracy: 0.5556 - val_loss: 0.5245 - val_accuracy: 0.7667\n",
      "Epoch 37/80\n",
      "2/2 [==============================] - 0s 24ms/step - loss: 0.6877 - accuracy: 0.7111 - val_loss: 0.5168 - val_accuracy: 0.7667\n",
      "Epoch 38/80\n",
      "2/2 [==============================] - 0s 22ms/step - loss: 0.6777 - accuracy: 0.6444 - val_loss: 0.5114 - val_accuracy: 0.8000\n",
      "Epoch 39/80\n",
      "2/2 [==============================] - 0s 24ms/step - loss: 0.6940 - accuracy: 0.6000 - val_loss: 0.5093 - val_accuracy: 0.8000\n",
      "Epoch 40/80\n",
      "2/2 [==============================] - 0s 22ms/step - loss: 0.6638 - accuracy: 0.5556 - val_loss: 0.5022 - val_accuracy: 0.8000\n",
      "Epoch 41/80\n",
      "2/2 [==============================] - 0s 24ms/step - loss: 0.7419 - accuracy: 0.5556 - val_loss: 0.4956 - val_accuracy: 0.8000\n",
      "Epoch 42/80\n",
      "2/2 [==============================] - 0s 28ms/step - loss: 0.7414 - accuracy: 0.6889 - val_loss: 0.4881 - val_accuracy: 0.8000\n",
      "Epoch 43/80\n",
      "2/2 [==============================] - 0s 25ms/step - loss: 0.6429 - accuracy: 0.6667 - val_loss: 0.4817 - val_accuracy: 0.7667\n",
      "Epoch 44/80\n",
      "2/2 [==============================] - 0s 27ms/step - loss: 0.6779 - accuracy: 0.6000 - val_loss: 0.4794 - val_accuracy: 0.8000\n",
      "Epoch 45/80\n",
      "2/2 [==============================] - 0s 24ms/step - loss: 0.6641 - accuracy: 0.6444 - val_loss: 0.4730 - val_accuracy: 0.8000\n",
      "Epoch 46/80\n",
      "2/2 [==============================] - 0s 26ms/step - loss: 0.6728 - accuracy: 0.6000 - val_loss: 0.4693 - val_accuracy: 0.8000\n",
      "Epoch 47/80\n",
      "2/2 [==============================] - 0s 28ms/step - loss: 0.6863 - accuracy: 0.5556 - val_loss: 0.4669 - val_accuracy: 0.8000\n",
      "Epoch 48/80\n",
      "2/2 [==============================] - 0s 31ms/step - loss: 0.6436 - accuracy: 0.6000 - val_loss: 0.4609 - val_accuracy: 0.8000\n",
      "Epoch 49/80\n",
      "2/2 [==============================] - 0s 28ms/step - loss: 0.6978 - accuracy: 0.6000 - val_loss: 0.4584 - val_accuracy: 0.8333\n",
      "Epoch 50/80\n",
      "2/2 [==============================] - 0s 30ms/step - loss: 0.6567 - accuracy: 0.6444 - val_loss: 0.4511 - val_accuracy: 0.8000\n",
      "Epoch 51/80\n",
      "2/2 [==============================] - 0s 30ms/step - loss: 0.6186 - accuracy: 0.6444 - val_loss: 0.4472 - val_accuracy: 0.8000\n",
      "Epoch 52/80\n",
      "2/2 [==============================] - 0s 27ms/step - loss: 0.7022 - accuracy: 0.6222 - val_loss: 0.4447 - val_accuracy: 0.8000\n",
      "Epoch 53/80\n",
      "2/2 [==============================] - 0s 28ms/step - loss: 0.6930 - accuracy: 0.6222 - val_loss: 0.4411 - val_accuracy: 0.8000\n",
      "Epoch 54/80\n",
      "2/2 [==============================] - 0s 28ms/step - loss: 0.6526 - accuracy: 0.6444 - val_loss: 0.4397 - val_accuracy: 0.8333\n",
      "Epoch 55/80\n",
      "2/2 [==============================] - 0s 29ms/step - loss: 0.6556 - accuracy: 0.5556 - val_loss: 0.4372 - val_accuracy: 0.8333\n",
      "Epoch 56/80\n",
      "2/2 [==============================] - 0s 31ms/step - loss: 0.6877 - accuracy: 0.5778 - val_loss: 0.4336 - val_accuracy: 0.8333\n",
      "Epoch 57/80\n",
      "2/2 [==============================] - 0s 28ms/step - loss: 0.5652 - accuracy: 0.6667 - val_loss: 0.4275 - val_accuracy: 0.8333\n",
      "Epoch 58/80\n",
      "2/2 [==============================] - 0s 25ms/step - loss: 0.5956 - accuracy: 0.7111 - val_loss: 0.4223 - val_accuracy: 0.8000\n",
      "Epoch 59/80\n",
      "2/2 [==============================] - 0s 27ms/step - loss: 0.5974 - accuracy: 0.7111 - val_loss: 0.4168 - val_accuracy: 0.8000\n",
      "Epoch 60/80\n",
      "2/2 [==============================] - 0s 29ms/step - loss: 0.6254 - accuracy: 0.6444 - val_loss: 0.4155 - val_accuracy: 0.8000\n",
      "Epoch 61/80\n",
      "2/2 [==============================] - 0s 27ms/step - loss: 0.6196 - accuracy: 0.7556 - val_loss: 0.4109 - val_accuracy: 0.8000\n",
      "Epoch 62/80\n",
      "2/2 [==============================] - 0s 25ms/step - loss: 0.6405 - accuracy: 0.6222 - val_loss: 0.4114 - val_accuracy: 0.8333\n",
      "Epoch 63/80\n",
      "2/2 [==============================] - 0s 26ms/step - loss: 0.6496 - accuracy: 0.6444 - val_loss: 0.4055 - val_accuracy: 0.8000\n",
      "Epoch 64/80\n",
      "2/2 [==============================] - 0s 27ms/step - loss: 0.5903 - accuracy: 0.6000 - val_loss: 0.4034 - val_accuracy: 0.8333\n",
      "Epoch 65/80\n",
      "2/2 [==============================] - 0s 26ms/step - loss: 0.6158 - accuracy: 0.7333 - val_loss: 0.3999 - val_accuracy: 0.8000\n",
      "Epoch 66/80\n",
      "2/2 [==============================] - 0s 30ms/step - loss: 0.6096 - accuracy: 0.6444 - val_loss: 0.3961 - val_accuracy: 0.8000\n",
      "Epoch 67/80\n",
      "2/2 [==============================] - 0s 26ms/step - loss: 0.6063 - accuracy: 0.6000 - val_loss: 0.3935 - val_accuracy: 0.8000\n",
      "Epoch 68/80\n",
      "2/2 [==============================] - 0s 28ms/step - loss: 0.6480 - accuracy: 0.6444 - val_loss: 0.3943 - val_accuracy: 0.8333\n",
      "Epoch 69/80\n",
      "2/2 [==============================] - 0s 32ms/step - loss: 0.5947 - accuracy: 0.6222 - val_loss: 0.3933 - val_accuracy: 0.8667\n",
      "Epoch 70/80\n",
      "2/2 [==============================] - 0s 26ms/step - loss: 0.5637 - accuracy: 0.7111 - val_loss: 0.3912 - val_accuracy: 0.8667\n",
      "Epoch 71/80\n",
      "2/2 [==============================] - 0s 25ms/step - loss: 0.6384 - accuracy: 0.5778 - val_loss: 0.3901 - val_accuracy: 0.8667\n",
      "Epoch 72/80\n",
      "2/2 [==============================] - 0s 23ms/step - loss: 0.5839 - accuracy: 0.6667 - val_loss: 0.3884 - val_accuracy: 0.8667\n",
      "Epoch 73/80\n",
      "2/2 [==============================] - 0s 23ms/step - loss: 0.5503 - accuracy: 0.6667 - val_loss: 0.3862 - val_accuracy: 0.8667\n",
      "Epoch 74/80\n",
      "2/2 [==============================] - 0s 27ms/step - loss: 0.5348 - accuracy: 0.8000 - val_loss: 0.3810 - val_accuracy: 0.8333\n",
      "Epoch 75/80\n",
      "2/2 [==============================] - 0s 25ms/step - loss: 0.6716 - accuracy: 0.5778 - val_loss: 0.3832 - val_accuracy: 0.8667\n",
      "Epoch 76/80\n",
      "2/2 [==============================] - 0s 24ms/step - loss: 0.5822 - accuracy: 0.6667 - val_loss: 0.3798 - val_accuracy: 0.8667\n",
      "Epoch 77/80\n",
      "2/2 [==============================] - 0s 24ms/step - loss: 0.5958 - accuracy: 0.6667 - val_loss: 0.3784 - val_accuracy: 0.8667\n",
      "Epoch 78/80\n",
      "2/2 [==============================] - 0s 23ms/step - loss: 0.6680 - accuracy: 0.6667 - val_loss: 0.3755 - val_accuracy: 0.8667\n",
      "Epoch 79/80\n",
      "2/2 [==============================] - 0s 23ms/step - loss: 0.5674 - accuracy: 0.6889 - val_loss: 0.3731 - val_accuracy: 0.8667\n",
      "Epoch 80/80\n",
      "2/2 [==============================] - 0s 22ms/step - loss: 0.6114 - accuracy: 0.6444 - val_loss: 0.3728 - val_accuracy: 0.8667\n"
     ]
    }
   ],
   "source": [
    "model = models.Sequential([\n",
    "    Dense(2, input_shape=(4,)),\n",
    "    Dropout(0.2),\n",
    "    Dense(16, activation='relu'),\n",
    "    Dropout(0.2),\n",
    "    Dense(32, activation='relu'),\n",
    "    Dropout(0.2),\n",
    "    Dense(3, activation='softmax')\n",
    "])\n",
    "\n",
    "model.compile(optimizer='rmsprop', loss='categorical_crossentropy', metrics=['accuracy'])\n",
    "\n",
    "epochs = 80\n",
    "history = model.fit(X_train, y_train, validation_split=0.4, epochs=epochs)"
   ]
  },
  {
   "cell_type": "code",
   "execution_count": 100,
   "metadata": {},
   "outputs": [
    {
     "data": {
      "image/png": "[encoded data removed]",
      "text/plain": [
       "<Figure size 432x288 with 1 Axes>"
      ]
     },
     "metadata": {
      "needs_background": "light"
     },
     "output_type": "display_data"
    }
   ],
   "source": [
    "history_dict = history.history\n",
    "\n",
    "plt.clf()\n",
    "\n",
    "accuracy = history_dict['accuracy']\n",
    "epoch_range = range(1, len(accuracy) + 1)\n",
    "\n",
    "plt.plot(epoch_range, accuracy, 'b', label='Training Accuracy')\n",
    "plt.plot(epoch_range, history_dict['val_accuracy'], 'r:', label='Validation Accuracy')\n",
    "\n",
    "plt.axis([0, epochs, 0.0, 1.1])\n",
    "plt.title('Training Accuracy')\n",
    "plt.xlabel('Epochs')\n",
    "plt.ylabel('Accuracy')\n",
    "plt.legend()\n",
    "plt.show()"
   ]
  },
  {
   "cell_type": "code",
   "execution_count": 101,
   "metadata": {},
   "outputs": [
    {
     "data": {
      "image/png": "[encoded data removed]",
      "text/plain": [
       "<Figure size 432x288 with 1 Axes>"
      ]
     },
     "metadata": {
      "needs_background": "light"
     },
     "output_type": "display_data"
    }
   ],
   "source": [
    "plt.plot(epoch_range, history_dict['loss'], 'b', label='Training Loss')\n",
    "plt.plot(epoch_range, history_dict['val_loss'], 'b:', label='Validation Loss')\n",
    "\n",
    "plt.title('Training and Validation Loss')\n",
    "plt.axis([-0.3, epochs, 0, 2.0])\n",
    "plt.xlabel('Epochs')\n",
    "plt.ylabel('Loss')\n",
    "plt.legend()\n",
    "plt.show()"
   ]
  },
  {
   "cell_type": "code",
   "execution_count": 102,
   "metadata": {},
   "outputs": [
    {
     "name": "stdout",
     "output_type": "stream",
     "text": [
      "3/3 [==============================] - 0s 2ms/step - loss: 0.4549 - accuracy: 0.9200\n"
     ]
    }
   ],
   "source": [
    "result = model.evaluate(X_test, y_test)"
   ]
  }
 ],
 "metadata": {
  "kernelspec": {
   "display_name": "Python 3.9.12 ('ai')",
   "language": "python",
   "name": "python3"
  },
  "language_info": {
   "codemirror_mode": {
    "name": "ipython",
    "version": 3
   },
   "file_extension": ".py",
   "mimetype": "text/x-python",
   "name": "python",
   "nbconvert_exporter": "python",
   "pygments_lexer": "ipython3",
   "version": "3.9.12"
  },
  "orig_nbformat": 4,
  "vscode": {
   "interpreter": {
    "hash": "b4286170d425683f8a231ea7539163bf605db8ed407c1f5b25f72076e7d94462"
   }
  }
 },
 "nbformat": 4,
 "nbformat_minor": 2
}
