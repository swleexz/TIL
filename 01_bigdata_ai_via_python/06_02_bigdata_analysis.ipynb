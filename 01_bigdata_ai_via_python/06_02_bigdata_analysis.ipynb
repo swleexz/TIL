{
 "cells": [
  {
   "cell_type": "code",
   "execution_count": 1,
   "metadata": {},
   "outputs": [],
   "source": [
    "import pandas as pd"
   ]
  },
  {
   "cell_type": "code",
   "execution_count": 2,
   "metadata": {},
   "outputs": [
    {
     "data": {
      "text/plain": [
       "Index(['altitude', 'date_time', 'device_info_serial', 'direction', 'latitude',\n",
       "       'longitude', 'speed_2d', 'bird_name'],\n",
       "      dtype='object')"
      ]
     },
     "execution_count": 2,
     "metadata": {},
     "output_type": "execute_result"
    }
   ],
   "source": [
    "bird_data = pd.read_csv('bird_tracking.csv')\n",
    "bird_data.columns"
   ]
  },
  {
   "cell_type": "code",
   "execution_count": 3,
   "metadata": {},
   "outputs": [
    {
     "data": {
      "text/plain": [
       "0    2013-08-15 00:18:08+00\n",
       "1    2013-08-15 00:48:07+00\n",
       "2    2013-08-15 01:17:58+00\n",
       "Name: date_time, dtype: object"
      ]
     },
     "execution_count": 3,
     "metadata": {},
     "output_type": "execute_result"
    }
   ],
   "source": [
    "bird_data.date_time[0:3]"
   ]
  },
  {
   "cell_type": "code",
   "execution_count": 6,
   "metadata": {},
   "outputs": [
    {
     "name": "stdout",
     "output_type": "stream",
     "text": [
      "40923    2013-08-15 00:01:08+00\n",
      "Name: date_time, dtype: object\n"
     ]
    }
   ],
   "source": [
    "ix = bird_data.bird_name == 'Sanne'\n",
    "date = bird_data.date_time[ix]\n",
    "print(date[:1])"
   ]
  },
  {
   "cell_type": "code",
   "execution_count": 9,
   "metadata": {},
   "outputs": [
    {
     "name": "stdout",
     "output_type": "stream",
     "text": [
      "61930    2014-04-30 23:59:34+00\n",
      "Name: date_time, dtype: object\n"
     ]
    }
   ],
   "source": [
    "date = bird_data.date_time[ix]\n",
    "print(date[-1:])"
   ]
  },
  {
   "cell_type": "code",
   "execution_count": 10,
   "metadata": {},
   "outputs": [],
   "source": [
    "import datetime as dt"
   ]
  },
  {
   "cell_type": "code",
   "execution_count": 11,
   "metadata": {},
   "outputs": [
    {
     "data": {
      "text/plain": [
       "datetime.datetime(2022, 5, 31, 13, 29, 23, 88165)"
      ]
     },
     "execution_count": 11,
     "metadata": {},
     "output_type": "execute_result"
    }
   ],
   "source": [
    "dt.datetime.today()"
   ]
  },
  {
   "cell_type": "code",
   "execution_count": 12,
   "metadata": {},
   "outputs": [],
   "source": [
    "time1 = dt.datetime.today()"
   ]
  },
  {
   "cell_type": "code",
   "execution_count": 13,
   "metadata": {},
   "outputs": [
    {
     "data": {
      "text/plain": [
       "datetime.timedelta(seconds=10, microseconds=978715)"
      ]
     },
     "execution_count": 13,
     "metadata": {},
     "output_type": "execute_result"
    }
   ],
   "source": [
    "time2 = dt.datetime.today()\n",
    "time2 - time1"
   ]
  },
  {
   "cell_type": "code",
   "execution_count": 14,
   "metadata": {},
   "outputs": [],
   "source": [
    "import pandas as pd\n",
    "import datetime as dt"
   ]
  },
  {
   "cell_type": "code",
   "execution_count": 15,
   "metadata": {},
   "outputs": [
    {
     "name": "stdout",
     "output_type": "stream",
     "text": [
      "2013-08-15 00:18:08+00\n"
     ]
    }
   ],
   "source": [
    "bird_data = pd.read_csv('bird_tracking.csv')\n",
    "date_str = bird_data.date_time[0]\n",
    "print(date_str)"
   ]
  },
  {
   "cell_type": "code",
   "execution_count": 16,
   "metadata": {},
   "outputs": [
    {
     "data": {
      "text/plain": [
       "'2013-08-15 00:18:08'"
      ]
     },
     "execution_count": 16,
     "metadata": {},
     "output_type": "execute_result"
    }
   ],
   "source": [
    "date_str[:-3]"
   ]
  },
  {
   "cell_type": "code",
   "execution_count": 17,
   "metadata": {},
   "outputs": [
    {
     "data": {
      "text/plain": [
       "datetime.datetime(2013, 8, 15, 0, 18, 8)"
      ]
     },
     "execution_count": 17,
     "metadata": {},
     "output_type": "execute_result"
    }
   ],
   "source": [
    "dt.datetime.strptime(date_str[:-3], '%Y-%m-%d %H:%M:%S')"
   ]
  },
  {
   "cell_type": "code",
   "execution_count": 18,
   "metadata": {},
   "outputs": [
    {
     "name": "stdout",
     "output_type": "stream",
     "text": [
      "2013-08-15 00:18:08\n"
     ]
    }
   ],
   "source": [
    "a = dt.datetime.strptime(date_str[:-3], '%Y-%m-%d %H:%M:%S')\n",
    "print(a)"
   ]
  },
  {
   "cell_type": "code",
   "execution_count": 19,
   "metadata": {},
   "outputs": [
    {
     "data": {
      "text/plain": [
       "[datetime.datetime(2013, 8, 15, 0, 18, 8),\n",
       " datetime.datetime(2013, 8, 15, 0, 48, 7),\n",
       " datetime.datetime(2013, 8, 15, 1, 17, 58),\n",
       " datetime.datetime(2013, 8, 15, 1, 47, 51),\n",
       " datetime.datetime(2013, 8, 15, 2, 17, 42),\n",
       " datetime.datetime(2013, 8, 15, 2, 47, 38),\n",
       " datetime.datetime(2013, 8, 15, 3, 2, 33),\n",
       " datetime.datetime(2013, 8, 15, 3, 17, 27),\n",
       " datetime.datetime(2013, 8, 15, 3, 32, 35),\n",
       " datetime.datetime(2013, 8, 15, 3, 47, 48),\n",
       " datetime.datetime(2013, 8, 15, 4, 3, 39),\n",
       " datetime.datetime(2013, 8, 15, 4, 18, 40),\n",
       " datetime.datetime(2013, 8, 15, 4, 33, 53),\n",
       " datetime.datetime(2013, 8, 15, 4, 49, 6),\n",
       " datetime.datetime(2013, 8, 15, 5, 4, 45),\n",
       " datetime.datetime(2013, 8, 15, 5, 20, 9),\n",
       " datetime.datetime(2013, 8, 15, 5, 35, 4),\n",
       " datetime.datetime(2013, 8, 15, 5, 49, 58),\n",
       " datetime.datetime(2013, 8, 15, 6, 4, 56),\n",
       " datetime.datetime(2013, 8, 15, 6, 19, 54),\n",
       " datetime.datetime(2013, 8, 15, 6, 34, 50),\n",
       " datetime.datetime(2013, 8, 15, 6, 49, 43),\n",
       " datetime.datetime(2013, 8, 15, 7, 4, 40),\n",
       " datetime.datetime(2013, 8, 15, 7, 19, 35),\n",
       " datetime.datetime(2013, 8, 15, 7, 34, 31),\n",
       " datetime.datetime(2013, 8, 15, 7, 49, 29),\n",
       " datetime.datetime(2013, 8, 15, 8, 4, 56),\n",
       " datetime.datetime(2013, 8, 15, 8, 19, 52),\n",
       " datetime.datetime(2013, 8, 15, 8, 34, 47),\n",
       " datetime.datetime(2013, 8, 15, 8, 49, 51),\n",
       " datetime.datetime(2013, 8, 15, 9, 5, 3),\n",
       " datetime.datetime(2013, 8, 15, 9, 20, 7),\n",
       " datetime.datetime(2013, 8, 15, 9, 35, 3),\n",
       " datetime.datetime(2013, 8, 15, 9, 50, 1),\n",
       " datetime.datetime(2013, 8, 15, 10, 4, 55),\n",
       " datetime.datetime(2013, 8, 15, 10, 19, 51),\n",
       " datetime.datetime(2013, 8, 15, 10, 34, 51),\n",
       " datetime.datetime(2013, 8, 15, 10, 49, 45),\n",
       " datetime.datetime(2013, 8, 15, 11, 4, 43),\n",
       " datetime.datetime(2013, 8, 15, 11, 20, 8),\n",
       " datetime.datetime(2013, 8, 15, 11, 35, 5),\n",
       " datetime.datetime(2013, 8, 15, 11, 50, 6),\n",
       " datetime.datetime(2013, 8, 15, 12, 5, 6),\n",
       " datetime.datetime(2013, 8, 15, 12, 21, 47),\n",
       " datetime.datetime(2013, 8, 15, 12, 36, 43),\n",
       " datetime.datetime(2013, 8, 15, 12, 51, 34),\n",
       " datetime.datetime(2013, 8, 15, 13, 6, 30),\n",
       " datetime.datetime(2013, 8, 15, 13, 21, 31),\n",
       " datetime.datetime(2013, 8, 15, 13, 36, 56),\n",
       " datetime.datetime(2013, 8, 15, 13, 51, 51),\n",
       " datetime.datetime(2013, 8, 15, 14, 6, 48),\n",
       " datetime.datetime(2013, 8, 15, 14, 21, 56),\n",
       " datetime.datetime(2013, 8, 15, 14, 37, 27),\n",
       " datetime.datetime(2013, 8, 15, 14, 52, 26),\n",
       " datetime.datetime(2013, 8, 15, 15, 7, 21),\n",
       " datetime.datetime(2013, 8, 15, 15, 22, 15),\n",
       " datetime.datetime(2013, 8, 15, 15, 37, 22),\n",
       " datetime.datetime(2013, 8, 15, 15, 52, 33),\n",
       " datetime.datetime(2013, 8, 15, 16, 7, 46),\n",
       " datetime.datetime(2013, 8, 15, 16, 22, 57),\n",
       " datetime.datetime(2013, 8, 15, 16, 38, 10),\n",
       " datetime.datetime(2013, 8, 15, 16, 53, 21),\n",
       " datetime.datetime(2013, 8, 15, 17, 8, 34),\n",
       " datetime.datetime(2013, 8, 15, 17, 23, 47),\n",
       " datetime.datetime(2013, 8, 15, 17, 40, 5),\n",
       " datetime.datetime(2013, 8, 15, 17, 56, 9),\n",
       " datetime.datetime(2013, 8, 15, 18, 11, 3),\n",
       " datetime.datetime(2013, 8, 15, 18, 25, 59),\n",
       " datetime.datetime(2013, 8, 15, 18, 40, 55),\n",
       " datetime.datetime(2013, 8, 15, 18, 55, 51),\n",
       " datetime.datetime(2013, 8, 15, 19, 11, 9),\n",
       " datetime.datetime(2013, 8, 15, 19, 26, 1),\n",
       " datetime.datetime(2013, 8, 15, 19, 40, 56),\n",
       " datetime.datetime(2013, 8, 15, 19, 56, 8),\n",
       " datetime.datetime(2013, 8, 15, 20, 11, 4),\n",
       " datetime.datetime(2013, 8, 15, 20, 26, 1),\n",
       " datetime.datetime(2013, 8, 15, 20, 40, 55),\n",
       " datetime.datetime(2013, 8, 15, 20, 55, 51),\n",
       " datetime.datetime(2013, 8, 15, 21, 25, 44),\n",
       " datetime.datetime(2013, 8, 15, 21, 55, 36),\n",
       " datetime.datetime(2013, 8, 15, 22, 26, 2),\n",
       " datetime.datetime(2013, 8, 15, 22, 55, 52),\n",
       " datetime.datetime(2013, 8, 15, 23, 25, 46),\n",
       " datetime.datetime(2013, 8, 15, 23, 56, 5),\n",
       " datetime.datetime(2013, 8, 16, 0, 26, 1),\n",
       " datetime.datetime(2013, 8, 16, 0, 55, 51),\n",
       " datetime.datetime(2013, 8, 16, 1, 25, 46),\n",
       " datetime.datetime(2013, 8, 16, 1, 55, 36),\n",
       " datetime.datetime(2013, 8, 16, 2, 26, 42),\n",
       " datetime.datetime(2013, 8, 16, 2, 56, 40),\n",
       " datetime.datetime(2013, 8, 16, 3, 11, 38),\n",
       " datetime.datetime(2013, 8, 16, 3, 26, 34),\n",
       " datetime.datetime(2013, 8, 16, 3, 42, 2),\n",
       " datetime.datetime(2013, 8, 16, 3, 56, 56),\n",
       " datetime.datetime(2013, 8, 16, 4, 11, 53),\n",
       " datetime.datetime(2013, 8, 16, 4, 26, 49),\n",
       " datetime.datetime(2013, 8, 16, 4, 41, 58),\n",
       " datetime.datetime(2013, 8, 16, 4, 57, 11),\n",
       " datetime.datetime(2013, 8, 16, 5, 12, 39),\n",
       " datetime.datetime(2013, 8, 16, 5, 27, 56),\n",
       " datetime.datetime(2013, 8, 16, 5, 42, 49),\n",
       " datetime.datetime(2013, 8, 16, 5, 57, 48),\n",
       " datetime.datetime(2013, 8, 16, 6, 13, 8),\n",
       " datetime.datetime(2013, 8, 16, 6, 28, 7),\n",
       " datetime.datetime(2013, 8, 16, 6, 43, 4),\n",
       " datetime.datetime(2013, 8, 16, 6, 57, 59),\n",
       " datetime.datetime(2013, 8, 16, 7, 12, 55),\n",
       " datetime.datetime(2013, 8, 16, 7, 28, 1),\n",
       " datetime.datetime(2013, 8, 16, 7, 43, 5),\n",
       " datetime.datetime(2013, 8, 16, 7, 58),\n",
       " datetime.datetime(2013, 8, 16, 8, 12, 57),\n",
       " datetime.datetime(2013, 8, 16, 8, 27, 52),\n",
       " datetime.datetime(2013, 8, 16, 8, 42, 47),\n",
       " datetime.datetime(2013, 8, 16, 8, 57, 43),\n",
       " datetime.datetime(2013, 8, 16, 9, 12, 39),\n",
       " datetime.datetime(2013, 8, 16, 9, 28, 8),\n",
       " datetime.datetime(2013, 8, 16, 9, 43, 3),\n",
       " datetime.datetime(2013, 8, 16, 9, 58, 2),\n",
       " datetime.datetime(2013, 8, 16, 10, 12, 58),\n",
       " datetime.datetime(2013, 8, 16, 10, 27, 54),\n",
       " datetime.datetime(2013, 8, 16, 10, 42, 49),\n",
       " datetime.datetime(2013, 8, 16, 10, 57, 45),\n",
       " datetime.datetime(2013, 8, 16, 11, 12, 44),\n",
       " datetime.datetime(2013, 8, 16, 11, 27, 38),\n",
       " datetime.datetime(2013, 8, 16, 11, 42, 33),\n",
       " datetime.datetime(2013, 8, 16, 11, 57, 29),\n",
       " datetime.datetime(2013, 8, 16, 12, 12, 56),\n",
       " datetime.datetime(2013, 8, 16, 12, 27, 51),\n",
       " datetime.datetime(2013, 8, 16, 12, 42, 49),\n",
       " datetime.datetime(2013, 8, 16, 12, 57, 50),\n",
       " datetime.datetime(2013, 8, 16, 13, 12, 46),\n",
       " datetime.datetime(2013, 8, 16, 13, 27, 35),\n",
       " datetime.datetime(2013, 8, 16, 13, 42, 33),\n",
       " datetime.datetime(2013, 8, 16, 13, 57, 28),\n",
       " datetime.datetime(2013, 8, 16, 14, 12, 56),\n",
       " datetime.datetime(2013, 8, 16, 14, 28, 25),\n",
       " datetime.datetime(2013, 8, 16, 14, 43, 20),\n",
       " datetime.datetime(2013, 8, 16, 14, 58, 15),\n",
       " datetime.datetime(2013, 8, 16, 15, 13, 11),\n",
       " datetime.datetime(2013, 8, 16, 15, 28, 10),\n",
       " datetime.datetime(2013, 8, 16, 15, 43, 6),\n",
       " datetime.datetime(2013, 8, 16, 15, 58, 28),\n",
       " datetime.datetime(2013, 8, 16, 16, 13, 27),\n",
       " datetime.datetime(2013, 8, 16, 16, 28, 23),\n",
       " datetime.datetime(2013, 8, 16, 16, 43, 19),\n",
       " datetime.datetime(2013, 8, 16, 16, 58, 17),\n",
       " datetime.datetime(2013, 8, 16, 17, 13, 11),\n",
       " datetime.datetime(2013, 8, 16, 17, 28, 9),\n",
       " datetime.datetime(2013, 8, 16, 17, 43, 6),\n",
       " datetime.datetime(2013, 8, 16, 17, 58, 16),\n",
       " datetime.datetime(2013, 8, 16, 18, 13, 38),\n",
       " datetime.datetime(2013, 8, 16, 18, 28, 39),\n",
       " datetime.datetime(2013, 8, 16, 18, 43, 39),\n",
       " datetime.datetime(2013, 8, 16, 18, 58, 33),\n",
       " datetime.datetime(2013, 8, 16, 19, 13, 30),\n",
       " datetime.datetime(2013, 8, 16, 19, 28, 23),\n",
       " datetime.datetime(2013, 8, 16, 19, 43, 21),\n",
       " datetime.datetime(2013, 8, 16, 19, 58, 37),\n",
       " datetime.datetime(2013, 8, 16, 20, 13, 27),\n",
       " datetime.datetime(2013, 8, 16, 20, 28, 23),\n",
       " datetime.datetime(2013, 8, 16, 20, 43, 19),\n",
       " datetime.datetime(2013, 8, 16, 20, 58, 15),\n",
       " datetime.datetime(2013, 8, 16, 21, 28, 19),\n",
       " datetime.datetime(2013, 8, 16, 21, 58, 17),\n",
       " datetime.datetime(2013, 8, 16, 22, 28, 38),\n",
       " datetime.datetime(2013, 8, 16, 22, 58, 31),\n",
       " datetime.datetime(2013, 8, 16, 23, 28, 24),\n",
       " datetime.datetime(2013, 8, 16, 23, 58, 18),\n",
       " datetime.datetime(2013, 8, 17, 0, 28, 7),\n",
       " datetime.datetime(2013, 8, 17, 0, 58),\n",
       " datetime.datetime(2013, 8, 17, 1, 27, 54),\n",
       " datetime.datetime(2013, 8, 17, 1, 57, 45),\n",
       " datetime.datetime(2013, 8, 17, 2, 28, 43),\n",
       " datetime.datetime(2013, 8, 17, 2, 58, 42),\n",
       " datetime.datetime(2013, 8, 17, 3, 13, 45),\n",
       " datetime.datetime(2013, 8, 17, 3, 28, 40),\n",
       " datetime.datetime(2013, 8, 17, 3, 43, 47),\n",
       " datetime.datetime(2013, 8, 17, 3, 58, 59),\n",
       " datetime.datetime(2013, 8, 17, 4, 14, 18),\n",
       " datetime.datetime(2013, 8, 17, 4, 29, 39),\n",
       " datetime.datetime(2013, 8, 17, 4, 44, 53),\n",
       " datetime.datetime(2013, 8, 17, 5, 0, 27),\n",
       " datetime.datetime(2013, 8, 17, 5, 15, 21),\n",
       " datetime.datetime(2013, 8, 17, 5, 30, 15),\n",
       " datetime.datetime(2013, 8, 17, 5, 45, 11),\n",
       " datetime.datetime(2013, 8, 17, 6, 0, 39),\n",
       " datetime.datetime(2013, 8, 17, 6, 15, 40),\n",
       " datetime.datetime(2013, 8, 17, 6, 31, 3),\n",
       " datetime.datetime(2013, 8, 17, 6, 46),\n",
       " datetime.datetime(2013, 8, 17, 7, 0, 57),\n",
       " datetime.datetime(2013, 8, 17, 7, 16, 2),\n",
       " datetime.datetime(2013, 8, 17, 7, 31, 36),\n",
       " datetime.datetime(2013, 8, 17, 7, 46, 36),\n",
       " datetime.datetime(2013, 8, 17, 8, 1, 27),\n",
       " datetime.datetime(2013, 8, 17, 8, 16, 23),\n",
       " datetime.datetime(2013, 8, 17, 8, 31, 20),\n",
       " datetime.datetime(2013, 8, 17, 8, 46, 19),\n",
       " datetime.datetime(2013, 8, 17, 9, 1, 12),\n",
       " datetime.datetime(2013, 8, 17, 9, 16, 12),\n",
       " datetime.datetime(2013, 8, 17, 9, 49, 51),\n",
       " datetime.datetime(2013, 8, 17, 10, 4, 41),\n",
       " datetime.datetime(2013, 8, 17, 10, 19, 35),\n",
       " datetime.datetime(2013, 8, 17, 10, 34, 32),\n",
       " datetime.datetime(2013, 8, 17, 10, 49, 35),\n",
       " datetime.datetime(2013, 8, 17, 11, 4, 37),\n",
       " datetime.datetime(2013, 8, 17, 11, 20, 18),\n",
       " datetime.datetime(2013, 8, 17, 11, 35, 31),\n",
       " datetime.datetime(2013, 8, 17, 11, 50, 57),\n",
       " datetime.datetime(2013, 8, 17, 12, 7, 6),\n",
       " datetime.datetime(2013, 8, 17, 12, 22, 9),\n",
       " datetime.datetime(2013, 8, 17, 12, 37, 22),\n",
       " datetime.datetime(2013, 8, 17, 12, 52, 30),\n",
       " datetime.datetime(2013, 8, 17, 13, 7, 21),\n",
       " datetime.datetime(2013, 8, 17, 13, 22, 20),\n",
       " datetime.datetime(2013, 8, 17, 13, 37, 24),\n",
       " datetime.datetime(2013, 8, 17, 13, 52, 57),\n",
       " datetime.datetime(2013, 8, 17, 14, 8, 26),\n",
       " datetime.datetime(2013, 8, 17, 14, 23, 39),\n",
       " datetime.datetime(2013, 8, 17, 14, 38, 32),\n",
       " datetime.datetime(2013, 8, 17, 14, 53, 28),\n",
       " datetime.datetime(2013, 8, 17, 15, 9, 3),\n",
       " datetime.datetime(2013, 8, 17, 15, 24, 4),\n",
       " datetime.datetime(2013, 8, 17, 15, 39, 39),\n",
       " datetime.datetime(2013, 8, 17, 15, 54, 33),\n",
       " datetime.datetime(2013, 8, 17, 16, 9, 28),\n",
       " datetime.datetime(2013, 8, 17, 16, 24, 25),\n",
       " datetime.datetime(2013, 8, 17, 16, 39, 21),\n",
       " datetime.datetime(2013, 8, 17, 16, 54, 17),\n",
       " datetime.datetime(2013, 8, 17, 17, 9, 13),\n",
       " datetime.datetime(2013, 8, 17, 17, 24, 7),\n",
       " datetime.datetime(2013, 8, 17, 17, 39, 4),\n",
       " datetime.datetime(2013, 8, 17, 17, 53, 59),\n",
       " datetime.datetime(2013, 8, 17, 18, 9, 26),\n",
       " datetime.datetime(2013, 8, 17, 18, 24, 30),\n",
       " datetime.datetime(2013, 8, 17, 18, 39, 20),\n",
       " datetime.datetime(2013, 8, 17, 18, 54, 17),\n",
       " datetime.datetime(2013, 8, 17, 19, 9, 13),\n",
       " datetime.datetime(2013, 8, 17, 19, 24, 9),\n",
       " datetime.datetime(2013, 8, 17, 19, 39, 5),\n",
       " datetime.datetime(2013, 8, 17, 19, 54, 32),\n",
       " datetime.datetime(2013, 8, 17, 20, 10, 3),\n",
       " datetime.datetime(2013, 8, 17, 20, 24, 56),\n",
       " datetime.datetime(2013, 8, 17, 20, 39, 51),\n",
       " datetime.datetime(2013, 8, 17, 20, 54, 47),\n",
       " datetime.datetime(2013, 8, 17, 21, 24, 40),\n",
       " datetime.datetime(2013, 8, 17, 21, 54, 32),\n",
       " datetime.datetime(2013, 8, 17, 22, 24, 26),\n",
       " datetime.datetime(2013, 8, 17, 22, 54, 18),\n",
       " datetime.datetime(2013, 8, 17, 23, 24, 19),\n",
       " datetime.datetime(2013, 8, 17, 23, 54, 38),\n",
       " datetime.datetime(2013, 8, 18, 0, 24, 25),\n",
       " datetime.datetime(2013, 8, 18, 0, 54, 17),\n",
       " datetime.datetime(2013, 8, 18, 1, 24, 8),\n",
       " datetime.datetime(2013, 8, 18, 1, 54),\n",
       " datetime.datetime(2013, 8, 18, 2, 24, 26),\n",
       " datetime.datetime(2013, 8, 18, 2, 54, 15),\n",
       " datetime.datetime(2013, 8, 18, 3, 9, 12),\n",
       " datetime.datetime(2013, 8, 18, 3, 24, 7),\n",
       " datetime.datetime(2013, 8, 18, 3, 39, 5),\n",
       " datetime.datetime(2013, 8, 18, 3, 54),\n",
       " datetime.datetime(2013, 8, 18, 4, 8, 55),\n",
       " datetime.datetime(2013, 8, 18, 4, 24, 1),\n",
       " datetime.datetime(2013, 8, 18, 4, 39, 19),\n",
       " datetime.datetime(2013, 8, 18, 4, 55, 48),\n",
       " datetime.datetime(2013, 8, 18, 5, 10, 57),\n",
       " datetime.datetime(2013, 8, 18, 5, 26, 35),\n",
       " datetime.datetime(2013, 8, 18, 5, 42, 2),\n",
       " datetime.datetime(2013, 8, 18, 5, 56, 59),\n",
       " datetime.datetime(2013, 8, 18, 6, 11, 54),\n",
       " datetime.datetime(2013, 8, 18, 6, 26, 50),\n",
       " datetime.datetime(2013, 8, 18, 6, 41, 47),\n",
       " datetime.datetime(2013, 8, 18, 6, 56, 43),\n",
       " datetime.datetime(2013, 8, 18, 7, 11, 35),\n",
       " datetime.datetime(2013, 8, 18, 7, 26, 35),\n",
       " datetime.datetime(2013, 8, 18, 7, 41, 28),\n",
       " datetime.datetime(2013, 8, 18, 7, 58, 9),\n",
       " datetime.datetime(2013, 8, 18, 8, 14),\n",
       " datetime.datetime(2013, 8, 18, 8, 28, 55),\n",
       " datetime.datetime(2013, 8, 18, 8, 43, 53),\n",
       " datetime.datetime(2013, 8, 18, 8, 58, 47),\n",
       " datetime.datetime(2013, 8, 18, 9, 13, 46),\n",
       " datetime.datetime(2013, 8, 18, 9, 28, 40),\n",
       " datetime.datetime(2013, 8, 18, 9, 43, 37),\n",
       " datetime.datetime(2013, 8, 18, 9, 58, 34),\n",
       " datetime.datetime(2013, 8, 18, 10, 13, 27),\n",
       " datetime.datetime(2013, 8, 18, 10, 28, 24),\n",
       " datetime.datetime(2013, 8, 18, 10, 43, 19),\n",
       " datetime.datetime(2013, 8, 18, 10, 58, 19),\n",
       " datetime.datetime(2013, 8, 18, 11, 14, 9),\n",
       " datetime.datetime(2013, 8, 18, 11, 44, 7),\n",
       " datetime.datetime(2013, 8, 18, 11, 59, 4),\n",
       " datetime.datetime(2013, 8, 18, 12, 14, 1),\n",
       " datetime.datetime(2013, 8, 18, 12, 29, 31),\n",
       " datetime.datetime(2013, 8, 18, 12, 44, 24),\n",
       " datetime.datetime(2013, 8, 18, 12, 59, 21),\n",
       " datetime.datetime(2013, 8, 18, 13, 14, 18),\n",
       " datetime.datetime(2013, 8, 18, 13, 29, 16),\n",
       " datetime.datetime(2013, 8, 18, 13, 44, 12),\n",
       " datetime.datetime(2013, 8, 18, 13, 59, 5),\n",
       " datetime.datetime(2013, 8, 18, 14, 14, 3),\n",
       " datetime.datetime(2013, 8, 18, 14, 28, 56),\n",
       " datetime.datetime(2013, 8, 18, 14, 44, 26),\n",
       " datetime.datetime(2013, 8, 18, 14, 59, 19),\n",
       " datetime.datetime(2013, 8, 18, 15, 14, 15),\n",
       " datetime.datetime(2013, 8, 18, 15, 29, 13),\n",
       " datetime.datetime(2013, 8, 18, 15, 44, 19),\n",
       " datetime.datetime(2013, 8, 18, 15, 59, 30),\n",
       " datetime.datetime(2013, 8, 18, 16, 14, 34),\n",
       " datetime.datetime(2013, 8, 18, 16, 29, 29),\n",
       " datetime.datetime(2013, 8, 18, 16, 44, 37),\n",
       " datetime.datetime(2013, 8, 18, 16, 59, 40),\n",
       " datetime.datetime(2013, 8, 18, 17, 14, 32),\n",
       " datetime.datetime(2013, 8, 18, 17, 29, 35),\n",
       " datetime.datetime(2013, 8, 18, 17, 44, 24),\n",
       " datetime.datetime(2013, 8, 18, 17, 59, 31),\n",
       " datetime.datetime(2013, 8, 18, 18, 15, 8),\n",
       " datetime.datetime(2013, 8, 18, 18, 30, 11),\n",
       " datetime.datetime(2013, 8, 18, 18, 45, 24),\n",
       " datetime.datetime(2013, 8, 18, 19, 0, 24),\n",
       " datetime.datetime(2013, 8, 18, 19, 15, 23),\n",
       " datetime.datetime(2013, 8, 18, 19, 30, 17),\n",
       " datetime.datetime(2013, 8, 18, 19, 45, 13),\n",
       " datetime.datetime(2013, 8, 18, 20, 0, 22),\n",
       " datetime.datetime(2013, 8, 18, 20, 15, 30),\n",
       " datetime.datetime(2013, 8, 18, 20, 30, 44),\n",
       " datetime.datetime(2013, 8, 18, 20, 46, 9),\n",
       " datetime.datetime(2013, 8, 18, 21, 16, 8),\n",
       " datetime.datetime(2013, 8, 18, 21, 46, 1),\n",
       " datetime.datetime(2013, 8, 18, 22, 15, 54),\n",
       " datetime.datetime(2013, 8, 18, 22, 45, 45),\n",
       " datetime.datetime(2013, 8, 18, 23, 15, 36),\n",
       " datetime.datetime(2013, 8, 18, 23, 45, 30),\n",
       " datetime.datetime(2013, 8, 19, 0, 16, 2),\n",
       " datetime.datetime(2013, 8, 19, 0, 46, 10),\n",
       " datetime.datetime(2013, 8, 19, 1, 16, 9),\n",
       " datetime.datetime(2013, 8, 19, 1, 46),\n",
       " datetime.datetime(2013, 8, 19, 2, 15, 52),\n",
       " datetime.datetime(2013, 8, 19, 2, 45, 47),\n",
       " datetime.datetime(2013, 8, 19, 3, 2, 10),\n",
       " datetime.datetime(2013, 8, 19, 3, 17, 19),\n",
       " datetime.datetime(2013, 8, 19, 3, 32, 38),\n",
       " datetime.datetime(2013, 8, 19, 3, 47, 36),\n",
       " datetime.datetime(2013, 8, 19, 4, 2, 49),\n",
       " datetime.datetime(2013, 8, 19, 4, 17, 48),\n",
       " datetime.datetime(2013, 8, 19, 4, 32, 42),\n",
       " datetime.datetime(2013, 8, 19, 4, 47, 47),\n",
       " datetime.datetime(2013, 8, 19, 5, 3, 9),\n",
       " datetime.datetime(2013, 8, 19, 5, 18, 4),\n",
       " datetime.datetime(2013, 8, 19, 5, 32, 55),\n",
       " datetime.datetime(2013, 8, 19, 5, 48, 29),\n",
       " datetime.datetime(2013, 8, 19, 6, 3, 19),\n",
       " datetime.datetime(2013, 8, 19, 6, 18, 16),\n",
       " datetime.datetime(2013, 8, 19, 6, 33, 14),\n",
       " datetime.datetime(2013, 8, 19, 6, 48, 8),\n",
       " datetime.datetime(2013, 8, 19, 7, 3, 4),\n",
       " datetime.datetime(2013, 8, 19, 7, 18, 2),\n",
       " datetime.datetime(2013, 8, 19, 7, 33, 26),\n",
       " datetime.datetime(2013, 8, 19, 7, 48, 23),\n",
       " datetime.datetime(2013, 8, 19, 8, 3, 21),\n",
       " datetime.datetime(2013, 8, 19, 8, 18, 18),\n",
       " datetime.datetime(2013, 8, 19, 8, 33, 14),\n",
       " datetime.datetime(2013, 8, 19, 8, 48, 7),\n",
       " datetime.datetime(2013, 8, 19, 9, 3, 39),\n",
       " datetime.datetime(2013, 8, 19, 9, 18, 32),\n",
       " datetime.datetime(2013, 8, 19, 9, 33, 28),\n",
       " datetime.datetime(2013, 8, 19, 9, 48, 27),\n",
       " datetime.datetime(2013, 8, 19, 10, 3, 22),\n",
       " datetime.datetime(2013, 8, 19, 10, 18, 17),\n",
       " datetime.datetime(2013, 8, 19, 10, 33, 15),\n",
       " datetime.datetime(2013, 8, 19, 10, 48, 49),\n",
       " datetime.datetime(2013, 8, 19, 11, 4, 38),\n",
       " datetime.datetime(2013, 8, 19, 11, 19, 37),\n",
       " datetime.datetime(2013, 8, 19, 11, 34, 42),\n",
       " datetime.datetime(2013, 8, 19, 11, 50, 35),\n",
       " datetime.datetime(2013, 8, 19, 12, 5, 28),\n",
       " datetime.datetime(2013, 8, 19, 12, 20, 26),\n",
       " datetime.datetime(2013, 8, 19, 12, 35, 23),\n",
       " datetime.datetime(2013, 8, 19, 12, 50, 15),\n",
       " datetime.datetime(2013, 8, 19, 13, 5, 14),\n",
       " datetime.datetime(2013, 8, 19, 13, 20, 19),\n",
       " datetime.datetime(2013, 8, 19, 13, 35, 35),\n",
       " datetime.datetime(2013, 8, 19, 13, 51, 8),\n",
       " datetime.datetime(2013, 8, 19, 14, 6, 56),\n",
       " datetime.datetime(2013, 8, 19, 14, 22, 13),\n",
       " datetime.datetime(2013, 8, 19, 14, 37, 13),\n",
       " datetime.datetime(2013, 8, 19, 14, 52, 7),\n",
       " datetime.datetime(2013, 8, 19, 15, 7, 6),\n",
       " datetime.datetime(2013, 8, 19, 15, 22, 1),\n",
       " datetime.datetime(2013, 8, 19, 15, 36, 56),\n",
       " datetime.datetime(2013, 8, 19, 15, 51, 54),\n",
       " datetime.datetime(2013, 8, 19, 16, 6, 48),\n",
       " datetime.datetime(2013, 8, 19, 16, 21, 44),\n",
       " datetime.datetime(2013, 8, 19, 16, 36, 40),\n",
       " datetime.datetime(2013, 8, 19, 16, 52, 9),\n",
       " datetime.datetime(2013, 8, 19, 17, 7, 3),\n",
       " datetime.datetime(2013, 8, 19, 17, 22),\n",
       " datetime.datetime(2013, 8, 19, 17, 36, 57),\n",
       " datetime.datetime(2013, 8, 19, 17, 51, 53),\n",
       " datetime.datetime(2013, 8, 19, 18, 6, 48),\n",
       " datetime.datetime(2013, 8, 19, 18, 21, 44),\n",
       " datetime.datetime(2013, 8, 19, 18, 36, 41),\n",
       " datetime.datetime(2013, 8, 19, 18, 51, 42),\n",
       " datetime.datetime(2013, 8, 19, 19, 6, 35),\n",
       " datetime.datetime(2013, 8, 19, 19, 21, 28),\n",
       " datetime.datetime(2013, 8, 19, 19, 36, 55),\n",
       " datetime.datetime(2013, 8, 19, 19, 51, 52),\n",
       " datetime.datetime(2013, 8, 19, 20, 6, 49),\n",
       " datetime.datetime(2013, 8, 19, 20, 21, 47),\n",
       " datetime.datetime(2013, 8, 19, 20, 36, 40),\n",
       " datetime.datetime(2013, 8, 19, 20, 51, 50),\n",
       " datetime.datetime(2013, 8, 19, 21, 21, 55),\n",
       " datetime.datetime(2013, 8, 19, 21, 51, 54),\n",
       " datetime.datetime(2013, 8, 19, 22, 22, 8),\n",
       " datetime.datetime(2013, 8, 19, 22, 52, 8),\n",
       " datetime.datetime(2013, 8, 19, 23, 22, 1),\n",
       " datetime.datetime(2013, 8, 19, 23, 52, 3),\n",
       " datetime.datetime(2013, 8, 20, 0, 22, 18),\n",
       " datetime.datetime(2013, 8, 20, 0, 52, 37),\n",
       " datetime.datetime(2013, 8, 20, 1, 22, 34),\n",
       " datetime.datetime(2013, 8, 20, 1, 52, 26),\n",
       " datetime.datetime(2013, 8, 20, 2, 22, 17),\n",
       " datetime.datetime(2013, 8, 20, 2, 52, 9),\n",
       " datetime.datetime(2013, 8, 20, 3, 7, 7),\n",
       " datetime.datetime(2013, 8, 20, 3, 22, 12),\n",
       " datetime.datetime(2013, 8, 20, 3, 37, 27),\n",
       " datetime.datetime(2013, 8, 20, 3, 52, 39),\n",
       " datetime.datetime(2013, 8, 20, 4, 8, 26),\n",
       " datetime.datetime(2013, 8, 20, 4, 23, 21),\n",
       " datetime.datetime(2013, 8, 20, 4, 38, 16),\n",
       " datetime.datetime(2013, 8, 20, 4, 53, 59),\n",
       " datetime.datetime(2013, 8, 20, 5, 9, 6),\n",
       " datetime.datetime(2013, 8, 20, 5, 24, 9),\n",
       " datetime.datetime(2013, 8, 20, 5, 39, 7),\n",
       " datetime.datetime(2013, 8, 20, 5, 54, 32),\n",
       " datetime.datetime(2013, 8, 20, 6, 10, 3),\n",
       " datetime.datetime(2013, 8, 20, 6, 24, 57),\n",
       " datetime.datetime(2013, 8, 20, 6, 39, 51),\n",
       " datetime.datetime(2013, 8, 20, 6, 54, 47),\n",
       " datetime.datetime(2013, 8, 20, 7, 9, 44),\n",
       " datetime.datetime(2013, 8, 20, 7, 24, 39),\n",
       " datetime.datetime(2013, 8, 20, 7, 39, 37),\n",
       " datetime.datetime(2013, 8, 20, 7, 54, 33),\n",
       " datetime.datetime(2013, 8, 20, 8, 9, 28),\n",
       " datetime.datetime(2013, 8, 20, 8, 24, 24),\n",
       " datetime.datetime(2013, 8, 20, 8, 39, 20),\n",
       " datetime.datetime(2013, 8, 20, 8, 54, 38),\n",
       " datetime.datetime(2013, 8, 20, 9, 9, 28),\n",
       " datetime.datetime(2013, 8, 20, 9, 24, 25),\n",
       " datetime.datetime(2013, 8, 20, 9, 39, 22),\n",
       " datetime.datetime(2013, 8, 20, 9, 54, 19),\n",
       " datetime.datetime(2013, 8, 20, 10, 9, 17),\n",
       " datetime.datetime(2013, 8, 20, 10, 24, 7),\n",
       " datetime.datetime(2013, 8, 20, 10, 39, 4),\n",
       " datetime.datetime(2013, 8, 20, 10, 54, 17),\n",
       " datetime.datetime(2013, 8, 20, 11, 9, 38),\n",
       " datetime.datetime(2013, 8, 20, 11, 24, 40),\n",
       " datetime.datetime(2013, 8, 20, 11, 39, 37),\n",
       " datetime.datetime(2013, 8, 20, 11, 54, 32),\n",
       " datetime.datetime(2013, 8, 20, 12, 9, 28),\n",
       " datetime.datetime(2013, 8, 20, 12, 24, 25),\n",
       " datetime.datetime(2013, 8, 20, 12, 39, 38),\n",
       " datetime.datetime(2013, 8, 20, 12, 55, 26),\n",
       " datetime.datetime(2013, 8, 20, 13, 10, 39),\n",
       " datetime.datetime(2013, 8, 20, 13, 25, 28),\n",
       " datetime.datetime(2013, 8, 20, 13, 40, 25),\n",
       " datetime.datetime(2013, 8, 20, 13, 55, 22),\n",
       " datetime.datetime(2013, 8, 20, 14, 10, 17),\n",
       " datetime.datetime(2013, 8, 20, 14, 25, 14),\n",
       " datetime.datetime(2013, 8, 20, 14, 41, 1),\n",
       " datetime.datetime(2013, 8, 20, 14, 55, 52),\n",
       " datetime.datetime(2013, 8, 20, 15, 11, 8),\n",
       " datetime.datetime(2013, 8, 20, 15, 26, 18),\n",
       " datetime.datetime(2013, 8, 20, 15, 41, 39),\n",
       " datetime.datetime(2013, 8, 20, 15, 56, 40),\n",
       " datetime.datetime(2013, 8, 20, 16, 11, 36),\n",
       " datetime.datetime(2013, 8, 20, 16, 26, 33),\n",
       " datetime.datetime(2013, 8, 20, 16, 41, 35),\n",
       " datetime.datetime(2013, 8, 20, 16, 56, 24),\n",
       " datetime.datetime(2013, 8, 20, 17, 11, 20),\n",
       " datetime.datetime(2013, 8, 20, 17, 26, 17),\n",
       " datetime.datetime(2013, 8, 20, 17, 41, 13),\n",
       " datetime.datetime(2013, 8, 20, 17, 56, 9),\n",
       " datetime.datetime(2013, 8, 20, 18, 11, 48),\n",
       " datetime.datetime(2013, 8, 20, 18, 27, 5),\n",
       " datetime.datetime(2013, 8, 20, 18, 42, 1),\n",
       " datetime.datetime(2013, 8, 20, 18, 56, 58),\n",
       " datetime.datetime(2013, 8, 20, 19, 11, 53),\n",
       " datetime.datetime(2013, 8, 20, 19, 26, 48),\n",
       " datetime.datetime(2013, 8, 20, 19, 41, 44),\n",
       " datetime.datetime(2013, 8, 20, 19, 56, 57),\n",
       " datetime.datetime(2013, 8, 20, 20, 12, 3),\n",
       " datetime.datetime(2013, 8, 20, 20, 27, 4),\n",
       " datetime.datetime(2013, 8, 20, 20, 42),\n",
       " datetime.datetime(2013, 8, 20, 20, 57, 9),\n",
       " datetime.datetime(2013, 8, 20, 21, 27, 17),\n",
       " datetime.datetime(2013, 8, 20, 21, 57, 35),\n",
       " datetime.datetime(2013, 8, 20, 22, 57, 45),\n",
       " datetime.datetime(2013, 8, 20, 23, 27, 49),\n",
       " datetime.datetime(2013, 8, 20, 23, 58, 8),\n",
       " datetime.datetime(2013, 8, 21, 0, 28, 8),\n",
       " datetime.datetime(2013, 8, 21, 0, 58),\n",
       " datetime.datetime(2013, 8, 21, 1, 27, 53),\n",
       " datetime.datetime(2013, 8, 21, 1, 57, 46),\n",
       " datetime.datetime(2013, 8, 21, 2, 28, 8),\n",
       " datetime.datetime(2013, 8, 21, 2, 58, 1),\n",
       " datetime.datetime(2013, 8, 21, 3, 12, 57),\n",
       " datetime.datetime(2013, 8, 21, 3, 27, 52),\n",
       " datetime.datetime(2013, 8, 21, 3, 42, 48),\n",
       " datetime.datetime(2013, 8, 21, 3, 57, 45),\n",
       " datetime.datetime(2013, 8, 21, 4, 12, 41),\n",
       " datetime.datetime(2013, 8, 21, 4, 27, 39),\n",
       " datetime.datetime(2013, 8, 21, 4, 43, 9),\n",
       " datetime.datetime(2013, 8, 21, 4, 58, 3),\n",
       " datetime.datetime(2013, 8, 21, 5, 12, 59),\n",
       " datetime.datetime(2013, 8, 21, 5, 27, 53),\n",
       " datetime.datetime(2013, 8, 21, 5, 42, 48),\n",
       " datetime.datetime(2013, 8, 21, 5, 58, 8),\n",
       " datetime.datetime(2013, 8, 21, 6, 13, 15),\n",
       " datetime.datetime(2013, 8, 21, 6, 28, 13),\n",
       " datetime.datetime(2013, 8, 21, 6, 43, 10),\n",
       " datetime.datetime(2013, 8, 21, 6, 58, 2),\n",
       " datetime.datetime(2013, 8, 21, 7, 13, 10),\n",
       " datetime.datetime(2013, 8, 21, 7, 28, 19),\n",
       " datetime.datetime(2013, 8, 21, 7, 43, 31),\n",
       " datetime.datetime(2013, 8, 21, 7, 58, 32),\n",
       " datetime.datetime(2013, 8, 21, 8, 14, 12),\n",
       " datetime.datetime(2013, 8, 21, 8, 29, 23),\n",
       " datetime.datetime(2013, 8, 21, 8, 44, 36),\n",
       " datetime.datetime(2013, 8, 21, 9, 0, 27),\n",
       " datetime.datetime(2013, 8, 21, 9, 15, 21),\n",
       " datetime.datetime(2013, 8, 21, 9, 30, 16),\n",
       " datetime.datetime(2013, 8, 21, 9, 45, 27),\n",
       " datetime.datetime(2013, 8, 21, 10, 1, 5),\n",
       " datetime.datetime(2013, 8, 21, 10, 16, 12),\n",
       " datetime.datetime(2013, 8, 21, 10, 31, 6),\n",
       " datetime.datetime(2013, 8, 21, 10, 46, 7),\n",
       " datetime.datetime(2013, 8, 21, 11, 0, 57),\n",
       " datetime.datetime(2013, 8, 21, 11, 15, 51),\n",
       " datetime.datetime(2013, 8, 21, 11, 30, 53),\n",
       " datetime.datetime(2013, 8, 21, 11, 45, 44),\n",
       " datetime.datetime(2013, 8, 21, 12, 0, 42),\n",
       " datetime.datetime(2013, 8, 21, 12, 16, 26),\n",
       " datetime.datetime(2013, 8, 21, 12, 31, 38),\n",
       " datetime.datetime(2013, 8, 21, 12, 47, 8),\n",
       " datetime.datetime(2013, 8, 21, 13, 2),\n",
       " datetime.datetime(2013, 8, 21, 13, 16, 56),\n",
       " datetime.datetime(2013, 8, 21, 13, 31, 53),\n",
       " datetime.datetime(2013, 8, 21, 13, 46, 49),\n",
       " datetime.datetime(2013, 8, 21, 14, 1, 45),\n",
       " datetime.datetime(2013, 8, 21, 14, 16, 44),\n",
       " datetime.datetime(2013, 8, 21, 14, 31, 47),\n",
       " datetime.datetime(2013, 8, 21, 14, 46, 49),\n",
       " datetime.datetime(2013, 8, 21, 15, 2, 19),\n",
       " datetime.datetime(2013, 8, 21, 15, 17, 25),\n",
       " datetime.datetime(2013, 8, 21, 15, 32, 36),\n",
       " datetime.datetime(2013, 8, 21, 15, 47, 50),\n",
       " datetime.datetime(2013, 8, 21, 16, 3, 5),\n",
       " datetime.datetime(2013, 8, 21, 16, 18, 4),\n",
       " datetime.datetime(2013, 8, 21, 16, 33),\n",
       " datetime.datetime(2013, 8, 21, 16, 48, 6),\n",
       " datetime.datetime(2013, 8, 21, 17, 3, 16),\n",
       " datetime.datetime(2013, 8, 21, 17, 18, 38),\n",
       " datetime.datetime(2013, 8, 21, 17, 33, 30),\n",
       " datetime.datetime(2013, 8, 21, 17, 48, 24),\n",
       " datetime.datetime(2013, 8, 21, 18, 3, 20),\n",
       " datetime.datetime(2013, 8, 21, 18, 18, 20),\n",
       " datetime.datetime(2013, 8, 21, 18, 33, 15),\n",
       " datetime.datetime(2013, 8, 21, 18, 48, 22),\n",
       " datetime.datetime(2013, 8, 21, 19, 3, 38),\n",
       " datetime.datetime(2013, 8, 21, 19, 18, 35),\n",
       " datetime.datetime(2013, 8, 21, 19, 34, 32),\n",
       " datetime.datetime(2013, 8, 21, 19, 49, 28),\n",
       " datetime.datetime(2013, 8, 21, 20, 4, 37),\n",
       " datetime.datetime(2013, 8, 21, 20, 19, 37),\n",
       " datetime.datetime(2013, 8, 21, 20, 35, 1),\n",
       " datetime.datetime(2013, 8, 21, 20, 50),\n",
       " datetime.datetime(2013, 8, 21, 21, 19, 53),\n",
       " datetime.datetime(2013, 8, 21, 21, 49, 45),\n",
       " datetime.datetime(2013, 8, 21, 22, 20, 8),\n",
       " datetime.datetime(2013, 8, 21, 22, 50),\n",
       " datetime.datetime(2013, 8, 21, 23, 19, 57),\n",
       " datetime.datetime(2013, 8, 21, 23, 49, 49),\n",
       " datetime.datetime(2013, 8, 22, 0, 19, 47),\n",
       " datetime.datetime(2013, 8, 22, 0, 50, 9),\n",
       " datetime.datetime(2013, 8, 22, 1, 20, 9),\n",
       " datetime.datetime(2013, 8, 22, 1, 50, 3),\n",
       " datetime.datetime(2013, 8, 22, 2, 19, 53),\n",
       " datetime.datetime(2013, 8, 22, 2, 49, 45),\n",
       " datetime.datetime(2013, 8, 22, 3, 4, 41),\n",
       " datetime.datetime(2013, 8, 22, 3, 20, 4),\n",
       " datetime.datetime(2013, 8, 22, 3, 35, 4),\n",
       " datetime.datetime(2013, 8, 22, 3, 50),\n",
       " datetime.datetime(2013, 8, 22, 4, 4, 57),\n",
       " datetime.datetime(2013, 8, 22, 4, 19, 52),\n",
       " datetime.datetime(2013, 8, 22, 4, 34, 53),\n",
       " datetime.datetime(2013, 8, 22, 4, 49, 46),\n",
       " datetime.datetime(2013, 8, 22, 5, 4, 44),\n",
       " datetime.datetime(2013, 8, 22, 5, 19, 36),\n",
       " datetime.datetime(2013, 8, 22, 5, 34, 33),\n",
       " datetime.datetime(2013, 8, 22, 5, 49, 29),\n",
       " datetime.datetime(2013, 8, 22, 6, 4, 56),\n",
       " datetime.datetime(2013, 8, 22, 6, 19, 55),\n",
       " datetime.datetime(2013, 8, 22, 6, 35),\n",
       " datetime.datetime(2013, 8, 22, 6, 50, 13),\n",
       " datetime.datetime(2013, 8, 22, 7, 5, 24),\n",
       " datetime.datetime(2013, 8, 22, 7, 20, 28),\n",
       " datetime.datetime(2013, 8, 22, 7, 35, 22),\n",
       " datetime.datetime(2013, 8, 22, 7, 50, 18),\n",
       " datetime.datetime(2013, 8, 22, 8, 5, 25),\n",
       " datetime.datetime(2013, 8, 22, 8, 20, 38),\n",
       " datetime.datetime(2013, 8, 22, 8, 36, 9),\n",
       " datetime.datetime(2013, 8, 22, 8, 51, 4),\n",
       " datetime.datetime(2013, 8, 22, 9, 6, 1),\n",
       " datetime.datetime(2013, 8, 22, 9, 21, 5),\n",
       " datetime.datetime(2013, 8, 22, 9, 36, 11),\n",
       " datetime.datetime(2013, 8, 22, 9, 51, 11),\n",
       " datetime.datetime(2013, 8, 22, 10, 6),\n",
       " datetime.datetime(2013, 8, 22, 10, 20, 57),\n",
       " datetime.datetime(2013, 8, 22, 10, 36, 5),\n",
       " datetime.datetime(2013, 8, 22, 10, 51, 18),\n",
       " datetime.datetime(2013, 8, 22, 11, 6, 48),\n",
       " datetime.datetime(2013, 8, 22, 11, 22, 32),\n",
       " datetime.datetime(2013, 8, 22, 11, 37, 30),\n",
       " datetime.datetime(2013, 8, 22, 11, 52, 27),\n",
       " datetime.datetime(2013, 8, 22, 12, 8, 8),\n",
       " datetime.datetime(2013, 8, 22, 12, 38, 7),\n",
       " datetime.datetime(2013, 8, 22, 12, 53, 2),\n",
       " datetime.datetime(2013, 8, 22, 13, 8),\n",
       " datetime.datetime(2013, 8, 22, 13, 22, 51),\n",
       " datetime.datetime(2013, 8, 22, 13, 38, 8),\n",
       " datetime.datetime(2013, 8, 22, 13, 53, 14),\n",
       " datetime.datetime(2013, 8, 22, 14, 8, 14),\n",
       " datetime.datetime(2013, 8, 22, 14, 23, 35),\n",
       " datetime.datetime(2013, 8, 22, 14, 38, 33),\n",
       " datetime.datetime(2013, 8, 22, 14, 53, 29),\n",
       " datetime.datetime(2013, 8, 22, 15, 8, 36),\n",
       " datetime.datetime(2013, 8, 22, 15, 23, 46),\n",
       " datetime.datetime(2013, 8, 22, 15, 39, 33),\n",
       " datetime.datetime(2013, 8, 22, 15, 54, 32),\n",
       " datetime.datetime(2013, 8, 22, 16, 9, 38),\n",
       " datetime.datetime(2013, 8, 22, 16, 24, 52),\n",
       " datetime.datetime(2013, 8, 22, 16, 39, 55),\n",
       " datetime.datetime(2013, 8, 22, 16, 54, 48),\n",
       " datetime.datetime(2013, 8, 22, 17, 9, 49),\n",
       " datetime.datetime(2013, 8, 22, 17, 24, 41),\n",
       " datetime.datetime(2013, 8, 22, 17, 39, 39),\n",
       " datetime.datetime(2013, 8, 22, 17, 54, 33),\n",
       " datetime.datetime(2013, 8, 22, 18, 10, 27),\n",
       " datetime.datetime(2013, 8, 22, 18, 25, 28),\n",
       " datetime.datetime(2013, 8, 22, 18, 40, 26),\n",
       " datetime.datetime(2013, 8, 22, 18, 55, 21),\n",
       " datetime.datetime(2013, 8, 22, 19, 10, 18),\n",
       " datetime.datetime(2013, 8, 22, 19, 25, 13),\n",
       " datetime.datetime(2013, 8, 22, 19, 40, 10),\n",
       " datetime.datetime(2013, 8, 22, 19, 55, 5),\n",
       " datetime.datetime(2013, 8, 22, 20, 10, 1),\n",
       " datetime.datetime(2013, 8, 22, 20, 25),\n",
       " datetime.datetime(2013, 8, 22, 20, 40, 27),\n",
       " datetime.datetime(2013, 8, 22, 20, 55, 21),\n",
       " datetime.datetime(2013, 8, 22, 21, 25, 13),\n",
       " datetime.datetime(2013, 8, 22, 21, 55, 7),\n",
       " datetime.datetime(2013, 8, 22, 22, 24, 59),\n",
       " datetime.datetime(2013, 8, 22, 22, 54, 51),\n",
       " datetime.datetime(2013, 8, 22, 23, 25, 8),\n",
       " datetime.datetime(2013, 8, 22, 23, 55, 16),\n",
       " datetime.datetime(2013, 8, 23, 0, 25, 15),\n",
       " datetime.datetime(2013, 8, 23, 0, 55, 38),\n",
       " datetime.datetime(2013, 8, 23, 1, 25, 29),\n",
       " datetime.datetime(2013, 8, 23, 1, 55, 21),\n",
       " datetime.datetime(2013, 8, 23, 2, 25, 14),\n",
       " datetime.datetime(2013, 8, 23, 2, 55, 6),\n",
       " datetime.datetime(2013, 8, 23, 3, 10, 11),\n",
       " datetime.datetime(2013, 8, 23, 3, 25, 30),\n",
       " datetime.datetime(2013, 8, 23, 3, 40, 40),\n",
       " datetime.datetime(2013, 8, 23, 3, 56, 7),\n",
       " datetime.datetime(2013, 8, 23, 4, 11, 4),\n",
       " datetime.datetime(2013, 8, 23, 4, 26),\n",
       " datetime.datetime(2013, 8, 23, 4, 40, 59),\n",
       " datetime.datetime(2013, 8, 23, 4, 55, 54),\n",
       " datetime.datetime(2013, 8, 23, 5, 10, 55),\n",
       " datetime.datetime(2013, 8, 23, 5, 25, 48),\n",
       " datetime.datetime(2013, 8, 23, 5, 40, 54),\n",
       " datetime.datetime(2013, 8, 23, 5, 56, 26),\n",
       " datetime.datetime(2013, 8, 23, 6, 11, 21),\n",
       " datetime.datetime(2013, 8, 23, 6, 26, 17),\n",
       " datetime.datetime(2013, 8, 23, 6, 41, 15),\n",
       " datetime.datetime(2013, 8, 23, 6, 56, 22),\n",
       " datetime.datetime(2013, 8, 23, 7, 11, 35),\n",
       " datetime.datetime(2013, 8, 23, 7, 26, 49),\n",
       " datetime.datetime(2013, 8, 23, 7, 42, 8),\n",
       " datetime.datetime(2013, 8, 23, 7, 56, 57),\n",
       " datetime.datetime(2013, 8, 23, 8, 12, 9),\n",
       " datetime.datetime(2013, 8, 23, 8, 27, 6),\n",
       " datetime.datetime(2013, 8, 23, 8, 42, 1),\n",
       " datetime.datetime(2013, 8, 23, 8, 57, 8),\n",
       " datetime.datetime(2013, 8, 23, 9, 12, 19),\n",
       " datetime.datetime(2013, 8, 23, 9, 27, 31),\n",
       " datetime.datetime(2013, 8, 23, 9, 42, 46),\n",
       " datetime.datetime(2013, 8, 23, 9, 57, 55),\n",
       " datetime.datetime(2013, 8, 23, 10, 13, 32),\n",
       " datetime.datetime(2013, 8, 23, 10, 28, 24),\n",
       " datetime.datetime(2013, 8, 23, 10, 43, 31),\n",
       " datetime.datetime(2013, 8, 23, 10, 58, 51),\n",
       " datetime.datetime(2013, 8, 23, 11, 13, 56),\n",
       " datetime.datetime(2013, 8, 23, 11, 29, 35),\n",
       " datetime.datetime(2013, 8, 23, 11, 44, 26),\n",
       " datetime.datetime(2013, 8, 23, 11, 59, 21),\n",
       " datetime.datetime(2013, 8, 23, 12, 14, 27),\n",
       " datetime.datetime(2013, 8, 23, 12, 30, 8),\n",
       " datetime.datetime(2013, 8, 23, 12, 45, 26),\n",
       " datetime.datetime(2013, 8, 23, 13, 0, 34),\n",
       " datetime.datetime(2013, 8, 23, 13, 16, 3),\n",
       " datetime.datetime(2013, 8, 23, 13, 31, 4),\n",
       " datetime.datetime(2013, 8, 23, 13, 46),\n",
       " datetime.datetime(2013, 8, 23, 14, 1, 1),\n",
       " datetime.datetime(2013, 8, 23, 14, 16, 35),\n",
       " datetime.datetime(2013, 8, 23, 14, 31, 36),\n",
       " datetime.datetime(2013, 8, 23, 14, 46, 33),\n",
       " datetime.datetime(2013, 8, 23, 15, 1, 29),\n",
       " datetime.datetime(2013, 8, 23, 15, 16, 30),\n",
       " datetime.datetime(2013, 8, 23, 15, 31, 34),\n",
       " datetime.datetime(2013, 8, 23, 15, 46, 33),\n",
       " datetime.datetime(2013, 8, 23, 16, 1, 31),\n",
       " datetime.datetime(2013, 8, 23, 16, 16, 26),\n",
       " datetime.datetime(2013, 8, 23, 16, 31, 24),\n",
       " datetime.datetime(2013, 8, 23, 16, 46, 16),\n",
       " datetime.datetime(2013, 8, 23, 17, 1, 16),\n",
       " datetime.datetime(2013, 8, 23, 17, 16, 20),\n",
       " datetime.datetime(2013, 8, 23, 17, 32, 9),\n",
       " datetime.datetime(2013, 8, 23, 17, 47, 22),\n",
       " datetime.datetime(2013, 8, 23, 18, 2, 38),\n",
       " datetime.datetime(2013, 8, 23, 18, 17, 29),\n",
       " datetime.datetime(2013, 8, 23, 18, 32, 26),\n",
       " datetime.datetime(2013, 8, 23, 18, 47, 20),\n",
       " datetime.datetime(2013, 8, 23, 19, 2, 19),\n",
       " datetime.datetime(2013, 8, 23, 19, 17, 14),\n",
       " datetime.datetime(2013, 8, 23, 19, 32, 13),\n",
       " datetime.datetime(2013, 8, 23, 19, 47, 6),\n",
       " datetime.datetime(2013, 8, 23, 20, 2, 4),\n",
       " datetime.datetime(2013, 8, 23, 20, 17, 2),\n",
       " datetime.datetime(2013, 8, 23, 20, 32, 26),\n",
       " datetime.datetime(2013, 8, 23, 20, 47, 22),\n",
       " datetime.datetime(2013, 8, 23, 21, 17, 16),\n",
       " datetime.datetime(2013, 8, 23, 21, 47, 7),\n",
       " datetime.datetime(2013, 8, 23, 22, 16, 59),\n",
       " datetime.datetime(2013, 8, 23, 22, 46, 49),\n",
       " datetime.datetime(2013, 8, 23, 23, 17),\n",
       " datetime.datetime(2013, 8, 23, 23, 47, 26),\n",
       " datetime.datetime(2013, 8, 24, 0, 17, 39),\n",
       " datetime.datetime(2013, 8, 24, 0, 47, 37),\n",
       " datetime.datetime(2013, 8, 24, 1, 17, 29),\n",
       " datetime.datetime(2013, 8, 24, 1, 47, 21),\n",
       " datetime.datetime(2013, 8, 24, 2, 17, 14),\n",
       " datetime.datetime(2013, 8, 24, 2, 47, 6),\n",
       " datetime.datetime(2013, 8, 24, 3, 2, 12),\n",
       " datetime.datetime(2013, 8, 24, 3, 17, 25),\n",
       " datetime.datetime(2013, 8, 24, 3, 32, 36),\n",
       " datetime.datetime(2013, 8, 24, 3, 48, 5),\n",
       " datetime.datetime(2013, 8, 24, 4, 3, 21),\n",
       " datetime.datetime(2013, 8, 24, 4, 18, 17),\n",
       " datetime.datetime(2013, 8, 24, 4, 33, 15),\n",
       " datetime.datetime(2013, 8, 24, 4, 48, 20),\n",
       " datetime.datetime(2013, 8, 24, 5, 3, 21),\n",
       " datetime.datetime(2013, 8, 24, 5, 18, 18),\n",
       " datetime.datetime(2013, 8, 24, 5, 33, 15),\n",
       " datetime.datetime(2013, 8, 24, 5, 48, 38),\n",
       " datetime.datetime(2013, 8, 24, 6, 3, 38),\n",
       " datetime.datetime(2013, 8, 24, 6, 18, 33),\n",
       " datetime.datetime(2013, 8, 24, 6, 33, 30),\n",
       " datetime.datetime(2013, 8, 24, 6, 48, 29),\n",
       " datetime.datetime(2013, 8, 24, 7, 3, 21),\n",
       " datetime.datetime(2013, 8, 24, 7, 18, 17),\n",
       " datetime.datetime(2013, 8, 24, 7, 33, 13),\n",
       " datetime.datetime(2013, 8, 24, 7, 48, 9),\n",
       " datetime.datetime(2013, 8, 24, 8, 18, 33),\n",
       " datetime.datetime(2013, 8, 24, 8, 33, 31),\n",
       " datetime.datetime(2013, 8, 24, 8, 48, 25),\n",
       " datetime.datetime(2013, 8, 24, 9, 4, 3),\n",
       " datetime.datetime(2013, 8, 24, 9, 19, 5),\n",
       " datetime.datetime(2013, 8, 24, 9, 34, 5),\n",
       " datetime.datetime(2013, 8, 24, 9, 48, 57),\n",
       " datetime.datetime(2013, 8, 24, 10, 3, 53),\n",
       " datetime.datetime(2013, 8, 24, 10, 18, 49),\n",
       " datetime.datetime(2013, 8, 24, 10, 33, 46),\n",
       " datetime.datetime(2013, 8, 24, 10, 49, 8),\n",
       " datetime.datetime(2013, 8, 24, 11, 4, 10),\n",
       " datetime.datetime(2013, 8, 24, 11, 19, 6),\n",
       " datetime.datetime(2013, 8, 24, 11, 34, 4),\n",
       " datetime.datetime(2013, 8, 24, 11, 50, 9),\n",
       " datetime.datetime(2013, 8, 24, 12, 5, 17),\n",
       " datetime.datetime(2013, 8, 24, 12, 20, 38),\n",
       " datetime.datetime(2013, 8, 24, 12, 35, 57),\n",
       " datetime.datetime(2013, 8, 24, 12, 50, 52),\n",
       " datetime.datetime(2013, 8, 24, 13, 5, 47),\n",
       " datetime.datetime(2013, 8, 24, 13, 21, 8),\n",
       " datetime.datetime(2013, 8, 24, 13, 38, 47),\n",
       " datetime.datetime(2013, 8, 24, 13, 54),\n",
       " datetime.datetime(2013, 8, 24, 14, 9, 39),\n",
       " datetime.datetime(2013, 8, 24, 14, 24, 54),\n",
       " datetime.datetime(2013, 8, 24, 14, 39, 56),\n",
       " datetime.datetime(2013, 8, 24, 14, 54, 50),\n",
       " datetime.datetime(2013, 8, 24, 15, 9, 45),\n",
       " datetime.datetime(2013, 8, 24, 15, 24, 41),\n",
       " datetime.datetime(2013, 8, 24, 15, 39, 45),\n",
       " datetime.datetime(2013, 8, 24, 15, 54, 52),\n",
       " datetime.datetime(2013, 8, 24, 16, 10, 32),\n",
       " datetime.datetime(2013, 8, 24, 16, 26, 3),\n",
       " datetime.datetime(2013, 8, 24, 16, 40, 58),\n",
       " datetime.datetime(2013, 8, 24, 16, 55, 53),\n",
       " datetime.datetime(2013, 8, 24, 17, 10, 49),\n",
       " datetime.datetime(2013, 8, 24, 17, 25, 46),\n",
       " datetime.datetime(2013, 8, 24, 17, 40, 42),\n",
       " datetime.datetime(2013, 8, 24, 17, 55, 42),\n",
       " datetime.datetime(2013, 8, 24, 18, 10, 33),\n",
       " datetime.datetime(2013, 8, 24, 18, 25, 29),\n",
       " datetime.datetime(2013, 8, 24, 18, 40, 25),\n",
       " datetime.datetime(2013, 8, 24, 18, 55, 23),\n",
       " datetime.datetime(2013, 8, 24, 19, 10, 20),\n",
       " datetime.datetime(2013, 8, 24, 19, 25, 48),\n",
       " datetime.datetime(2013, 8, 24, 19, 40, 55),\n",
       " datetime.datetime(2013, 8, 24, 19, 56, 4),\n",
       " datetime.datetime(2013, 8, 24, 20, 11, 35),\n",
       " datetime.datetime(2013, 8, 24, 20, 26, 33),\n",
       " datetime.datetime(2013, 8, 24, 20, 41, 29),\n",
       " datetime.datetime(2013, 8, 24, 20, 56, 25),\n",
       " datetime.datetime(2013, 8, 24, 21, 26, 17),\n",
       " datetime.datetime(2013, 8, 24, 21, 56, 10),\n",
       " datetime.datetime(2013, 8, 24, 22, 26, 1),\n",
       " datetime.datetime(2013, 8, 24, 22, 55, 54),\n",
       " datetime.datetime(2013, 8, 24, 23, 26, 8),\n",
       " datetime.datetime(2013, 8, 24, 23, 56, 4),\n",
       " datetime.datetime(2013, 8, 25, 0, 26, 38),\n",
       " datetime.datetime(2013, 8, 25, 0, 56, 28),\n",
       " datetime.datetime(2013, 8, 25, 1, 26, 18),\n",
       " datetime.datetime(2013, 8, 25, 1, 56, 11),\n",
       " datetime.datetime(2013, 8, 25, 2, 26, 32),\n",
       " datetime.datetime(2013, 8, 25, 2, 56, 26),\n",
       " datetime.datetime(2013, 8, 25, 3, 11, 21),\n",
       " datetime.datetime(2013, 8, 25, 3, 26, 27),\n",
       " datetime.datetime(2013, 8, 25, 3, 41, 44),\n",
       " datetime.datetime(2013, 8, 25, 3, 57, 9),\n",
       " datetime.datetime(2013, 8, 25, 4, 12, 9),\n",
       " datetime.datetime(2013, 8, 25, 4, 27, 6),\n",
       " datetime.datetime(2013, 8, 25, 4, 42, 1),\n",
       " datetime.datetime(2013, 8, 25, 4, 56, 59),\n",
       " datetime.datetime(2013, 8, 25, 5, 11, 53),\n",
       " datetime.datetime(2013, 8, 25, 5, 26, 51),\n",
       " datetime.datetime(2013, 8, 25, 5, 41, 45),\n",
       " datetime.datetime(2013, 8, 25, 5, 56, 57),\n",
       " datetime.datetime(2013, 8, 25, 6, 12, 56),\n",
       " datetime.datetime(2013, 8, 25, 6, 27, 52),\n",
       " datetime.datetime(2013, 8, 25, 6, 42, 48),\n",
       " datetime.datetime(2013, 8, 25, 6, 57, 45),\n",
       " datetime.datetime(2013, 8, 25, 7, 12, 43),\n",
       " datetime.datetime(2013, 8, 25, 7, 27, 37),\n",
       " datetime.datetime(2013, 8, 25, 7, 42, 35),\n",
       " datetime.datetime(2013, 8, 25, 7, 57, 31),\n",
       " datetime.datetime(2013, 8, 25, 8, 27, 24),\n",
       " datetime.datetime(2013, 8, 25, 8, 42, 38),\n",
       " datetime.datetime(2013, 8, 25, 8, 57, 55),\n",
       " datetime.datetime(2013, 8, 25, 9, 12, 58),\n",
       " datetime.datetime(2013, 8, 25, 9, 27, 56),\n",
       " datetime.datetime(2013, 8, 25, 9, 43, 8),\n",
       " datetime.datetime(2013, 8, 25, 9, 58, 1),\n",
       " datetime.datetime(2013, 8, 25, 10, 12, 59),\n",
       " datetime.datetime(2013, 8, 25, 10, 27, 57),\n",
       " datetime.datetime(2013, 8, 25, 10, 43, 8),\n",
       " datetime.datetime(2013, 8, 25, 10, 58, 1),\n",
       " datetime.datetime(2013, 8, 25, 11, 12, 59),\n",
       " datetime.datetime(2013, 8, 25, 11, 27, 53),\n",
       " datetime.datetime(2013, 8, 25, 11, 42, 58),\n",
       " datetime.datetime(2013, 8, 25, 11, 58, 32),\n",
       " datetime.datetime(2013, 8, 25, 12, 14, 2),\n",
       " datetime.datetime(2013, 8, 25, 12, 28, 58),\n",
       " datetime.datetime(2013, 8, 25, 12, 43, 55),\n",
       " datetime.datetime(2013, 8, 25, 12, 58, 49),\n",
       " datetime.datetime(2013, 8, 25, 13, 13, 45),\n",
       " datetime.datetime(2013, 8, 25, 13, 28, 42),\n",
       " datetime.datetime(2013, 8, 25, 13, 44, 5),\n",
       " datetime.datetime(2013, 8, 25, 13, 59, 5),\n",
       " datetime.datetime(2013, 8, 25, 14, 14, 1),\n",
       " datetime.datetime(2013, 8, 25, 14, 29, 33),\n",
       " datetime.datetime(2013, 8, 25, 14, 44, 25),\n",
       " datetime.datetime(2013, 8, 25, 14, 59, 25),\n",
       " datetime.datetime(2013, 8, 25, 15, 14, 17),\n",
       " datetime.datetime(2013, 8, 25, 15, 29, 19),\n",
       " datetime.datetime(2013, 8, 25, 15, 44, 9),\n",
       " datetime.datetime(2013, 8, 25, 15, 59, 6),\n",
       " datetime.datetime(2013, 8, 25, 16, 14, 4),\n",
       " datetime.datetime(2013, 8, 25, 16, 29, 4),\n",
       " datetime.datetime(2013, 8, 25, 16, 44, 25),\n",
       " datetime.datetime(2013, 8, 25, 16, 59, 21),\n",
       " datetime.datetime(2013, 8, 25, 17, 14, 18),\n",
       " datetime.datetime(2013, 8, 25, 17, 29, 27),\n",
       " datetime.datetime(2013, 8, 25, 17, 44, 37),\n",
       " datetime.datetime(2013, 8, 25, 18, 0, 7),\n",
       " datetime.datetime(2013, 8, 25, 18, 15, 8),\n",
       " datetime.datetime(2013, 8, 25, 18, 30, 1),\n",
       " datetime.datetime(2013, 8, 25, 18, 44, 59),\n",
       " datetime.datetime(2013, 8, 25, 19, 0, 5),\n",
       " datetime.datetime(2013, 8, 25, 19, 15, 25),\n",
       " datetime.datetime(2013, 8, 25, 19, 30, 38),\n",
       " datetime.datetime(2013, 8, 25, 19, 46, 3),\n",
       " datetime.datetime(2013, 8, 25, 20, 0, 56),\n",
       " datetime.datetime(2013, 8, 25, 20, 16, 10),\n",
       " datetime.datetime(2013, 8, 25, 20, 31, 5),\n",
       " datetime.datetime(2013, 8, 25, 20, 46, 1),\n",
       " datetime.datetime(2013, 8, 25, 21, 15, 54),\n",
       " datetime.datetime(2013, 8, 25, 21, 45, 47),\n",
       " datetime.datetime(2013, 8, 25, 22, 16, 8),\n",
       " datetime.datetime(2013, 8, 25, 22, 46, 29),\n",
       " datetime.datetime(2013, 8, 25, 23, 16, 26),\n",
       " datetime.datetime(2013, 8, 25, 23, 46, 19),\n",
       " datetime.datetime(2013, 8, 26, 0, 16, 10),\n",
       " datetime.datetime(2013, 8, 26, 0, 46, 2),\n",
       " datetime.datetime(2013, 8, 26, 1, 15, 57),\n",
       " datetime.datetime(2013, 8, 26, 1, 45, 48),\n",
       " datetime.datetime(2013, 8, 26, 2, 16, 33),\n",
       " datetime.datetime(2013, 8, 26, 2, 46, 45),\n",
       " datetime.datetime(2013, 8, 26, 3, 1, 56),\n",
       " datetime.datetime(2013, 8, 26, 3, 17, 7),\n",
       " datetime.datetime(2013, 8, 26, 3, 32, 20),\n",
       " datetime.datetime(2013, 8, 26, 3, 47, 39),\n",
       " datetime.datetime(2013, 8, 26, 4, 2, 37),\n",
       " datetime.datetime(2013, 8, 26, 4, 17, 31),\n",
       " datetime.datetime(2013, 8, 26, 4, 32, 29),\n",
       " datetime.datetime(2013, 8, 26, 4, 47, 24),\n",
       " datetime.datetime(2013, 8, 26, 5, 3, 3),\n",
       " datetime.datetime(2013, 8, 26, 5, 18, 2),\n",
       " datetime.datetime(2013, 8, 26, 5, 32, 58),\n",
       " datetime.datetime(2013, 8, 26, 5, 48, 12),\n",
       " datetime.datetime(2013, 8, 26, 6, 3, 16),\n",
       " datetime.datetime(2013, 8, 26, 6, 18, 39),\n",
       " datetime.datetime(2013, 8, 26, 6, 33, 31),\n",
       " datetime.datetime(2013, 8, 26, 6, 48, 29),\n",
       " datetime.datetime(2013, 8, 26, 7, 3, 25),\n",
       " datetime.datetime(2013, 8, 26, 7, 18, 27),\n",
       " datetime.datetime(2013, 8, 26, 7, 34, 8),\n",
       " datetime.datetime(2013, 8, 26, 7, 49),\n",
       " datetime.datetime(2013, 8, 26, 8, 3, 53),\n",
       " datetime.datetime(2013, 8, 26, 8, 18, 52),\n",
       " datetime.datetime(2013, 8, 26, 8, 33, 47),\n",
       " datetime.datetime(2013, 8, 26, 8, 49, 8),\n",
       " datetime.datetime(2013, 8, 26, 9, 4, 9),\n",
       " datetime.datetime(2013, 8, 26, 9, 19, 8),\n",
       " datetime.datetime(2013, 8, 26, 9, 34, 10),\n",
       " datetime.datetime(2013, 8, 26, 9, 49, 27),\n",
       " datetime.datetime(2013, 8, 26, 10, 4, 28),\n",
       " datetime.datetime(2013, 8, 26, 10, 19, 23),\n",
       " datetime.datetime(2013, 8, 26, 10, 34, 17),\n",
       " datetime.datetime(2013, 8, 26, 10, 49, 14),\n",
       " datetime.datetime(2013, 8, 26, 11, 4, 11),\n",
       " datetime.datetime(2013, 8, 26, 11, 19, 9),\n",
       " datetime.datetime(2013, 8, 26, 11, 34, 2),\n",
       " datetime.datetime(2013, 8, 26, 11, 49),\n",
       " datetime.datetime(2013, 8, 26, 12, 4, 26),\n",
       " datetime.datetime(2013, 8, 26, 12, 19, 23),\n",
       " datetime.datetime(2013, 8, 26, 12, 34, 18),\n",
       " datetime.datetime(2013, 8, 26, 12, 49, 13),\n",
       " datetime.datetime(2013, 8, 26, 13, 4, 14),\n",
       " datetime.datetime(2013, 8, 26, 13, 19, 38),\n",
       " datetime.datetime(2013, 8, 26, 13, 34, 33),\n",
       " datetime.datetime(2013, 8, 26, 13, 49, 29),\n",
       " datetime.datetime(2013, 8, 26, 14, 4, 33),\n",
       " datetime.datetime(2013, 8, 26, 14, 19, 53),\n",
       " datetime.datetime(2013, 8, 26, 14, 35, 1),\n",
       " datetime.datetime(2013, 8, 26, 14, 50, 18),\n",
       " datetime.datetime(2013, 8, 26, 15, 5, 36),\n",
       " datetime.datetime(2013, 8, 26, 15, 20, 27),\n",
       " datetime.datetime(2013, 8, 26, 15, 35, 21),\n",
       " datetime.datetime(2013, 8, 26, 15, 50, 18),\n",
       " datetime.datetime(2013, 8, 26, 16, 5, 34),\n",
       " datetime.datetime(2013, 8, 26, 16, 20, 24),\n",
       " datetime.datetime(2013, 8, 26, 16, 35, 22),\n",
       " datetime.datetime(2013, 8, 26, 16, 50, 20),\n",
       " datetime.datetime(2013, 8, 26, 17, 5, 25),\n",
       " datetime.datetime(2013, 8, 26, 17, 20, 53),\n",
       " datetime.datetime(2013, 8, 26, 17, 35, 56),\n",
       " datetime.datetime(2013, 8, 26, 17, 50, 51),\n",
       " datetime.datetime(2013, 8, 26, 18, 5, 46),\n",
       " datetime.datetime(2013, 8, 26, 18, 20, 42),\n",
       " datetime.datetime(2013, 8, 26, 18, 35, 39),\n",
       " datetime.datetime(2013, 8, 26, 18, 50, 36),\n",
       " datetime.datetime(2013, 8, 26, 19, 6, 3),\n",
       " datetime.datetime(2013, 8, 26, 19, 20, 57),\n",
       " datetime.datetime(2013, 8, 26, 19, 35, 53),\n",
       " datetime.datetime(2013, 8, 26, 19, 50, 49),\n",
       " datetime.datetime(2013, 8, 26, 20, 5, 45),\n",
       " datetime.datetime(2013, 8, 26, 20, 20, 42),\n",
       " datetime.datetime(2013, 8, 26, 20, 35, 38),\n",
       " datetime.datetime(2013, 8, 26, 20, 50, 33),\n",
       " datetime.datetime(2013, 8, 26, 21, 20, 27),\n",
       " datetime.datetime(2013, 8, 26, 21, 50, 19),\n",
       " datetime.datetime(2013, 8, 26, 22, 20, 38),\n",
       " datetime.datetime(2013, 8, 26, 22, 50, 33),\n",
       " datetime.datetime(2013, 8, 26, 23, 20, 26),\n",
       " datetime.datetime(2013, 8, 26, 23, 50, 20),\n",
       " datetime.datetime(2013, 8, 27, 0, 20, 10),\n",
       " datetime.datetime(2013, 8, 27, 0, 50, 2),\n",
       " datetime.datetime(2013, 8, 27, 1, 19, 57),\n",
       " ...]"
      ]
     },
     "execution_count": 19,
     "metadata": {},
     "output_type": "execute_result"
    }
   ],
   "source": [
    "timestamps = [\n",
    "    dt.datetime.strptime(bird_data.date_time.iloc[k][:-3], '%Y-%m-%d %H:%M:%S') \\\n",
    "        for k in range(len(bird_data))\n",
    "]\n",
    "timestamps"
   ]
  },
  {
   "cell_type": "code",
   "execution_count": 20,
   "metadata": {},
   "outputs": [
    {
     "data": {
      "text/plain": [
       "Timedelta('0 days 00:29:59')"
      ]
     },
     "execution_count": 20,
     "metadata": {},
     "output_type": "execute_result"
    }
   ],
   "source": [
    "bird_data['timestamp'] = pd.Series(timestamps, index=bird_data.index)\n",
    "bird_data.timestamp[1] - bird_data.timestamp[0]"
   ]
  },
  {
   "cell_type": "code",
   "execution_count": 21,
   "metadata": {},
   "outputs": [
    {
     "name": "stdout",
     "output_type": "stream",
     "text": [
      "0 days 00:29:59\n"
     ]
    }
   ],
   "source": [
    "a = bird_data.timestamp[1] - bird_data.timestamp[0]\n",
    "print(a)"
   ]
  },
  {
   "cell_type": "code",
   "execution_count": 22,
   "metadata": {},
   "outputs": [
    {
     "data": {
      "text/plain": [
       "RangeIndex(start=0, stop=61931, step=1)"
      ]
     },
     "execution_count": 22,
     "metadata": {},
     "output_type": "execute_result"
    }
   ],
   "source": [
    "bird_data.index"
   ]
  },
  {
   "cell_type": "code",
   "execution_count": 23,
   "metadata": {},
   "outputs": [
    {
     "data": {
      "text/html": [
       "<div>\n",
       "<style scoped>\n",
       "    .dataframe tbody tr th:only-of-type {\n",
       "        vertical-align: middle;\n",
       "    }\n",
       "\n",
       "    .dataframe tbody tr th {\n",
       "        vertical-align: top;\n",
       "    }\n",
       "\n",
       "    .dataframe thead th {\n",
       "        text-align: right;\n",
       "    }\n",
       "</style>\n",
       "<table border=\"1\" class=\"dataframe\">\n",
       "  <thead>\n",
       "    <tr style=\"text-align: right;\">\n",
       "      <th></th>\n",
       "      <th>altitude</th>\n",
       "      <th>date_time</th>\n",
       "      <th>device_info_serial</th>\n",
       "      <th>direction</th>\n",
       "      <th>latitude</th>\n",
       "      <th>longitude</th>\n",
       "      <th>speed_2d</th>\n",
       "      <th>bird_name</th>\n",
       "      <th>timestamp</th>\n",
       "    </tr>\n",
       "  </thead>\n",
       "  <tbody>\n",
       "    <tr>\n",
       "      <th>0</th>\n",
       "      <td>71</td>\n",
       "      <td>2013-08-15 00:18:08+00</td>\n",
       "      <td>851</td>\n",
       "      <td>NaN</td>\n",
       "      <td>49.419860</td>\n",
       "      <td>2.120733</td>\n",
       "      <td>0.191484</td>\n",
       "      <td>Eric</td>\n",
       "      <td>2013-08-15 00:18:08</td>\n",
       "    </tr>\n",
       "    <tr>\n",
       "      <th>1</th>\n",
       "      <td>68</td>\n",
       "      <td>2013-08-15 00:48:07+00</td>\n",
       "      <td>851</td>\n",
       "      <td>NaN</td>\n",
       "      <td>49.419880</td>\n",
       "      <td>2.120746</td>\n",
       "      <td>2.739698</td>\n",
       "      <td>Eric</td>\n",
       "      <td>2013-08-15 00:48:07</td>\n",
       "    </tr>\n",
       "    <tr>\n",
       "      <th>2</th>\n",
       "      <td>68</td>\n",
       "      <td>2013-08-15 01:17:58+00</td>\n",
       "      <td>851</td>\n",
       "      <td>NaN</td>\n",
       "      <td>49.420310</td>\n",
       "      <td>2.120885</td>\n",
       "      <td>0.360099</td>\n",
       "      <td>Eric</td>\n",
       "      <td>2013-08-15 01:17:58</td>\n",
       "    </tr>\n",
       "    <tr>\n",
       "      <th>3</th>\n",
       "      <td>73</td>\n",
       "      <td>2013-08-15 01:47:51+00</td>\n",
       "      <td>851</td>\n",
       "      <td>NaN</td>\n",
       "      <td>49.420359</td>\n",
       "      <td>2.120859</td>\n",
       "      <td>0.039658</td>\n",
       "      <td>Eric</td>\n",
       "      <td>2013-08-15 01:47:51</td>\n",
       "    </tr>\n",
       "    <tr>\n",
       "      <th>4</th>\n",
       "      <td>69</td>\n",
       "      <td>2013-08-15 02:17:42+00</td>\n",
       "      <td>851</td>\n",
       "      <td>NaN</td>\n",
       "      <td>49.420331</td>\n",
       "      <td>2.120887</td>\n",
       "      <td>0.107988</td>\n",
       "      <td>Eric</td>\n",
       "      <td>2013-08-15 02:17:42</td>\n",
       "    </tr>\n",
       "  </tbody>\n",
       "</table>\n",
       "</div>"
      ],
      "text/plain": [
       "   altitude               date_time  device_info_serial  direction   latitude  \\\n",
       "0        71  2013-08-15 00:18:08+00                 851        NaN  49.419860   \n",
       "1        68  2013-08-15 00:48:07+00                 851        NaN  49.419880   \n",
       "2        68  2013-08-15 01:17:58+00                 851        NaN  49.420310   \n",
       "3        73  2013-08-15 01:47:51+00                 851        NaN  49.420359   \n",
       "4        69  2013-08-15 02:17:42+00                 851        NaN  49.420331   \n",
       "\n",
       "   longitude  speed_2d bird_name           timestamp  \n",
       "0   2.120733  0.191484      Eric 2013-08-15 00:18:08  \n",
       "1   2.120746  2.739698      Eric 2013-08-15 00:48:07  \n",
       "2   2.120885  0.360099      Eric 2013-08-15 01:17:58  \n",
       "3   2.120859  0.039658      Eric 2013-08-15 01:47:51  \n",
       "4   2.120887  0.107988      Eric 2013-08-15 02:17:42  "
      ]
     },
     "execution_count": 23,
     "metadata": {},
     "output_type": "execute_result"
    }
   ],
   "source": [
    "bird_data.head()"
   ]
  },
  {
   "cell_type": "code",
   "execution_count": 24,
   "metadata": {},
   "outputs": [],
   "source": [
    "import pandas as pd"
   ]
  },
  {
   "cell_type": "code",
   "execution_count": 25,
   "metadata": {},
   "outputs": [
    {
     "name": "stdout",
     "output_type": "stream",
     "text": [
      "['Eric' 'Nico' 'Sanne']\n"
     ]
    }
   ],
   "source": [
    "bird_data = pd.read_csv('bird_tracking.csv')\n",
    "bird_names = pd.unique(bird_data.bird_name)\n",
    "print(bird_names)"
   ]
  },
  {
   "cell_type": "code",
   "execution_count": 26,
   "metadata": {},
   "outputs": [],
   "source": [
    "import datetime as dt"
   ]
  },
  {
   "cell_type": "code",
   "execution_count": 27,
   "metadata": {},
   "outputs": [
    {
     "data": {
      "text/plain": [
       "Timedelta('1 days 05:24:41')"
      ]
     },
     "execution_count": 27,
     "metadata": {},
     "output_type": "execute_result"
    }
   ],
   "source": [
    "# elapsed: 새 이동을 측정하기 시작한 시점부터 측정할 때마다의 시간을 누적시킨 수치\n",
    "timestamps = [\n",
    "    dt.datetime.strptime(bird_data.date_time.iloc[k][:-3], '%Y-%m-%d %H:%M:%S') \\\n",
    "        for k in range(len(bird_data))\n",
    "]\n",
    "bird_data['timestamp'] = pd.Series(timestamps, index=bird_data.index)\n",
    "\n",
    "times = bird_data.timestamp[bird_data.bird_name == 'Eric']\n",
    "elapsed = [time - times[0] for time in times]\n",
    "elapsed[100]"
   ]
  },
  {
   "cell_type": "code",
   "execution_count": 28,
   "metadata": {},
   "outputs": [
    {
     "name": "stdout",
     "output_type": "stream",
     "text": [
      "0 days 00:00:00\n",
      "0 days 00:29:59\n",
      "1 days 05:24:41\n"
     ]
    }
   ],
   "source": [
    "print(elapsed[0])\n",
    "print(elapsed[1])\n",
    "print(elapsed[100])"
   ]
  },
  {
   "cell_type": "code",
   "execution_count": 29,
   "metadata": {},
   "outputs": [
    {
     "data": {
      "text/plain": [
       "1.225474537037037"
      ]
     },
     "execution_count": 29,
     "metadata": {},
     "output_type": "execute_result"
    }
   ],
   "source": [
    "# 초기 100개 구간의 시간을 날짜 일수로 알고 싶을 때\n",
    "elapsed[100] / dt.timedelta(days=1)"
   ]
  },
  {
   "cell_type": "code",
   "execution_count": 30,
   "metadata": {},
   "outputs": [
    {
     "data": {
      "text/plain": [
       "29.41138888888889"
      ]
     },
     "execution_count": 30,
     "metadata": {},
     "output_type": "execute_result"
    }
   ],
   "source": [
    "elapsed[100] / dt.timedelta(hours=1)"
   ]
  },
  {
   "cell_type": "code",
   "execution_count": 31,
   "metadata": {},
   "outputs": [
    {
     "data": {
      "text/plain": [
       "Text(0, 0.5, 'Elapsed(days)')"
      ]
     },
     "execution_count": 31,
     "metadata": {},
     "output_type": "execute_result"
    },
    {
     "data": {
      "image/png": "[encoded data removed]",
      "text/plain": [
       "<Figure size 432x288 with 1 Axes>"
      ]
     },
     "metadata": {
      "needs_background": "light"
     },
     "output_type": "display_data"
    }
   ],
   "source": [
    "import matplotlib.pyplot as plt\n",
    "import numpy as np\n",
    "\n",
    "plt.plot(np.array(elapsed) / dt.timedelta(days=1))\n",
    "plt.xlabel('Observation')\n",
    "plt.ylabel('Elapsed(days)')"
   ]
  },
  {
   "cell_type": "code",
   "execution_count": 32,
   "metadata": {},
   "outputs": [],
   "source": [
    "import pandas as pd"
   ]
  },
  {
   "cell_type": "code",
   "execution_count": 33,
   "metadata": {},
   "outputs": [
    {
     "name": "stdout",
     "output_type": "stream",
     "text": [
      "0    0.191484\n",
      "1    2.739698\n",
      "2    0.360099\n",
      "3    0.039658\n",
      "4    0.107988\n",
      "Name: speed_2d, dtype: float64\n"
     ]
    }
   ],
   "source": [
    "# Eric의 비행 속도 저장\n",
    "bird_data = pd.read_csv('bird_tracking.csv')\n",
    "ix = bird_data.bird_name == 'Eric'\n",
    "speed = bird_data.speed_2d[ix]\n",
    "print(speed.head())"
   ]
  },
  {
   "cell_type": "code",
   "execution_count": 34,
   "metadata": {},
   "outputs": [],
   "source": [
    "import matplotlib.pyplot as plt"
   ]
  },
  {
   "cell_type": "code",
   "execution_count": 35,
   "metadata": {},
   "outputs": [
    {
     "data": {
      "text/plain": [
       "Text(0, 0.5, 'Flying Speed')"
      ]
     },
     "execution_count": 35,
     "metadata": {},
     "output_type": "execute_result"
    },
    {
     "data": {
      "image/png": "[encoded data removed]",
      "text/plain": [
       "<Figure size 432x288 with 1 Axes>"
      ]
     },
     "metadata": {
      "needs_background": "light"
     },
     "output_type": "display_data"
    }
   ],
   "source": [
    "plt.plot(range(50), speed[:50])\n",
    "plt.xlabel('Observation')\n",
    "plt.ylabel('Flying Speed')"
   ]
  },
  {
   "cell_type": "code",
   "execution_count": 36,
   "metadata": {},
   "outputs": [
    {
     "data": {
      "text/plain": [
       "Text(0, 0.5, 'Flying Speed')"
      ]
     },
     "execution_count": 36,
     "metadata": {},
     "output_type": "execute_result"
    },
    {
     "data": {
      "image/png": "[encoded data removed]",
      "text/plain": [
       "<Figure size 432x288 with 1 Axes>"
      ]
     },
     "metadata": {
      "needs_background": "light"
     },
     "output_type": "display_data"
    }
   ],
   "source": [
    "speed = bird_data.speed_2d[bird_data.bird_name == 'Eric']\n",
    "\n",
    "plt.plot(range(50), speed[:50])\n",
    "plt.xlabel('Observation')\n",
    "plt.ylabel('Flying Speed')"
   ]
  },
  {
   "cell_type": "code",
   "execution_count": 37,
   "metadata": {},
   "outputs": [],
   "source": [
    "import pandas as pd"
   ]
  },
  {
   "cell_type": "code",
   "execution_count": 38,
   "metadata": {},
   "outputs": [
    {
     "data": {
      "text/plain": [
       "0.684238527673075"
      ]
     },
     "execution_count": 38,
     "metadata": {},
     "output_type": "execute_result"
    }
   ],
   "source": [
    "bird_data = pd.read_csv('bird_tracking.csv')\n",
    "speed = bird_data.speed_2d[bird_data.bird_name == 'Eric']\n",
    "speed[218]"
   ]
  },
  {
   "cell_type": "code",
   "execution_count": 39,
   "metadata": {},
   "outputs": [
    {
     "data": {
      "text/plain": [
       "nan"
      ]
     },
     "execution_count": 39,
     "metadata": {},
     "output_type": "execute_result"
    }
   ],
   "source": [
    "speed[219]"
   ]
  },
  {
   "cell_type": "code",
   "execution_count": 40,
   "metadata": {},
   "outputs": [],
   "source": [
    "import numpy as np"
   ]
  },
  {
   "cell_type": "code",
   "execution_count": 41,
   "metadata": {},
   "outputs": [
    {
     "name": "stdout",
     "output_type": "stream",
     "text": [
      "[False False False ... False False False]\n"
     ]
    }
   ],
   "source": [
    "speed = np.array(speed)\n",
    "print(np.isnan(speed))"
   ]
  },
  {
   "cell_type": "code",
   "execution_count": 42,
   "metadata": {},
   "outputs": [
    {
     "data": {
      "text/plain": [
       "True"
      ]
     },
     "execution_count": 42,
     "metadata": {},
     "output_type": "execute_result"
    }
   ],
   "source": [
    "np.isnan(speed).any()"
   ]
  },
  {
   "cell_type": "code",
   "execution_count": 43,
   "metadata": {},
   "outputs": [],
   "source": [
    "import pandas as pd"
   ]
  },
  {
   "cell_type": "code",
   "execution_count": 45,
   "metadata": {},
   "outputs": [],
   "source": [
    "bird_data = pd.read_csv('bird_tracking.csv')\n",
    "speed = bird_data.speed_2d[bird_data.bird_name == 'Eric']"
   ]
  },
  {
   "cell_type": "code",
   "execution_count": 46,
   "metadata": {},
   "outputs": [],
   "source": [
    "import numpy as np"
   ]
  },
  {
   "cell_type": "code",
   "execution_count": 47,
   "metadata": {},
   "outputs": [
    {
     "name": "stdout",
     "output_type": "stream",
     "text": [
      "[False False False ... False False False]\n"
     ]
    }
   ],
   "source": [
    "speed = np.array(speed)\n",
    "np.isnan(speed)\n",
    "print(np.isnan(speed))"
   ]
  },
  {
   "cell_type": "code",
   "execution_count": 48,
   "metadata": {},
   "outputs": [
    {
     "name": "stdout",
     "output_type": "stream",
     "text": [
      "219\n"
     ]
    }
   ],
   "source": [
    "def get_nan(s):\n",
    "    for i, n in enumerate(s):\n",
    "        if np.isnan(n):\n",
    "            return i\n",
    "\n",
    "\n",
    "ind = get_nan(speed)\n",
    "print(ind)"
   ]
  },
  {
   "cell_type": "code",
   "execution_count": 49,
   "metadata": {},
   "outputs": [
    {
     "data": {
      "text/plain": [
       "19798"
      ]
     },
     "execution_count": 49,
     "metadata": {},
     "output_type": "execute_result"
    }
   ],
   "source": [
    "len(np.isnan(speed))"
   ]
  },
  {
   "cell_type": "code",
   "execution_count": 50,
   "metadata": {},
   "outputs": [],
   "source": [
    "import pandas as pd\n",
    "import numpy as np"
   ]
  },
  {
   "cell_type": "code",
   "execution_count": 51,
   "metadata": {},
   "outputs": [
    {
     "data": {
      "text/plain": [
       "array([False, False, False, ..., False, False, False])"
      ]
     },
     "execution_count": 51,
     "metadata": {},
     "output_type": "execute_result"
    }
   ],
   "source": [
    "bird_data = pd.read_csv('bird_tracking.csv')\n",
    "speed = bird_data.speed_2d[bird_data.bird_name == 'Eric']\n",
    "speed = np.array(speed)\n",
    "np.isnan(speed)"
   ]
  },
  {
   "cell_type": "code",
   "execution_count": 53,
   "metadata": {},
   "outputs": [
    {
     "name": "stdout",
     "output_type": "stream",
     "text": [
      "total number of NaN: 85\n",
      "[219, 1006, 1232, 1255, 1531, 1731, 2470, 3219, 3406, 3413, 3430, 3436, 3597, 3617, 3638, 3738, 3743, 4049, 4068, 4120, 4149, 4357, 4514, 4594, 4689, 4779, 4929, 4984, 5010, 5027, 5117, 5158, 5736, 5745, 5904, 6003, 6572, 6665, 6934, 6974, 7430, 7597, 8180, 8933, 9202, 9325, 9357, 9426, 9593, 10107, 10143, 10153, 10163, 10553, 10942, 10944, 11321, 12618, 12762, 13096, 13182, 13284, 14110, 14476, 14997, 15031, 15104, 15579, 15774, 15811, 15910, 16785, 16977, 17947, 18235, 18316, 19196, 19519, 19528, 19548, 19623, 19624, 19756, 19774, 19781]\n"
     ]
    }
   ],
   "source": [
    "def get_nan(s):\n",
    "    nan_list = []\n",
    "    for i, n in enumerate(s):\n",
    "        if np.isnan(n):\n",
    "            nan_list.append(i)\n",
    "    \n",
    "    return nan_list\n",
    "\n",
    "\n",
    "nan_list = get_nan(speed)\n",
    "print(f'total number of NaN: {len(nan_list)}')\n",
    "print(nan_list)"
   ]
  },
  {
   "cell_type": "code",
   "execution_count": 55,
   "metadata": {},
   "outputs": [],
   "source": [
    "import cartopy.crs as ccrs\n",
    "import cartopy.feature as cfeature"
   ]
  },
  {
   "cell_type": "code",
   "execution_count": 59,
   "metadata": {},
   "outputs": [
    {
     "data": {
      "text/plain": [
       "<matplotlib.legend.Legend at 0x1beb2e95910>"
      ]
     },
     "execution_count": 59,
     "metadata": {},
     "output_type": "execute_result"
    },
    {
     "data": {
      "image/png": "[encoded data removed]",
      "text/plain": [
       "<Figure size 720x720 with 1 Axes>"
      ]
     },
     "metadata": {
      "needs_background": "light"
     },
     "output_type": "display_data"
    }
   ],
   "source": [
    "proj = ccrs.Mercator()\n",
    "plt.figure(figsize=(10, 10))\n",
    "ax = plt.axes(projection=proj)\n",
    "ax.set_extent((-25.0, 20.0, 52.0, 10.0))\n",
    "ax.add_feature(cfeature.LAND)\n",
    "ax.add_feature(cfeature.OCEAN)\n",
    "ax.add_feature(cfeature.COASTLINE)\n",
    "ax.add_feature(cfeature.BORDERS, linestyle=':')\n",
    "\n",
    "for name in bird_names:\n",
    "    ix = bird_data['bird_name'] == name\n",
    "    x, y = bird_data.longitude[ix], bird_data.latitude[ix]\n",
    "    ax.plot(x, y, '.', transform=ccrs.Geodetic(), label=name)\n",
    "\n",
    "plt.legend(loc='upper left')"
   ]
  },
  {
   "cell_type": "code",
   "execution_count": 60,
   "metadata": {},
   "outputs": [
    {
     "data": {
      "text/plain": [
       "[<matplotlib.lines.Line2D at 0x1beb2f39430>]"
      ]
     },
     "execution_count": 60,
     "metadata": {},
     "output_type": "execute_result"
    },
    {
     "data": {
      "image/png": "[encoded data removed]",
      "text/plain": [
       "<Figure size 504x504 with 1 Axes>"
      ]
     },
     "metadata": {
      "needs_background": "light"
     },
     "output_type": "display_data"
    }
   ],
   "source": [
    "ix = bird_data.bird_name == 'Eric'\n",
    "x, y = bird_data.longitude[ix], bird_data.latitude[ix]\n",
    "\n",
    "plt.figure(figsize=(7, 7))\n",
    "plt.plot(x, y, '.')"
   ]
  },
  {
   "cell_type": "code",
   "execution_count": 61,
   "metadata": {},
   "outputs": [],
   "source": [
    "%matplotlib inline\n",
    "import pandas as pd\n",
    "import matplotlib.pyplot as plt\n",
    "import cartopy.crs as ccrs\n",
    "import cartopy.feature as cfeature\n",
    "from scipy.spatial import distance"
   ]
  },
  {
   "cell_type": "code",
   "execution_count": 63,
   "metadata": {},
   "outputs": [
    {
     "data": {
      "text/plain": [
       "[<matplotlib.lines.Line2D at 0x1beb30d77c0>]"
      ]
     },
     "execution_count": 63,
     "metadata": {},
     "output_type": "execute_result"
    },
    {
     "data": {
      "image/png": "[encoded data removed]",
      "text/plain": [
       "<Figure size 720x720 with 1 Axes>"
      ]
     },
     "metadata": {
      "needs_background": "light"
     },
     "output_type": "display_data"
    }
   ],
   "source": [
    "proj = ccrs.Mercator()\n",
    "plt.figure(figsize=(10, 10))\n",
    "ax = plt.axes(projection=proj)\n",
    "ax.set_extent((-25.0, 20.0, 52.0, 10.0))\n",
    "ax.add_feature(cfeature.LAND)\n",
    "ax.add_feature(cfeature.OCEAN)\n",
    "ax.add_feature(cfeature.COASTLINE)\n",
    "ax.add_feature(cfeature.BORDERS, linestyle=':')\n",
    "\n",
    "bird_data = pd.read_csv('bird_tracking.csv')\n",
    "bird_names = pd.unique(bird_data.bird_name)\n",
    "ix = bird_data['bird_name'] == 'Eric'\n",
    "x, y = bird_data.longitude[ix], bird_data.latitude[ix]\n",
    "\n",
    "# 남하\n",
    "ax.plot(x[0:17000], y[0:17000], '.', transform=ccrs.Geodetic())\n",
    "# 북상\n",
    "ax.plot(x[17101:18600], y[17101:18600], '.', transform=ccrs.Geodetic())"
   ]
  },
  {
   "cell_type": "code",
   "execution_count": null,
   "metadata": {},
   "outputs": [],
   "source": []
  }
 ],
 "metadata": {
  "interpreter": {
   "hash": "332680644509ba03a35e71813d4e1dec4bce58ec69fc86f5e5e8250523b988c0"
  },
  "kernelspec": {
   "display_name": "Python 3.9.12 ('base')",
   "language": "python",
   "name": "python3"
  },
  "language_info": {
   "codemirror_mode": {
    "name": "ipython",
    "version": 3
   },
   "file_extension": ".py",
   "mimetype": "text/x-python",
   "name": "python",
   "nbconvert_exporter": "python",
   "pygments_lexer": "ipython3",
   "version": "3.9.12"
  },
  "orig_nbformat": 4
 },
 "nbformat": 4,
 "nbformat_minor": 2
}
