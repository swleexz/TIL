{
 "cells": [
  {
   "cell_type": "markdown",
   "metadata": {},
   "source": [
    "## 딥러닝(Deep Learning)\n",
    "  * 인공신경망(artificial neural network)\n",
    "  * 인간 두뇌의 작동 원리를 응용하여 고안한 방식\n",
    "  * 다중계층으로 이루어진 신경망의 구조\n",
    "  * 입력되는 훈련 데이터로 딥러닝 훈련\n",
    "  * 신경망(Neural Network): 인간의 뇌신경 세포를 모방하여 만든 수학적 모델"
   ]
  },
  {
   "cell_type": "markdown",
   "metadata": {},
   "source": [
    "### 신경망(Neural Network)\n",
    "  * 딥러닝의 신경망은 층(또는 레이어)으로 구성된 계층구조로 이루어져 있음\n",
    "  * 데이터가 처음으로 입력되는 입력층(Input Layer)과 마지막 결과가 출력되는 출력층(Output Layer)가 있음\n",
    "  * 이 사이에는 선택적으로 여러 개의 은닉층을 가질 수 있음"
   ]
  },
  {
   "cell_type": "markdown",
   "metadata": {},
   "source": [
    "#### 가중치 계산을 위한 함수\n",
    "* 초기화된 가중치는 입력이 반복됨에 따라 더욱 적합한 값을 가질 수 있도록 첫 예측값 Y와 진짜 타깃 X의 오차를 최소화해야 함\n",
    "  1. 활성화 함수(Activation Function)\n",
    "    * 최적화 함수로 구한 값을 기반으로 다음 계층의 입력값을 활성화 함수(Activation Function)로 계산하여 다음 입력으로 사용\n",
    "  2. 손실 함수(Loss Function)\n",
    "    * 손실 함수를 통해 예측값 Y와 진짜 타깃 X의 오차를 구하고\n",
    "  3. 최적화 함수(Optimization Function)\n",
    "    * 이러한 오차를 줄이기 위하여 최적화 함수를 사용하여 가중치를 최적화하도록 적절히 조절한 후\n",
    "\n",
    "* 이러한 과정을 반복하면 딥러닝의 신경망 모델을 최적화 할 수 있음"
   ]
  },
  {
   "cell_type": "markdown",
   "metadata": {},
   "source": [
    "#### 활성화 함수(Activation Function)\n",
    "  * 인공 신경망 내부에서 입력받은 데이터를 근거로 다음 계층으로 출력할 값을 결정하는 기능 수행\n",
    "  * 신경망 구성 시 설정, 각 레이어를 정의할 때 세부적인 함수를 선택하게 됨\n",
    "  * 일반적으로 은닉층에서는 \"sigmoid\" 함수를 사용하기도 하는데 이 함수는 학습하는 과정에서 0에 가까워지는 Vanishing Gradient 문제가 있음\n",
    "  * 따라서 이러한 문제를 개선한 \"relu\" 함수를 주로 사용함\n",
    "    * \"relu\" 함수는 양수 값이 나오면 그대로 반환하지만 음수 값이 나오면 0을 반환하는 특성을 가짐\n",
    "\n",
    "\n",
    "  | 설정 시기 | 딥러닝 목표 | 활성화 함수 |\n",
    "  |----------|------------|------------|\n",
    "  | 컴파일 시 |      -     | relu/sigmoid |\n",
    "  |          |   이진분류  |    sigmoid   |\n",
    "  |          |   다중분류  |    softmax   |"
   ]
  },
  {
   "cell_type": "markdown",
   "metadata": {},
   "source": [
    "#### 손실 함수(Loss/Cost Function)\n",
    "  * 예측값(측정값)과 실제값의 차이를 구하기 위한 함수\n",
    "  * 신경망 컴파일 시 설정, 신경망의 목표와 일치하는 함수를 선택해야 함\n",
    "\n",
    "  | 설정 시기 | 딥러닝 목표 | 함수 |\n",
    "  |----------|-----------|------|\n",
    "  | 컴파일 시 |  회귀분석  | cross-entropy |\n",
    "  |          |  이진분류  | binary_crossentropy |\n",
    "  |          |  다중분류  | categorical_crossentropy |\n",
    "  "
   ]
  },
  {
   "cell_type": "markdown",
   "metadata": {},
   "source": [
    "#### 최적화 함수(Optimizer Function)\n",
    "  * 손실 함수의 결과값을 최소화하는 함수\n",
    "  * 경사하강법(Gradient Descent) 사용\n",
    "  * 컴파일 과정에서 함수 정의\n",
    "  * 확률적 경사하강법(SGD; Stochastic Gradient Descent) - 경사하강법 개선\n",
    "  * RMSProp 방식 - 확률적 경사하강법 개선"
   ]
  },
  {
   "cell_type": "markdown",
   "metadata": {},
   "source": [
    "### Tensorflow & Keras\n",
    "  * 딥러닝 모델의 학습 수행 과정\n",
    "    * 모델 구조 생성: 단수 또는 복수 개의 계층(layer)으로 구성된 신경망 모델의 구조 생성\n",
    "      * Keras: `models`라는 신경망 모델 사용하여 신경망의 계층(Layer) 생성\n",
    "      * `models.Sequential()` 함수로 설정하면 설정하는 모든 레이어를 선형적인 순서로 나열하겠다는 것\n",
    "      * `add()` 함수 사용 시 계층 생성\n",
    "      * `Dense()` 함수를 이용하면 해당 계층을 설정할 수 있음 - Keras의 `layers`에서 지원\n",
    "        * 예: `model.add(layers.Dense(1, input_dim=2, activation='sigmoid'))`\n",
    "        * 첫 번째 인자(`1`): 출력 뉴런의 수. 여기에 1로 설정하면 `(샘플 개수, 1)`의 배열 형식으로 출력\n",
    "        * 두 번째 인자(`input_dim=2`): 입력 데이터 개수가 2개라는 의미\n",
    "          * `input_dim=2` 대신 `input_shape=(2,)`를 사용하여도 무방함\n",
    "        * 마지막 인자(`activation='sigmoid'`) 활성화(activation) 함수로 'sigmoid'를 선택했다는 의미"
   ]
  },
  {
   "cell_type": "code",
   "execution_count": 1,
   "metadata": {},
   "outputs": [],
   "source": [
    "from keras import models\n",
    "from keras import layers"
   ]
  },
  {
   "cell_type": "code",
   "execution_count": 2,
   "metadata": {},
   "outputs": [],
   "source": [
    "model = models.Sequential()\n",
    "model.add(layers.Dense(1, input_dim=2, activation='sigmoid'))"
   ]
  },
  {
   "cell_type": "markdown",
   "metadata": {},
   "source": [
    "* 위의 예제에서는 계층이 단일 계층으로 구성되어 입력 계층이자 출력 계층이 됨\n",
    "* 위의 예제는 이진분류이므로 활성화 함수를 sigmoid로 하였음\n",
    "* 대부분의 경우 출력 결과는 0 또는 1에 가까운 실수형 값으로 나타남\n",
    "* 0에 가까운 실수는 0번 군집, 1에 가까운 실수는 1번 군집을 의미"
   ]
  },
  {
   "cell_type": "markdown",
   "metadata": {},
   "source": [
    "#### 2개의 계층을 사용하는 경우\n",
    "  * 첫 번째 계층: 입력 계층\n",
    "  * 두 번째 계층: 출력 계층\n",
    "    * 출력을 반드시 1로 설정하고 활성화 함수를 이곳으로 이동"
   ]
  },
  {
   "cell_type": "code",
   "execution_count": 3,
   "metadata": {},
   "outputs": [],
   "source": [
    "from keras import models\n",
    "from keras import layers"
   ]
  },
  {
   "cell_type": "code",
   "execution_count": 4,
   "metadata": {},
   "outputs": [],
   "source": [
    "model = models.Sequential(\n",
    "    [\n",
    "        layers.Dense(4, input_shape=(2,)),\n",
    "        layers.Dense(1, activation='sigmoid')\n",
    "    ]\n",
    ")"
   ]
  },
  {
   "cell_type": "code",
   "execution_count": 5,
   "metadata": {},
   "outputs": [],
   "source": [
    "model.compile(optimizer='SGD', loss='binary_crssentropy')"
   ]
  },
  {
   "cell_type": "code",
   "execution_count": 6,
   "metadata": {},
   "outputs": [],
   "source": [
    "# history = model.fit(X_train, y_train)"
   ]
  },
  {
   "cell_type": "markdown",
   "metadata": {},
   "source": [
    "### 신경망의 데이터 구조\n",
    "|    | 처리 데이터 구조 | 텐서 형식 |\n",
    "|----|----------------|----------|\n",
    "| 1  | 2D 텐서 벡터 데이터 처리 | (sample, features) |\n",
    "| 2  | 3D 텐서 시퀀스 데이터 처리 | (sample, timesteps, features) |\n",
    "| 3  | 4D 텐서 이미지 데이터 처리 | 2D 합성곱층(Conv2D) |"
   ]
  },
  {
   "cell_type": "code",
   "execution_count": 7,
   "metadata": {},
   "outputs": [],
   "source": [
    "from keras import models\n",
    "from keras import layers"
   ]
  },
  {
   "cell_type": "code",
   "execution_count": 8,
   "metadata": {},
   "outputs": [],
   "source": [
    "model = models.Sequential()\n",
    "model.add(layers.Dense(8, input_shape=(3, 4), activation='relu'))\n",
    "model.add(layers.Dense(1, activation=('softmax')))"
   ]
  },
  {
   "cell_type": "code",
   "execution_count": 9,
   "metadata": {},
   "outputs": [],
   "source": [
    "model.compile(optimizer='rmsprop', loss='categorical_crossentropy')"
   ]
  },
  {
   "cell_type": "markdown",
   "metadata": {},
   "source": [
    "### 이진 분류(Binary Classification) 모델\n",
    "  * 딥러닝의 결과가 둘 중 하나를 예측하는 모델"
   ]
  },
  {
   "cell_type": "code",
   "execution_count": 10,
   "metadata": {},
   "outputs": [],
   "source": [
    "import matplotlib.pyplot as plt\n",
    "from sklearn.datasets import make_blobs"
   ]
  },
  {
   "cell_type": "code",
   "execution_count": 11,
   "metadata": {},
   "outputs": [
    {
     "data": {
      "image/png": "[encoded data removed]",
      "text/plain": [
       "<Figure size 432x288 with 1 Axes>"
      ]
     },
     "metadata": {
      "needs_background": "light"
     },
     "output_type": "display_data"
    }
   ],
   "source": [
    "data, labels = make_blobs(n_samples=10000, n_features=2, centers=2, random_state=42)\n",
    "\n",
    "plt.scatter(data[:, 0], data[:, 1], c=labels)\n",
    "plt.show()"
   ]
  },
  {
   "cell_type": "markdown",
   "metadata": {},
   "source": [
    "#### `make_blobs()`\n",
    "  * 등방성 가우시안 정규분포를 이용하여 가상 데이터 생성\n",
    "    * 등방성: 모든 방향으로 같은 성질을 가짐\n",
    "    * 클러스터링을 위한 가상 데이터 생성에 사용\n",
    "  * 인수\n",
    "    | 파라미터 | 내용 |\n",
    "    |---------|-----|\n",
    "    | n_samples | 만들고자 하는 샘플의 총 개수 |\n",
    "    | n_features | 각 샘플들에 대한 속성(feature)의 개수 |\n",
    "    | centers | 중심(군집)의 개수 |\n",
    "    | random_state | 무작위의 수를 생성하기 위한 생성기의 종류 |\n",
    "  * 반환값\n",
    "    * x: [n_samples, n_features] 크기의 배열, 독립 변수\n",
    "    * y: [n_samples] 크기의 배열, 종속 변수"
   ]
  },
  {
   "cell_type": "code",
   "execution_count": 12,
   "metadata": {},
   "outputs": [],
   "source": [
    "import matplotlib.pyplot as plt\n",
    "from mpl_toolkits.mplot3d import Axes3D\n",
    "from sklearn.datasets import make_blobs"
   ]
  },
  {
   "cell_type": "code",
   "execution_count": 13,
   "metadata": {},
   "outputs": [
    {
     "name": "stderr",
     "output_type": "stream",
     "text": [
      "c:\\Users\\SWLEEXZ\\anaconda3\\envs\\ai\\lib\\site-packages\\mpl_toolkits\\mplot3d\\art3d.py:906: FutureWarning: elementwise comparison failed; returning scalar instead, but in the future will perform elementwise comparison\n",
      "  if zdir == 'x':\n",
      "c:\\Users\\SWLEEXZ\\anaconda3\\envs\\ai\\lib\\site-packages\\mpl_toolkits\\mplot3d\\art3d.py:908: FutureWarning: elementwise comparison failed; returning scalar instead, but in the future will perform elementwise comparison\n",
      "  elif zdir == 'y':\n"
     ]
    },
    {
     "data": {
      "image/png": "[encoded data removed]",
      "text/plain": [
       "<Figure size 1152x648 with 1 Axes>"
      ]
     },
     "metadata": {
      "needs_background": "light"
     },
     "output_type": "display_data"
    }
   ],
   "source": [
    "data, labels = make_blobs(n_samples=10000, n_features=4, centers=4, random_state=1)\n",
    "\n",
    "fig = plt.figure(figsize=(16, 9))\n",
    "ax = fig.add_subplot(111, projection='3d')\n",
    "ax.scatter(data[:, 0], data[:, 1], data[:, 2], data[:, 3], c=labels)\n",
    "plt.show()"
   ]
  },
  {
   "cell_type": "code",
   "execution_count": 14,
   "metadata": {},
   "outputs": [],
   "source": [
    "data, labels = make_blobs(n_samples=10000, n_features=2, centers=2, random_state=42)"
   ]
  },
  {
   "cell_type": "code",
   "execution_count": 15,
   "metadata": {},
   "outputs": [
    {
     "name": "stdout",
     "output_type": "stream",
     "text": [
      "[[ 4.21810197  1.83852559]\n",
      " [ 5.55650652  2.25768167]\n",
      " [-2.1884119   9.20833807]\n",
      " [-2.3182811   8.97795552]\n",
      " [ 5.32670633  1.57484267]]\n",
      "[1 1 0 0 1]\n"
     ]
    }
   ],
   "source": [
    "print(data[:5])\n",
    "print(labels[:5])"
   ]
  },
  {
   "cell_type": "code",
   "execution_count": 16,
   "metadata": {},
   "outputs": [],
   "source": [
    "from sklearn.model_selection import train_test_split"
   ]
  },
  {
   "cell_type": "code",
   "execution_count": 17,
   "metadata": {},
   "outputs": [],
   "source": [
    "X_train, X_test, y_train, y_test = train_test_split(data, labels, test_size=0.2)"
   ]
  },
  {
   "cell_type": "code",
   "execution_count": 18,
   "metadata": {},
   "outputs": [],
   "source": [
    "from keras import models\n",
    "from keras import layers"
   ]
  },
  {
   "cell_type": "code",
   "execution_count": 19,
   "metadata": {},
   "outputs": [],
   "source": [
    "model = models.Sequential()\n",
    "model.add(layers.Dense(1, input_dim=2, activation='sigmoid'))"
   ]
  },
  {
   "cell_type": "code",
   "execution_count": 20,
   "metadata": {},
   "outputs": [
    {
     "name": "stdout",
     "output_type": "stream",
     "text": [
      "Model: \"sequential_3\"\n",
      "_________________________________________________________________\n",
      " Layer (type)                Output Shape              Param #   \n",
      "=================================================================\n",
      " dense_5 (Dense)             (None, 1)                 3         \n",
      "                                                                 \n",
      "=================================================================\n",
      "Total params: 3\n",
      "Trainable params: 3\n",
      "Non-trainable params: 0\n",
      "_________________________________________________________________\n"
     ]
    }
   ],
   "source": [
    "model.summary()"
   ]
  },
  {
   "cell_type": "markdown",
   "metadata": {},
   "source": [
    "* 파라미터 수 계산: (입력 개수 + 가중치 개수) * 출력 개수\n",
    "  * 예: `models.add(layers.Dense(3, input_dim=4, activation='sigmoid'))`\n",
    "  * (4(입력) + 가중치(1)) * 출력(3) = 15"
   ]
  },
  {
   "cell_type": "code",
   "execution_count": 21,
   "metadata": {},
   "outputs": [
    {
     "name": "stdout",
     "output_type": "stream",
     "text": [
      "Epoch 1/40\n",
      "80/80 [==============================] - 0s 873us/step - loss: 0.3643 - accuracy: 0.8322\n",
      "Epoch 2/40\n",
      "80/80 [==============================] - 0s 861us/step - loss: 0.0687 - accuracy: 0.9998\n",
      "Epoch 3/40\n",
      "80/80 [==============================] - 0s 861us/step - loss: 0.0413 - accuracy: 0.9999\n",
      "Epoch 4/40\n",
      "80/80 [==============================] - 0s 835us/step - loss: 0.0302 - accuracy: 0.9999\n",
      "Epoch 5/40\n",
      "80/80 [==============================] - 0s 835us/step - loss: 0.0241 - accuracy: 0.9999\n",
      "Epoch 6/40\n",
      "80/80 [==============================] - 0s 911us/step - loss: 0.0201 - accuracy: 0.9999\n",
      "Epoch 7/40\n",
      "80/80 [==============================] - 0s 848us/step - loss: 0.0174 - accuracy: 0.9999\n",
      "Epoch 8/40\n",
      "80/80 [==============================] - 0s 861us/step - loss: 0.0153 - accuracy: 1.0000\n",
      "Epoch 9/40\n",
      "80/80 [==============================] - 0s 810us/step - loss: 0.0137 - accuracy: 1.0000\n",
      "Epoch 10/40\n",
      "80/80 [==============================] - 0s 823us/step - loss: 0.0125 - accuracy: 1.0000\n",
      "Epoch 11/40\n",
      "80/80 [==============================] - 0s 848us/step - loss: 0.0114 - accuracy: 1.0000\n",
      "Epoch 12/40\n",
      "80/80 [==============================] - 0s 835us/step - loss: 0.0106 - accuracy: 1.0000\n",
      "Epoch 13/40\n",
      "80/80 [==============================] - 0s 873us/step - loss: 0.0099 - accuracy: 1.0000\n",
      "Epoch 14/40\n",
      "80/80 [==============================] - 0s 911us/step - loss: 0.0092 - accuracy: 1.0000\n",
      "Epoch 15/40\n",
      "80/80 [==============================] - 0s 848us/step - loss: 0.0087 - accuracy: 1.0000\n",
      "Epoch 16/40\n",
      "80/80 [==============================] - 0s 873us/step - loss: 0.0082 - accuracy: 1.0000\n",
      "Epoch 17/40\n",
      "80/80 [==============================] - 0s 823us/step - loss: 0.0078 - accuracy: 1.0000\n",
      "Epoch 18/40\n",
      "80/80 [==============================] - 0s 835us/step - loss: 0.0074 - accuracy: 1.0000\n",
      "Epoch 19/40\n",
      "80/80 [==============================] - 0s 823us/step - loss: 0.0071 - accuracy: 1.0000\n",
      "Epoch 20/40\n",
      "80/80 [==============================] - 0s 873us/step - loss: 0.0068 - accuracy: 1.0000\n",
      "Epoch 21/40\n",
      "80/80 [==============================] - 0s 810us/step - loss: 0.0065 - accuracy: 1.0000\n",
      "Epoch 22/40\n",
      "80/80 [==============================] - 0s 873us/step - loss: 0.0062 - accuracy: 1.0000\n",
      "Epoch 23/40\n",
      "80/80 [==============================] - 0s 848us/step - loss: 0.0060 - accuracy: 1.0000\n",
      "Epoch 24/40\n",
      "80/80 [==============================] - 0s 823us/step - loss: 0.0058 - accuracy: 1.0000\n",
      "Epoch 25/40\n",
      "80/80 [==============================] - 0s 848us/step - loss: 0.0056 - accuracy: 1.0000\n",
      "Epoch 26/40\n",
      "80/80 [==============================] - 0s 823us/step - loss: 0.0054 - accuracy: 1.0000\n",
      "Epoch 27/40\n",
      "80/80 [==============================] - 0s 822us/step - loss: 0.0052 - accuracy: 1.0000\n",
      "Epoch 28/40\n",
      "80/80 [==============================] - 0s 823us/step - loss: 0.0051 - accuracy: 1.0000\n",
      "Epoch 29/40\n",
      "80/80 [==============================] - 0s 886us/step - loss: 0.0049 - accuracy: 1.0000\n",
      "Epoch 30/40\n",
      "80/80 [==============================] - 0s 886us/step - loss: 0.0048 - accuracy: 1.0000\n",
      "Epoch 31/40\n",
      "80/80 [==============================] - 0s 1ms/step - loss: 0.0047 - accuracy: 1.0000\n",
      "Epoch 32/40\n",
      "80/80 [==============================] - 0s 949us/step - loss: 0.0045 - accuracy: 1.0000\n",
      "Epoch 33/40\n",
      "80/80 [==============================] - 0s 848us/step - loss: 0.0044 - accuracy: 1.0000\n",
      "Epoch 34/40\n",
      "80/80 [==============================] - 0s 835us/step - loss: 0.0043 - accuracy: 1.0000\n",
      "Epoch 35/40\n",
      "80/80 [==============================] - 0s 861us/step - loss: 0.0042 - accuracy: 1.0000\n",
      "Epoch 36/40\n",
      "80/80 [==============================] - 0s 848us/step - loss: 0.0041 - accuracy: 1.0000\n",
      "Epoch 37/40\n",
      "80/80 [==============================] - 0s 848us/step - loss: 0.0040 - accuracy: 1.0000\n",
      "Epoch 38/40\n",
      "80/80 [==============================] - 0s 823us/step - loss: 0.0039 - accuracy: 1.0000\n",
      "Epoch 39/40\n",
      "80/80 [==============================] - 0s 937us/step - loss: 0.0039 - accuracy: 1.0000\n",
      "Epoch 40/40\n",
      "80/80 [==============================] - 0s 924us/step - loss: 0.0038 - accuracy: 1.0000\n"
     ]
    },
    {
     "data": {
      "text/plain": [
       "<keras.callbacks.History at 0x17b029ecc10>"
      ]
     },
     "execution_count": 21,
     "metadata": {},
     "output_type": "execute_result"
    }
   ],
   "source": [
    "model.compile(optimizer='SGD', loss='binary_crossentropy', metrics=['accuracy'])\n",
    "\n",
    "model.fit(X_train, y_train, epochs=40, batch_size=100)"
   ]
  },
  {
   "cell_type": "code",
   "execution_count": 22,
   "metadata": {},
   "outputs": [
    {
     "name": "stdout",
     "output_type": "stream",
     "text": [
      "63/63 [==============================] - 0s 839us/step - loss: 0.0043 - accuracy: 1.0000\n"
     ]
    },
    {
     "data": {
      "text/plain": [
       "[0.0043265619315207005, 1.0]"
      ]
     },
     "execution_count": 22,
     "metadata": {},
     "output_type": "execute_result"
    }
   ],
   "source": [
    "result = model.evaluate(X_test, y_test)\n",
    "result"
   ]
  },
  {
   "cell_type": "code",
   "execution_count": 23,
   "metadata": {},
   "outputs": [
    {
     "name": "stdout",
     "output_type": "stream",
     "text": [
      "[[ 1.5093566]\n",
      " [-0.4410253]]\n",
      "[0.31824616]\n"
     ]
    }
   ],
   "source": [
    "weights, bias = model.get_weights()\n",
    "print(weights)\n",
    "print(bias)"
   ]
  },
  {
   "cell_type": "code",
   "execution_count": 24,
   "metadata": {},
   "outputs": [],
   "source": [
    "a = -(weights[0] / weights[1]) / (weights[0] / bias)\n",
    "b = -weights[0] / weights[1]"
   ]
  },
  {
   "cell_type": "code",
   "execution_count": 25,
   "metadata": {},
   "outputs": [],
   "source": [
    "import numpy as np"
   ]
  },
  {
   "cell_type": "code",
   "execution_count": 26,
   "metadata": {},
   "outputs": [
    {
     "data": {
      "text/plain": [
       "<matplotlib.legend.Legend at 0x17b03f1ba00>"
      ]
     },
     "execution_count": 26,
     "metadata": {},
     "output_type": "execute_result"
    },
    {
     "data": {
      "image/png": "[encoded data removed]",
      "text/plain": [
       "<Figure size 1152x648 with 1 Axes>"
      ]
     },
     "metadata": {
      "needs_background": "light"
     },
     "output_type": "display_data"
    }
   ],
   "source": [
    "x = np.linspace(np.amin(X_train[:, 0]), np.amax(X_train[:, 0]))\n",
    "y = [a * i + b for i in x]\n",
    "\n",
    "plt.figure(figsize=(16,9))\n",
    "plt.plot(x, y, color='red', label='Boundary')\n",
    "plt.xlabel('x')\n",
    "plt.ylabel('y')\n",
    "plt.scatter(X_train[:, 0], X_train[:, 1], c=y_train, s=20)\n",
    "plt.legend()"
   ]
  },
  {
   "cell_type": "code",
   "execution_count": 27,
   "metadata": {},
   "outputs": [
    {
     "name": "stdout",
     "output_type": "stream",
     "text": [
      "1/1 [==============================] - 0s 51ms/step\n",
      "[[0.98550016]\n",
      " [0.90329605]\n",
      " [0.8281907 ]\n",
      " [0.1239718 ]]\n"
     ]
    }
   ],
   "source": [
    "test = np.array([[2, -2], [2, 2.5], [2, 4], [2, 12]])\n",
    "pred = model.predict(test)\n",
    "print(pred)\n",
    "# 좌상단이 0번 군집, 우하단이 1번 군집으로 보임"
   ]
  },
  {
   "cell_type": "markdown",
   "metadata": {},
   "source": [
    "### 다중 분류(Multiple Classification) 모델\n",
    "  * 이진 분류와의 공통점과 차이점\n",
    "    * 공통점: 여러 개 중 하나를 선택한다는 것\n",
    "    * 차이점: 2개 중 1개를 선택하기 위하여는 1개의 출력 단자만 필요하지만 그 이상의 종류 중 하나를 선택하려면 2개 이상의 출력 단자가 필요"
   ]
  },
  {
   "cell_type": "code",
   "execution_count": 28,
   "metadata": {},
   "outputs": [],
   "source": [
    "from sklearn import datasets\n",
    "from sklearn.model_selection import train_test_split"
   ]
  },
  {
   "cell_type": "code",
   "execution_count": 29,
   "metadata": {},
   "outputs": [],
   "source": [
    "iris = datasets.load_iris()\n",
    "X = iris.data\n",
    "y = iris.target\n",
    "\n",
    "X_train, X_test, y_train, y_test = train_test_split(X, y, test_size=0.2)"
   ]
  },
  {
   "cell_type": "code",
   "execution_count": 30,
   "metadata": {},
   "outputs": [
    {
     "name": "stdout",
     "output_type": "stream",
     "text": [
      "(120, 4)\n"
     ]
    }
   ],
   "source": [
    "print(X_train.shape)"
   ]
  },
  {
   "cell_type": "code",
   "execution_count": 31,
   "metadata": {},
   "outputs": [
    {
     "name": "stdout",
     "output_type": "stream",
     "text": [
      "[5.5 3.5 1.3 0.2]\n",
      "0\n"
     ]
    }
   ],
   "source": [
    "print(X_test[0])\n",
    "print(y_test[0])"
   ]
  },
  {
   "cell_type": "code",
   "execution_count": 32,
   "metadata": {},
   "outputs": [],
   "source": [
    "from keras.utils.np_utils import to_categorical"
   ]
  },
  {
   "cell_type": "markdown",
   "metadata": {},
   "source": [
    "* 원-핫 인코딩(One-Hot Encoding) 기법으로 라벨 리스트를 변환"
   ]
  },
  {
   "cell_type": "code",
   "execution_count": 33,
   "metadata": {},
   "outputs": [],
   "source": [
    "y_train = to_categorical(y_train)\n",
    "y_test = to_categorical(y_test)"
   ]
  },
  {
   "cell_type": "code",
   "execution_count": 34,
   "metadata": {},
   "outputs": [
    {
     "name": "stdout",
     "output_type": "stream",
     "text": [
      "[0. 1. 0.]\n",
      "[1. 0. 0.]\n"
     ]
    }
   ],
   "source": [
    "print(y_train[0])\n",
    "print(y_test[0])"
   ]
  },
  {
   "cell_type": "markdown",
   "metadata": {},
   "source": [
    "* 여기서는 세 가지 중 하나를 예측하는 딥러닝 모델, 다중 분류 모델이므로 출력 단자가 3개여야 함\n",
    "* 입력 특성(feature)이 4개이므로 `input_dim=4` 또는 `input_shape=(4,)`로 설정\n",
    "* 활성화 함수는 이진 분류 방식의 \"sigmoid\"가 아닌 \"softmax\" 사용"
   ]
  },
  {
   "cell_type": "code",
   "execution_count": 35,
   "metadata": {},
   "outputs": [],
   "source": [
    "from keras import models\n",
    "from keras import layers"
   ]
  },
  {
   "cell_type": "code",
   "execution_count": 36,
   "metadata": {},
   "outputs": [],
   "source": [
    "model = models.Sequential([\n",
    "    layers.Dense(2, input_shape=(4,)),\n",
    "    layers.Dense(3, activation='softmax')\n",
    "])"
   ]
  },
  {
   "cell_type": "code",
   "execution_count": 37,
   "metadata": {},
   "outputs": [
    {
     "name": "stdout",
     "output_type": "stream",
     "text": [
      "Model: \"sequential_4\"\n",
      "_________________________________________________________________\n",
      " Layer (type)                Output Shape              Param #   \n",
      "=================================================================\n",
      " dense_6 (Dense)             (None, 2)                 10        \n",
      "                                                                 \n",
      " dense_7 (Dense)             (None, 3)                 9         \n",
      "                                                                 \n",
      "=================================================================\n",
      "Total params: 19\n",
      "Trainable params: 19\n",
      "Non-trainable params: 0\n",
      "_________________________________________________________________\n"
     ]
    }
   ],
   "source": [
    "model.summary()"
   ]
  },
  {
   "cell_type": "markdown",
   "metadata": {},
   "source": [
    "* (None, 2)\n",
    "  * None: 입력 샘플 수가 정해지지 않았으며 계속해서 입력을 받을 수 있음\n",
    "  * 2: 출력 단자 개수\n",
    "* `layers.Dense(2, input_shape=(4,)`\n",
    "  * 파라미터 개수: (4(입력 개수) + 1(가중치)) * 2(출력 개수) = 10\n",
    "* `layers.Dense(3, activation='softmax')`\n",
    "  * 파라미터 개수: (2(입력 개수) + 1(가중치)) * 3(출력 개수) = 9\n",
    "* 총 파라미터 개수: 19"
   ]
  },
  {
   "cell_type": "code",
   "execution_count": 38,
   "metadata": {},
   "outputs": [],
   "source": [
    "model.compile(optimizer='rmsprop', loss='categorical_crossentropy', metrics=['accuracy'])"
   ]
  },
  {
   "cell_type": "code",
   "execution_count": 39,
   "metadata": {},
   "outputs": [
    {
     "name": "stdout",
     "output_type": "stream",
     "text": [
      "Epoch 1/100\n",
      "4/4 [==============================] - 0s 1ms/step - loss: 2.5916 - accuracy: 0.3250\n",
      "Epoch 2/100\n",
      "4/4 [==============================] - 0s 1ms/step - loss: 2.4218 - accuracy: 0.3250\n",
      "Epoch 3/100\n",
      "4/4 [==============================] - 0s 1ms/step - loss: 2.2943 - accuracy: 0.3250\n",
      "Epoch 4/100\n",
      "4/4 [==============================] - 0s 2ms/step - loss: 2.1879 - accuracy: 0.3250\n",
      "Epoch 5/100\n",
      "4/4 [==============================] - 0s 1ms/step - loss: 2.0931 - accuracy: 0.3250\n",
      "Epoch 6/100\n",
      "4/4 [==============================] - 0s 2ms/step - loss: 2.0094 - accuracy: 0.3250\n",
      "Epoch 7/100\n",
      "4/4 [==============================] - 0s 1ms/step - loss: 1.9287 - accuracy: 0.3250\n",
      "Epoch 8/100\n",
      "4/4 [==============================] - 0s 2ms/step - loss: 1.8541 - accuracy: 0.3167\n",
      "Epoch 9/100\n",
      "4/4 [==============================] - 0s 1ms/step - loss: 1.7851 - accuracy: 0.3083\n",
      "Epoch 10/100\n",
      "4/4 [==============================] - 0s 1000us/step - loss: 1.7204 - accuracy: 0.2500\n",
      "Epoch 11/100\n",
      "4/4 [==============================] - 0s 1ms/step - loss: 1.6599 - accuracy: 0.2167\n",
      "Epoch 12/100\n",
      "4/4 [==============================] - 0s 2ms/step - loss: 1.6016 - accuracy: 0.0750\n",
      "Epoch 13/100\n",
      "4/4 [==============================] - 0s 1ms/step - loss: 1.5485 - accuracy: 0.0250\n",
      "Epoch 14/100\n",
      "4/4 [==============================] - 0s 1ms/step - loss: 1.4994 - accuracy: 0.0083\n",
      "Epoch 15/100\n",
      "4/4 [==============================] - 0s 2ms/step - loss: 1.4587 - accuracy: 0.0000e+00\n",
      "Epoch 16/100\n",
      "4/4 [==============================] - 0s 1ms/step - loss: 1.4216 - accuracy: 0.0000e+00\n",
      "Epoch 17/100\n",
      "4/4 [==============================] - 0s 1ms/step - loss: 1.3872 - accuracy: 0.0000e+00\n",
      "Epoch 18/100\n",
      "4/4 [==============================] - 0s 2ms/step - loss: 1.3594 - accuracy: 0.0000e+00\n",
      "Epoch 19/100\n",
      "4/4 [==============================] - 0s 1ms/step - loss: 1.3341 - accuracy: 0.0000e+00\n",
      "Epoch 20/100\n",
      "4/4 [==============================] - 0s 1ms/step - loss: 1.3151 - accuracy: 0.0500\n",
      "Epoch 21/100\n",
      "4/4 [==============================] - 0s 1ms/step - loss: 1.2956 - accuracy: 0.1417\n",
      "Epoch 22/100\n",
      "4/4 [==============================] - 0s 1ms/step - loss: 1.2810 - accuracy: 0.2333\n",
      "Epoch 23/100\n",
      "4/4 [==============================] - 0s 2ms/step - loss: 1.2680 - accuracy: 0.2750\n",
      "Epoch 24/100\n",
      "4/4 [==============================] - 0s 1ms/step - loss: 1.2522 - accuracy: 0.2750\n",
      "Epoch 25/100\n",
      "4/4 [==============================] - 0s 1ms/step - loss: 1.2412 - accuracy: 0.2500\n",
      "Epoch 26/100\n",
      "4/4 [==============================] - 0s 1ms/step - loss: 1.2283 - accuracy: 0.2750\n",
      "Epoch 27/100\n",
      "4/4 [==============================] - 0s 1ms/step - loss: 1.2204 - accuracy: 0.2667\n",
      "Epoch 28/100\n",
      "4/4 [==============================] - 0s 2ms/step - loss: 1.2070 - accuracy: 0.3000\n",
      "Epoch 29/100\n",
      "4/4 [==============================] - 0s 2ms/step - loss: 1.1967 - accuracy: 0.3083\n",
      "Epoch 30/100\n",
      "4/4 [==============================] - 0s 1ms/step - loss: 1.1874 - accuracy: 0.3333\n",
      "Epoch 31/100\n",
      "4/4 [==============================] - 0s 1ms/step - loss: 1.1801 - accuracy: 0.3083\n",
      "Epoch 32/100\n",
      "4/4 [==============================] - 0s 1ms/step - loss: 1.1698 - accuracy: 0.3167\n",
      "Epoch 33/100\n",
      "4/4 [==============================] - 0s 1ms/step - loss: 1.1623 - accuracy: 0.3250\n",
      "Epoch 34/100\n",
      "4/4 [==============================] - 0s 2ms/step - loss: 1.1535 - accuracy: 0.3667\n",
      "Epoch 35/100\n",
      "4/4 [==============================] - 0s 2ms/step - loss: 1.1461 - accuracy: 0.3333\n",
      "Epoch 36/100\n",
      "4/4 [==============================] - 0s 2ms/step - loss: 1.1383 - accuracy: 0.3167\n",
      "Epoch 37/100\n",
      "4/4 [==============================] - 0s 2ms/step - loss: 1.1294 - accuracy: 0.3500\n",
      "Epoch 38/100\n",
      "4/4 [==============================] - 0s 1ms/step - loss: 1.1226 - accuracy: 0.3250\n",
      "Epoch 39/100\n",
      "4/4 [==============================] - 0s 1ms/step - loss: 1.1134 - accuracy: 0.3917\n",
      "Epoch 40/100\n",
      "4/4 [==============================] - 0s 1ms/step - loss: 1.1067 - accuracy: 0.3750\n",
      "Epoch 41/100\n",
      "4/4 [==============================] - 0s 1ms/step - loss: 1.1037 - accuracy: 0.3583\n",
      "Epoch 42/100\n",
      "4/4 [==============================] - 0s 1ms/step - loss: 1.0951 - accuracy: 0.4083\n",
      "Epoch 43/100\n",
      "4/4 [==============================] - 0s 1ms/step - loss: 1.0903 - accuracy: 0.3833\n",
      "Epoch 44/100\n",
      "4/4 [==============================] - 0s 1ms/step - loss: 1.0832 - accuracy: 0.3583\n",
      "Epoch 45/100\n",
      "4/4 [==============================] - 0s 1ms/step - loss: 1.0772 - accuracy: 0.3667\n",
      "Epoch 46/100\n",
      "4/4 [==============================] - 0s 1ms/step - loss: 1.0736 - accuracy: 0.4000\n",
      "Epoch 47/100\n",
      "4/4 [==============================] - 0s 1ms/step - loss: 1.0670 - accuracy: 0.3917\n",
      "Epoch 48/100\n",
      "4/4 [==============================] - 0s 1ms/step - loss: 1.0615 - accuracy: 0.4000\n",
      "Epoch 49/100\n",
      "4/4 [==============================] - 0s 2ms/step - loss: 1.0548 - accuracy: 0.4167\n",
      "Epoch 50/100\n",
      "4/4 [==============================] - 0s 1ms/step - loss: 1.0506 - accuracy: 0.4167\n",
      "Epoch 51/100\n",
      "4/4 [==============================] - 0s 1ms/step - loss: 1.0469 - accuracy: 0.4083\n",
      "Epoch 52/100\n",
      "4/4 [==============================] - 0s 1ms/step - loss: 1.0400 - accuracy: 0.3667\n",
      "Epoch 53/100\n",
      "4/4 [==============================] - 0s 2ms/step - loss: 1.0335 - accuracy: 0.4000\n",
      "Epoch 54/100\n",
      "4/4 [==============================] - 0s 2ms/step - loss: 1.0302 - accuracy: 0.4083\n",
      "Epoch 55/100\n",
      "4/4 [==============================] - 0s 1ms/step - loss: 1.0239 - accuracy: 0.4083\n",
      "Epoch 56/100\n",
      "4/4 [==============================] - 0s 1ms/step - loss: 1.0196 - accuracy: 0.3917\n",
      "Epoch 57/100\n",
      "4/4 [==============================] - 0s 2ms/step - loss: 1.0156 - accuracy: 0.4000\n",
      "Epoch 58/100\n",
      "4/4 [==============================] - 0s 2ms/step - loss: 1.0133 - accuracy: 0.4000\n",
      "Epoch 59/100\n",
      "4/4 [==============================] - 0s 1ms/step - loss: 1.0045 - accuracy: 0.4000\n",
      "Epoch 60/100\n",
      "4/4 [==============================] - 0s 2ms/step - loss: 0.9999 - accuracy: 0.4083\n",
      "Epoch 61/100\n",
      "4/4 [==============================] - 0s 2ms/step - loss: 0.9956 - accuracy: 0.4083\n",
      "Epoch 62/100\n",
      "4/4 [==============================] - 0s 1ms/step - loss: 0.9929 - accuracy: 0.4500\n",
      "Epoch 63/100\n",
      "4/4 [==============================] - 0s 2ms/step - loss: 0.9870 - accuracy: 0.4500\n",
      "Epoch 64/100\n",
      "4/4 [==============================] - 0s 2ms/step - loss: 0.9814 - accuracy: 0.4000\n",
      "Epoch 65/100\n",
      "4/4 [==============================] - 0s 2ms/step - loss: 0.9774 - accuracy: 0.4000\n",
      "Epoch 66/100\n",
      "4/4 [==============================] - 0s 2ms/step - loss: 0.9729 - accuracy: 0.4000\n",
      "Epoch 67/100\n",
      "4/4 [==============================] - 0s 2ms/step - loss: 0.9688 - accuracy: 0.4167\n",
      "Epoch 68/100\n",
      "4/4 [==============================] - 0s 2ms/step - loss: 0.9650 - accuracy: 0.4417\n",
      "Epoch 69/100\n",
      "4/4 [==============================] - 0s 2ms/step - loss: 0.9611 - accuracy: 0.5167\n",
      "Epoch 70/100\n",
      "4/4 [==============================] - 0s 2ms/step - loss: 0.9572 - accuracy: 0.4583\n",
      "Epoch 71/100\n",
      "4/4 [==============================] - 0s 2ms/step - loss: 0.9530 - accuracy: 0.5000\n",
      "Epoch 72/100\n",
      "4/4 [==============================] - 0s 1ms/step - loss: 0.9487 - accuracy: 0.4417\n",
      "Epoch 73/100\n",
      "4/4 [==============================] - 0s 1ms/step - loss: 0.9458 - accuracy: 0.4417\n",
      "Epoch 74/100\n",
      "4/4 [==============================] - 0s 2ms/step - loss: 0.9468 - accuracy: 0.4500\n",
      "Epoch 75/100\n",
      "4/4 [==============================] - 0s 1ms/step - loss: 0.9388 - accuracy: 0.4667\n",
      "Epoch 76/100\n",
      "4/4 [==============================] - 0s 999us/step - loss: 0.9371 - accuracy: 0.4417\n",
      "Epoch 77/100\n",
      "4/4 [==============================] - 0s 2ms/step - loss: 0.9333 - accuracy: 0.4667\n",
      "Epoch 78/100\n",
      "4/4 [==============================] - 0s 1ms/step - loss: 0.9290 - accuracy: 0.4500\n",
      "Epoch 79/100\n",
      "4/4 [==============================] - 0s 1ms/step - loss: 0.9264 - accuracy: 0.4417\n",
      "Epoch 80/100\n",
      "4/4 [==============================] - 0s 1ms/step - loss: 0.9238 - accuracy: 0.4333\n",
      "Epoch 81/100\n",
      "4/4 [==============================] - 0s 2ms/step - loss: 0.9227 - accuracy: 0.4083\n",
      "Epoch 82/100\n",
      "4/4 [==============================] - 0s 1ms/step - loss: 0.9169 - accuracy: 0.5000\n",
      "Epoch 83/100\n",
      "4/4 [==============================] - 0s 2ms/step - loss: 0.9169 - accuracy: 0.4583\n",
      "Epoch 84/100\n",
      "4/4 [==============================] - 0s 1ms/step - loss: 0.9123 - accuracy: 0.4333\n",
      "Epoch 85/100\n",
      "4/4 [==============================] - 0s 1ms/step - loss: 0.9083 - accuracy: 0.4833\n",
      "Epoch 86/100\n",
      "4/4 [==============================] - 0s 1ms/step - loss: 0.9059 - accuracy: 0.4917\n",
      "Epoch 87/100\n",
      "4/4 [==============================] - 0s 1ms/step - loss: 0.9042 - accuracy: 0.4417\n",
      "Epoch 88/100\n",
      "4/4 [==============================] - 0s 2ms/step - loss: 0.8991 - accuracy: 0.4167\n",
      "Epoch 89/100\n",
      "4/4 [==============================] - 0s 1ms/step - loss: 0.8986 - accuracy: 0.4833\n",
      "Epoch 90/100\n",
      "4/4 [==============================] - 0s 2ms/step - loss: 0.8941 - accuracy: 0.4917\n",
      "Epoch 91/100\n",
      "4/4 [==============================] - 0s 2ms/step - loss: 0.8918 - accuracy: 0.4583\n",
      "Epoch 92/100\n",
      "4/4 [==============================] - 0s 1ms/step - loss: 0.8885 - accuracy: 0.5083\n",
      "Epoch 93/100\n",
      "4/4 [==============================] - 0s 1ms/step - loss: 0.8852 - accuracy: 0.5000\n",
      "Epoch 94/100\n",
      "4/4 [==============================] - 0s 1ms/step - loss: 0.8842 - accuracy: 0.4833\n",
      "Epoch 95/100\n",
      "4/4 [==============================] - 0s 2ms/step - loss: 0.8800 - accuracy: 0.4917\n",
      "Epoch 96/100\n",
      "4/4 [==============================] - 0s 1ms/step - loss: 0.8781 - accuracy: 0.4583\n",
      "Epoch 97/100\n",
      "4/4 [==============================] - 0s 1ms/step - loss: 0.8735 - accuracy: 0.4583\n",
      "Epoch 98/100\n",
      "4/4 [==============================] - 0s 1ms/step - loss: 0.8749 - accuracy: 0.5417\n",
      "Epoch 99/100\n",
      "4/4 [==============================] - 0s 1ms/step - loss: 0.8685 - accuracy: 0.4583\n",
      "Epoch 100/100\n",
      "4/4 [==============================] - 0s 2ms/step - loss: 0.8664 - accuracy: 0.4667\n"
     ]
    }
   ],
   "source": [
    "history = model.fit(X_train, y_train, epochs=100)"
   ]
  },
  {
   "cell_type": "code",
   "execution_count": 40,
   "metadata": {},
   "outputs": [
    {
     "name": "stdout",
     "output_type": "stream",
     "text": [
      "1/1 [==============================] - 0s 98ms/step - loss: 0.8926 - accuracy: 0.4000\n"
     ]
    }
   ],
   "source": [
    "results = model.evaluate(X_test, y_test)"
   ]
  },
  {
   "cell_type": "code",
   "execution_count": 41,
   "metadata": {},
   "outputs": [
    {
     "data": {
      "text/plain": [
       "'\\n위와 같이 입력하면 에러가 발생함\\n입력이 (*, 4) 형식의 배열이어야 하는데\\nX_test[0]은 4개의 원소로 구성된 1차원 배열이라\\n신경망의 입력과 일치하지 않기 때문\\n'"
      ]
     },
     "execution_count": 41,
     "metadata": {},
     "output_type": "execute_result"
    }
   ],
   "source": [
    "# prediction = model.predict(X_test[0])\n",
    "# print(prediction)\n",
    "\"\"\"\n",
    "위와 같이 입력하면 에러가 발생함\n",
    "입력이 (*, 4) 형식의 배열이어야 하는데\n",
    "X_test[0]은 4개의 원소로 구성된 1차원 배열이라\n",
    "신경망의 입력과 일치하지 않기 때문\n",
    "\"\"\""
   ]
  },
  {
   "cell_type": "code",
   "execution_count": 42,
   "metadata": {},
   "outputs": [
    {
     "name": "stdout",
     "output_type": "stream",
     "text": [
      "[[5.5 3.5 1.3 0.2]]\n",
      "1/1 [==============================] - 0s 34ms/step\n",
      "[[0.3201396  0.49707317 0.18278725]]\n"
     ]
    }
   ],
   "source": [
    "# 오류 방지를 위하여 아래와 같이 2차원 형태로 입력\n",
    "print(X_test[:1])\n",
    "prediction = model.predict(X_test[:1])\n",
    "print(prediction)"
   ]
  },
  {
   "cell_type": "code",
   "execution_count": 43,
   "metadata": {},
   "outputs": [
    {
     "name": "stdout",
     "output_type": "stream",
     "text": [
      "1/1 [==============================] - 0s 29ms/step\n",
      "[[0.09156074 0.25513637 0.6533029 ]]\n"
     ]
    }
   ],
   "source": [
    "my_test = [7.2, 3.6, 6.1, 2.5]\n",
    "prediction = model.predict([my_test])\n",
    "print(prediction)"
   ]
  },
  {
   "cell_type": "code",
   "execution_count": 44,
   "metadata": {},
   "outputs": [
    {
     "name": "stdout",
     "output_type": "stream",
     "text": [
      "[[1. 0. 0.]\n",
      " [0. 0. 1.]\n",
      " [1. 0. 0.]\n",
      " [0. 0. 1.]\n",
      " [1. 0. 0.]]\n"
     ]
    }
   ],
   "source": [
    "print(y_test[:5])"
   ]
  },
  {
   "cell_type": "code",
   "execution_count": 45,
   "metadata": {},
   "outputs": [],
   "source": [
    "import numpy as np"
   ]
  },
  {
   "cell_type": "code",
   "execution_count": 46,
   "metadata": {},
   "outputs": [
    {
     "name": "stdout",
     "output_type": "stream",
     "text": [
      "1/1 [==============================] - 0s 17ms/step\n",
      "[결과 라벨] [예측 라벨]\n",
      "  0 : 1\n",
      "  2 : 2\n",
      "  0 : 1\n",
      "  2 : 2\n",
      "  0 : 1\n"
     ]
    }
   ],
   "source": [
    "prediction = model.predict(X_test[:5])\n",
    "\n",
    "print('[결과 라벨] [예측 라벨]')\n",
    "for _ in range(5):\n",
    "    print(' ', np.argmax(y_test[_]), end=' : ')\n",
    "    print(np.argmax(prediction[_]))"
   ]
  },
  {
   "cell_type": "markdown",
   "metadata": {},
   "source": [
    "#### 회귀(Regression) 모델\n",
    "  * 다수 중에 선택하는 것이 아니라 특정 값을 예측하는 모델"
   ]
  },
  {
   "cell_type": "code",
   "execution_count": 47,
   "metadata": {},
   "outputs": [],
   "source": [
    "import pandas as pd"
   ]
  },
  {
   "cell_type": "code",
   "execution_count": 48,
   "metadata": {},
   "outputs": [
    {
     "data": {
      "text/html": [
       "<div>\n",
       "<style scoped>\n",
       "    .dataframe tbody tr th:only-of-type {\n",
       "        vertical-align: middle;\n",
       "    }\n",
       "\n",
       "    .dataframe tbody tr th {\n",
       "        vertical-align: top;\n",
       "    }\n",
       "\n",
       "    .dataframe thead th {\n",
       "        text-align: right;\n",
       "    }\n",
       "</style>\n",
       "<table border=\"1\" class=\"dataframe\">\n",
       "  <thead>\n",
       "    <tr style=\"text-align: right;\">\n",
       "      <th></th>\n",
       "      <th>연비</th>\n",
       "      <th>기통수</th>\n",
       "      <th>배기량</th>\n",
       "      <th>마력</th>\n",
       "      <th>중량</th>\n",
       "      <th>가속력</th>\n",
       "      <th>연식</th>\n",
       "      <th>제조국가</th>\n",
       "    </tr>\n",
       "  </thead>\n",
       "  <tbody>\n",
       "    <tr>\n",
       "      <th>0</th>\n",
       "      <td>18.0</td>\n",
       "      <td>8.0</td>\n",
       "      <td>307.0</td>\n",
       "      <td>130.0</td>\n",
       "      <td>3504.0</td>\n",
       "      <td>12.0</td>\n",
       "      <td>70.0</td>\n",
       "      <td>1.0</td>\n",
       "    </tr>\n",
       "    <tr>\n",
       "      <th>1</th>\n",
       "      <td>15.0</td>\n",
       "      <td>8.0</td>\n",
       "      <td>350.0</td>\n",
       "      <td>165.0</td>\n",
       "      <td>3693.0</td>\n",
       "      <td>11.5</td>\n",
       "      <td>70.0</td>\n",
       "      <td>1.0</td>\n",
       "    </tr>\n",
       "    <tr>\n",
       "      <th>2</th>\n",
       "      <td>18.0</td>\n",
       "      <td>8.0</td>\n",
       "      <td>318.0</td>\n",
       "      <td>150.0</td>\n",
       "      <td>3436.0</td>\n",
       "      <td>11.0</td>\n",
       "      <td>70.0</td>\n",
       "      <td>1.0</td>\n",
       "    </tr>\n",
       "    <tr>\n",
       "      <th>3</th>\n",
       "      <td>16.0</td>\n",
       "      <td>8.0</td>\n",
       "      <td>304.0</td>\n",
       "      <td>150.0</td>\n",
       "      <td>3433.0</td>\n",
       "      <td>12.0</td>\n",
       "      <td>70.0</td>\n",
       "      <td>1.0</td>\n",
       "    </tr>\n",
       "    <tr>\n",
       "      <th>4</th>\n",
       "      <td>17.0</td>\n",
       "      <td>8.0</td>\n",
       "      <td>302.0</td>\n",
       "      <td>140.0</td>\n",
       "      <td>3449.0</td>\n",
       "      <td>10.5</td>\n",
       "      <td>70.0</td>\n",
       "      <td>1.0</td>\n",
       "    </tr>\n",
       "  </tbody>\n",
       "</table>\n",
       "</div>"
      ],
      "text/plain": [
       "     연비  기통수    배기량     마력      중량   가속력    연식  제조국가\n",
       "0  18.0  8.0  307.0  130.0  3504.0  12.0  70.0   1.0\n",
       "1  15.0  8.0  350.0  165.0  3693.0  11.5  70.0   1.0\n",
       "2  18.0  8.0  318.0  150.0  3436.0  11.0  70.0   1.0\n",
       "3  16.0  8.0  304.0  150.0  3433.0  12.0  70.0   1.0\n",
       "4  17.0  8.0  302.0  140.0  3449.0  10.5  70.0   1.0"
      ]
     },
     "execution_count": 48,
     "metadata": {},
     "output_type": "execute_result"
    }
   ],
   "source": [
    "column_names = ['연비', '기통수', '배기량', '마력', '중량', '가속력', '연식', '제조국가']\n",
    "\n",
    "dataset = pd.read_csv('tutorial/16/automobile.csv', names=column_names, comment='\\t', sep=' ', skipinitialspace=True)\n",
    "dataset.head()"
   ]
  },
  {
   "cell_type": "markdown",
   "metadata": {},
   "source": [
    "| 파라미터 | 설명 |\n",
    "|---------|-----|\n",
    "| sep=' ' | 구분자 |\n",
    "| comment | 지정 문자 이후 파싱 금지 |\n",
    "| skipinitialspace | 구분자 다음의 공란을 생략하지 않으면 NaN으로 읽힘 |"
   ]
  },
  {
   "cell_type": "code",
   "execution_count": 49,
   "metadata": {},
   "outputs": [
    {
     "data": {
      "text/plain": [
       "연비      8\n",
       "기통수     0\n",
       "배기량     0\n",
       "마력      6\n",
       "중량      0\n",
       "가속력     0\n",
       "연식      0\n",
       "제조국가    0\n",
       "dtype: int64"
      ]
     },
     "execution_count": 49,
     "metadata": {},
     "output_type": "execute_result"
    }
   ],
   "source": [
    "dataset.isnull().sum()"
   ]
  },
  {
   "cell_type": "code",
   "execution_count": 50,
   "metadata": {},
   "outputs": [],
   "source": [
    "# NaN 데이터 제거\n",
    "dataset = dataset.dropna()"
   ]
  },
  {
   "cell_type": "code",
   "execution_count": 51,
   "metadata": {},
   "outputs": [
    {
     "data": {
      "text/html": [
       "<div>\n",
       "<style scoped>\n",
       "    .dataframe tbody tr th:only-of-type {\n",
       "        vertical-align: middle;\n",
       "    }\n",
       "\n",
       "    .dataframe tbody tr th {\n",
       "        vertical-align: top;\n",
       "    }\n",
       "\n",
       "    .dataframe thead th {\n",
       "        text-align: right;\n",
       "    }\n",
       "</style>\n",
       "<table border=\"1\" class=\"dataframe\">\n",
       "  <thead>\n",
       "    <tr style=\"text-align: right;\">\n",
       "      <th></th>\n",
       "      <th>연비</th>\n",
       "      <th>기통수</th>\n",
       "      <th>배기량</th>\n",
       "      <th>마력</th>\n",
       "      <th>중량</th>\n",
       "      <th>가속력</th>\n",
       "      <th>연식</th>\n",
       "      <th>제조국가</th>\n",
       "    </tr>\n",
       "  </thead>\n",
       "  <tbody>\n",
       "    <tr>\n",
       "      <th>23</th>\n",
       "      <td>21.0</td>\n",
       "      <td>6.0</td>\n",
       "      <td>200.0</td>\n",
       "      <td>85.0</td>\n",
       "      <td>2587.0</td>\n",
       "      <td>16.0</td>\n",
       "      <td>70.0</td>\n",
       "      <td>미국</td>\n",
       "    </tr>\n",
       "    <tr>\n",
       "      <th>24</th>\n",
       "      <td>27.0</td>\n",
       "      <td>4.0</td>\n",
       "      <td>97.0</td>\n",
       "      <td>88.0</td>\n",
       "      <td>2130.0</td>\n",
       "      <td>14.5</td>\n",
       "      <td>70.0</td>\n",
       "      <td>일본</td>\n",
       "    </tr>\n",
       "    <tr>\n",
       "      <th>25</th>\n",
       "      <td>26.0</td>\n",
       "      <td>4.0</td>\n",
       "      <td>97.0</td>\n",
       "      <td>46.0</td>\n",
       "      <td>1835.0</td>\n",
       "      <td>20.5</td>\n",
       "      <td>70.0</td>\n",
       "      <td>유럽</td>\n",
       "    </tr>\n",
       "  </tbody>\n",
       "</table>\n",
       "</div>"
      ],
      "text/plain": [
       "      연비  기통수    배기량    마력      중량   가속력    연식 제조국가\n",
       "23  21.0  6.0  200.0  85.0  2587.0  16.0  70.0   미국\n",
       "24  27.0  4.0   97.0  88.0  2130.0  14.5  70.0   일본\n",
       "25  26.0  4.0   97.0  46.0  1835.0  20.5  70.0   유럽"
      ]
     },
     "execution_count": 51,
     "metadata": {},
     "output_type": "execute_result"
    }
   ],
   "source": [
    "code = [1, 2, 3]\n",
    "nations = ['미국', '유럽', '일본']\n",
    "\n",
    "dataset['제조국가'].replace(code, nations, inplace=True)\n",
    "dataset.iloc[17:20]"
   ]
  },
  {
   "cell_type": "code",
   "execution_count": 52,
   "metadata": {},
   "outputs": [
    {
     "data": {
      "text/html": [
       "<div>\n",
       "<style scoped>\n",
       "    .dataframe tbody tr th:only-of-type {\n",
       "        vertical-align: middle;\n",
       "    }\n",
       "\n",
       "    .dataframe tbody tr th {\n",
       "        vertical-align: top;\n",
       "    }\n",
       "\n",
       "    .dataframe thead th {\n",
       "        text-align: right;\n",
       "    }\n",
       "</style>\n",
       "<table border=\"1\" class=\"dataframe\">\n",
       "  <thead>\n",
       "    <tr style=\"text-align: right;\">\n",
       "      <th></th>\n",
       "      <th>연비</th>\n",
       "      <th>기통수</th>\n",
       "      <th>배기량</th>\n",
       "      <th>마력</th>\n",
       "      <th>중량</th>\n",
       "      <th>가속력</th>\n",
       "      <th>연식</th>\n",
       "      <th>제조국가</th>\n",
       "      <th>미국</th>\n",
       "      <th>유럽</th>\n",
       "      <th>일본</th>\n",
       "    </tr>\n",
       "  </thead>\n",
       "  <tbody>\n",
       "    <tr>\n",
       "      <th>23</th>\n",
       "      <td>21.0</td>\n",
       "      <td>6.0</td>\n",
       "      <td>200.0</td>\n",
       "      <td>85.0</td>\n",
       "      <td>2587.0</td>\n",
       "      <td>16.0</td>\n",
       "      <td>70.0</td>\n",
       "      <td>미국</td>\n",
       "      <td>1.0</td>\n",
       "      <td>0.0</td>\n",
       "      <td>0.0</td>\n",
       "    </tr>\n",
       "    <tr>\n",
       "      <th>24</th>\n",
       "      <td>27.0</td>\n",
       "      <td>4.0</td>\n",
       "      <td>97.0</td>\n",
       "      <td>88.0</td>\n",
       "      <td>2130.0</td>\n",
       "      <td>14.5</td>\n",
       "      <td>70.0</td>\n",
       "      <td>일본</td>\n",
       "      <td>0.0</td>\n",
       "      <td>0.0</td>\n",
       "      <td>1.0</td>\n",
       "    </tr>\n",
       "    <tr>\n",
       "      <th>25</th>\n",
       "      <td>26.0</td>\n",
       "      <td>4.0</td>\n",
       "      <td>97.0</td>\n",
       "      <td>46.0</td>\n",
       "      <td>1835.0</td>\n",
       "      <td>20.5</td>\n",
       "      <td>70.0</td>\n",
       "      <td>유럽</td>\n",
       "      <td>0.0</td>\n",
       "      <td>1.0</td>\n",
       "      <td>0.0</td>\n",
       "    </tr>\n",
       "  </tbody>\n",
       "</table>\n",
       "</div>"
      ],
      "text/plain": [
       "      연비  기통수    배기량    마력      중량   가속력    연식 제조국가   미국   유럽   일본\n",
       "23  21.0  6.0  200.0  85.0  2587.0  16.0  70.0   미국  1.0  0.0  0.0\n",
       "24  27.0  4.0   97.0  88.0  2130.0  14.5  70.0   일본  0.0  0.0  1.0\n",
       "25  26.0  4.0   97.0  46.0  1835.0  20.5  70.0   유럽  0.0  1.0  0.0"
      ]
     },
     "execution_count": 52,
     "metadata": {},
     "output_type": "execute_result"
    }
   ],
   "source": [
    "dataset = pd.concat([dataset, pd.get_dummies(dataset['제조국가'], dtype=float)], axis=1, sort=False)\n",
    "dataset.iloc[17:20]"
   ]
  },
  {
   "cell_type": "code",
   "execution_count": 53,
   "metadata": {},
   "outputs": [
    {
     "data": {
      "text/html": [
       "<div>\n",
       "<style scoped>\n",
       "    .dataframe tbody tr th:only-of-type {\n",
       "        vertical-align: middle;\n",
       "    }\n",
       "\n",
       "    .dataframe tbody tr th {\n",
       "        vertical-align: top;\n",
       "    }\n",
       "\n",
       "    .dataframe thead th {\n",
       "        text-align: right;\n",
       "    }\n",
       "</style>\n",
       "<table border=\"1\" class=\"dataframe\">\n",
       "  <thead>\n",
       "    <tr style=\"text-align: right;\">\n",
       "      <th></th>\n",
       "      <th>연비</th>\n",
       "      <th>기통수</th>\n",
       "      <th>배기량</th>\n",
       "      <th>마력</th>\n",
       "      <th>중량</th>\n",
       "      <th>가속력</th>\n",
       "      <th>연식</th>\n",
       "      <th>미국</th>\n",
       "      <th>유럽</th>\n",
       "      <th>일본</th>\n",
       "    </tr>\n",
       "  </thead>\n",
       "  <tbody>\n",
       "    <tr>\n",
       "      <th>0</th>\n",
       "      <td>18.0</td>\n",
       "      <td>8.0</td>\n",
       "      <td>307.0</td>\n",
       "      <td>130.0</td>\n",
       "      <td>3504.0</td>\n",
       "      <td>12.0</td>\n",
       "      <td>70.0</td>\n",
       "      <td>1.0</td>\n",
       "      <td>0.0</td>\n",
       "      <td>0.0</td>\n",
       "    </tr>\n",
       "    <tr>\n",
       "      <th>1</th>\n",
       "      <td>15.0</td>\n",
       "      <td>8.0</td>\n",
       "      <td>350.0</td>\n",
       "      <td>165.0</td>\n",
       "      <td>3693.0</td>\n",
       "      <td>11.5</td>\n",
       "      <td>70.0</td>\n",
       "      <td>1.0</td>\n",
       "      <td>0.0</td>\n",
       "      <td>0.0</td>\n",
       "    </tr>\n",
       "    <tr>\n",
       "      <th>2</th>\n",
       "      <td>18.0</td>\n",
       "      <td>8.0</td>\n",
       "      <td>318.0</td>\n",
       "      <td>150.0</td>\n",
       "      <td>3436.0</td>\n",
       "      <td>11.0</td>\n",
       "      <td>70.0</td>\n",
       "      <td>1.0</td>\n",
       "      <td>0.0</td>\n",
       "      <td>0.0</td>\n",
       "    </tr>\n",
       "  </tbody>\n",
       "</table>\n",
       "</div>"
      ],
      "text/plain": [
       "     연비  기통수    배기량     마력      중량   가속력    연식   미국   유럽   일본\n",
       "0  18.0  8.0  307.0  130.0  3504.0  12.0  70.0  1.0  0.0  0.0\n",
       "1  15.0  8.0  350.0  165.0  3693.0  11.5  70.0  1.0  0.0  0.0\n",
       "2  18.0  8.0  318.0  150.0  3436.0  11.0  70.0  1.0  0.0  0.0"
      ]
     },
     "execution_count": 53,
     "metadata": {},
     "output_type": "execute_result"
    }
   ],
   "source": [
    "dataset.pop('제조국가')\n",
    "dataset.head(3)"
   ]
  },
  {
   "cell_type": "code",
   "execution_count": 54,
   "metadata": {},
   "outputs": [
    {
     "data": {
      "text/plain": [
       "392"
      ]
     },
     "execution_count": 54,
     "metadata": {},
     "output_type": "execute_result"
    }
   ],
   "source": [
    "len(dataset.index)"
   ]
  },
  {
   "cell_type": "code",
   "execution_count": 55,
   "metadata": {},
   "outputs": [
    {
     "data": {
      "text/plain": [
       "350"
      ]
     },
     "execution_count": 55,
     "metadata": {},
     "output_type": "execute_result"
    }
   ],
   "source": [
    "train_data = dataset.sample(350)\n",
    "len(train_data.index)"
   ]
  },
  {
   "cell_type": "code",
   "execution_count": 56,
   "metadata": {},
   "outputs": [
    {
     "data": {
      "text/plain": [
       "42"
      ]
     },
     "execution_count": 56,
     "metadata": {},
     "output_type": "execute_result"
    }
   ],
   "source": [
    "test_data = dataset.drop(train_data.index)\n",
    "len(test_data.index)"
   ]
  },
  {
   "cell_type": "code",
   "execution_count": 57,
   "metadata": {},
   "outputs": [
    {
     "data": {
      "text/plain": [
       "5     15.0\n",
       "8     14.0\n",
       "20    24.0\n",
       "Name: 연비, dtype: float64"
      ]
     },
     "execution_count": 57,
     "metadata": {},
     "output_type": "execute_result"
    }
   ],
   "source": [
    "y_train = train_data['연비']\n",
    "y_test = test_data['연비']\n",
    "y_test.head(3)"
   ]
  },
  {
   "cell_type": "code",
   "execution_count": 58,
   "metadata": {},
   "outputs": [
    {
     "data": {
      "text/html": [
       "<div>\n",
       "<style scoped>\n",
       "    .dataframe tbody tr th:only-of-type {\n",
       "        vertical-align: middle;\n",
       "    }\n",
       "\n",
       "    .dataframe tbody tr th {\n",
       "        vertical-align: top;\n",
       "    }\n",
       "\n",
       "    .dataframe thead th {\n",
       "        text-align: right;\n",
       "    }\n",
       "</style>\n",
       "<table border=\"1\" class=\"dataframe\">\n",
       "  <thead>\n",
       "    <tr style=\"text-align: right;\">\n",
       "      <th></th>\n",
       "      <th>기통수</th>\n",
       "      <th>배기량</th>\n",
       "      <th>마력</th>\n",
       "      <th>중량</th>\n",
       "      <th>가속력</th>\n",
       "      <th>연식</th>\n",
       "      <th>미국</th>\n",
       "      <th>유럽</th>\n",
       "      <th>일본</th>\n",
       "    </tr>\n",
       "  </thead>\n",
       "  <tbody>\n",
       "    <tr>\n",
       "      <th>105</th>\n",
       "      <td>6.0</td>\n",
       "      <td>250.0</td>\n",
       "      <td>100.0</td>\n",
       "      <td>3278.0</td>\n",
       "      <td>18.0</td>\n",
       "      <td>73.0</td>\n",
       "      <td>1.0</td>\n",
       "      <td>0.0</td>\n",
       "      <td>0.0</td>\n",
       "    </tr>\n",
       "    <tr>\n",
       "      <th>353</th>\n",
       "      <td>4.0</td>\n",
       "      <td>97.0</td>\n",
       "      <td>67.0</td>\n",
       "      <td>2065.0</td>\n",
       "      <td>17.8</td>\n",
       "      <td>81.0</td>\n",
       "      <td>0.0</td>\n",
       "      <td>0.0</td>\n",
       "      <td>1.0</td>\n",
       "    </tr>\n",
       "    <tr>\n",
       "      <th>216</th>\n",
       "      <td>4.0</td>\n",
       "      <td>120.0</td>\n",
       "      <td>88.0</td>\n",
       "      <td>3270.0</td>\n",
       "      <td>21.9</td>\n",
       "      <td>76.0</td>\n",
       "      <td>0.0</td>\n",
       "      <td>1.0</td>\n",
       "      <td>0.0</td>\n",
       "    </tr>\n",
       "  </tbody>\n",
       "</table>\n",
       "</div>"
      ],
      "text/plain": [
       "     기통수    배기량     마력      중량   가속력    연식   미국   유럽   일본\n",
       "105  6.0  250.0  100.0  3278.0  18.0  73.0  1.0  0.0  0.0\n",
       "353  4.0   97.0   67.0  2065.0  17.8  81.0  0.0  0.0  1.0\n",
       "216  4.0  120.0   88.0  3270.0  21.9  76.0  0.0  1.0  0.0"
      ]
     },
     "execution_count": 58,
     "metadata": {},
     "output_type": "execute_result"
    }
   ],
   "source": [
    "train_data.pop('연비')\n",
    "test_data.pop('연비')\n",
    "train_data[:3]"
   ]
  },
  {
   "cell_type": "code",
   "execution_count": 59,
   "metadata": {},
   "outputs": [],
   "source": [
    "from keras import models\n",
    "from keras import layers"
   ]
  },
  {
   "cell_type": "code",
   "execution_count": 60,
   "metadata": {},
   "outputs": [
    {
     "name": "stdout",
     "output_type": "stream",
     "text": [
      "9\n"
     ]
    }
   ],
   "source": [
    "print(len(train_data.keys()))"
   ]
  },
  {
   "cell_type": "markdown",
   "metadata": {},
   "source": [
    "* 파라미터 수 계산\n",
    "  * 입력 계층: (9 + 1) * 32 = 320\n",
    "  * 은닉 계층: (32 + 1) * 64 = 2112\n",
    "  * 출력 계층: (64 + 1) * 1 = 65\n",
    "  * 총 2497 개"
   ]
  },
  {
   "cell_type": "code",
   "execution_count": 61,
   "metadata": {},
   "outputs": [],
   "source": [
    "model = models.Sequential([\n",
    "    layers.Dense(32, activation='relu', input_dim=len(train_data.keys())),\n",
    "    layers.Dense(64, activation='relu'),\n",
    "    layers.Dense(1)\n",
    "])\n",
    "# \"relu\" 방식은 음수 값은 0을 반환하고 양수 값은 그 값을 그대로 반환하는 방식"
   ]
  },
  {
   "cell_type": "code",
   "execution_count": 62,
   "metadata": {},
   "outputs": [
    {
     "name": "stdout",
     "output_type": "stream",
     "text": [
      "Model: \"sequential_5\"\n",
      "_________________________________________________________________\n",
      " Layer (type)                Output Shape              Param #   \n",
      "=================================================================\n",
      " dense_8 (Dense)             (None, 32)                320       \n",
      "                                                                 \n",
      " dense_9 (Dense)             (None, 64)                2112      \n",
      "                                                                 \n",
      " dense_10 (Dense)            (None, 1)                 65        \n",
      "                                                                 \n",
      "=================================================================\n",
      "Total params: 2,497\n",
      "Trainable params: 2,497\n",
      "Non-trainable params: 0\n",
      "_________________________________________________________________\n"
     ]
    }
   ],
   "source": [
    "model.summary()"
   ]
  },
  {
   "cell_type": "code",
   "execution_count": 63,
   "metadata": {},
   "outputs": [],
   "source": [
    "model.compile(optimizer='rmsprop', loss='mse', metrics=['mae'])"
   ]
  },
  {
   "cell_type": "markdown",
   "metadata": {},
   "source": [
    "* 여기서는 \"metrics\"를 \"accuracy\"가 아닌 \"mae(Mean Absolute Error)\"로 설정하여 평균 에러값을 구하도록 함\n",
    "* 이후에 훈련된 신경망에서 예측한 값의 오차를 \"mae\" 값을 통해 가늠할 수 있음"
   ]
  },
  {
   "cell_type": "code",
   "execution_count": 64,
   "metadata": {},
   "outputs": [
    {
     "name": "stdout",
     "output_type": "stream",
     "text": [
      "Epoch 1/200\n",
      "9/9 [==============================] - 1s 16ms/step - loss: 7067.2573 - mae: 44.2352 - val_loss: 310.3124 - val_mae: 14.4687\n",
      "Epoch 2/200\n",
      "9/9 [==============================] - 0s 3ms/step - loss: 246.0825 - mae: 13.1268 - val_loss: 201.5540 - val_mae: 11.6213\n",
      "Epoch 3/200\n",
      "9/9 [==============================] - 0s 3ms/step - loss: 834.5125 - mae: 22.9158 - val_loss: 187.6480 - val_mae: 11.1711\n",
      "Epoch 4/200\n",
      "9/9 [==============================] - 0s 3ms/step - loss: 929.2487 - mae: 25.3760 - val_loss: 420.8696 - val_mae: 16.9496\n",
      "Epoch 5/200\n",
      "9/9 [==============================] - 0s 4ms/step - loss: 658.9547 - mae: 21.7143 - val_loss: 2089.0698 - val_mae: 45.5205\n",
      "Epoch 6/200\n",
      "9/9 [==============================] - 0s 3ms/step - loss: 1088.8823 - mae: 26.2874 - val_loss: 198.1993 - val_mae: 11.7544\n",
      "Epoch 7/200\n",
      "9/9 [==============================] - 0s 4ms/step - loss: 1204.7660 - mae: 27.5203 - val_loss: 2163.0928 - val_mae: 46.3321\n",
      "Epoch 8/200\n",
      "9/9 [==============================] - 0s 3ms/step - loss: 585.2350 - mae: 18.8885 - val_loss: 781.6749 - val_mae: 23.4883\n",
      "Epoch 9/200\n",
      "9/9 [==============================] - 0s 4ms/step - loss: 729.6308 - mae: 22.3702 - val_loss: 827.6810 - val_mae: 28.2736\n",
      "Epoch 10/200\n",
      "9/9 [==============================] - 0s 4ms/step - loss: 1051.8574 - mae: 28.5623 - val_loss: 603.7181 - val_mae: 20.6269\n",
      "Epoch 11/200\n",
      "9/9 [==============================] - 0s 4ms/step - loss: 656.5214 - mae: 21.9662 - val_loss: 725.1466 - val_mae: 26.3943\n",
      "Epoch 12/200\n",
      "9/9 [==============================] - 0s 4ms/step - loss: 1108.5214 - mae: 27.7350 - val_loss: 168.7164 - val_mae: 10.9792\n",
      "Epoch 13/200\n",
      "9/9 [==============================] - 0s 3ms/step - loss: 828.6370 - mae: 23.9496 - val_loss: 1400.7754 - val_mae: 37.2165\n",
      "Epoch 14/200\n",
      "9/9 [==============================] - 0s 4ms/step - loss: 977.1840 - mae: 27.1392 - val_loss: 1343.5580 - val_mae: 31.8363\n",
      "Epoch 15/200\n",
      "9/9 [==============================] - 0s 4ms/step - loss: 632.5931 - mae: 21.4141 - val_loss: 366.3336 - val_mae: 18.1273\n",
      "Epoch 16/200\n",
      "9/9 [==============================] - 0s 4ms/step - loss: 901.8663 - mae: 26.7002 - val_loss: 629.4591 - val_mae: 21.3444\n",
      "Epoch 17/200\n",
      "9/9 [==============================] - 0s 4ms/step - loss: 666.5751 - mae: 22.4653 - val_loss: 659.9150 - val_mae: 25.2488\n",
      "Epoch 18/200\n",
      "9/9 [==============================] - 0s 4ms/step - loss: 974.8405 - mae: 27.7303 - val_loss: 271.4521 - val_mae: 14.0098\n",
      "Epoch 19/200\n",
      "9/9 [==============================] - 0s 4ms/step - loss: 350.5021 - mae: 15.1978 - val_loss: 2696.0464 - val_mae: 51.5008\n",
      "Epoch 20/200\n",
      "9/9 [==============================] - 0s 4ms/step - loss: 857.2440 - mae: 23.6007 - val_loss: 416.3962 - val_mae: 17.3893\n",
      "Epoch 21/200\n",
      "9/9 [==============================] - 0s 4ms/step - loss: 945.1567 - mae: 26.5234 - val_loss: 781.1603 - val_mae: 27.5940\n",
      "Epoch 22/200\n",
      "9/9 [==============================] - 0s 4ms/step - loss: 496.3080 - mae: 19.5474 - val_loss: 537.6019 - val_mae: 19.8347\n",
      "Epoch 23/200\n",
      "9/9 [==============================] - 0s 4ms/step - loss: 896.2810 - mae: 26.6886 - val_loss: 320.3904 - val_mae: 17.0124\n",
      "Epoch 24/200\n",
      "9/9 [==============================] - 0s 4ms/step - loss: 517.6707 - mae: 20.2540 - val_loss: 832.6300 - val_mae: 25.1039\n",
      "Epoch 25/200\n",
      "9/9 [==============================] - 0s 4ms/step - loss: 901.3438 - mae: 27.1687 - val_loss: 823.7151 - val_mae: 28.3276\n",
      "Epoch 26/200\n",
      "9/9 [==============================] - 0s 4ms/step - loss: 265.5800 - mae: 12.9527 - val_loss: 77.8568 - val_mae: 6.7414\n",
      "Epoch 27/200\n",
      "9/9 [==============================] - 0s 4ms/step - loss: 972.8520 - mae: 25.6095 - val_loss: 204.2065 - val_mae: 12.2004\n",
      "Epoch 28/200\n",
      "9/9 [==============================] - 0s 3ms/step - loss: 476.3717 - mae: 17.2064 - val_loss: 1398.5656 - val_mae: 36.9819\n",
      "Epoch 29/200\n",
      "9/9 [==============================] - 0s 4ms/step - loss: 646.6905 - mae: 22.6674 - val_loss: 718.6700 - val_mae: 23.3741\n",
      "Epoch 30/200\n",
      "9/9 [==============================] - 0s 4ms/step - loss: 579.7482 - mae: 20.3176 - val_loss: 1727.7544 - val_mae: 41.0802\n",
      "Epoch 31/200\n",
      "9/9 [==============================] - 0s 4ms/step - loss: 641.2768 - mae: 20.6756 - val_loss: 375.6018 - val_mae: 16.6080\n",
      "Epoch 32/200\n",
      "9/9 [==============================] - 0s 4ms/step - loss: 896.8527 - mae: 26.4832 - val_loss: 70.3208 - val_mae: 6.3996\n",
      "Epoch 33/200\n",
      "9/9 [==============================] - 0s 4ms/step - loss: 172.4584 - mae: 10.4959 - val_loss: 1746.5270 - val_mae: 38.1171\n",
      "Epoch 34/200\n",
      "9/9 [==============================] - 0s 4ms/step - loss: 755.3068 - mae: 21.7238 - val_loss: 70.2424 - val_mae: 7.1056\n",
      "Epoch 35/200\n",
      "9/9 [==============================] - 0s 4ms/step - loss: 204.2116 - mae: 10.4614 - val_loss: 1854.5706 - val_mae: 42.5141\n",
      "Epoch 36/200\n",
      "9/9 [==============================] - 0s 4ms/step - loss: 1048.4950 - mae: 25.0191 - val_loss: 66.2236 - val_mae: 6.2243\n",
      "Epoch 37/200\n",
      "9/9 [==============================] - 0s 4ms/step - loss: 456.3355 - mae: 17.1267 - val_loss: 1251.3928 - val_mae: 31.8777\n",
      "Epoch 38/200\n",
      "9/9 [==============================] - 0s 3ms/step - loss: 731.1865 - mae: 23.9761 - val_loss: 940.2655 - val_mae: 30.1960\n",
      "Epoch 39/200\n",
      "9/9 [==============================] - 0s 4ms/step - loss: 377.3829 - mae: 16.4032 - val_loss: 396.5406 - val_mae: 17.1440\n",
      "Epoch 40/200\n",
      "9/9 [==============================] - 0s 3ms/step - loss: 817.3478 - mae: 25.5102 - val_loss: 102.6386 - val_mae: 8.3730\n",
      "Epoch 41/200\n",
      "9/9 [==============================] - 0s 4ms/step - loss: 288.7482 - mae: 14.7092 - val_loss: 465.4922 - val_mae: 18.6980\n",
      "Epoch 42/200\n",
      "9/9 [==============================] - 0s 4ms/step - loss: 724.0641 - mae: 23.8215 - val_loss: 785.5912 - val_mae: 27.5490\n",
      "Epoch 43/200\n",
      "9/9 [==============================] - 0s 4ms/step - loss: 519.1066 - mae: 20.0851 - val_loss: 1142.4941 - val_mae: 30.4872\n",
      "Epoch 44/200\n",
      "9/9 [==============================] - 0s 4ms/step - loss: 464.4281 - mae: 17.9348 - val_loss: 2554.1160 - val_mae: 49.7791\n",
      "Epoch 45/200\n",
      "9/9 [==============================] - 0s 4ms/step - loss: 648.1417 - mae: 20.0557 - val_loss: 534.3903 - val_mae: 20.1989\n",
      "Epoch 46/200\n",
      "9/9 [==============================] - 0s 4ms/step - loss: 509.3499 - mae: 19.9304 - val_loss: 133.4899 - val_mae: 9.9952\n",
      "Epoch 47/200\n",
      "9/9 [==============================] - 0s 4ms/step - loss: 453.0572 - mae: 18.9297 - val_loss: 1117.6211 - val_mae: 30.2142\n",
      "Epoch 48/200\n",
      "9/9 [==============================] - 0s 4ms/step - loss: 603.0221 - mae: 18.2235 - val_loss: 65.7303 - val_mae: 6.8571\n",
      "Epoch 49/200\n",
      "9/9 [==============================] - 0s 4ms/step - loss: 451.3280 - mae: 14.6491 - val_loss: 2600.5535 - val_mae: 50.1779\n",
      "Epoch 50/200\n",
      "9/9 [==============================] - 0s 5ms/step - loss: 479.1754 - mae: 15.4995 - val_loss: 170.1740 - val_mae: 11.7539\n",
      "Epoch 51/200\n",
      "9/9 [==============================] - 0s 5ms/step - loss: 670.0904 - mae: 22.3904 - val_loss: 502.6668 - val_mae: 19.5913\n",
      "Epoch 52/200\n",
      "9/9 [==============================] - 0s 6ms/step - loss: 412.1320 - mae: 18.0624 - val_loss: 709.3691 - val_mae: 26.0769\n",
      "Epoch 53/200\n",
      "9/9 [==============================] - 0s 5ms/step - loss: 485.0433 - mae: 19.8730 - val_loss: 655.4184 - val_mae: 22.6508\n",
      "Epoch 54/200\n",
      "9/9 [==============================] - 0s 5ms/step - loss: 538.8259 - mae: 20.7920 - val_loss: 417.3670 - val_mae: 19.7605\n",
      "Epoch 55/200\n",
      "9/9 [==============================] - 0s 5ms/step - loss: 527.4087 - mae: 19.1574 - val_loss: 315.2536 - val_mae: 15.3261\n",
      "Epoch 56/200\n",
      "9/9 [==============================] - 0s 4ms/step - loss: 585.4196 - mae: 21.1814 - val_loss: 260.4106 - val_mae: 15.2959\n",
      "Epoch 57/200\n",
      "9/9 [==============================] - 0s 5ms/step - loss: 695.9697 - mae: 24.1519 - val_loss: 346.5150 - val_mae: 16.1475\n",
      "Epoch 58/200\n",
      "9/9 [==============================] - 0s 5ms/step - loss: 357.0989 - mae: 16.3117 - val_loss: 711.2823 - val_mae: 26.1133\n",
      "Epoch 59/200\n",
      "9/9 [==============================] - 0s 4ms/step - loss: 494.3406 - mae: 19.9783 - val_loss: 945.3260 - val_mae: 27.8150\n",
      "Epoch 60/200\n",
      "9/9 [==============================] - 0s 5ms/step - loss: 618.6928 - mae: 22.3353 - val_loss: 172.8013 - val_mae: 11.9795\n",
      "Epoch 61/200\n",
      "9/9 [==============================] - 0s 5ms/step - loss: 381.6552 - mae: 15.4616 - val_loss: 2511.3215 - val_mae: 46.9387\n",
      "Epoch 62/200\n",
      "9/9 [==============================] - 0s 5ms/step - loss: 530.6697 - mae: 18.7492 - val_loss: 615.3265 - val_mae: 24.2027\n",
      "Epoch 63/200\n",
      "9/9 [==============================] - 0s 4ms/step - loss: 523.7905 - mae: 20.7034 - val_loss: 801.5866 - val_mae: 25.4385\n",
      "Epoch 64/200\n",
      "9/9 [==============================] - 0s 5ms/step - loss: 492.1526 - mae: 19.8339 - val_loss: 234.1917 - val_mae: 14.3865\n",
      "Epoch 65/200\n",
      "9/9 [==============================] - 0s 5ms/step - loss: 563.7954 - mae: 20.0361 - val_loss: 439.4713 - val_mae: 18.3878\n",
      "Epoch 66/200\n",
      "9/9 [==============================] - 0s 5ms/step - loss: 376.7098 - mae: 16.8996 - val_loss: 183.6878 - val_mae: 12.4550\n",
      "Epoch 67/200\n",
      "9/9 [==============================] - 0s 5ms/step - loss: 591.7691 - mae: 21.5435 - val_loss: 421.5702 - val_mae: 17.9909\n",
      "Epoch 68/200\n",
      "9/9 [==============================] - 0s 5ms/step - loss: 96.3757 - mae: 7.5029 - val_loss: 115.4919 - val_mae: 9.0429\n",
      "Epoch 69/200\n",
      "9/9 [==============================] - 0s 5ms/step - loss: 768.6118 - mae: 23.1645 - val_loss: 254.9408 - val_mae: 15.0630\n",
      "Epoch 70/200\n",
      "9/9 [==============================] - 0s 5ms/step - loss: 419.5887 - mae: 18.3265 - val_loss: 1049.3273 - val_mae: 29.6320\n",
      "Epoch 71/200\n",
      "9/9 [==============================] - 0s 5ms/step - loss: 417.2456 - mae: 17.2528 - val_loss: 528.7992 - val_mae: 22.3280\n",
      "Epoch 72/200\n",
      "9/9 [==============================] - 0s 4ms/step - loss: 613.0244 - mae: 20.1477 - val_loss: 93.2198 - val_mae: 8.0541\n",
      "Epoch 73/200\n",
      "9/9 [==============================] - 0s 5ms/step - loss: 312.4958 - mae: 15.3527 - val_loss: 698.1919 - val_mae: 25.7586\n",
      "Epoch 74/200\n",
      "9/9 [==============================] - 0s 4ms/step - loss: 509.0910 - mae: 19.7396 - val_loss: 193.5689 - val_mae: 11.8871\n",
      "Epoch 75/200\n",
      "9/9 [==============================] - 0s 4ms/step - loss: 514.4761 - mae: 20.3151 - val_loss: 125.3315 - val_mae: 9.8357\n",
      "Epoch 76/200\n",
      "9/9 [==============================] - 0s 4ms/step - loss: 300.8776 - mae: 14.6751 - val_loss: 1888.9940 - val_mae: 40.5690\n",
      "Epoch 77/200\n",
      "9/9 [==============================] - 0s 4ms/step - loss: 414.9684 - mae: 16.5879 - val_loss: 84.9406 - val_mae: 7.7540\n",
      "Epoch 78/200\n",
      "9/9 [==============================] - 0s 4ms/step - loss: 512.5004 - mae: 19.2760 - val_loss: 246.1623 - val_mae: 13.5418\n",
      "Epoch 79/200\n",
      "9/9 [==============================] - 0s 4ms/step - loss: 472.7978 - mae: 18.8728 - val_loss: 88.2949 - val_mae: 7.9524\n",
      "Epoch 80/200\n",
      "9/9 [==============================] - 0s 4ms/step - loss: 311.4593 - mae: 15.5559 - val_loss: 648.8499 - val_mae: 22.8773\n",
      "Epoch 81/200\n",
      "9/9 [==============================] - 0s 4ms/step - loss: 386.7270 - mae: 15.2863 - val_loss: 45.8590 - val_mae: 5.3387\n",
      "Epoch 82/200\n",
      "9/9 [==============================] - 0s 4ms/step - loss: 488.5793 - mae: 16.2096 - val_loss: 1320.6439 - val_mae: 33.6326\n",
      "Epoch 83/200\n",
      "9/9 [==============================] - 0s 4ms/step - loss: 309.2419 - mae: 13.5445 - val_loss: 60.3753 - val_mae: 6.4994\n",
      "Epoch 84/200\n",
      "9/9 [==============================] - 0s 4ms/step - loss: 541.6462 - mae: 18.6452 - val_loss: 129.2009 - val_mae: 10.0449\n",
      "Epoch 85/200\n",
      "9/9 [==============================] - 0s 4ms/step - loss: 262.9437 - mae: 14.0686 - val_loss: 983.5410 - val_mae: 28.7906\n",
      "Epoch 86/200\n",
      "9/9 [==============================] - 0s 4ms/step - loss: 394.5982 - mae: 17.5117 - val_loss: 713.9474 - val_mae: 26.0219\n",
      "Epoch 87/200\n",
      "9/9 [==============================] - 0s 4ms/step - loss: 487.3709 - mae: 19.7223 - val_loss: 1276.4125 - val_mae: 33.1017\n",
      "Epoch 88/200\n",
      "9/9 [==============================] - 0s 5ms/step - loss: 354.8524 - mae: 13.3401 - val_loss: 56.6479 - val_mae: 6.0855\n",
      "Epoch 89/200\n",
      "9/9 [==============================] - 0s 5ms/step - loss: 355.8238 - mae: 14.2360 - val_loss: 1677.9750 - val_mae: 38.2411\n",
      "Epoch 90/200\n",
      "9/9 [==============================] - 0s 4ms/step - loss: 301.4190 - mae: 11.7010 - val_loss: 47.1688 - val_mae: 5.7255\n",
      "Epoch 91/200\n",
      "9/9 [==============================] - 0s 4ms/step - loss: 563.5056 - mae: 18.8263 - val_loss: 89.2841 - val_mae: 8.0165\n",
      "Epoch 92/200\n",
      "9/9 [==============================] - 0s 4ms/step - loss: 119.1411 - mae: 9.1208 - val_loss: 1216.5563 - val_mae: 32.3114\n",
      "Epoch 93/200\n",
      "9/9 [==============================] - 0s 4ms/step - loss: 472.0595 - mae: 17.9571 - val_loss: 170.4570 - val_mae: 11.8844\n",
      "Epoch 94/200\n",
      "9/9 [==============================] - 0s 4ms/step - loss: 501.6006 - mae: 20.1638 - val_loss: 489.4984 - val_mae: 19.7356\n",
      "Epoch 95/200\n",
      "9/9 [==============================] - 0s 4ms/step - loss: 161.4444 - mae: 11.0064 - val_loss: 55.5079 - val_mae: 6.0459\n",
      "Epoch 96/200\n",
      "9/9 [==============================] - 0s 4ms/step - loss: 527.8060 - mae: 19.6155 - val_loss: 103.3306 - val_mae: 8.4699\n",
      "Epoch 97/200\n",
      "9/9 [==============================] - 0s 4ms/step - loss: 138.2236 - mae: 8.8472 - val_loss: 2567.4827 - val_mae: 47.8167\n",
      "Epoch 98/200\n",
      "9/9 [==============================] - 0s 3ms/step - loss: 530.7757 - mae: 16.9179 - val_loss: 289.6312 - val_mae: 16.1251\n",
      "Epoch 99/200\n",
      "9/9 [==============================] - 0s 4ms/step - loss: 403.3613 - mae: 18.3366 - val_loss: 430.2533 - val_mae: 18.4110\n",
      "Epoch 100/200\n",
      "9/9 [==============================] - 0s 4ms/step - loss: 406.1549 - mae: 16.7430 - val_loss: 454.5042 - val_mae: 20.5656\n",
      "Epoch 101/200\n",
      "9/9 [==============================] - 0s 4ms/step - loss: 203.9702 - mae: 12.3071 - val_loss: 337.7133 - val_mae: 16.1444\n",
      "Epoch 102/200\n",
      "9/9 [==============================] - 0s 4ms/step - loss: 586.0336 - mae: 21.1451 - val_loss: 147.7760 - val_mae: 10.9168\n",
      "Epoch 103/200\n",
      "9/9 [==============================] - 0s 4ms/step - loss: 156.6557 - mae: 10.8855 - val_loss: 312.2427 - val_mae: 15.4743\n",
      "Epoch 104/200\n",
      "9/9 [==============================] - 0s 4ms/step - loss: 477.0859 - mae: 18.5520 - val_loss: 272.9451 - val_mae: 15.5960\n",
      "Epoch 105/200\n",
      "9/9 [==============================] - 0s 4ms/step - loss: 160.8687 - mae: 10.9681 - val_loss: 628.4303 - val_mae: 22.6995\n",
      "Epoch 106/200\n",
      "9/9 [==============================] - 0s 4ms/step - loss: 432.5467 - mae: 17.1982 - val_loss: 151.4600 - val_mae: 11.0641\n",
      "Epoch 107/200\n",
      "9/9 [==============================] - 0s 4ms/step - loss: 350.2092 - mae: 16.8807 - val_loss: 303.8260 - val_mae: 15.2843\n",
      "Epoch 108/200\n",
      "9/9 [==============================] - 0s 4ms/step - loss: 366.9819 - mae: 15.8841 - val_loss: 49.1024 - val_mae: 5.6057\n",
      "Epoch 109/200\n",
      "9/9 [==============================] - 0s 4ms/step - loss: 329.3033 - mae: 14.7690 - val_loss: 901.2783 - val_mae: 27.5925\n",
      "Epoch 110/200\n",
      "9/9 [==============================] - 0s 4ms/step - loss: 295.9510 - mae: 15.1220 - val_loss: 201.0235 - val_mae: 13.1524\n",
      "Epoch 111/200\n",
      "9/9 [==============================] - 0s 4ms/step - loss: 276.3933 - mae: 14.8511 - val_loss: 510.1987 - val_mae: 20.2506\n",
      "Epoch 112/200\n",
      "9/9 [==============================] - 0s 4ms/step - loss: 338.2009 - mae: 15.1234 - val_loss: 61.4939 - val_mae: 6.4029\n",
      "Epoch 113/200\n",
      "9/9 [==============================] - 0s 3ms/step - loss: 384.8780 - mae: 16.0933 - val_loss: 278.9582 - val_mae: 14.5849\n",
      "Epoch 114/200\n",
      "9/9 [==============================] - 0s 4ms/step - loss: 113.9289 - mae: 8.7543 - val_loss: 88.6555 - val_mae: 7.9710\n",
      "Epoch 115/200\n",
      "9/9 [==============================] - 0s 4ms/step - loss: 474.4615 - mae: 18.9097 - val_loss: 419.4243 - val_mae: 18.1768\n",
      "Epoch 116/200\n",
      "9/9 [==============================] - 0s 4ms/step - loss: 164.0854 - mae: 11.0618 - val_loss: 270.9464 - val_mae: 15.6663\n",
      "Epoch 117/200\n",
      "9/9 [==============================] - 0s 4ms/step - loss: 309.0372 - mae: 15.4709 - val_loss: 194.9981 - val_mae: 12.0720\n",
      "Epoch 118/200\n",
      "9/9 [==============================] - 0s 4ms/step - loss: 416.5578 - mae: 17.0715 - val_loss: 73.3039 - val_mae: 7.1025\n",
      "Epoch 119/200\n",
      "9/9 [==============================] - 0s 4ms/step - loss: 63.1532 - mae: 6.3688 - val_loss: 164.4143 - val_mae: 11.0102\n",
      "Epoch 120/200\n",
      "9/9 [==============================] - 0s 4ms/step - loss: 475.1853 - mae: 17.4876 - val_loss: 37.3775 - val_mae: 4.9201\n",
      "Epoch 121/200\n",
      "9/9 [==============================] - 0s 4ms/step - loss: 144.9860 - mae: 9.7211 - val_loss: 533.2503 - val_mae: 22.3562\n",
      "Epoch 122/200\n",
      "9/9 [==============================] - 0s 4ms/step - loss: 287.9187 - mae: 14.6523 - val_loss: 265.6505 - val_mae: 14.2257\n",
      "Epoch 123/200\n",
      "9/9 [==============================] - 0s 4ms/step - loss: 278.3219 - mae: 14.1179 - val_loss: 1120.0389 - val_mae: 32.6143\n",
      "Epoch 124/200\n",
      "9/9 [==============================] - 0s 4ms/step - loss: 245.9997 - mae: 11.0119 - val_loss: 78.0816 - val_mae: 7.3394\n",
      "Epoch 125/200\n",
      "9/9 [==============================] - 0s 4ms/step - loss: 95.6149 - mae: 7.2637 - val_loss: 1840.6094 - val_mae: 41.8350\n",
      "Epoch 126/200\n",
      "9/9 [==============================] - 0s 4ms/step - loss: 449.3972 - mae: 15.0796 - val_loss: 67.8657 - val_mae: 6.7824\n",
      "Epoch 127/200\n",
      "9/9 [==============================] - 0s 4ms/step - loss: 224.7320 - mae: 12.6994 - val_loss: 465.6909 - val_mae: 19.3804\n",
      "Epoch 128/200\n",
      "9/9 [==============================] - 0s 4ms/step - loss: 285.4445 - mae: 14.8245 - val_loss: 102.9968 - val_mae: 8.7561\n",
      "Epoch 129/200\n",
      "9/9 [==============================] - 0s 3ms/step - loss: 237.3951 - mae: 13.6642 - val_loss: 423.1159 - val_mae: 18.3888\n",
      "Epoch 130/200\n",
      "9/9 [==============================] - 0s 4ms/step - loss: 246.8333 - mae: 13.7232 - val_loss: 74.9252 - val_mae: 7.1872\n",
      "Epoch 131/200\n",
      "9/9 [==============================] - 0s 4ms/step - loss: 305.7718 - mae: 12.9573 - val_loss: 989.5836 - val_mae: 29.0945\n",
      "Epoch 132/200\n",
      "9/9 [==============================] - 0s 4ms/step - loss: 163.2575 - mae: 9.0099 - val_loss: 58.2241 - val_mae: 6.2189\n",
      "Epoch 133/200\n",
      "9/9 [==============================] - 0s 4ms/step - loss: 228.7402 - mae: 12.9146 - val_loss: 397.8304 - val_mae: 17.7230\n",
      "Epoch 134/200\n",
      "9/9 [==============================] - 0s 4ms/step - loss: 250.7704 - mae: 13.8907 - val_loss: 63.1308 - val_mae: 6.5645\n",
      "Epoch 135/200\n",
      "9/9 [==============================] - 0s 4ms/step - loss: 183.9983 - mae: 11.6661 - val_loss: 296.5898 - val_mae: 15.1299\n",
      "Epoch 136/200\n",
      "9/9 [==============================] - 0s 4ms/step - loss: 197.9301 - mae: 12.3634 - val_loss: 146.5407 - val_mae: 11.1508\n",
      "Epoch 137/200\n",
      "9/9 [==============================] - 0s 4ms/step - loss: 189.8858 - mae: 12.2908 - val_loss: 202.6971 - val_mae: 12.4096\n",
      "Epoch 138/200\n",
      "9/9 [==============================] - 0s 4ms/step - loss: 268.8456 - mae: 13.8067 - val_loss: 41.8847 - val_mae: 5.0090\n",
      "Epoch 139/200\n",
      "9/9 [==============================] - 0s 4ms/step - loss: 133.4769 - mae: 9.6495 - val_loss: 392.3763 - val_mae: 17.6982\n",
      "Epoch 140/200\n",
      "9/9 [==============================] - 0s 4ms/step - loss: 185.9632 - mae: 11.0372 - val_loss: 66.7670 - val_mae: 6.7517\n",
      "Epoch 141/200\n",
      "9/9 [==============================] - 0s 4ms/step - loss: 254.2664 - mae: 13.3302 - val_loss: 182.6297 - val_mae: 11.7817\n",
      "Epoch 142/200\n",
      "9/9 [==============================] - 0s 4ms/step - loss: 235.5288 - mae: 12.8586 - val_loss: 223.3916 - val_mae: 14.2282\n",
      "Epoch 143/200\n",
      "9/9 [==============================] - 0s 4ms/step - loss: 116.3131 - mae: 9.3425 - val_loss: 126.1668 - val_mae: 9.6774\n",
      "Epoch 144/200\n",
      "9/9 [==============================] - 0s 4ms/step - loss: 213.9731 - mae: 12.1088 - val_loss: 95.2044 - val_mae: 8.5720\n",
      "Epoch 145/200\n",
      "9/9 [==============================] - 0s 4ms/step - loss: 195.4715 - mae: 11.9819 - val_loss: 203.9864 - val_mae: 12.5098\n",
      "Epoch 146/200\n",
      "9/9 [==============================] - 0s 4ms/step - loss: 90.9382 - mae: 7.4557 - val_loss: 165.6365 - val_mae: 12.0085\n",
      "Epoch 147/200\n",
      "9/9 [==============================] - 0s 5ms/step - loss: 199.1959 - mae: 12.0030 - val_loss: 454.3105 - val_mae: 19.3154\n",
      "Epoch 148/200\n",
      "9/9 [==============================] - 0s 3ms/step - loss: 141.4009 - mae: 9.1823 - val_loss: 42.4647 - val_mae: 5.1767\n",
      "Epoch 149/200\n",
      "9/9 [==============================] - 0s 4ms/step - loss: 268.8772 - mae: 13.1464 - val_loss: 89.9813 - val_mae: 7.9315\n",
      "Epoch 150/200\n",
      "9/9 [==============================] - 0s 4ms/step - loss: 55.0410 - mae: 5.9604 - val_loss: 187.6403 - val_mae: 12.8117\n",
      "Epoch 151/200\n",
      "9/9 [==============================] - 0s 4ms/step - loss: 260.7975 - mae: 13.8274 - val_loss: 38.0538 - val_mae: 5.1615\n",
      "Epoch 152/200\n",
      "9/9 [==============================] - 0s 4ms/step - loss: 55.3046 - mae: 5.7783 - val_loss: 577.9368 - val_mae: 21.9869\n",
      "Epoch 153/200\n",
      "9/9 [==============================] - 0s 4ms/step - loss: 230.3762 - mae: 12.6793 - val_loss: 122.3861 - val_mae: 9.7968\n",
      "Epoch 154/200\n",
      "9/9 [==============================] - 0s 4ms/step - loss: 168.9907 - mae: 10.8879 - val_loss: 39.7618 - val_mae: 5.2672\n",
      "Epoch 155/200\n",
      "9/9 [==============================] - 0s 4ms/step - loss: 194.5875 - mae: 11.3902 - val_loss: 121.8690 - val_mae: 9.7835\n",
      "Epoch 156/200\n",
      "9/9 [==============================] - 0s 3ms/step - loss: 152.4438 - mae: 10.9221 - val_loss: 126.2290 - val_mae: 9.6481\n",
      "Epoch 157/200\n",
      "9/9 [==============================] - 0s 4ms/step - loss: 127.6165 - mae: 9.9448 - val_loss: 102.9272 - val_mae: 8.9043\n",
      "Epoch 158/200\n",
      "9/9 [==============================] - 0s 3ms/step - loss: 137.8136 - mae: 10.1389 - val_loss: 66.1114 - val_mae: 6.7852\n",
      "Epoch 159/200\n",
      "9/9 [==============================] - 0s 4ms/step - loss: 210.8186 - mae: 12.4287 - val_loss: 322.4828 - val_mae: 17.1714\n",
      "Epoch 160/200\n",
      "9/9 [==============================] - 0s 3ms/step - loss: 132.6165 - mae: 9.9279 - val_loss: 70.0507 - val_mae: 6.9675\n",
      "Epoch 161/200\n",
      "9/9 [==============================] - 0s 4ms/step - loss: 214.9459 - mae: 12.8292 - val_loss: 66.5797 - val_mae: 6.7420\n",
      "Epoch 162/200\n",
      "9/9 [==============================] - 0s 3ms/step - loss: 55.4889 - mae: 6.0753 - val_loss: 37.8169 - val_mae: 5.1534\n",
      "Epoch 163/200\n",
      "9/9 [==============================] - 0s 4ms/step - loss: 189.0955 - mae: 11.3814 - val_loss: 79.6476 - val_mae: 7.5927\n",
      "Epoch 164/200\n",
      "9/9 [==============================] - 0s 4ms/step - loss: 91.4275 - mae: 8.1516 - val_loss: 174.8720 - val_mae: 11.5659\n",
      "Epoch 165/200\n",
      "9/9 [==============================] - 0s 4ms/step - loss: 188.6654 - mae: 11.5166 - val_loss: 46.7393 - val_mae: 5.4839\n",
      "Epoch 166/200\n",
      "9/9 [==============================] - 0s 4ms/step - loss: 143.2891 - mae: 10.2566 - val_loss: 290.7075 - val_mae: 15.2412\n",
      "Epoch 167/200\n",
      "9/9 [==============================] - 0s 4ms/step - loss: 124.4553 - mae: 9.4368 - val_loss: 174.1965 - val_mae: 12.2895\n",
      "Epoch 168/200\n",
      "9/9 [==============================] - 0s 4ms/step - loss: 196.0940 - mae: 12.6118 - val_loss: 164.4640 - val_mae: 11.2044\n",
      "Epoch 169/200\n",
      "9/9 [==============================] - 0s 4ms/step - loss: 92.1035 - mae: 8.3180 - val_loss: 131.0772 - val_mae: 10.6907\n",
      "Epoch 170/200\n",
      "9/9 [==============================] - 0s 3ms/step - loss: 161.2113 - mae: 10.5435 - val_loss: 30.2536 - val_mae: 4.3044\n",
      "Epoch 171/200\n",
      "9/9 [==============================] - 0s 4ms/step - loss: 153.2953 - mae: 10.3284 - val_loss: 85.5285 - val_mae: 7.8472\n",
      "Epoch 172/200\n",
      "9/9 [==============================] - 0s 4ms/step - loss: 115.2970 - mae: 9.2143 - val_loss: 269.7124 - val_mae: 15.7081\n",
      "Epoch 173/200\n",
      "9/9 [==============================] - 0s 4ms/step - loss: 152.3902 - mae: 10.7106 - val_loss: 271.7394 - val_mae: 14.8069\n",
      "Epoch 174/200\n",
      "9/9 [==============================] - 0s 4ms/step - loss: 110.5688 - mae: 9.0772 - val_loss: 61.1948 - val_mae: 6.5344\n",
      "Epoch 175/200\n",
      "9/9 [==============================] - 0s 4ms/step - loss: 158.2047 - mae: 10.7519 - val_loss: 50.4293 - val_mae: 5.9222\n",
      "Epoch 176/200\n",
      "9/9 [==============================] - 0s 3ms/step - loss: 155.5938 - mae: 10.3263 - val_loss: 92.0612 - val_mae: 8.5798\n",
      "Epoch 177/200\n",
      "9/9 [==============================] - 0s 4ms/step - loss: 115.6870 - mae: 9.1740 - val_loss: 239.4284 - val_mae: 13.7761\n",
      "Epoch 178/200\n",
      "9/9 [==============================] - 0s 4ms/step - loss: 153.8010 - mae: 10.7807 - val_loss: 32.9842 - val_mae: 4.4805\n",
      "Epoch 179/200\n",
      "9/9 [==============================] - 0s 4ms/step - loss: 130.6024 - mae: 9.9052 - val_loss: 120.3293 - val_mae: 9.5099\n",
      "Epoch 180/200\n",
      "9/9 [==============================] - 0s 4ms/step - loss: 136.2665 - mae: 9.8489 - val_loss: 39.4862 - val_mae: 4.9904\n",
      "Epoch 181/200\n",
      "9/9 [==============================] - 0s 4ms/step - loss: 115.6297 - mae: 9.3519 - val_loss: 85.5987 - val_mae: 7.9828\n",
      "Epoch 182/200\n",
      "9/9 [==============================] - 0s 4ms/step - loss: 142.6347 - mae: 9.8278 - val_loss: 61.3408 - val_mae: 6.6443\n",
      "Epoch 183/200\n",
      "9/9 [==============================] - 0s 4ms/step - loss: 49.0360 - mae: 5.6149 - val_loss: 227.2301 - val_mae: 13.6963\n",
      "Epoch 184/200\n",
      "9/9 [==============================] - 0s 4ms/step - loss: 188.9611 - mae: 12.0421 - val_loss: 98.2306 - val_mae: 8.9273\n",
      "Epoch 185/200\n",
      "9/9 [==============================] - 0s 4ms/step - loss: 74.7986 - mae: 6.6073 - val_loss: 437.7117 - val_mae: 19.2004\n",
      "Epoch 186/200\n",
      "9/9 [==============================] - 0s 3ms/step - loss: 180.5624 - mae: 12.1173 - val_loss: 139.5858 - val_mae: 11.0189\n",
      "Epoch 187/200\n",
      "9/9 [==============================] - 0s 4ms/step - loss: 74.7549 - mae: 7.0795 - val_loss: 378.5433 - val_mae: 18.0739\n",
      "Epoch 188/200\n",
      "9/9 [==============================] - 0s 4ms/step - loss: 115.2441 - mae: 8.3964 - val_loss: 107.4715 - val_mae: 9.4362\n",
      "Epoch 189/200\n",
      "9/9 [==============================] - 0s 4ms/step - loss: 133.6348 - mae: 10.2014 - val_loss: 180.2100 - val_mae: 11.9055\n",
      "Epoch 190/200\n",
      "9/9 [==============================] - 0s 4ms/step - loss: 138.5395 - mae: 10.3603 - val_loss: 85.2193 - val_mae: 8.1636\n",
      "Epoch 191/200\n",
      "9/9 [==============================] - 0s 4ms/step - loss: 93.4321 - mae: 8.3369 - val_loss: 361.0608 - val_mae: 17.2817\n",
      "Epoch 192/200\n",
      "9/9 [==============================] - 0s 4ms/step - loss: 126.4044 - mae: 9.6713 - val_loss: 47.9240 - val_mae: 5.7326\n",
      "Epoch 193/200\n",
      "9/9 [==============================] - 0s 4ms/step - loss: 100.5762 - mae: 8.7973 - val_loss: 305.5327 - val_mae: 15.8769\n",
      "Epoch 194/200\n",
      "9/9 [==============================] - 0s 4ms/step - loss: 109.0435 - mae: 8.9730 - val_loss: 59.4188 - val_mae: 6.6242\n",
      "Epoch 195/200\n",
      "9/9 [==============================] - 0s 4ms/step - loss: 137.6675 - mae: 10.3307 - val_loss: 82.4856 - val_mae: 7.9084\n",
      "Epoch 196/200\n",
      "9/9 [==============================] - 0s 4ms/step - loss: 102.0696 - mae: 8.7383 - val_loss: 35.0956 - val_mae: 4.7397\n",
      "Epoch 197/200\n",
      "9/9 [==============================] - 0s 4ms/step - loss: 106.9630 - mae: 8.7764 - val_loss: 338.8891 - val_mae: 16.9527\n",
      "Epoch 198/200\n",
      "9/9 [==============================] - 0s 6ms/step - loss: 92.9429 - mae: 8.1663 - val_loss: 61.6399 - val_mae: 6.8127\n",
      "Epoch 199/200\n",
      "9/9 [==============================] - 0s 4ms/step - loss: 60.9512 - mae: 6.7930 - val_loss: 186.6481 - val_mae: 12.4000\n",
      "Epoch 200/200\n",
      "9/9 [==============================] - 0s 4ms/step - loss: 143.9909 - mae: 10.3150 - val_loss: 65.1700 - val_mae: 7.0695\n"
     ]
    }
   ],
   "source": [
    "history = model.fit(train_data, y_train, validation_split=0.2, epochs=200)"
   ]
  },
  {
   "cell_type": "code",
   "execution_count": 65,
   "metadata": {},
   "outputs": [
    {
     "name": "stdout",
     "output_type": "stream",
     "text": [
      "11/11 [==============================] - 0s 900us/step - loss: 71.7410 - mae: 7.5573\n"
     ]
    }
   ],
   "source": [
    "mse, mae = model.evaluate(train_data, y_train)"
   ]
  },
  {
   "cell_type": "code",
   "execution_count": 66,
   "metadata": {},
   "outputs": [
    {
     "data": {
      "text/html": [
       "<div>\n",
       "<style scoped>\n",
       "    .dataframe tbody tr th:only-of-type {\n",
       "        vertical-align: middle;\n",
       "    }\n",
       "\n",
       "    .dataframe tbody tr th {\n",
       "        vertical-align: top;\n",
       "    }\n",
       "\n",
       "    .dataframe thead th {\n",
       "        text-align: right;\n",
       "    }\n",
       "</style>\n",
       "<table border=\"1\" class=\"dataframe\">\n",
       "  <thead>\n",
       "    <tr style=\"text-align: right;\">\n",
       "      <th></th>\n",
       "      <th>기통수</th>\n",
       "      <th>배기량</th>\n",
       "      <th>마력</th>\n",
       "      <th>중량</th>\n",
       "      <th>가속력</th>\n",
       "      <th>연식</th>\n",
       "      <th>미국</th>\n",
       "      <th>유럽</th>\n",
       "      <th>일본</th>\n",
       "    </tr>\n",
       "  </thead>\n",
       "  <tbody>\n",
       "    <tr>\n",
       "      <th>5</th>\n",
       "      <td>8.0</td>\n",
       "      <td>429.0</td>\n",
       "      <td>198.0</td>\n",
       "      <td>4341.0</td>\n",
       "      <td>10.0</td>\n",
       "      <td>70.0</td>\n",
       "      <td>1.0</td>\n",
       "      <td>0.0</td>\n",
       "      <td>0.0</td>\n",
       "    </tr>\n",
       "  </tbody>\n",
       "</table>\n",
       "</div>"
      ],
      "text/plain": [
       "   기통수    배기량     마력      중량   가속력    연식   미국   유럽   일본\n",
       "5  8.0  429.0  198.0  4341.0  10.0  70.0  1.0  0.0  0.0"
      ]
     },
     "execution_count": 66,
     "metadata": {},
     "output_type": "execute_result"
    }
   ],
   "source": [
    "test_data[:1]"
   ]
  },
  {
   "cell_type": "code",
   "execution_count": 67,
   "metadata": {},
   "outputs": [
    {
     "name": "stdout",
     "output_type": "stream",
     "text": [
      "1/1 [==============================] - 0s 43ms/step\n",
      "예측: [[-0.60573715]]\n",
      "MAE: 7.557308197021484\n"
     ]
    }
   ],
   "source": [
    "prediction = model.predict(test_data[:1])\n",
    "print(f'예측: {prediction}')\n",
    "print(f'MAE: {mae}')"
   ]
  },
  {
   "cell_type": "markdown",
   "metadata": {},
   "source": [
    "#### 딥러닝 모델의 성능\n",
    "  * 딥러닝 신경망의 성능 향상을 위해 필요한 성능 분석 방법과 성능 향상 기법 소개\n",
    "  * 신경망 성능 향상을 위해서는 모델 성능 평가가 선행되어야 함\n",
    "  * 이를 위하여 유효성 데이터(validation data)를 별도로 준비하여 정확도와 손실률을 측정\n",
    "  \n",
    "  1. 성능 향상 방법\n",
    "    1) 신경망의 구조를 강화/축소(복수개의 노드 또는 레이어 사용)\n",
    "    2) 최적 함수 적용(활성화 함수, 손실 함수, 최적화 함수)\n",
    "    3) 학습 반복횟수 조절(epochs)\n",
    "  2. 유효성 데이터를 활용한 모델의 성능 평가\n",
    "  3. 최적의 결과를 얻을 때까지 1, 2 과정 반복"
   ]
  },
  {
   "cell_type": "markdown",
   "metadata": {},
   "source": [
    "* 모델 성능 평가의 핵심: 과대적합(overfitting) 또는 과소적합(underfitting)이 발생했을 때 이를 방지하도록 신경망을 개선해가는 것\n",
    "  * 과대적합인 경우: 심층 신경망 간소화 또는 학습 횟수 감소\n",
    "  * 과소적합인 경우: 심층 신경망 확대 또는 학습 횟수 증가\n",
    "\n",
    "* 과대적합의 경우\n",
    "  * 훈련 데이터의 정확도가 유효성 데이터의 값보다 훨씬 큰 경우\n",
    "  * 훈련 데이터의 손실률이 유효성 데이터의 값보다 훨씬 작은 경우\n",
    "* 과소적합은 과대적합의 반대"
   ]
  },
  {
   "cell_type": "code",
   "execution_count": 68,
   "metadata": {},
   "outputs": [],
   "source": [
    "import matplotlib.pyplot as plt\n",
    "from sklearn.datasets import make_blobs\n",
    "from sklearn.model_selection import train_test_split"
   ]
  },
  {
   "cell_type": "code",
   "execution_count": 69,
   "metadata": {},
   "outputs": [
    {
     "data": {
      "image/png": "[encoded data removed]",
      "text/plain": [
       "<Figure size 432x288 with 1 Axes>"
      ]
     },
     "metadata": {
      "needs_background": "light"
     },
     "output_type": "display_data"
    }
   ],
   "source": [
    "data, labels = make_blobs(n_samples=10000, n_features=2, centers=2, random_state=42)\n",
    "\n",
    "plt.scatter(data[:, 0], data[:, 1], c=labels)\n",
    "plt.show()"
   ]
  },
  {
   "cell_type": "code",
   "execution_count": 70,
   "metadata": {},
   "outputs": [],
   "source": [
    "X_train, X_test, y_train, y_test = train_test_split(data, labels, test_size=0.2)\n",
    "\n",
    "X_val = X_train[:1000]\n",
    "X_train = X_train[1000:]\n",
    "y_val = y_train[:1000]\n",
    "y_train = y_train[1000:]"
   ]
  },
  {
   "cell_type": "code",
   "execution_count": 71,
   "metadata": {},
   "outputs": [],
   "source": [
    "from keras import models\n",
    "from keras import layers"
   ]
  },
  {
   "cell_type": "code",
   "execution_count": 72,
   "metadata": {},
   "outputs": [],
   "source": [
    "model = models.Sequential([\n",
    "    layers.Dense(1, input_dim=2, activation='sigmoid')\n",
    "])"
   ]
  },
  {
   "cell_type": "code",
   "execution_count": 73,
   "metadata": {},
   "outputs": [
    {
     "name": "stdout",
     "output_type": "stream",
     "text": [
      "Model: \"sequential_6\"\n",
      "_________________________________________________________________\n",
      " Layer (type)                Output Shape              Param #   \n",
      "=================================================================\n",
      " dense_11 (Dense)            (None, 1)                 3         \n",
      "                                                                 \n",
      "=================================================================\n",
      "Total params: 3\n",
      "Trainable params: 3\n",
      "Non-trainable params: 0\n",
      "_________________________________________________________________\n"
     ]
    }
   ],
   "source": [
    "model.summary()"
   ]
  },
  {
   "cell_type": "code",
   "execution_count": 74,
   "metadata": {},
   "outputs": [],
   "source": [
    "model.compile(optimizer='SGD', loss='binary_crossentropy', metrics=['accuracy'])"
   ]
  },
  {
   "cell_type": "code",
   "execution_count": 75,
   "metadata": {},
   "outputs": [
    {
     "name": "stdout",
     "output_type": "stream",
     "text": [
      "Epoch 1/10\n",
      "70/70 [==============================] - 0s 2ms/step - loss: 0.4713 - accuracy: 0.7996 - val_loss: 0.1206 - val_accuracy: 1.0000\n",
      "Epoch 2/10\n",
      "70/70 [==============================] - 0s 1ms/step - loss: 0.0831 - accuracy: 0.9997 - val_loss: 0.0607 - val_accuracy: 1.0000\n",
      "Epoch 3/10\n",
      "70/70 [==============================] - 0s 1ms/step - loss: 0.0493 - accuracy: 0.9997 - val_loss: 0.0412 - val_accuracy: 1.0000\n",
      "Epoch 4/10\n",
      "70/70 [==============================] - 0s 1ms/step - loss: 0.0357 - accuracy: 0.9997 - val_loss: 0.0316 - val_accuracy: 1.0000\n",
      "Epoch 5/10\n",
      "70/70 [==============================] - 0s 1ms/step - loss: 0.0282 - accuracy: 0.9997 - val_loss: 0.0258 - val_accuracy: 1.0000\n",
      "Epoch 6/10\n",
      "70/70 [==============================] - 0s 1ms/step - loss: 0.0235 - accuracy: 0.9997 - val_loss: 0.0219 - val_accuracy: 1.0000\n",
      "Epoch 7/10\n",
      "70/70 [==============================] - 0s 1ms/step - loss: 0.0203 - accuracy: 0.9997 - val_loss: 0.0191 - val_accuracy: 1.0000\n",
      "Epoch 8/10\n",
      "70/70 [==============================] - 0s 1ms/step - loss: 0.0178 - accuracy: 0.9997 - val_loss: 0.0170 - val_accuracy: 1.0000\n",
      "Epoch 9/10\n",
      "70/70 [==============================] - 0s 1ms/step - loss: 0.0160 - accuracy: 0.9997 - val_loss: 0.0153 - val_accuracy: 1.0000\n",
      "Epoch 10/10\n",
      "70/70 [==============================] - 0s 1ms/step - loss: 0.0145 - accuracy: 0.9997 - val_loss: 0.0140 - val_accuracy: 1.0000\n"
     ]
    }
   ],
   "source": [
    "history = model.fit(X_train, y_train, epochs=10, batch_size=100, validation_data=(X_val, y_val))"
   ]
  },
  {
   "cell_type": "code",
   "execution_count": 76,
   "metadata": {},
   "outputs": [
    {
     "name": "stdout",
     "output_type": "stream",
     "text": [
      "63/63 [==============================] - 0s 919us/step - loss: 0.0128 - accuracy: 1.0000\n"
     ]
    },
    {
     "data": {
      "text/plain": [
       "[0.012845849618315697, 1.0]"
      ]
     },
     "execution_count": 76,
     "metadata": {},
     "output_type": "execute_result"
    }
   ],
   "source": [
    "result = model.evaluate(X_test, y_test)\n",
    "result"
   ]
  },
  {
   "cell_type": "code",
   "execution_count": 77,
   "metadata": {},
   "outputs": [],
   "source": [
    "import matplotlib.pyplot as plt"
   ]
  },
  {
   "cell_type": "code",
   "execution_count": 78,
   "metadata": {},
   "outputs": [
    {
     "data": {
      "image/png": "[encoded data removed]",
      "text/plain": [
       "<Figure size 432x288 with 1 Axes>"
      ]
     },
     "metadata": {
      "needs_background": "light"
     },
     "output_type": "display_data"
    }
   ],
   "source": [
    "history_dict = history.history\n",
    "loss = history_dict['loss']\n",
    "val_loss = history_dict['val_loss']\n",
    "epochs = range(1, len(loss) + 1)\n",
    "\n",
    "plt.plot(epochs, loss, 'bo', label='Training Loss')\n",
    "plt.plot(epochs, val_loss, 'b', label='Validation Loss')\n",
    "plt.title('Training and Validation Loss')\n",
    "plt.axis([0, 12, 0.0, 6.0])\n",
    "plt.xlabel('Epochs')\n",
    "plt.ylabel('Loss')\n",
    "plt.legend()\n",
    "plt.show()"
   ]
  },
  {
   "cell_type": "code",
   "execution_count": 79,
   "metadata": {},
   "outputs": [
    {
     "data": {
      "image/png": "[encoded data removed]",
      "text/plain": [
       "<Figure size 432x288 with 1 Axes>"
      ]
     },
     "metadata": {
      "needs_background": "light"
     },
     "output_type": "display_data"
    }
   ],
   "source": [
    "plt.clf()\n",
    "\n",
    "acc = history_dict['accuracy']\n",
    "val_acc = history_dict['val_accuracy']\n",
    "\n",
    "plt.plot(epochs, acc, 'bo', label='Training Accuracy')\n",
    "plt.plot(epochs, val_acc, 'b', label='Validation Accuracy')\n",
    "plt.title('Training and Validation Accuracy')\n",
    "plt.xlabel('Epochs')\n",
    "plt.ylabel('Accuracy')\n",
    "plt.axis([0, 12, 0.7, 1.1])\n",
    "plt.legend()\n",
    "plt.show()"
   ]
  },
  {
   "cell_type": "markdown",
   "metadata": {},
   "source": [
    "#### 심층 신경망 구조 만들기\n",
    "  * 심층 신경망(Deep Neural Network): 신경망을 구성하고 있는 레이어의 개수가 많아짐\n",
    "  * 각 레이어에서 사용하는 뉴런의 개수 또한 영향을 미침"
   ]
  },
  {
   "cell_type": "code",
   "execution_count": 83,
   "metadata": {},
   "outputs": [],
   "source": [
    "from sklearn.datasets import load_iris\n",
    "from sklearn.model_selection import train_test_split\n",
    "from keras.utils.np_utils import to_categorical"
   ]
  },
  {
   "cell_type": "code",
   "execution_count": 84,
   "metadata": {},
   "outputs": [],
   "source": [
    "iris = load_iris()\n",
    "X = iris.data\n",
    "y = iris.target\n",
    "\n",
    "X_train, X_test, y_train, y_test = train_test_split(X, y, test_size=0.2)\n",
    "\n",
    "y_train = to_categorical(y_train)\n",
    "y_test = to_categorical(y_test)"
   ]
  },
  {
   "cell_type": "code",
   "execution_count": 85,
   "metadata": {},
   "outputs": [],
   "source": [
    "from keras import models\n",
    "from keras import layers"
   ]
  },
  {
   "cell_type": "code",
   "execution_count": 86,
   "metadata": {},
   "outputs": [],
   "source": [
    "model = models.Sequential([\n",
    "    # 얕은 신경망\n",
    "    # layers.Dense(2, input_shape=(4, )),\n",
    "    # layers.Dense(3, activation='softmax'),\n",
    "\n",
    "    # 심층 신경망\n",
    "    layers.Dense(2, input_shape=(4, )),\n",
    "    layers.Dense(16, activation='relu'),\n",
    "    layers.Dense(32, activation='relu'),\n",
    "    layers.Dense(3, activation='softmax')\n",
    "])"
   ]
  },
  {
   "cell_type": "code",
   "execution_count": 87,
   "metadata": {},
   "outputs": [
    {
     "name": "stdout",
     "output_type": "stream",
     "text": [
      "Epoch 1/100\n",
      "3/3 [==============================] - 1s 67ms/step - loss: 1.8101 - accuracy: 0.3646 - val_loss: 1.4867 - val_accuracy: 0.4167\n",
      "Epoch 2/100\n",
      "3/3 [==============================] - 0s 10ms/step - loss: 1.4576 - accuracy: 0.3750 - val_loss: 1.2773 - val_accuracy: 0.5000\n",
      "Epoch 3/100\n",
      "3/3 [==============================] - 0s 12ms/step - loss: 1.2680 - accuracy: 0.3750 - val_loss: 1.1547 - val_accuracy: 0.7083\n",
      "Epoch 4/100\n",
      "3/3 [==============================] - 0s 13ms/step - loss: 1.1437 - accuracy: 0.5208 - val_loss: 1.0734 - val_accuracy: 0.7083\n",
      "Epoch 5/100\n",
      "3/3 [==============================] - 0s 11ms/step - loss: 1.0660 - accuracy: 0.5312 - val_loss: 1.0278 - val_accuracy: 0.6250\n",
      "Epoch 6/100\n",
      "3/3 [==============================] - 0s 15ms/step - loss: 1.0208 - accuracy: 0.4479 - val_loss: 1.0046 - val_accuracy: 0.3750\n",
      "Epoch 7/100\n",
      "3/3 [==============================] - 0s 15ms/step - loss: 1.0068 - accuracy: 0.3646 - val_loss: 0.9984 - val_accuracy: 0.3750\n",
      "Epoch 8/100\n",
      "3/3 [==============================] - 0s 11ms/step - loss: 0.9902 - accuracy: 0.3646 - val_loss: 0.9883 - val_accuracy: 0.3750\n",
      "Epoch 9/100\n",
      "3/3 [==============================] - 0s 13ms/step - loss: 0.9791 - accuracy: 0.3750 - val_loss: 0.9806 - val_accuracy: 0.3750\n",
      "Epoch 10/100\n",
      "3/3 [==============================] - 0s 12ms/step - loss: 0.9730 - accuracy: 0.3646 - val_loss: 0.9760 - val_accuracy: 0.3750\n",
      "Epoch 11/100\n",
      "3/3 [==============================] - 0s 17ms/step - loss: 0.9699 - accuracy: 0.3646 - val_loss: 0.9738 - val_accuracy: 0.4167\n",
      "Epoch 12/100\n",
      "3/3 [==============================] - 0s 13ms/step - loss: 0.9651 - accuracy: 0.3750 - val_loss: 0.9650 - val_accuracy: 0.3750\n",
      "Epoch 13/100\n",
      "3/3 [==============================] - 0s 12ms/step - loss: 0.9683 - accuracy: 0.4688 - val_loss: 0.9561 - val_accuracy: 0.3750\n",
      "Epoch 14/100\n",
      "3/3 [==============================] - 0s 12ms/step - loss: 0.9472 - accuracy: 0.3646 - val_loss: 0.9499 - val_accuracy: 0.3750\n",
      "Epoch 15/100\n",
      "3/3 [==============================] - 0s 12ms/step - loss: 0.9455 - accuracy: 0.3646 - val_loss: 0.9464 - val_accuracy: 0.3750\n",
      "Epoch 16/100\n",
      "3/3 [==============================] - 0s 11ms/step - loss: 0.9407 - accuracy: 0.3646 - val_loss: 0.9420 - val_accuracy: 0.4167\n",
      "Epoch 17/100\n",
      "3/3 [==============================] - 0s 11ms/step - loss: 0.9318 - accuracy: 0.3854 - val_loss: 0.9325 - val_accuracy: 0.3750\n",
      "Epoch 18/100\n",
      "3/3 [==============================] - 0s 13ms/step - loss: 0.9244 - accuracy: 0.3750 - val_loss: 0.9217 - val_accuracy: 0.3750\n",
      "Epoch 19/100\n",
      "3/3 [==============================] - 0s 16ms/step - loss: 0.9226 - accuracy: 0.4167 - val_loss: 0.9149 - val_accuracy: 0.3750\n",
      "Epoch 20/100\n",
      "3/3 [==============================] - 0s 12ms/step - loss: 0.9120 - accuracy: 0.3646 - val_loss: 0.9073 - val_accuracy: 0.3750\n",
      "Epoch 21/100\n",
      "3/3 [==============================] - 0s 13ms/step - loss: 0.8983 - accuracy: 0.3646 - val_loss: 0.8986 - val_accuracy: 0.3750\n",
      "Epoch 22/100\n",
      "3/3 [==============================] - 0s 16ms/step - loss: 0.8979 - accuracy: 0.3646 - val_loss: 0.9038 - val_accuracy: 0.5000\n",
      "Epoch 23/100\n",
      "3/3 [==============================] - 0s 16ms/step - loss: 0.8832 - accuracy: 0.5104 - val_loss: 0.8854 - val_accuracy: 0.3750\n",
      "Epoch 24/100\n",
      "3/3 [==============================] - 0s 13ms/step - loss: 0.8772 - accuracy: 0.3750 - val_loss: 0.8733 - val_accuracy: 0.3750\n",
      "Epoch 25/100\n",
      "3/3 [==============================] - 0s 15ms/step - loss: 0.8663 - accuracy: 0.3646 - val_loss: 0.8680 - val_accuracy: 0.4167\n",
      "Epoch 26/100\n",
      "3/3 [==============================] - 0s 13ms/step - loss: 0.8608 - accuracy: 0.3854 - val_loss: 0.8587 - val_accuracy: 0.4167\n",
      "Epoch 27/100\n",
      "3/3 [==============================] - 0s 15ms/step - loss: 0.8528 - accuracy: 0.4167 - val_loss: 0.8453 - val_accuracy: 0.3750\n",
      "Epoch 28/100\n",
      "3/3 [==============================] - 0s 12ms/step - loss: 0.8397 - accuracy: 0.3646 - val_loss: 0.8398 - val_accuracy: 0.4167\n",
      "Epoch 29/100\n",
      "3/3 [==============================] - 0s 14ms/step - loss: 0.8326 - accuracy: 0.4375 - val_loss: 0.8264 - val_accuracy: 0.3750\n",
      "Epoch 30/100\n",
      "3/3 [==============================] - 0s 13ms/step - loss: 0.8289 - accuracy: 0.4479 - val_loss: 0.8348 - val_accuracy: 0.6250\n",
      "Epoch 31/100\n",
      "3/3 [==============================] - 0s 12ms/step - loss: 0.8122 - accuracy: 0.4896 - val_loss: 0.8065 - val_accuracy: 0.3750\n",
      "Epoch 32/100\n",
      "3/3 [==============================] - 0s 15ms/step - loss: 0.8077 - accuracy: 0.4688 - val_loss: 0.7987 - val_accuracy: 0.5417\n",
      "Epoch 33/100\n",
      "3/3 [==============================] - 0s 17ms/step - loss: 0.7926 - accuracy: 0.4688 - val_loss: 0.7913 - val_accuracy: 0.7500\n",
      "Epoch 34/100\n",
      "3/3 [==============================] - 0s 13ms/step - loss: 0.7873 - accuracy: 0.6250 - val_loss: 0.7816 - val_accuracy: 0.7500\n",
      "Epoch 35/100\n",
      "3/3 [==============================] - 0s 15ms/step - loss: 0.7902 - accuracy: 0.6458 - val_loss: 0.7790 - val_accuracy: 0.8333\n",
      "Epoch 36/100\n",
      "3/3 [==============================] - 0s 13ms/step - loss: 0.7695 - accuracy: 0.7708 - val_loss: 0.7601 - val_accuracy: 0.7500\n",
      "Epoch 37/100\n",
      "3/3 [==============================] - 0s 12ms/step - loss: 0.7763 - accuracy: 0.7604 - val_loss: 0.7515 - val_accuracy: 0.7083\n",
      "Epoch 38/100\n",
      "3/3 [==============================] - 0s 13ms/step - loss: 0.7513 - accuracy: 0.6875 - val_loss: 0.7419 - val_accuracy: 0.7083\n",
      "Epoch 39/100\n",
      "3/3 [==============================] - 0s 13ms/step - loss: 0.7501 - accuracy: 0.6875 - val_loss: 0.7324 - val_accuracy: 0.7083\n",
      "Epoch 40/100\n",
      "3/3 [==============================] - 0s 13ms/step - loss: 0.7394 - accuracy: 0.7292 - val_loss: 0.7240 - val_accuracy: 0.7083\n",
      "Epoch 41/100\n",
      "3/3 [==============================] - 0s 13ms/step - loss: 0.7300 - accuracy: 0.7500 - val_loss: 0.7150 - val_accuracy: 0.7083\n",
      "Epoch 42/100\n",
      "3/3 [==============================] - 0s 18ms/step - loss: 0.7167 - accuracy: 0.6875 - val_loss: 0.7071 - val_accuracy: 0.7500\n",
      "Epoch 43/100\n",
      "3/3 [==============================] - 0s 13ms/step - loss: 0.7024 - accuracy: 0.7500 - val_loss: 0.6952 - val_accuracy: 0.7500\n",
      "Epoch 44/100\n",
      "3/3 [==============================] - 0s 13ms/step - loss: 0.7228 - accuracy: 0.7604 - val_loss: 0.6877 - val_accuracy: 0.7500\n",
      "Epoch 45/100\n",
      "3/3 [==============================] - 0s 16ms/step - loss: 0.6850 - accuracy: 0.7188 - val_loss: 0.6770 - val_accuracy: 0.7500\n",
      "Epoch 46/100\n",
      "3/3 [==============================] - 0s 17ms/step - loss: 0.6821 - accuracy: 0.7188 - val_loss: 0.6795 - val_accuracy: 0.9167\n",
      "Epoch 47/100\n",
      "3/3 [==============================] - 0s 17ms/step - loss: 0.6688 - accuracy: 0.7917 - val_loss: 0.6598 - val_accuracy: 0.7500\n",
      "Epoch 48/100\n",
      "3/3 [==============================] - 0s 16ms/step - loss: 0.6581 - accuracy: 0.7396 - val_loss: 0.6503 - val_accuracy: 0.7500\n",
      "Epoch 49/100\n",
      "3/3 [==============================] - 0s 17ms/step - loss: 0.6495 - accuracy: 0.7708 - val_loss: 0.6399 - val_accuracy: 0.7500\n",
      "Epoch 50/100\n",
      "3/3 [==============================] - 0s 14ms/step - loss: 0.6413 - accuracy: 0.8333 - val_loss: 0.6293 - val_accuracy: 0.7500\n",
      "Epoch 51/100\n",
      "3/3 [==============================] - 0s 12ms/step - loss: 0.6303 - accuracy: 0.7708 - val_loss: 0.6207 - val_accuracy: 0.7500\n",
      "Epoch 52/100\n",
      "3/3 [==============================] - 0s 13ms/step - loss: 0.6329 - accuracy: 0.7708 - val_loss: 0.6110 - val_accuracy: 0.7500\n",
      "Epoch 53/100\n",
      "3/3 [==============================] - 0s 11ms/step - loss: 0.6145 - accuracy: 0.6875 - val_loss: 0.6151 - val_accuracy: 0.9583\n",
      "Epoch 54/100\n",
      "3/3 [==============================] - 0s 14ms/step - loss: 0.6093 - accuracy: 0.8229 - val_loss: 0.5992 - val_accuracy: 0.8333\n",
      "Epoch 55/100\n",
      "3/3 [==============================] - 0s 11ms/step - loss: 0.6096 - accuracy: 0.8333 - val_loss: 0.5863 - val_accuracy: 0.7500\n",
      "Epoch 56/100\n",
      "3/3 [==============================] - 0s 13ms/step - loss: 0.5851 - accuracy: 0.7708 - val_loss: 0.5801 - val_accuracy: 0.8333\n",
      "Epoch 57/100\n",
      "3/3 [==============================] - 0s 11ms/step - loss: 0.5791 - accuracy: 0.7812 - val_loss: 0.5735 - val_accuracy: 0.8333\n",
      "Epoch 58/100\n",
      "3/3 [==============================] - 0s 15ms/step - loss: 0.5675 - accuracy: 0.8542 - val_loss: 0.5616 - val_accuracy: 0.7500\n",
      "Epoch 59/100\n",
      "3/3 [==============================] - 0s 12ms/step - loss: 0.5619 - accuracy: 0.7708 - val_loss: 0.5530 - val_accuracy: 0.7500\n",
      "Epoch 60/100\n",
      "3/3 [==============================] - 0s 13ms/step - loss: 0.5507 - accuracy: 0.7812 - val_loss: 0.5508 - val_accuracy: 0.9167\n",
      "Epoch 61/100\n",
      "3/3 [==============================] - 0s 13ms/step - loss: 0.5499 - accuracy: 0.8021 - val_loss: 0.5465 - val_accuracy: 0.9583\n",
      "Epoch 62/100\n",
      "3/3 [==============================] - 0s 12ms/step - loss: 0.5359 - accuracy: 0.8646 - val_loss: 0.5303 - val_accuracy: 0.8333\n",
      "Epoch 63/100\n",
      "3/3 [==============================] - 0s 11ms/step - loss: 0.5329 - accuracy: 0.8125 - val_loss: 0.5371 - val_accuracy: 0.9583\n",
      "Epoch 64/100\n",
      "3/3 [==============================] - 0s 13ms/step - loss: 0.5332 - accuracy: 0.9062 - val_loss: 0.5123 - val_accuracy: 0.7500\n",
      "Epoch 65/100\n",
      "3/3 [==============================] - 0s 12ms/step - loss: 0.5227 - accuracy: 0.8646 - val_loss: 0.5074 - val_accuracy: 0.7500\n",
      "Epoch 66/100\n",
      "3/3 [==============================] - 0s 12ms/step - loss: 0.5032 - accuracy: 0.7708 - val_loss: 0.5036 - val_accuracy: 0.9583\n",
      "Epoch 67/100\n",
      "3/3 [==============================] - 0s 13ms/step - loss: 0.4981 - accuracy: 0.8542 - val_loss: 0.4942 - val_accuracy: 0.9583\n",
      "Epoch 68/100\n",
      "3/3 [==============================] - 0s 11ms/step - loss: 0.4973 - accuracy: 0.8958 - val_loss: 0.4812 - val_accuracy: 0.8333\n",
      "Epoch 69/100\n",
      "3/3 [==============================] - 0s 13ms/step - loss: 0.4790 - accuracy: 0.8750 - val_loss: 0.4734 - val_accuracy: 0.7500\n",
      "Epoch 70/100\n",
      "3/3 [==============================] - 0s 15ms/step - loss: 0.4811 - accuracy: 0.7812 - val_loss: 0.4804 - val_accuracy: 0.9583\n",
      "Epoch 71/100\n",
      "3/3 [==============================] - 0s 12ms/step - loss: 0.4651 - accuracy: 0.9583 - val_loss: 0.4582 - val_accuracy: 0.7917\n",
      "Epoch 72/100\n",
      "3/3 [==============================] - 0s 12ms/step - loss: 0.4623 - accuracy: 0.8750 - val_loss: 0.4535 - val_accuracy: 0.7500\n",
      "Epoch 73/100\n",
      "3/3 [==============================] - 0s 12ms/step - loss: 0.4501 - accuracy: 0.8646 - val_loss: 0.4448 - val_accuracy: 0.8333\n",
      "Epoch 74/100\n",
      "3/3 [==============================] - 0s 15ms/step - loss: 0.4419 - accuracy: 0.9583 - val_loss: 0.4423 - val_accuracy: 0.7500\n",
      "Epoch 75/100\n",
      "3/3 [==============================] - 0s 12ms/step - loss: 0.4395 - accuracy: 0.8646 - val_loss: 0.4315 - val_accuracy: 0.8333\n",
      "Epoch 76/100\n",
      "3/3 [==============================] - 0s 14ms/step - loss: 0.4326 - accuracy: 0.8646 - val_loss: 0.4326 - val_accuracy: 0.9583\n",
      "Epoch 77/100\n",
      "3/3 [==============================] - 0s 11ms/step - loss: 0.4181 - accuracy: 0.9479 - val_loss: 0.4227 - val_accuracy: 0.7500\n",
      "Epoch 78/100\n",
      "3/3 [==============================] - 0s 12ms/step - loss: 0.4373 - accuracy: 0.8646 - val_loss: 0.4165 - val_accuracy: 0.7500\n",
      "Epoch 79/100\n",
      "3/3 [==============================] - 0s 12ms/step - loss: 0.4176 - accuracy: 0.8854 - val_loss: 0.4102 - val_accuracy: 0.7917\n",
      "Epoch 80/100\n",
      "3/3 [==============================] - 0s 13ms/step - loss: 0.4164 - accuracy: 0.9271 - val_loss: 0.4073 - val_accuracy: 0.7500\n",
      "Epoch 81/100\n",
      "3/3 [==============================] - 0s 14ms/step - loss: 0.4040 - accuracy: 0.8646 - val_loss: 0.3994 - val_accuracy: 0.9583\n",
      "Epoch 82/100\n",
      "3/3 [==============================] - 0s 10ms/step - loss: 0.3985 - accuracy: 0.9167 - val_loss: 0.3980 - val_accuracy: 0.9583\n",
      "Epoch 83/100\n",
      "3/3 [==============================] - 0s 11ms/step - loss: 0.3866 - accuracy: 0.9479 - val_loss: 0.3929 - val_accuracy: 0.9583\n",
      "Epoch 84/100\n",
      "3/3 [==============================] - 0s 11ms/step - loss: 0.3817 - accuracy: 0.9271 - val_loss: 0.3795 - val_accuracy: 0.8333\n",
      "Epoch 85/100\n",
      "3/3 [==============================] - 0s 11ms/step - loss: 0.3815 - accuracy: 0.9479 - val_loss: 0.3754 - val_accuracy: 0.8333\n",
      "Epoch 86/100\n",
      "3/3 [==============================] - 0s 11ms/step - loss: 0.3634 - accuracy: 0.9375 - val_loss: 0.3744 - val_accuracy: 0.9583\n",
      "Epoch 87/100\n",
      "3/3 [==============================] - 0s 14ms/step - loss: 0.3576 - accuracy: 0.9792 - val_loss: 0.3652 - val_accuracy: 0.8333\n",
      "Epoch 88/100\n",
      "3/3 [==============================] - 0s 14ms/step - loss: 0.3707 - accuracy: 0.9062 - val_loss: 0.3606 - val_accuracy: 0.9583\n",
      "Epoch 89/100\n",
      "3/3 [==============================] - 0s 11ms/step - loss: 0.3507 - accuracy: 0.9271 - val_loss: 0.3726 - val_accuracy: 1.0000\n",
      "Epoch 90/100\n",
      "3/3 [==============================] - 0s 13ms/step - loss: 0.3442 - accuracy: 0.9792 - val_loss: 0.3631 - val_accuracy: 0.8333\n",
      "Epoch 91/100\n",
      "3/3 [==============================] - 0s 14ms/step - loss: 0.3479 - accuracy: 0.8854 - val_loss: 0.3486 - val_accuracy: 0.9583\n",
      "Epoch 92/100\n",
      "3/3 [==============================] - 0s 12ms/step - loss: 0.3365 - accuracy: 0.9688 - val_loss: 0.3447 - val_accuracy: 0.9583\n",
      "Epoch 93/100\n",
      "3/3 [==============================] - 0s 12ms/step - loss: 0.3445 - accuracy: 0.9479 - val_loss: 0.3443 - val_accuracy: 0.8333\n",
      "Epoch 94/100\n",
      "3/3 [==============================] - 0s 11ms/step - loss: 0.3357 - accuracy: 0.8854 - val_loss: 0.3644 - val_accuracy: 0.9583\n",
      "Epoch 95/100\n",
      "3/3 [==============================] - 0s 12ms/step - loss: 0.3328 - accuracy: 0.9583 - val_loss: 0.3350 - val_accuracy: 0.9583\n",
      "Epoch 96/100\n",
      "3/3 [==============================] - 0s 14ms/step - loss: 0.3229 - accuracy: 0.9688 - val_loss: 0.3310 - val_accuracy: 0.9583\n",
      "Epoch 97/100\n",
      "3/3 [==============================] - 0s 11ms/step - loss: 0.3154 - accuracy: 0.9479 - val_loss: 0.3422 - val_accuracy: 1.0000\n",
      "Epoch 98/100\n",
      "3/3 [==============================] - 0s 13ms/step - loss: 0.3245 - accuracy: 0.9688 - val_loss: 0.3249 - val_accuracy: 0.9583\n",
      "Epoch 99/100\n",
      "3/3 [==============================] - 0s 11ms/step - loss: 0.3094 - accuracy: 0.9688 - val_loss: 0.3286 - val_accuracy: 0.9583\n",
      "Epoch 100/100\n",
      "3/3 [==============================] - 0s 11ms/step - loss: 0.3046 - accuracy: 0.9792 - val_loss: 0.3206 - val_accuracy: 0.9583\n"
     ]
    }
   ],
   "source": [
    "model.compile(optimizer='rmsprop', loss='categorical_crossentropy', metrics='accuracy')\n",
    "\n",
    "history = model.fit(X_train, y_train, validation_split=0.2, epochs=100)"
   ]
  },
  {
   "cell_type": "code",
   "execution_count": null,
   "metadata": {},
   "outputs": [],
   "source": []
  }
 ],
 "metadata": {
  "kernelspec": {
   "display_name": "Python 3.9.12 ('ai')",
   "language": "python",
   "name": "python3"
  },
  "language_info": {
   "codemirror_mode": {
    "name": "ipython",
    "version": 3
   },
   "file_extension": ".py",
   "mimetype": "text/x-python",
   "name": "python",
   "nbconvert_exporter": "python",
   "pygments_lexer": "ipython3",
   "version": "3.9.12"
  },
  "orig_nbformat": 4,
  "vscode": {
   "interpreter": {
    "hash": "b4286170d425683f8a231ea7539163bf605db8ed407c1f5b25f72076e7d94462"
   }
  }
 },
 "nbformat": 4,
 "nbformat_minor": 2
}
