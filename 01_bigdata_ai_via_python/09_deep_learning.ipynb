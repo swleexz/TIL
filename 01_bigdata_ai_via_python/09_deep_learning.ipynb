{
 "cells": [
  {
   "cell_type": "markdown",
   "metadata": {},
   "source": [
    "## 딥러닝(Deep Learning)\n",
    "  * 인공신경망(artificial neural network)\n",
    "  * 인간 두뇌의 작동 원리를 응용하여 고안한 방식\n",
    "  * 다중계층으로 이루어진 신경망의 구조\n",
    "  * 입력되는 훈련 데이터로 딥러닝 훈련\n",
    "  * 신경망(Neural Network): 인간의 뇌신경 세포를 모방하여 만든 수학적 모델"
   ]
  },
  {
   "cell_type": "markdown",
   "metadata": {},
   "source": [
    "### 신경망(Neural Network)\n",
    "  * 딥러닝의 신경망은 층(또는 레이어)으로 구성된 계층구조로 이루어져 있음\n",
    "  * 데이터가 처음으로 입력되는 입력층(Input Layer)과 마지막 결과가 출력되는 출력층(Output Layer)가 있음\n",
    "  * 이 사이에는 선택적으로 여러 개의 은닉층을 가질 수 있음"
   ]
  },
  {
   "cell_type": "code",
   "execution_count": null,
   "metadata": {},
   "outputs": [],
   "source": []
  }
 ],
 "metadata": {
  "language_info": {
   "name": "python"
  },
  "orig_nbformat": 4
 },
 "nbformat": 4,
 "nbformat_minor": 2
}
