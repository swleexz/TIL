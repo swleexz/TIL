{
 "cells": [
  {
   "cell_type": "markdown",
   "metadata": {},
   "source": [
    "### 이미지와 시계열 처리 모델\n",
    "  * CNN(합성곱 신경망; Convolutional Neural Network), RNN(순환 신경망; Recurrent Neural Network)\n",
    "    * 이미지는 일반적으로 CNN으로 처리\n",
    "    * 시계열 데이터는 RNN으로 처리\n",
    "  * 이미지를 처리하기 위해 CNN뿐만 아니라 완전 연결 계층(Fully Connected Layer) 방식을 이용할 수 있음\n",
    "  * RNN은 순차적(시계열) 데이터 학습에 특화된 인공 신경망\n",
    "    * 내부의 순환 구조로 동작하는 방식임"
   ]
  },
  {
   "cell_type": "markdown",
   "metadata": {},
   "source": [
    "#### 이미지 처리 모델\n",
    "  * 여기서는 완전 연결 계층(Fully Connected Layer) 방식으로 진행"
   ]
  },
  {
   "cell_type": "code",
   "execution_count": 1,
   "metadata": {},
   "outputs": [],
   "source": [
    "import numpy as np\n",
    "import matplotlib.pyplot as plt\n",
    "from keras.utils import np_utils\n",
    "from keras.datasets import mnist"
   ]
  },
  {
   "cell_type": "code",
   "execution_count": 2,
   "metadata": {},
   "outputs": [
    {
     "name": "stdout",
     "output_type": "stream",
     "text": [
      "[7 2 1 ... 4 5 6]\n"
     ]
    }
   ],
   "source": [
    "(train_data, train_labels), (test_data, test_labels) = mnist.load_data()\n",
    "print(test_labels)"
   ]
  },
  {
   "cell_type": "code",
   "execution_count": 3,
   "metadata": {},
   "outputs": [
    {
     "name": "stdout",
     "output_type": "stream",
     "text": [
      "Index 0: Label 7\n"
     ]
    },
    {
     "data": {
      "image/png": "[encoded data removed]",
      "text/plain": [
       "<Figure size 432x288 with 1 Axes>"
      ]
     },
     "metadata": {
      "needs_background": "light"
     },
     "output_type": "display_data"
    }
   ],
   "source": [
    "plt.imshow(test_data[0], cmap=plt.cm.YlOrBr)\n",
    "print(f'Index {0}: Label {test_labels[0]}')"
   ]
  },
  {
   "cell_type": "code",
   "execution_count": 4,
   "metadata": {},
   "outputs": [
    {
     "name": "stdout",
     "output_type": "stream",
     "text": [
      "(28, 28)\n"
     ]
    }
   ],
   "source": [
    "print(train_data[0].shape)"
   ]
  },
  {
   "cell_type": "code",
   "execution_count": 5,
   "metadata": {},
   "outputs": [
    {
     "name": "stdout",
     "output_type": "stream",
     "text": [
      "[[  0   0   0   0   0   0   0   0   0   0   0   0   0   0   0   0   0   0\n",
      "    0   0   0   0   0   0   0   0   0   0]\n",
      " [  0   0   0   0   0   0   0   0   0   0   0   0   0   0   0   0   0   0\n",
      "    0   0   0   0   0   0   0   0   0   0]\n",
      " [  0   0   0   0   0   0   0   0   0   0   0   0   0   0   0   0   0   0\n",
      "    0   0   0   0   0   0   0   0   0   0]\n",
      " [  0   0   0   0   0   0   0   0   0   0   0   0   0   0   0   0   0   0\n",
      "    0   0   0   0   0   0   0   0   0   0]\n",
      " [  0   0   0   0   0   0   0   0   0   0   0   0   0   0   0   0   0   0\n",
      "    0   0   0   0   0   0   0   0   0   0]\n",
      " [  0   0   0   0   0   0   0   0   0   0   0   0   0   0   0   0   0   0\n",
      "    0   0   0   0   0   0   0   0   0   0]\n",
      " [  0   0   0   0   0   0   0   0   0   0   0   0   0   0   0   0   0   0\n",
      "    0   0   0   0   0   0   0   0   0   0]\n",
      " [  0   0   0   0   0   0  84 185 159 151  60  36   0   0   0   0   0   0\n",
      "    0   0   0   0   0   0   0   0   0   0]\n",
      " [  0   0   0   0   0   0 222 254 254 254 254 241 198 198 198 198 198 198\n",
      "  198 198 170  52   0   0   0   0   0   0]\n",
      " [  0   0   0   0   0   0  67 114  72 114 163 227 254 225 254 254 254 250\n",
      "  229 254 254 140   0   0   0   0   0   0]\n",
      " [  0   0   0   0   0   0   0   0   0   0   0  17  66  14  67  67  67  59\n",
      "   21 236 254 106   0   0   0   0   0   0]\n",
      " [  0   0   0   0   0   0   0   0   0   0   0   0   0   0   0   0   0   0\n",
      "   83 253 209  18   0   0   0   0   0   0]\n",
      " [  0   0   0   0   0   0   0   0   0   0   0   0   0   0   0   0   0  22\n",
      "  233 255  83   0   0   0   0   0   0   0]\n",
      " [  0   0   0   0   0   0   0   0   0   0   0   0   0   0   0   0   0 129\n",
      "  254 238  44   0   0   0   0   0   0   0]\n",
      " [  0   0   0   0   0   0   0   0   0   0   0   0   0   0   0   0  59 249\n",
      "  254  62   0   0   0   0   0   0   0   0]\n",
      " [  0   0   0   0   0   0   0   0   0   0   0   0   0   0   0   0 133 254\n",
      "  187   5   0   0   0   0   0   0   0   0]\n",
      " [  0   0   0   0   0   0   0   0   0   0   0   0   0   0   0   9 205 248\n",
      "   58   0   0   0   0   0   0   0   0   0]\n",
      " [  0   0   0   0   0   0   0   0   0   0   0   0   0   0   0 126 254 182\n",
      "    0   0   0   0   0   0   0   0   0   0]\n",
      " [  0   0   0   0   0   0   0   0   0   0   0   0   0   0  75 251 240  57\n",
      "    0   0   0   0   0   0   0   0   0   0]\n",
      " [  0   0   0   0   0   0   0   0   0   0   0   0   0  19 221 254 166   0\n",
      "    0   0   0   0   0   0   0   0   0   0]\n",
      " [  0   0   0   0   0   0   0   0   0   0   0   0   3 203 254 219  35   0\n",
      "    0   0   0   0   0   0   0   0   0   0]\n",
      " [  0   0   0   0   0   0   0   0   0   0   0   0  38 254 254  77   0   0\n",
      "    0   0   0   0   0   0   0   0   0   0]\n",
      " [  0   0   0   0   0   0   0   0   0   0   0  31 224 254 115   1   0   0\n",
      "    0   0   0   0   0   0   0   0   0   0]\n",
      " [  0   0   0   0   0   0   0   0   0   0   0 133 254 254  52   0   0   0\n",
      "    0   0   0   0   0   0   0   0   0   0]\n",
      " [  0   0   0   0   0   0   0   0   0   0  61 242 254 254  52   0   0   0\n",
      "    0   0   0   0   0   0   0   0   0   0]\n",
      " [  0   0   0   0   0   0   0   0   0   0 121 254 254 219  40   0   0   0\n",
      "    0   0   0   0   0   0   0   0   0   0]\n",
      " [  0   0   0   0   0   0   0   0   0   0 121 254 207  18   0   0   0   0\n",
      "    0   0   0   0   0   0   0   0   0   0]\n",
      " [  0   0   0   0   0   0   0   0   0   0   0   0   0   0   0   0   0   0\n",
      "    0   0   0   0   0   0   0   0   0   0]]\n"
     ]
    }
   ],
   "source": [
    "print(test_data[0])"
   ]
  },
  {
   "cell_type": "code",
   "execution_count": 6,
   "metadata": {},
   "outputs": [],
   "source": [
    "width = 28\n",
    "height = 28\n",
    "\"\"\"\n",
    "28 * 28 = 784, 총 784개 특성(feature)을 가지고 있음\n",
    "evidence yi(최종 누적 값) = Σj (Wi,j(가중치) * xj(픽셀의 intensity, 감도))\n",
    "\"\"\"\n",
    "\n",
    "x_train = train_data.reshape(60000, width*height).astype('float32') / 255.0\n",
    "x_test = test_data.reshape(10000, width*height).astype('float32') / 255.0\n",
    "\n",
    "y_train = np_utils.to_categorical(train_labels)\n",
    "y_test = np_utils.to_categorical(test_labels)"
   ]
  },
  {
   "cell_type": "code",
   "execution_count": 7,
   "metadata": {},
   "outputs": [],
   "source": [
    "from keras.models import Sequential\n",
    "from keras.layers import Dense"
   ]
  },
  {
   "cell_type": "code",
   "execution_count": 8,
   "metadata": {},
   "outputs": [
    {
     "name": "stdout",
     "output_type": "stream",
     "text": [
      "Epoch 1/20\n",
      "1875/1875 [==============================] - 9s 5ms/step - loss: 0.6268 - accuracy: 0.8464\n",
      "Epoch 2/20\n",
      "1875/1875 [==============================] - 7s 4ms/step - loss: 0.3284 - accuracy: 0.9084\n",
      "Epoch 3/20\n",
      "1875/1875 [==============================] - 7s 4ms/step - loss: 0.2798 - accuracy: 0.9218\n",
      "Epoch 4/20\n",
      "1875/1875 [==============================] - 9s 5ms/step - loss: 0.2499 - accuracy: 0.9294\n",
      "Epoch 5/20\n",
      "1875/1875 [==============================] - 8s 4ms/step - loss: 0.2269 - accuracy: 0.9356\n",
      "Epoch 6/20\n",
      "1875/1875 [==============================] - 8s 4ms/step - loss: 0.2082 - accuracy: 0.9417\n",
      "Epoch 7/20\n",
      "1875/1875 [==============================] - 8s 4ms/step - loss: 0.1926 - accuracy: 0.9459\n",
      "Epoch 8/20\n",
      "1875/1875 [==============================] - 8s 4ms/step - loss: 0.1789 - accuracy: 0.9499\n",
      "Epoch 9/20\n",
      "1875/1875 [==============================] - 7s 4ms/step - loss: 0.1672 - accuracy: 0.9531\n",
      "Epoch 10/20\n",
      "1875/1875 [==============================] - 8s 4ms/step - loss: 0.1570 - accuracy: 0.9564\n",
      "Epoch 11/20\n",
      "1875/1875 [==============================] - 5s 2ms/step - loss: 0.1478 - accuracy: 0.9586\n",
      "Epoch 12/20\n",
      "1875/1875 [==============================] - 7s 4ms/step - loss: 0.1397 - accuracy: 0.9613\n",
      "Epoch 13/20\n",
      "1875/1875 [==============================] - 5s 3ms/step - loss: 0.1324 - accuracy: 0.9636\n",
      "Epoch 14/20\n",
      "1875/1875 [==============================] - 6s 3ms/step - loss: 0.1257 - accuracy: 0.9654\n",
      "Epoch 15/20\n",
      "1875/1875 [==============================] - 8s 4ms/step - loss: 0.1199 - accuracy: 0.9674\n",
      "Epoch 16/20\n",
      "1875/1875 [==============================] - 7s 4ms/step - loss: 0.1145 - accuracy: 0.9688\n",
      "Epoch 17/20\n",
      "1875/1875 [==============================] - 8s 4ms/step - loss: 0.1092 - accuracy: 0.9703\n",
      "Epoch 18/20\n",
      "1875/1875 [==============================] - 7s 4ms/step - loss: 0.1047 - accuracy: 0.9715\n",
      "Epoch 19/20\n",
      "1875/1875 [==============================] - 5s 2ms/step - loss: 0.1003 - accuracy: 0.9731\n",
      "Epoch 20/20\n",
      "1875/1875 [==============================] - 5s 2ms/step - loss: 0.0965 - accuracy: 0.9737\n",
      "313/313 [==============================] - 1s 2ms/step - loss: 0.1072 - accuracy: 0.9686\n"
     ]
    },
    {
     "data": {
      "text/plain": [
       "[0.10715685784816742, 0.9685999751091003]"
      ]
     },
     "execution_count": 8,
     "metadata": {},
     "output_type": "execute_result"
    }
   ],
   "source": [
    "model = Sequential([\n",
    "    Dense(256, input_dim=width*height, activation='relu'),\n",
    "    Dense(10, activation='softmax')\n",
    "])\n",
    "\n",
    "model.compile(loss='categorical_crossentropy', optimizer='sgd', metrics=['accuracy'])\n",
    "\n",
    "history = model.fit(x_train, y_train, epochs=20, batch_size=32)\n",
    "\n",
    "model.evaluate(x_test, y_test, batch_size=32)"
   ]
  },
  {
   "cell_type": "code",
   "execution_count": 9,
   "metadata": {},
   "outputs": [
    {
     "data": {
      "image/png": "[encoded data removed]",
      "text/plain": [
       "<Figure size 1152x648 with 2 Axes>"
      ]
     },
     "metadata": {
      "needs_background": "light"
     },
     "output_type": "display_data"
    }
   ],
   "source": [
    "history_dict = history.history\n",
    "\n",
    "fig, loss_ax = plt.subplots(figsize=(16, 9))\n",
    "\n",
    "acc_ax = loss_ax.twinx()\n",
    "\n",
    "loss_ax.plot(history_dict['loss'], 'y', label='Training Loss')\n",
    "# loss_ax.plot(history_dict['val_loss'], 'r', label='Validation Loss')\n",
    "\n",
    "acc_ax.plot(history_dict['accuracy'], 'b', label='Training Accuracy')\n",
    "# acc_ax.plot(history_dict['val_accuracy'], 'g', label='Validation Accuracy')\n",
    "\n",
    "loss_ax.set_xlabel('Epoch')\n",
    "loss_ax.set_ylabel('Loss')\n",
    "acc_ax.set_ylabel('Accuracy')\n",
    "\n",
    "loss_ax.legend(loc='upper left')\n",
    "acc_ax.legend(loc='lower left')\n",
    "\n",
    "plt.show()"
   ]
  },
  {
   "cell_type": "markdown",
   "metadata": {},
   "source": [
    "##### 필기 숫자 데이터 세트를 다양한 기계학습 모델에 적용하기"
   ]
  },
  {
   "cell_type": "code",
   "execution_count": 10,
   "metadata": {},
   "outputs": [],
   "source": [
    "# 공통 코드\n",
    "from keras.utils.np_utils import to_categorical\n",
    "from keras.datasets import mnist"
   ]
  },
  {
   "cell_type": "code",
   "execution_count": 11,
   "metadata": {},
   "outputs": [],
   "source": [
    "(train_data, train_labels), (test_data, test_labels) = mnist.load_data()\n",
    "\n",
    "width = 28\n",
    "height = 28\n",
    "\n",
    "train_data = train_data.reshape(60000, width*height).astype('float32') / 255.0\n",
    "test_data = test_data.reshape(10000, width*height).astype('float32') / 255.0"
   ]
  },
  {
   "cell_type": "code",
   "execution_count": 12,
   "metadata": {},
   "outputs": [
    {
     "name": "stdout",
     "output_type": "stream",
     "text": [
      "0.8761\n"
     ]
    }
   ],
   "source": [
    "# 결정트리를 이용하는 경우\n",
    "from sklearn.tree import DecisionTreeClassifier\n",
    "from sklearn.metrics import accuracy_score\n",
    "\n",
    "clf = DecisionTreeClassifier()\n",
    "clf.fit(train_data, train_labels)\n",
    "\n",
    "predictions = clf.predict(test_data)\n",
    "print(accuracy_score(test_labels, predictions))"
   ]
  },
  {
   "cell_type": "code",
   "execution_count": 13,
   "metadata": {},
   "outputs": [
    {
     "name": "stdout",
     "output_type": "stream",
     "text": [
      "0.9861111111111112\n"
     ]
    }
   ],
   "source": [
    "# KNeighborsClassifier 를 이용하는 경우\n",
    "from sklearn.model_selection import train_test_split\n",
    "from sklearn.neighbors import KNeighborsClassifier\n",
    "from sklearn.metrics import accuracy_score\n",
    "from sklearn.datasets import load_digits\n",
    "\n",
    "digits = load_digits()\n",
    "\n",
    "data = digits.data\n",
    "labels = digits.target\n",
    "\n",
    "train_data, test_data, train_labels, test_labels = train_test_split(data, labels, test_size=0.2)\n",
    "\n",
    "clf = KNeighborsClassifier()\n",
    "clf.fit(train_data, train_labels)\n",
    "predictions = clf.predict(test_data)\n",
    "\n",
    "print(accuracy_score(test_labels, predictions))"
   ]
  },
  {
   "cell_type": "code",
   "execution_count": 14,
   "metadata": {},
   "outputs": [
    {
     "name": "stdout",
     "output_type": "stream",
     "text": [
      "0.08055555555555556\n"
     ]
    }
   ],
   "source": [
    "# 직접 작성한 무작위 분류 방식을 이용한 경우\n",
    "import random\n",
    "from sklearn.metrics import accuracy_score\n",
    "\n",
    "\n",
    "class myKNN():\n",
    "    def fit(self, train_data, train_labels) -> None:\n",
    "        self.train_data = train_data\n",
    "        self.train_labels = train_labels\n",
    "    \n",
    "    def predict(self, test_data) -> list:\n",
    "        predictions = []\n",
    "        for row in test_data:\n",
    "            label = random.choice(self.train_labels)\n",
    "            predictions.append(label)\n",
    "        return predictions\n",
    "\n",
    "\n",
    "clf = myKNN()\n",
    "clf.fit(train_data, train_labels)\n",
    "\n",
    "predictions = clf.predict(test_data)\n",
    "\n",
    "print(accuracy_score(test_labels, predictions))"
   ]
  },
  {
   "cell_type": "code",
   "execution_count": 15,
   "metadata": {},
   "outputs": [
    {
     "name": "stdout",
     "output_type": "stream",
     "text": [
      "0.9833333333333333\n"
     ]
    }
   ],
   "source": [
    "# 직접 작성한 유클리디언 분류 방식을 이용한 경우\n",
    "from scipy.spatial import distance\n",
    "from sklearn.metrics import accuracy_score\n",
    "\n",
    "\n",
    "def euc(a, b) -> float:\n",
    "    return distance.euclidean(a, b)\n",
    "\n",
    "\n",
    "class eucKNN():\n",
    "    def fit(self, train_data, train_labels) -> None:\n",
    "        self.train_data = train_data\n",
    "        self.train_labels = train_labels\n",
    "\n",
    "    def predict(self, test_data) -> list:\n",
    "        predictions = []\n",
    "        for row in test_data:\n",
    "            label = self.closest(row)\n",
    "            predictions.append(label)\n",
    "        return predictions\n",
    "    \n",
    "    def closest(self, row) -> int:\n",
    "        best_dist = euc(row, self.train_data[0])\n",
    "        best_idx = 0\n",
    "\n",
    "        for idx, tr_data in enumerate(self.train_data):\n",
    "            if idx == 0:\n",
    "                continue\n",
    "            dist = euc(row, tr_data)\n",
    "            if dist < best_dist:\n",
    "                best_dist = dist\n",
    "                best_idx = idx\n",
    "        \n",
    "        return self.train_labels[best_idx]\n",
    "\n",
    "\n",
    "clf = eucKNN()\n",
    "clf.fit(train_data, train_labels)\n",
    "predictions = clf.predict(test_data)\n",
    "\n",
    "print(accuracy_score(test_labels, predictions))"
   ]
  },
  {
   "cell_type": "code",
   "execution_count": 16,
   "metadata": {},
   "outputs": [],
   "source": [
    "# 필기 숫자 데이터 세트를 이용한 경우\n",
    "from sklearn.datasets import load_digits\n",
    "from scipy.spatial import distance\n",
    "from sklearn.metrics import accuracy_score"
   ]
  },
  {
   "cell_type": "code",
   "execution_count": 17,
   "metadata": {},
   "outputs": [
    {
     "name": "stdout",
     "output_type": "stream",
     "text": [
      "1797 1797\n"
     ]
    }
   ],
   "source": [
    "digits = load_digits()\n",
    "print(len(digits.data), len(digits.target))"
   ]
  },
  {
   "cell_type": "code",
   "execution_count": 18,
   "metadata": {},
   "outputs": [
    {
     "name": "stdout",
     "output_type": "stream",
     "text": [
      "0.96\n"
     ]
    }
   ],
   "source": [
    "def euc(a, b):\n",
    "    return distance.euclidean(a, b)\n",
    "\n",
    "\n",
    "class eucKNN():\n",
    "    def fit(self, X_train, y_train):\n",
    "        self.X_train = X_train\n",
    "        self.y_train = y_train\n",
    "    \n",
    "    def predict(self, X_test):\n",
    "        predictions = []\n",
    "        for row in X_test:\n",
    "            label = self.closest(row)\n",
    "            predictions.append(label)\n",
    "        return predictions\n",
    "    \n",
    "    def closest(self, row):\n",
    "        best_dist = euc(row, self.X_train[0])\n",
    "        best_idx = 0\n",
    "\n",
    "        for idx, tr_data in enumerate(self.X_train):\n",
    "            if idx == 0:\n",
    "                continue\n",
    "            dist = euc(row, self.X_train[idx])\n",
    "            if dist < best_dist:\n",
    "                best_dist = dist\n",
    "                best_idx = idx\n",
    "        \n",
    "        return self.y_train[best_idx]\n",
    "\n",
    "\n",
    "clf = eucKNN()\n",
    "clf.fit(digits.data[:-500], digits.target[:-500])\n",
    "predictions = clf.predict(digits.data[-500:])\n",
    "\n",
    "print(accuracy_score(digits.target[-500:], predictions))"
   ]
  },
  {
   "cell_type": "code",
   "execution_count": 19,
   "metadata": {},
   "outputs": [
    {
     "name": "stdout",
     "output_type": "stream",
     "text": [
      "0.9888888888888889\n"
     ]
    }
   ],
   "source": [
    "# 서포트 벡터 머신(SVM)을 이용한 경우 - hand written data(필기 숫자 데이터)\n",
    "from sklearn import svm\n",
    "from sklearn.metrics import accuracy_score\n",
    "\n",
    "clf = svm.SVC(gamma=0.001, C=100.)\n",
    "clf.fit(train_data, train_labels)\n",
    "predictions = clf.predict(test_data)\n",
    "\n",
    "print(accuracy_score(test_labels, predictions))"
   ]
  },
  {
   "cell_type": "code",
   "execution_count": 20,
   "metadata": {},
   "outputs": [],
   "source": [
    "import pandas as pd"
   ]
  },
  {
   "cell_type": "code",
   "execution_count": 21,
   "metadata": {},
   "outputs": [
    {
     "data": {
      "text/html": [
       "<div>\n",
       "<style scoped>\n",
       "    .dataframe tbody tr th:only-of-type {\n",
       "        vertical-align: middle;\n",
       "    }\n",
       "\n",
       "    .dataframe tbody tr th {\n",
       "        vertical-align: top;\n",
       "    }\n",
       "\n",
       "    .dataframe thead th {\n",
       "        text-align: right;\n",
       "    }\n",
       "</style>\n",
       "<table border=\"1\" class=\"dataframe\">\n",
       "  <thead>\n",
       "    <tr style=\"text-align: right;\">\n",
       "      <th></th>\n",
       "      <th>Month</th>\n",
       "      <th>International airline passengers: monthly totals in thousands. Jan 49 ? Dec 60</th>\n",
       "    </tr>\n",
       "  </thead>\n",
       "  <tbody>\n",
       "    <tr>\n",
       "      <th>0</th>\n",
       "      <td>1949-01</td>\n",
       "      <td>112.0</td>\n",
       "    </tr>\n",
       "    <tr>\n",
       "      <th>1</th>\n",
       "      <td>1949-02</td>\n",
       "      <td>118.0</td>\n",
       "    </tr>\n",
       "    <tr>\n",
       "      <th>2</th>\n",
       "      <td>1949-03</td>\n",
       "      <td>132.0</td>\n",
       "    </tr>\n",
       "  </tbody>\n",
       "</table>\n",
       "</div>"
      ],
      "text/plain": [
       "     Month  \\\n",
       "0  1949-01   \n",
       "1  1949-02   \n",
       "2  1949-03   \n",
       "\n",
       "   International airline passengers: monthly totals in thousands. Jan 49 ? Dec 60  \n",
       "0                                              112.0                               \n",
       "1                                              118.0                               \n",
       "2                                              132.0                               "
      ]
     },
     "execution_count": 21,
     "metadata": {},
     "output_type": "execute_result"
    }
   ],
   "source": [
    "dataset = pd.read_csv('./tutorial/16/airline-passengers.csv', engine='python')\n",
    "dataset.head(3)\n"
   ]
  },
  {
   "cell_type": "code",
   "execution_count": 22,
   "metadata": {},
   "outputs": [
    {
     "data": {
      "text/html": [
       "<div>\n",
       "<style scoped>\n",
       "    .dataframe tbody tr th:only-of-type {\n",
       "        vertical-align: middle;\n",
       "    }\n",
       "\n",
       "    .dataframe tbody tr th {\n",
       "        vertical-align: top;\n",
       "    }\n",
       "\n",
       "    .dataframe thead th {\n",
       "        text-align: right;\n",
       "    }\n",
       "</style>\n",
       "<table border=\"1\" class=\"dataframe\">\n",
       "  <thead>\n",
       "    <tr style=\"text-align: right;\">\n",
       "      <th></th>\n",
       "      <th>International airline passengers: monthly totals in thousands. Jan 49 ? Dec 60</th>\n",
       "    </tr>\n",
       "  </thead>\n",
       "  <tbody>\n",
       "    <tr>\n",
       "      <th>142</th>\n",
       "      <td>390.0</td>\n",
       "    </tr>\n",
       "    <tr>\n",
       "      <th>143</th>\n",
       "      <td>432.0</td>\n",
       "    </tr>\n",
       "    <tr>\n",
       "      <th>144</th>\n",
       "      <td>NaN</td>\n",
       "    </tr>\n",
       "  </tbody>\n",
       "</table>\n",
       "</div>"
      ],
      "text/plain": [
       "     International airline passengers: monthly totals in thousands. Jan 49 ? Dec 60\n",
       "142                                              390.0                             \n",
       "143                                              432.0                             \n",
       "144                                                NaN                             "
      ]
     },
     "execution_count": 22,
     "metadata": {},
     "output_type": "execute_result"
    }
   ],
   "source": [
    "dataset.pop('Month')\n",
    "dataset.tail(3)"
   ]
  },
  {
   "cell_type": "code",
   "execution_count": 23,
   "metadata": {},
   "outputs": [
    {
     "data": {
      "text/html": [
       "<div>\n",
       "<style scoped>\n",
       "    .dataframe tbody tr th:only-of-type {\n",
       "        vertical-align: middle;\n",
       "    }\n",
       "\n",
       "    .dataframe tbody tr th {\n",
       "        vertical-align: top;\n",
       "    }\n",
       "\n",
       "    .dataframe thead th {\n",
       "        text-align: right;\n",
       "    }\n",
       "</style>\n",
       "<table border=\"1\" class=\"dataframe\">\n",
       "  <thead>\n",
       "    <tr style=\"text-align: right;\">\n",
       "      <th></th>\n",
       "      <th>Passengers</th>\n",
       "    </tr>\n",
       "  </thead>\n",
       "  <tbody>\n",
       "    <tr>\n",
       "      <th>0</th>\n",
       "      <td>112.0</td>\n",
       "    </tr>\n",
       "    <tr>\n",
       "      <th>1</th>\n",
       "      <td>118.0</td>\n",
       "    </tr>\n",
       "    <tr>\n",
       "      <th>2</th>\n",
       "      <td>132.0</td>\n",
       "    </tr>\n",
       "  </tbody>\n",
       "</table>\n",
       "</div>"
      ],
      "text/plain": [
       "   Passengers\n",
       "0       112.0\n",
       "1       118.0\n",
       "2       132.0"
      ]
     },
     "execution_count": 23,
     "metadata": {},
     "output_type": "execute_result"
    }
   ],
   "source": [
    "dataset.columns = ['Passengers']\n",
    "dataset.head(3)"
   ]
  },
  {
   "cell_type": "code",
   "execution_count": 24,
   "metadata": {},
   "outputs": [
    {
     "data": {
      "text/html": [
       "<div>\n",
       "<style scoped>\n",
       "    .dataframe tbody tr th:only-of-type {\n",
       "        vertical-align: middle;\n",
       "    }\n",
       "\n",
       "    .dataframe tbody tr th {\n",
       "        vertical-align: top;\n",
       "    }\n",
       "\n",
       "    .dataframe thead th {\n",
       "        text-align: right;\n",
       "    }\n",
       "</style>\n",
       "<table border=\"1\" class=\"dataframe\">\n",
       "  <thead>\n",
       "    <tr style=\"text-align: right;\">\n",
       "      <th></th>\n",
       "      <th>Passengers</th>\n",
       "    </tr>\n",
       "  </thead>\n",
       "  <tbody>\n",
       "    <tr>\n",
       "      <th>141</th>\n",
       "      <td>461.0</td>\n",
       "    </tr>\n",
       "    <tr>\n",
       "      <th>142</th>\n",
       "      <td>390.0</td>\n",
       "    </tr>\n",
       "    <tr>\n",
       "      <th>143</th>\n",
       "      <td>432.0</td>\n",
       "    </tr>\n",
       "  </tbody>\n",
       "</table>\n",
       "</div>"
      ],
      "text/plain": [
       "     Passengers\n",
       "141       461.0\n",
       "142       390.0\n",
       "143       432.0"
      ]
     },
     "execution_count": 24,
     "metadata": {},
     "output_type": "execute_result"
    }
   ],
   "source": [
    "dataset = dataset.dropna()\n",
    "dataset.tail(3)"
   ]
  },
  {
   "cell_type": "code",
   "execution_count": 25,
   "metadata": {},
   "outputs": [],
   "source": [
    "import numpy as np\n",
    "from sklearn.preprocessing import MinMaxScaler # 데이터 정규화를 위한 Min-Max 방식"
   ]
  },
  {
   "cell_type": "code",
   "execution_count": 26,
   "metadata": {},
   "outputs": [
    {
     "name": "stdout",
     "output_type": "stream",
     "text": [
      "[[0.01544402]\n",
      " [0.02702703]\n",
      " [0.05405405]]\n"
     ]
    }
   ],
   "source": [
    "scaled = MinMaxScaler()\n",
    "dataset = scaled.fit_transform(dataset)\n",
    "print(dataset[:3])"
   ]
  },
  {
   "cell_type": "code",
   "execution_count": 27,
   "metadata": {},
   "outputs": [
    {
     "name": "stdout",
     "output_type": "stream",
     "text": [
      "(24, 1)\n"
     ]
    }
   ],
   "source": [
    "train = dataset[:120]\n",
    "test = dataset[120:]\n",
    "print(test.shape)"
   ]
  },
  {
   "cell_type": "code",
   "execution_count": 28,
   "metadata": {},
   "outputs": [],
   "source": [
    "def create_seq(data, lookback=1):\n",
    "    X_data = []\n",
    "    y_data = []\n",
    "\n",
    "    for i in range(len(data) - lookback - 1):\n",
    "        add = data[i:(i+lookback), 0]\n",
    "        X_data.append(add)\n",
    "        y_data.append(data[i + lookback, 0])\n",
    "    \n",
    "    return np.array(X_data), np.array(y_data)"
   ]
  },
  {
   "cell_type": "code",
   "execution_count": 29,
   "metadata": {},
   "outputs": [
    {
     "name": "stdout",
     "output_type": "stream",
     "text": [
      "[[0.01544402]\n",
      " [0.02702703]\n",
      " [0.05405405]\n",
      " [0.04826255]\n",
      " [0.03281853]\n",
      " [0.05984556]]\n",
      "[0.02702703 0.05405405 0.04826255 0.03281853 0.05984556]\n"
     ]
    }
   ],
   "source": [
    "lookback = 1\n",
    "X_train, y_train = create_seq(train, lookback)\n",
    "X_test, y_test = create_seq(test, lookback)\n",
    "\n",
    "print(X_train[:6])\n",
    "print(y_train[:5])"
   ]
  },
  {
   "cell_type": "code",
   "execution_count": 30,
   "metadata": {},
   "outputs": [
    {
     "data": {
      "text/plain": [
       "(118, 1, 1)"
      ]
     },
     "execution_count": 30,
     "metadata": {},
     "output_type": "execute_result"
    }
   ],
   "source": [
    "\"\"\"\n",
    "현재 처리하고자 하는 데이터 형식이 3D 시퀀스 데이터이므로 텐서의 형식은 (samples, timesteps, features) 이어야 함\n",
    "\"\"\"\n",
    "X_train = np.reshape(X_train, (X_train.shape[0], 1, X_train.shape[1]))\n",
    "X_test = np.reshape(X_test, (X_test.shape[0], 1, X_test.shape[1]))\n",
    "\n",
    "X_train.shape"
   ]
  },
  {
   "cell_type": "code",
   "execution_count": 31,
   "metadata": {},
   "outputs": [],
   "source": [
    "from keras.models import Sequential\n",
    "from keras.layers import Dense, Flatten"
   ]
  },
  {
   "cell_type": "code",
   "execution_count": 32,
   "metadata": {},
   "outputs": [
    {
     "name": "stdout",
     "output_type": "stream",
     "text": [
      "Epoch 1/50\n",
      "118/118 [==============================] - 1s 1ms/step - loss: 0.0252\n",
      "Epoch 2/50\n",
      "118/118 [==============================] - 0s 1ms/step - loss: 0.0143\n",
      "Epoch 3/50\n",
      "118/118 [==============================] - 0s 1ms/step - loss: 0.0116\n",
      "Epoch 4/50\n",
      "118/118 [==============================] - 0s 1ms/step - loss: 0.0101\n",
      "Epoch 5/50\n",
      "118/118 [==============================] - 0s 3ms/step - loss: 0.0092\n",
      "Epoch 6/50\n",
      "118/118 [==============================] - 0s 3ms/step - loss: 0.0085\n",
      "Epoch 7/50\n",
      "118/118 [==============================] - 0s 2ms/step - loss: 0.0079\n",
      "Epoch 8/50\n",
      "118/118 [==============================] - 0s 4ms/step - loss: 0.0072\n",
      "Epoch 9/50\n",
      "118/118 [==============================] - 0s 4ms/step - loss: 0.0066\n",
      "Epoch 10/50\n",
      "118/118 [==============================] - 0s 4ms/step - loss: 0.0062\n",
      "Epoch 11/50\n",
      "118/118 [==============================] - 0s 4ms/step - loss: 0.0057\n",
      "Epoch 12/50\n",
      "118/118 [==============================] - 0s 4ms/step - loss: 0.0053\n",
      "Epoch 13/50\n",
      "118/118 [==============================] - 0s 3ms/step - loss: 0.0049\n",
      "Epoch 14/50\n",
      "118/118 [==============================] - 0s 2ms/step - loss: 0.0047\n",
      "Epoch 15/50\n",
      "118/118 [==============================] - 0s 2ms/step - loss: 0.0044\n",
      "Epoch 16/50\n",
      "118/118 [==============================] - 0s 2ms/step - loss: 0.0042\n",
      "Epoch 17/50\n",
      "118/118 [==============================] - 0s 1ms/step - loss: 0.0040\n",
      "Epoch 18/50\n",
      "118/118 [==============================] - 0s 1ms/step - loss: 0.0039\n",
      "Epoch 19/50\n",
      "118/118 [==============================] - 0s 1ms/step - loss: 0.0037\n",
      "Epoch 20/50\n",
      "118/118 [==============================] - 0s 3ms/step - loss: 0.0036\n",
      "Epoch 21/50\n",
      "118/118 [==============================] - 0s 4ms/step - loss: 0.0035\n",
      "Epoch 22/50\n",
      "118/118 [==============================] - 0s 2ms/step - loss: 0.0034\n",
      "Epoch 23/50\n",
      "118/118 [==============================] - 0s 2ms/step - loss: 0.0033\n",
      "Epoch 24/50\n",
      "118/118 [==============================] - 0s 3ms/step - loss: 0.0033\n",
      "Epoch 25/50\n",
      "118/118 [==============================] - 0s 4ms/step - loss: 0.0032\n",
      "Epoch 26/50\n",
      "118/118 [==============================] - 0s 2ms/step - loss: 0.0032\n",
      "Epoch 27/50\n",
      "118/118 [==============================] - 0s 1ms/step - loss: 0.0032\n",
      "Epoch 28/50\n",
      "118/118 [==============================] - 0s 1ms/step - loss: 0.0031\n",
      "Epoch 29/50\n",
      "118/118 [==============================] - 0s 1ms/step - loss: 0.0031\n",
      "Epoch 30/50\n",
      "118/118 [==============================] - 0s 1ms/step - loss: 0.0031\n",
      "Epoch 31/50\n",
      "118/118 [==============================] - 0s 1ms/step - loss: 0.0031\n",
      "Epoch 32/50\n",
      "118/118 [==============================] - 0s 1ms/step - loss: 0.0031\n",
      "Epoch 33/50\n",
      "118/118 [==============================] - 0s 1ms/step - loss: 0.0031\n",
      "Epoch 34/50\n",
      "118/118 [==============================] - 0s 3ms/step - loss: 0.0031\n",
      "Epoch 35/50\n",
      "118/118 [==============================] - 0s 4ms/step - loss: 0.0031\n",
      "Epoch 36/50\n",
      "118/118 [==============================] - 0s 2ms/step - loss: 0.0031\n",
      "Epoch 37/50\n",
      "118/118 [==============================] - 0s 4ms/step - loss: 0.0031\n",
      "Epoch 38/50\n",
      "118/118 [==============================] - 0s 3ms/step - loss: 0.0031\n",
      "Epoch 39/50\n",
      "118/118 [==============================] - 0s 3ms/step - loss: 0.0030\n",
      "Epoch 40/50\n",
      "118/118 [==============================] - 0s 2ms/step - loss: 0.0030\n",
      "Epoch 41/50\n",
      "118/118 [==============================] - 0s 2ms/step - loss: 0.0030\n",
      "Epoch 42/50\n",
      "118/118 [==============================] - 0s 3ms/step - loss: 0.0031\n",
      "Epoch 43/50\n",
      "118/118 [==============================] - 0s 2ms/step - loss: 0.0031\n",
      "Epoch 44/50\n",
      "118/118 [==============================] - 0s 4ms/step - loss: 0.0031\n",
      "Epoch 45/50\n",
      "118/118 [==============================] - 0s 4ms/step - loss: 0.0031\n",
      "Epoch 46/50\n",
      "118/118 [==============================] - 0s 2ms/step - loss: 0.0030\n",
      "Epoch 47/50\n",
      "118/118 [==============================] - 0s 3ms/step - loss: 0.0030\n",
      "Epoch 48/50\n",
      "118/118 [==============================] - 0s 4ms/step - loss: 0.0031\n",
      "Epoch 49/50\n",
      "118/118 [==============================] - 0s 3ms/step - loss: 0.0031\n",
      "Epoch 50/50\n",
      "118/118 [==============================] - 0s 3ms/step - loss: 0.0030\n"
     ]
    }
   ],
   "source": [
    "model = Sequential([\n",
    "    Flatten(input_shape=(1, X_train.shape[1])),\n",
    "    Dense(1)\n",
    "])\n",
    "\n",
    "model.compile(optimizer='rmsprop', loss='mse')\n",
    "\n",
    "history = model.fit(X_train, y_train, epochs=50, batch_size=1)"
   ]
  },
  {
   "cell_type": "code",
   "execution_count": 33,
   "metadata": {},
   "outputs": [
    {
     "name": "stdout",
     "output_type": "stream",
     "text": [
      "4/4 [==============================] - 0s 3ms/step\n",
      "1/1 [==============================] - 0s 59ms/step\n"
     ]
    }
   ],
   "source": [
    "train_predict = model.predict(X_train)\n",
    "test_predict = model.predict(X_test)"
   ]
  },
  {
   "cell_type": "code",
   "execution_count": 34,
   "metadata": {},
   "outputs": [],
   "source": [
    "# 앞서 시행했던 MinMax 정규화 상태를 다시 원래 스케일로 복원 - `inverse_transform()` 함수 사용\n",
    "train_predict = scaled.inverse_transform(train_predict)\n",
    "train_Y = scaled.inverse_transform([y_train])\n",
    "test_predict = scaled.inverse_transform(test_predict)\n",
    "test_Y = scaled.inverse_transform([y_test])"
   ]
  },
  {
   "cell_type": "code",
   "execution_count": 35,
   "metadata": {},
   "outputs": [],
   "source": [
    "import matplotlib.pyplot as plt"
   ]
  },
  {
   "cell_type": "code",
   "execution_count": 36,
   "metadata": {},
   "outputs": [
    {
     "data": {
      "text/plain": [
       "<matplotlib.legend.Legend at 0x19c1822bb50>"
      ]
     },
     "execution_count": 36,
     "metadata": {},
     "output_type": "execute_result"
    },
    {
     "data": {
      "image/png": "[encoded data removed]",
      "text/plain": [
       "<Figure size 432x288 with 1 Axes>"
      ]
     },
     "metadata": {
      "needs_background": "light"
     },
     "output_type": "display_data"
    }
   ],
   "source": [
    "plt.plot(scaled.inverse_transform(dataset), linestyle=':', label='Total')\n",
    "plt.plot(test_predict, label='test')\n",
    "plt.legend()"
   ]
  },
  {
   "cell_type": "code",
   "execution_count": 37,
   "metadata": {},
   "outputs": [
    {
     "data": {
      "image/png": "[encoded data removed]",
      "text/plain": [
       "<Figure size 432x288 with 1 Axes>"
      ]
     },
     "metadata": {
      "needs_background": "light"
     },
     "output_type": "display_data"
    }
   ],
   "source": [
    "plt.plot(scaled.inverse_transform(dataset), linestyle=':', label='Total')\n",
    "plt.plot(train_predict, label='Predict')\n",
    "\n",
    "test_predict_plot = np.empty_like(dataset)\n",
    "test_predict_plot[:] = np.nan\n",
    "test_predict_plot[len(train_predict) + (lookback * 2) + 1:len(dataset) - 1] = test_predict\n",
    "\n",
    "plt.plot(test_predict_plot, label='Test')\n",
    "plt.legend()\n",
    "plt.show()"
   ]
  },
  {
   "cell_type": "code",
   "execution_count": 38,
   "metadata": {},
   "outputs": [
    {
     "name": "stdout",
     "output_type": "stream",
     "text": [
      "(22,)\n",
      "(22, 1)\n"
     ]
    }
   ],
   "source": [
    "print(y_test.shape)\n",
    "y_test = np.reshape(X_test, (test_predict.shape[0], X_test.shape[1]))\n",
    "print(y_test.shape)"
   ]
  },
  {
   "cell_type": "code",
   "execution_count": 39,
   "metadata": {},
   "outputs": [
    {
     "data": {
      "image/png": "[encoded data removed]",
      "text/plain": [
       "<Figure size 432x288 with 1 Axes>"
      ]
     },
     "metadata": {
      "needs_background": "light"
     },
     "output_type": "display_data"
    }
   ],
   "source": [
    "plt.plot(range(len(y_test)), scaled.inverse_transform(y_test), linestyle=':', label='target')\n",
    "plt.plot(range(len(test_predict)), test_predict, label='Predictions')\n",
    "plt.legend()\n",
    "plt.show()"
   ]
  },
  {
   "cell_type": "markdown",
   "metadata": {},
   "source": [
    "#### 순환 신경망(RNN)\n",
    "  * 앞의 은닉 계층에서 활성화 함수로 계산되어 출력되는 데이터를 이후 계층으로 전송하는 동시에 다시 이전 계층의 입력으로 보내져 재사용하게 되는 신경망 구조\n",
    "  * 즉, 과거의 정보를 현재에 반영할 수 있다는 의미\n",
    "  * 초기 모델은 경사 하강법(Gradient Descent)과 오차 역전파(Backpropagation) 방식을 이용하여 학습\n",
    "    * 학습 데이터 길이가 길어질수록 과거 정보를 전달하기 힘들다는 단점을 가짐\n",
    "  * 이러한 단점을 보완하기 위하여 LSTM(Long Short-Term Memory) 방식을 사용, 이후 개선된 GRU(Gated Recurrent Unit) 방식이 생겨남\n",
    "  * 여기서는 LSTM 방식을 사용하여 순환 신경망 모델 구성"
   ]
  },
  {
   "cell_type": "code",
   "execution_count": 40,
   "metadata": {},
   "outputs": [],
   "source": [
    "import pandas as pd\n",
    "from sklearn.preprocessing import MinMaxScaler"
   ]
  },
  {
   "cell_type": "code",
   "execution_count": 41,
   "metadata": {},
   "outputs": [],
   "source": [
    "# 데이터 생성\n",
    "dataset = pd.read_csv('./tutorial/16/airline-passengers.csv', engine='python')\n",
    "\n",
    "# 데이터 전처리\n",
    "dataset.pop('Month')\n",
    "dataset.columns = ['Passengers']\n",
    "dataset = dataset.dropna()\n",
    "\n",
    "scaled = MinMaxScaler()\n",
    "dataset = scaled.fit_transform(dataset)\n",
    "\n",
    "# 데이터 분할\n",
    "train = dataset[:120]\n",
    "test = dataset[120:]"
   ]
  },
  {
   "cell_type": "code",
   "execution_count": 42,
   "metadata": {},
   "outputs": [],
   "source": [
    "# 시계열 데이터 준비\n",
    "\n",
    "def create_seq(data, lookback=1):\n",
    "    X_data = []\n",
    "    y_data = []\n",
    "\n",
    "    for i in range(len(data) - lookback - 1):\n",
    "        add = data[i:(i+lookback), 0]\n",
    "        X_data.append(add)\n",
    "        y_data.append(data[i + lookback, 0])\n",
    "\n",
    "    return np.array(X_data), np.array(y_data)"
   ]
  },
  {
   "cell_type": "code",
   "execution_count": 43,
   "metadata": {},
   "outputs": [],
   "source": [
    "import numpy as np"
   ]
  },
  {
   "cell_type": "code",
   "execution_count": 44,
   "metadata": {},
   "outputs": [],
   "source": [
    "lookback = 1\n",
    "\n",
    "X_train, y_train = create_seq(train, lookback)\n",
    "X_test, y_test = create_seq(test, lookback)\n",
    "\n",
    "X_train = np.reshape(X_train, (X_train.shape[0], 1, X_train.shape[1]))\n",
    "X_test = np.reshape(X_test, (X_test.shape[0], 1, X_test.shape[1]))"
   ]
  },
  {
   "cell_type": "code",
   "execution_count": 45,
   "metadata": {},
   "outputs": [],
   "source": [
    "from keras.models import Sequential\n",
    "from keras.layers import Dense, LSTM"
   ]
  },
  {
   "cell_type": "code",
   "execution_count": 46,
   "metadata": {},
   "outputs": [
    {
     "name": "stdout",
     "output_type": "stream",
     "text": [
      "Epoch 1/30\n",
      "94/94 [==============================] - 3s 10ms/step - loss: 0.0269 - mae: 0.1234 - val_loss: 0.1048 - val_mae: 0.3077\n",
      "Epoch 2/30\n",
      "94/94 [==============================] - 0s 3ms/step - loss: 0.0129 - mae: 0.0876 - val_loss: 0.0696 - val_mae: 0.2451\n",
      "Epoch 3/30\n",
      "94/94 [==============================] - 0s 3ms/step - loss: 0.0107 - mae: 0.0838 - val_loss: 0.0605 - val_mae: 0.2267\n",
      "Epoch 4/30\n",
      "94/94 [==============================] - 0s 4ms/step - loss: 0.0098 - mae: 0.0810 - val_loss: 0.0525 - val_mae: 0.2094\n",
      "Epoch 5/30\n",
      "94/94 [==============================] - 0s 4ms/step - loss: 0.0090 - mae: 0.0771 - val_loss: 0.0461 - val_mae: 0.1946\n",
      "Epoch 6/30\n",
      "94/94 [==============================] - 0s 3ms/step - loss: 0.0081 - mae: 0.0735 - val_loss: 0.0439 - val_mae: 0.1898\n",
      "Epoch 7/30\n",
      "94/94 [==============================] - 0s 3ms/step - loss: 0.0074 - mae: 0.0701 - val_loss: 0.0398 - val_mae: 0.1796\n",
      "Epoch 8/30\n",
      "94/94 [==============================] - 0s 3ms/step - loss: 0.0066 - mae: 0.0661 - val_loss: 0.0341 - val_mae: 0.1641\n",
      "Epoch 9/30\n",
      "94/94 [==============================] - 0s 5ms/step - loss: 0.0058 - mae: 0.0614 - val_loss: 0.0270 - val_mae: 0.1420\n",
      "Epoch 10/30\n",
      "94/94 [==============================] - 0s 4ms/step - loss: 0.0051 - mae: 0.0581 - val_loss: 0.0266 - val_mae: 0.1412\n",
      "Epoch 11/30\n",
      "94/94 [==============================] - 1s 7ms/step - loss: 0.0046 - mae: 0.0542 - val_loss: 0.0222 - val_mae: 0.1258\n",
      "Epoch 12/30\n",
      "94/94 [==============================] - 0s 4ms/step - loss: 0.0040 - mae: 0.0501 - val_loss: 0.0173 - val_mae: 0.1057\n",
      "Epoch 13/30\n",
      "94/94 [==============================] - 0s 4ms/step - loss: 0.0035 - mae: 0.0470 - val_loss: 0.0152 - val_mae: 0.0973\n",
      "Epoch 14/30\n",
      "94/94 [==============================] - 0s 3ms/step - loss: 0.0031 - mae: 0.0440 - val_loss: 0.0125 - val_mae: 0.0879\n",
      "Epoch 15/30\n",
      "94/94 [==============================] - 0s 3ms/step - loss: 0.0028 - mae: 0.0425 - val_loss: 0.0114 - val_mae: 0.0841\n",
      "Epoch 16/30\n",
      "94/94 [==============================] - 0s 3ms/step - loss: 0.0025 - mae: 0.0390 - val_loss: 0.0087 - val_mae: 0.0760\n",
      "Epoch 17/30\n",
      "94/94 [==============================] - 1s 5ms/step - loss: 0.0022 - mae: 0.0382 - val_loss: 0.0109 - val_mae: 0.0845\n",
      "Epoch 18/30\n",
      "94/94 [==============================] - 0s 3ms/step - loss: 0.0022 - mae: 0.0366 - val_loss: 0.0081 - val_mae: 0.0748\n",
      "Epoch 19/30\n",
      "94/94 [==============================] - 0s 3ms/step - loss: 0.0022 - mae: 0.0367 - val_loss: 0.0076 - val_mae: 0.0731\n",
      "Epoch 20/30\n",
      "94/94 [==============================] - 1s 8ms/step - loss: 0.0021 - mae: 0.0360 - val_loss: 0.0072 - val_mae: 0.0717\n",
      "Epoch 21/30\n",
      "94/94 [==============================] - 0s 4ms/step - loss: 0.0021 - mae: 0.0356 - val_loss: 0.0080 - val_mae: 0.0752\n",
      "Epoch 22/30\n",
      "94/94 [==============================] - 0s 3ms/step - loss: 0.0020 - mae: 0.0358 - val_loss: 0.0077 - val_mae: 0.0740\n",
      "Epoch 23/30\n",
      "94/94 [==============================] - 0s 3ms/step - loss: 0.0020 - mae: 0.0355 - val_loss: 0.0076 - val_mae: 0.0733\n",
      "Epoch 24/30\n",
      "94/94 [==============================] - 1s 5ms/step - loss: 0.0020 - mae: 0.0353 - val_loss: 0.0073 - val_mae: 0.0722\n",
      "Epoch 25/30\n",
      "94/94 [==============================] - 1s 6ms/step - loss: 0.0020 - mae: 0.0350 - val_loss: 0.0072 - val_mae: 0.0720\n",
      "Epoch 26/30\n",
      "94/94 [==============================] - 0s 4ms/step - loss: 0.0020 - mae: 0.0353 - val_loss: 0.0073 - val_mae: 0.0724\n",
      "Epoch 27/30\n",
      "94/94 [==============================] - 0s 3ms/step - loss: 0.0020 - mae: 0.0357 - val_loss: 0.0073 - val_mae: 0.0722\n",
      "Epoch 28/30\n",
      "94/94 [==============================] - 0s 3ms/step - loss: 0.0020 - mae: 0.0357 - val_loss: 0.0068 - val_mae: 0.0703\n",
      "Epoch 29/30\n",
      "94/94 [==============================] - 0s 3ms/step - loss: 0.0020 - mae: 0.0357 - val_loss: 0.0067 - val_mae: 0.0701\n",
      "Epoch 30/30\n",
      "94/94 [==============================] - 0s 3ms/step - loss: 0.0020 - mae: 0.0348 - val_loss: 0.0068 - val_mae: 0.0703\n"
     ]
    }
   ],
   "source": [
    "model = Sequential([\n",
    "    LSTM(4, input_shape=(1, lookback)),\n",
    "    Dense(1)\n",
    "])\n",
    "\n",
    "model.compile(optimizer='rmsprop', loss='mse', metrics='mae')\n",
    "\n",
    "epochs = 30\n",
    "history = model.fit(X_train, y_train, epochs=epochs, validation_split=0.2, batch_size=1)"
   ]
  },
  {
   "cell_type": "code",
   "execution_count": 47,
   "metadata": {},
   "outputs": [],
   "source": [
    "import matplotlib.pyplot as plt"
   ]
  },
  {
   "cell_type": "code",
   "execution_count": 48,
   "metadata": {},
   "outputs": [
    {
     "data": {
      "image/png": "[encoded data removed]",
      "text/plain": [
       "<Figure size 432x288 with 1 Axes>"
      ]
     },
     "metadata": {
      "needs_background": "light"
     },
     "output_type": "display_data"
    }
   ],
   "source": [
    "history_dict = history.history\n",
    "\n",
    "plt.clf()\n",
    "epoch_range = range(1, epochs + 1)\n",
    "plt.plot(epoch_range, history_dict['loss'], 'b', label='Training Loss')\n",
    "plt.plot(epoch_range, history_dict['val_loss'], 'b:', label='Validation Loss')\n",
    "plt.axis([-0.3, epochs, 0, 0.3])\n",
    "plt.title('Training and Validation Loss')\n",
    "plt.xlabel('Epochs')\n",
    "plt.ylabel('Loss')\n",
    "plt.legend()\n",
    "plt.show()"
   ]
  },
  {
   "cell_type": "code",
   "execution_count": 49,
   "metadata": {},
   "outputs": [],
   "source": [
    "# GRU 모델\n",
    "from keras.models import Sequential\n",
    "from keras.layers import Dense, GRU"
   ]
  },
  {
   "cell_type": "code",
   "execution_count": 50,
   "metadata": {},
   "outputs": [
    {
     "name": "stdout",
     "output_type": "stream",
     "text": [
      "Epoch 1/30\n",
      "94/94 [==============================] - 3s 8ms/step - loss: 0.0407 - mae: 0.1549 - val_loss: 0.1589 - val_mae: 0.3807\n",
      "Epoch 2/30\n",
      "94/94 [==============================] - 0s 3ms/step - loss: 0.0201 - mae: 0.1121 - val_loss: 0.1114 - val_mae: 0.3136\n",
      "Epoch 3/30\n",
      "94/94 [==============================] - 0s 3ms/step - loss: 0.0177 - mae: 0.1089 - val_loss: 0.0971 - val_mae: 0.2911\n",
      "Epoch 4/30\n",
      "94/94 [==============================] - 0s 4ms/step - loss: 0.0164 - mae: 0.1059 - val_loss: 0.0911 - val_mae: 0.2817\n",
      "Epoch 5/30\n",
      "94/94 [==============================] - 1s 8ms/step - loss: 0.0153 - mae: 0.1021 - val_loss: 0.0802 - val_mae: 0.2627\n",
      "Epoch 6/30\n",
      "94/94 [==============================] - 1s 8ms/step - loss: 0.0144 - mae: 0.0997 - val_loss: 0.0799 - val_mae: 0.2630\n",
      "Epoch 7/30\n",
      "94/94 [==============================] - 1s 8ms/step - loss: 0.0134 - mae: 0.0954 - val_loss: 0.0788 - val_mae: 0.2618\n",
      "Epoch 8/30\n",
      "94/94 [==============================] - 1s 6ms/step - loss: 0.0128 - mae: 0.0924 - val_loss: 0.0617 - val_mae: 0.2284\n",
      "Epoch 9/30\n",
      "94/94 [==============================] - 1s 8ms/step - loss: 0.0117 - mae: 0.0894 - val_loss: 0.0661 - val_mae: 0.2385\n",
      "Epoch 10/30\n",
      "94/94 [==============================] - 1s 8ms/step - loss: 0.0110 - mae: 0.0859 - val_loss: 0.0578 - val_mae: 0.2215\n",
      "Epoch 11/30\n",
      "94/94 [==============================] - 0s 3ms/step - loss: 0.0100 - mae: 0.0813 - val_loss: 0.0558 - val_mae: 0.2178\n",
      "Epoch 12/30\n",
      "94/94 [==============================] - 0s 3ms/step - loss: 0.0093 - mae: 0.0791 - val_loss: 0.0489 - val_mae: 0.2025\n",
      "Epoch 13/30\n",
      "94/94 [==============================] - 0s 3ms/step - loss: 0.0084 - mae: 0.0746 - val_loss: 0.0418 - val_mae: 0.1853\n",
      "Epoch 14/30\n",
      "94/94 [==============================] - 0s 3ms/step - loss: 0.0075 - mae: 0.0704 - val_loss: 0.0327 - val_mae: 0.1602\n",
      "Epoch 15/30\n",
      "94/94 [==============================] - 0s 3ms/step - loss: 0.0066 - mae: 0.0673 - val_loss: 0.0327 - val_mae: 0.1608\n",
      "Epoch 16/30\n",
      "94/94 [==============================] - 0s 3ms/step - loss: 0.0058 - mae: 0.0618 - val_loss: 0.0270 - val_mae: 0.1431\n",
      "Epoch 17/30\n",
      "94/94 [==============================] - 1s 7ms/step - loss: 0.0050 - mae: 0.0566 - val_loss: 0.0248 - val_mae: 0.1361\n",
      "Epoch 18/30\n",
      "94/94 [==============================] - 0s 4ms/step - loss: 0.0044 - mae: 0.0535 - val_loss: 0.0178 - val_mae: 0.1079\n",
      "Epoch 19/30\n",
      "94/94 [==============================] - 1s 8ms/step - loss: 0.0037 - mae: 0.0488 - val_loss: 0.0150 - val_mae: 0.0978\n",
      "Epoch 20/30\n",
      "94/94 [==============================] - 0s 3ms/step - loss: 0.0033 - mae: 0.0445 - val_loss: 0.0135 - val_mae: 0.0930\n",
      "Epoch 21/30\n",
      "94/94 [==============================] - 1s 8ms/step - loss: 0.0029 - mae: 0.0429 - val_loss: 0.0115 - val_mae: 0.0870\n",
      "Epoch 22/30\n",
      "94/94 [==============================] - 1s 6ms/step - loss: 0.0026 - mae: 0.0400 - val_loss: 0.0088 - val_mae: 0.0778\n",
      "Epoch 23/30\n",
      "94/94 [==============================] - 1s 8ms/step - loss: 0.0023 - mae: 0.0385 - val_loss: 0.0101 - val_mae: 0.0834\n",
      "Epoch 24/30\n",
      "94/94 [==============================] - 0s 4ms/step - loss: 0.0023 - mae: 0.0377 - val_loss: 0.0081 - val_mae: 0.0754\n",
      "Epoch 25/30\n",
      "94/94 [==============================] - 0s 5ms/step - loss: 0.0022 - mae: 0.0369 - val_loss: 0.0078 - val_mae: 0.0740\n",
      "Epoch 26/30\n",
      "94/94 [==============================] - 1s 6ms/step - loss: 0.0022 - mae: 0.0368 - val_loss: 0.0077 - val_mae: 0.0735\n",
      "Epoch 27/30\n",
      "94/94 [==============================] - 0s 5ms/step - loss: 0.0021 - mae: 0.0358 - val_loss: 0.0079 - val_mae: 0.0747\n",
      "Epoch 28/30\n",
      "94/94 [==============================] - 1s 8ms/step - loss: 0.0021 - mae: 0.0360 - val_loss: 0.0071 - val_mae: 0.0707\n",
      "Epoch 29/30\n",
      "94/94 [==============================] - 1s 5ms/step - loss: 0.0021 - mae: 0.0354 - val_loss: 0.0076 - val_mae: 0.0734\n",
      "Epoch 30/30\n",
      "94/94 [==============================] - 0s 4ms/step - loss: 0.0020 - mae: 0.0360 - val_loss: 0.0070 - val_mae: 0.0699\n"
     ]
    }
   ],
   "source": [
    "model = Sequential([\n",
    "    GRU(4, input_shape=(1, lookback)),\n",
    "    Dense(1)\n",
    "])\n",
    "\n",
    "model.compile(optimizer='rmsprop', loss='mse', metrics='mae')\n",
    "\n",
    "epochs = 30\n",
    "history = model.fit(X_train, y_train, epochs=epochs, validation_split=0.2, batch_size=1)"
   ]
  },
  {
   "cell_type": "code",
   "execution_count": 51,
   "metadata": {},
   "outputs": [],
   "source": [
    "import matplotlib.pyplot as plt"
   ]
  },
  {
   "cell_type": "code",
   "execution_count": 52,
   "metadata": {},
   "outputs": [
    {
     "data": {
      "image/png": "[encoded data removed]",
      "text/plain": [
       "<Figure size 432x288 with 1 Axes>"
      ]
     },
     "metadata": {
      "needs_background": "light"
     },
     "output_type": "display_data"
    }
   ],
   "source": [
    "history_dict = history.history\n",
    "\n",
    "plt.clf()\n",
    "epoch_range = range(1, epochs + 1)\n",
    "plt.plot(epoch_range, history_dict['loss'], 'b', label='Training Loss')\n",
    "plt.plot(epoch_range, history_dict['val_loss'], 'b:', label='Validation Loss')\n",
    "plt.axis([-0.3, epochs, 0, 0.3])\n",
    "plt.title('Training and Validation Loss')\n",
    "plt.xlabel('Epochs')\n",
    "plt.ylabel('Loss')\n",
    "plt.legend()\n",
    "plt.show()"
   ]
  },
  {
   "cell_type": "code",
   "execution_count": null,
   "metadata": {},
   "outputs": [],
   "source": []
  }
 ],
 "metadata": {
  "kernelspec": {
   "display_name": "Python 3.9.12 ('ai')",
   "language": "python",
   "name": "python3"
  },
  "language_info": {
   "codemirror_mode": {
    "name": "ipython",
    "version": 3
   },
   "file_extension": ".py",
   "mimetype": "text/x-python",
   "name": "python",
   "nbconvert_exporter": "python",
   "pygments_lexer": "ipython3",
   "version": "3.9.12"
  },
  "orig_nbformat": 4,
  "vscode": {
   "interpreter": {
    "hash": "b4286170d425683f8a231ea7539163bf605db8ed407c1f5b25f72076e7d94462"
   }
  }
 },
 "nbformat": 4,
 "nbformat_minor": 2
}
