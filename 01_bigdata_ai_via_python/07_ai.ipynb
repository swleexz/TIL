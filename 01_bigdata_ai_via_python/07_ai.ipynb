{
 "cells": [
  {
   "cell_type": "markdown",
   "metadata": {},
   "source": [
    "#### 기계학습의 단계\n",
    "* 훈련 데이터 수집(Collecting Big Data)\n",
    "* 입력 데이터 준비 및 분석(Big Data Preparation and Analysis)\n",
    "* 학습(Training)\n",
    "* 예측 및 테스트(Prediction and Testing)"
   ]
  },
  {
   "cell_type": "code",
   "execution_count": 1,
   "metadata": {},
   "outputs": [],
   "source": [
    "import numpy as np\n",
    "import matplotlib.pyplot as plt"
   ]
  },
  {
   "cell_type": "code",
   "execution_count": 2,
   "metadata": {},
   "outputs": [
    {
     "data": {
      "image/png": "[encoded data removed]",
      "text/plain": [
       "<Figure size 432x288 with 1 Axes>"
      ]
     },
     "metadata": {
      "needs_background": "light"
     },
     "output_type": "display_data"
    }
   ],
   "source": [
    "dogs = 1000\n",
    "cats = 1000\n",
    "dog_height = 35 + (5 * np.random.randn(dogs))\n",
    "cat_height = 30 + (5 * np.random.randn(cats))\n",
    "\n",
    "plt.xlabel('Height')\n",
    "plt.ylabel('Number of Species')\n",
    "plt.hist([dog_height, cat_height], label=['Dogs', 'Cats'], stacked=True, color=['r', 'y'])\n",
    "plt.legend()\n",
    "plt.show()"
   ]
  },
  {
   "cell_type": "code",
   "execution_count": 3,
   "metadata": {},
   "outputs": [],
   "source": [
    "features = [[270, '울퉁불퉁'], [250, '울퉁불퉁'], [220, '매끈'], [240, '매끈']]\n",
    "labels = ['오렌지', '오렌지', '사과', '사과']"
   ]
  },
  {
   "cell_type": "code",
   "execution_count": 4,
   "metadata": {},
   "outputs": [],
   "source": [
    "features = [[270, 0], [250, 0], [220, 1], [240, 1]]\n",
    "labels = [0, 0, 1, 1]"
   ]
  },
  {
   "cell_type": "code",
   "execution_count": 5,
   "metadata": {},
   "outputs": [],
   "source": [
    "from sklearn import tree"
   ]
  },
  {
   "cell_type": "code",
   "execution_count": 6,
   "metadata": {},
   "outputs": [],
   "source": [
    "features = [[270, 0], [250, 0], [220, 1], [240, 1]]\n",
    "labels = [0, 0, 1, 1]   # 오렌지 0, 사과 1\n",
    "\n",
    "clf = tree.DecisionTreeClassifier()\n",
    "clf = clf.fit(features, labels)"
   ]
  },
  {
   "cell_type": "code",
   "execution_count": 7,
   "metadata": {},
   "outputs": [
    {
     "name": "stdout",
     "output_type": "stream",
     "text": [
      "[1]\n"
     ]
    }
   ],
   "source": [
    "print(clf.predict([[245, 1]]))"
   ]
  },
  {
   "cell_type": "code",
   "execution_count": 8,
   "metadata": {},
   "outputs": [],
   "source": [
    "import graphviz"
   ]
  },
  {
   "cell_type": "code",
   "execution_count": 9,
   "metadata": {},
   "outputs": [
    {
     "data": {
      "image/svg+xml": "<?xml version=\"1.0\" encoding=\"UTF-8\" standalone=\"no\"?>\r\n<!DOCTYPE svg PUBLIC \"-//W3C//DTD SVG 1.1//EN\"\r\n \"http://www.w3.org/Graphics/SVG/1.1/DTD/svg11.dtd\">\r\n<!-- Generated by graphviz version 2.38.0 (20140413.2041)\r\n -->\r\n<!-- Title: Tree Pages: 1 -->\r\n<svg width=\"220pt\" height=\"161pt\"\r\n viewBox=\"0.00 0.00 220.00 161.00\" xmlns=\"http://www.w3.org/2000/svg\" xmlns:xlink=\"http://www.w3.org/1999/xlink\">\r\n<g id=\"graph0\" class=\"graph\" transform=\"scale(1 1) rotate(0) translate(4 157)\">\r\n<title>Tree</title>\r\n<polygon fill=\"white\" stroke=\"none\" points=\"-4,4 -4,-157 216,-157 216,4 -4,4\"/>\r\n<!-- 0 -->\r\n<g id=\"node1\" class=\"node\"><title>0</title>\r\n<path fill=\"#ffffff\" stroke=\"black\" d=\"M142,-153C142,-153 69,-153 69,-153 63,-153 57,-147 57,-141 57,-141 57,-101 57,-101 57,-95 63,-89 69,-89 69,-89 142,-89 142,-89 148,-89 154,-95 154,-101 154,-101 154,-141 154,-141 154,-147 148,-153 142,-153\"/>\r\n<text text-anchor=\"start\" x=\"71\" y=\"-138.8\" font-family=\"Helvetica,sans-Serif\" font-size=\"14.00\">X</text>\r\n<text text-anchor=\"start\" x=\"81\" y=\"-138.8\" font-family=\"Helvetica,sans-Serif\" baseline-shift=\"sub\" font-size=\"14.00\">0</text>\r\n<text text-anchor=\"start\" x=\"88\" y=\"-138.8\" font-family=\"Helvetica,sans-Serif\" font-size=\"14.00\"> ≤ 245.0</text>\r\n<text text-anchor=\"start\" x=\"76.5\" y=\"-124.8\" font-family=\"Helvetica,sans-Serif\" font-size=\"14.00\">gini = 0.5</text>\r\n<text text-anchor=\"start\" x=\"66\" y=\"-110.8\" font-family=\"Helvetica,sans-Serif\" font-size=\"14.00\">samples = 4</text>\r\n<text text-anchor=\"start\" x=\"65\" y=\"-96.8\" font-family=\"Helvetica,sans-Serif\" font-size=\"14.00\">value = [2, 2]</text>\r\n</g>\r\n<!-- 1 -->\r\n<g id=\"node2\" class=\"node\"><title>1</title>\r\n<path fill=\"#399de5\" stroke=\"black\" d=\"M85,-53C85,-53 12,-53 12,-53 6,-53 0,-47 0,-41 0,-41 0,-12 0,-12 0,-6 6,-0 12,-0 12,-0 85,-0 85,-0 91,-0 97,-6 97,-12 97,-12 97,-41 97,-41 97,-47 91,-53 85,-53\"/>\r\n<text text-anchor=\"start\" x=\"19.5\" y=\"-37.8\" font-family=\"Helvetica,sans-Serif\" font-size=\"14.00\">gini = 0.0</text>\r\n<text text-anchor=\"start\" x=\"9\" y=\"-22.8\" font-family=\"Helvetica,sans-Serif\" font-size=\"14.00\">samples = 2</text>\r\n<text text-anchor=\"start\" x=\"8\" y=\"-7.8\" font-family=\"Helvetica,sans-Serif\" font-size=\"14.00\">value = [0, 2]</text>\r\n</g>\r\n<!-- 0&#45;&gt;1 -->\r\n<g id=\"edge1\" class=\"edge\"><title>0&#45;&gt;1</title>\r\n<path fill=\"none\" stroke=\"black\" d=\"M86.3613,-88.9415C80.9763,-80.2028 75.0898,-70.6501 69.5974,-61.737\"/>\r\n<polygon fill=\"black\" stroke=\"black\" points=\"72.4953,-59.7681 64.2695,-53.0908 66.5359,-63.4404 72.4953,-59.7681\"/>\r\n<text text-anchor=\"middle\" x=\"58.4936\" y=\"-73.7145\" font-family=\"Helvetica,sans-Serif\" font-size=\"14.00\">True</text>\r\n</g>\r\n<!-- 2 -->\r\n<g id=\"node3\" class=\"node\"><title>2</title>\r\n<path fill=\"#e58139\" stroke=\"black\" d=\"M200,-53C200,-53 127,-53 127,-53 121,-53 115,-47 115,-41 115,-41 115,-12 115,-12 115,-6 121,-0 127,-0 127,-0 200,-0 200,-0 206,-0 212,-6 212,-12 212,-12 212,-41 212,-41 212,-47 206,-53 200,-53\"/>\r\n<text text-anchor=\"start\" x=\"134.5\" y=\"-37.8\" font-family=\"Helvetica,sans-Serif\" font-size=\"14.00\">gini = 0.0</text>\r\n<text text-anchor=\"start\" x=\"124\" y=\"-22.8\" font-family=\"Helvetica,sans-Serif\" font-size=\"14.00\">samples = 2</text>\r\n<text text-anchor=\"start\" x=\"123\" y=\"-7.8\" font-family=\"Helvetica,sans-Serif\" font-size=\"14.00\">value = [2, 0]</text>\r\n</g>\r\n<!-- 0&#45;&gt;2 -->\r\n<g id=\"edge2\" class=\"edge\"><title>0&#45;&gt;2</title>\r\n<path fill=\"none\" stroke=\"black\" d=\"M124.975,-88.9415C130.454,-80.2028 136.444,-70.6501 142.033,-61.737\"/>\r\n<polygon fill=\"black\" stroke=\"black\" points=\"145.107,-63.4224 147.454,-53.0908 139.176,-59.7038 145.107,-63.4224\"/>\r\n<text text-anchor=\"middle\" x=\"153.04\" y=\"-73.7588\" font-family=\"Helvetica,sans-Serif\" font-size=\"14.00\">False</text>\r\n</g>\r\n</g>\r\n</svg>\r\n",
      "text/plain": [
       "<graphviz.files.Source at 0x1f7a68b9610>"
      ]
     },
     "execution_count": 9,
     "metadata": {},
     "output_type": "execute_result"
    }
   ],
   "source": [
    "dot_data = tree.export_graphviz(clf, out_file=None)\n",
    "graph = graphviz.Source(dot_data)\n",
    "graph.render()\n",
    "\n",
    "dot_data = tree.export_graphviz(clf, out_file=None, filled=True, rounded=True, special_characters=True)\n",
    "graph = graphviz.Source(dot_data)\n",
    "graph\n",
    "# 245보다 같거나 작으면 True, 245보다 크면 False로"
   ]
  },
  {
   "cell_type": "code",
   "execution_count": 10,
   "metadata": {},
   "outputs": [],
   "source": [
    "from sklearn import tree"
   ]
  },
  {
   "cell_type": "code",
   "execution_count": 11,
   "metadata": {},
   "outputs": [
    {
     "name": "stdout",
     "output_type": "stream",
     "text": [
      "[1 0]\n"
     ]
    }
   ],
   "source": [
    "features = [[300, 0], [265, 0], [220, 1], [215, 1], [235, 1], [261, 0]]\n",
    "labels = [0, 0, 1, 1, 1, 0]   # 오렌지 0, 사과 1\n",
    "\n",
    "clf = tree.DecisionTreeClassifier()\n",
    "clf = clf.fit(features, labels)\n",
    "print(clf.predict([[300, 1], [204, 0]]))"
   ]
  },
  {
   "cell_type": "code",
   "execution_count": 12,
   "metadata": {},
   "outputs": [],
   "source": [
    "import graphviz"
   ]
  },
  {
   "cell_type": "code",
   "execution_count": 13,
   "metadata": {},
   "outputs": [
    {
     "data": {
      "image/svg+xml": "<?xml version=\"1.0\" encoding=\"UTF-8\" standalone=\"no\"?>\r\n<!DOCTYPE svg PUBLIC \"-//W3C//DTD SVG 1.1//EN\"\r\n \"http://www.w3.org/Graphics/SVG/1.1/DTD/svg11.dtd\">\r\n<!-- Generated by graphviz version 2.38.0 (20140413.2041)\r\n -->\r\n<!-- Title: Tree Pages: 1 -->\r\n<svg width=\"220pt\" height=\"165pt\"\r\n viewBox=\"0.00 0.00 220.00 165.00\" xmlns=\"http://www.w3.org/2000/svg\" xmlns:xlink=\"http://www.w3.org/1999/xlink\">\r\n<g id=\"graph0\" class=\"graph\" transform=\"scale(1 1) rotate(0) translate(4 161)\">\r\n<title>Tree</title>\r\n<polygon fill=\"white\" stroke=\"none\" points=\"-4,4 -4,-161 216,-161 216,4 -4,4\"/>\r\n<!-- 0 -->\r\n<g id=\"node1\" class=\"node\"><title>0</title>\r\n<polygon fill=\"none\" stroke=\"black\" points=\"154,-157 57,-157 57,-89 154,-89 154,-157\"/>\r\n<text text-anchor=\"middle\" x=\"105.5\" y=\"-141.8\" font-family=\"Helvetica,sans-Serif\" font-size=\"14.00\">X[1] &lt;= 0.5</text>\r\n<text text-anchor=\"middle\" x=\"105.5\" y=\"-126.8\" font-family=\"Helvetica,sans-Serif\" font-size=\"14.00\">gini = 0.5</text>\r\n<text text-anchor=\"middle\" x=\"105.5\" y=\"-111.8\" font-family=\"Helvetica,sans-Serif\" font-size=\"14.00\">samples = 6</text>\r\n<text text-anchor=\"middle\" x=\"105.5\" y=\"-96.8\" font-family=\"Helvetica,sans-Serif\" font-size=\"14.00\">value = [3, 3]</text>\r\n</g>\r\n<!-- 1 -->\r\n<g id=\"node2\" class=\"node\"><title>1</title>\r\n<polygon fill=\"none\" stroke=\"black\" points=\"97,-53 0,-53 0,-0 97,-0 97,-53\"/>\r\n<text text-anchor=\"middle\" x=\"48.5\" y=\"-37.8\" font-family=\"Helvetica,sans-Serif\" font-size=\"14.00\">gini = 0.0</text>\r\n<text text-anchor=\"middle\" x=\"48.5\" y=\"-22.8\" font-family=\"Helvetica,sans-Serif\" font-size=\"14.00\">samples = 3</text>\r\n<text text-anchor=\"middle\" x=\"48.5\" y=\"-7.8\" font-family=\"Helvetica,sans-Serif\" font-size=\"14.00\">value = [3, 0]</text>\r\n</g>\r\n<!-- 0&#45;&gt;1 -->\r\n<g id=\"edge1\" class=\"edge\"><title>0&#45;&gt;1</title>\r\n<path fill=\"none\" stroke=\"black\" d=\"M85.5642,-88.9485C80.267,-80.1664 74.5348,-70.6629 69.198,-61.815\"/>\r\n<polygon fill=\"black\" stroke=\"black\" points=\"72.1857,-59.9919 64.0237,-53.2367 66.1917,-63.6074 72.1857,-59.9919\"/>\r\n<text text-anchor=\"middle\" x=\"58.0169\" y=\"-73.8043\" font-family=\"Helvetica,sans-Serif\" font-size=\"14.00\">True</text>\r\n</g>\r\n<!-- 2 -->\r\n<g id=\"node3\" class=\"node\"><title>2</title>\r\n<polygon fill=\"none\" stroke=\"black\" points=\"212,-53 115,-53 115,-0 212,-0 212,-53\"/>\r\n<text text-anchor=\"middle\" x=\"163.5\" y=\"-37.8\" font-family=\"Helvetica,sans-Serif\" font-size=\"14.00\">gini = 0.0</text>\r\n<text text-anchor=\"middle\" x=\"163.5\" y=\"-22.8\" font-family=\"Helvetica,sans-Serif\" font-size=\"14.00\">samples = 3</text>\r\n<text text-anchor=\"middle\" x=\"163.5\" y=\"-7.8\" font-family=\"Helvetica,sans-Serif\" font-size=\"14.00\">value = [0, 3]</text>\r\n</g>\r\n<!-- 0&#45;&gt;2 -->\r\n<g id=\"edge2\" class=\"edge\"><title>0&#45;&gt;2</title>\r\n<path fill=\"none\" stroke=\"black\" d=\"M125.786,-88.9485C131.176,-80.1664 137.008,-70.6629 142.439,-61.815\"/>\r\n<polygon fill=\"black\" stroke=\"black\" points=\"145.456,-63.5903 147.704,-53.2367 139.49,-59.9287 145.456,-63.5903\"/>\r\n<text text-anchor=\"middle\" x=\"153.523\" y=\"-73.85\" font-family=\"Helvetica,sans-Serif\" font-size=\"14.00\">False</text>\r\n</g>\r\n</g>\r\n</svg>\r\n",
      "text/plain": [
       "<graphviz.files.Source at 0x1f7aee4fca0>"
      ]
     },
     "execution_count": 13,
     "metadata": {},
     "output_type": "execute_result"
    }
   ],
   "source": [
    "dot_data = tree.export_graphviz(clf, out_file=None)\n",
    "graph = graphviz.Source(dot_data)\n",
    "graph.render()\n",
    "\n",
    "dot_data = tree.export_graphviz(clf, out_file=None, filled=True, rounded=True, special_characters=True)\n",
    "grpah = graphviz.Source(dot_data)\n",
    "graph\n",
    "# 아래 그래프는 정확히 판별할 확률이 50%임을 의미"
   ]
  },
  {
   "cell_type": "code",
   "execution_count": null,
   "metadata": {},
   "outputs": [],
   "source": []
  }
 ],
 "metadata": {
  "interpreter": {
   "hash": "332680644509ba03a35e71813d4e1dec4bce58ec69fc86f5e5e8250523b988c0"
  },
  "kernelspec": {
   "display_name": "Python 3.9.12 ('base')",
   "language": "python",
   "name": "python3"
  },
  "language_info": {
   "codemirror_mode": {
    "name": "ipython",
    "version": 3
   },
   "file_extension": ".py",
   "mimetype": "text/x-python",
   "name": "python",
   "nbconvert_exporter": "python",
   "pygments_lexer": "ipython3",
   "version": "3.9.12"
  },
  "orig_nbformat": 4
 },
 "nbformat": 4,
 "nbformat_minor": 2
}
